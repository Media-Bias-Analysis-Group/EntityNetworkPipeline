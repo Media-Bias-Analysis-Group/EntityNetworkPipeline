{
 "cells": [
  {
   "cell_type": "code",
   "execution_count": 1,
   "metadata": {
    "pycharm": {
     "name": "#%%\n"
    }
   },
   "outputs": [],
   "source": [
    "# load the necessary data\n",
    "import pandas as pd\n",
    "data = pd.read_csv(\"/mnt/efs/fs1/Validation/mup_valid_articles.csv\", encoding=\"utf-8\")\n",
    "validation_data = pd.read_csv(\"/mnt/efs/fs1/Validation/entity_dataframe_lowercase.csv\",encoding=\"utf-8\")\n",
    "relation_validation_data = pd.read_csv(\"/mnt/efs/fs1/Validation/relation_dataframe_lowercase.csv\",encoding=\"utf-8\")\n",
    "initial_nodes = pd.read_csv(\"/mnt/efs/fs1/Validation/Nodes_after_first_round.csv\",sep = \";\", encoding=\"utf-8\")"
   ]
  },
  {
   "cell_type": "code",
   "execution_count": 3,
   "metadata": {
    "pycharm": {
     "name": "#%%\n"
    }
   },
   "outputs": [],
   "source": [
    "# load the functionalities\n",
    "from entitynetwork.enititynetwork_pipeline.process_article import *\n",
    "from entitynetwork.database_creation.fill_database import *\n",
    "from entitynetwork.relation_extraction.relation_extraction import *\n",
    "#from entitynetwork.validation_tool.relation_validation import *"
   ]
  },
  {
   "cell_type": "code",
   "execution_count": 4,
   "metadata": {
    "pycharm": {
     "name": "#%%\n"
    }
   },
   "outputs": [],
   "source": [
    "# Establishe DB Connection\n",
    "global g\n",
    "g = connect_database()\n"
   ]
  },
  {
   "cell_type": "code",
   "execution_count": 5,
   "metadata": {
    "pycharm": {
     "name": "#%%\n"
    }
   },
   "outputs": [],
   "source": [
    "# Tag selection\n",
    "\n",
    "all_tag = [\"B-PERSON\", \"I-PERSON\", \"B-NORP\", \"I-NORP\",\"B-FAC\", \"I-FAC\", \"B-ORG\", \"I-ORG\", \"B-GPE\", \"I-GPE\",\n",
    "          \"B-LOC\", \"I-LOC\", \"B-PRODUCT\", \"I-PRODUCT\", \"B-EVENT\", \"I-EVENT\", \"B-WORK_OF_ART\", \"I-WORK_OF_ART\",\n",
    "          \"B-LAW\", \"I-LAW\", \"B-LANGUAGE\", \"I-LANGUAGE\", \"B-DATE\", \"I-DATE\", \"B-TIME\", \"I-TIME\", \"B-PERCENT\",\n",
    "           \"I-PERCENT\", \"B-MONEY\", \"I-MONEY\", \"B-QUANTITY\", \"I-QUANTITY\", \"B-ORDINAL\", \"I-ORDINAL\", \"B-CARDINAL\",\n",
    "          \"I_CARDINAL\"]\n",
    "\n",
    "selected_tag = [\"B-PERSON\", \"I-PERSON\", \"B-NORP\", \"I-NORP\",\"B-FAC\", \"I-FAC\", \"B-ORG\", \"I-ORG\", \"B-LOC\", \"I-LOC\",\n",
    "                \"B-WORK_OF_ART\", \"I-WORK_OF_ART\", \"B-LAW\", \"I-LAW\"]"
   ]
  },
  {
   "cell_type": "code",
   "execution_count": 10,
   "metadata": {
    "pycharm": {
     "name": "#%%\n"
    }
   },
   "outputs": [],
   "source": [
    "# Create Storage Validation Result Dataframes\n",
    "# Merged Entity Dataset\n",
    "merged_entities = pd.DataFrame(columns=['name', 'tag', 'count_x', 'weight', 'synonyms', 'entity', 'lable',\n",
    "                                        'count_y', 'synonym', 'text_id'])\n",
    "\n",
    "# Merged Relation Dataset\n",
    "merged_relations = pd.DataFrame(columns=['count', 'entity_1_x', 'entity_2_x', 'filter', 'sentiment','entity_1_y',\n",
    "       'entity_2_y', 'lable', 'text_id'])\n",
    "\n",
    "# Entity Metrics\n",
    "entity_metrics = pd.DataFrame(columns=[\"found_entities\", \"missed_entities\", \"false_positives\", \"accuracy\", \"recall\",\n",
    "                                       \"precision\", \"f1\", \"relne_recall\", \"addne_recall\", \"concept_recall\", \"text\"])\n",
    "\n",
    "# Relation Metrics\n",
    "relation_metrics = pd.DataFrame(columns=[\"found_relations\", \"missed_relations\", \"false_positives\", \"accuracy\", \"recall\", \"precision\", \"f1\",\n",
    "                   \"recall_corrected\", \"f1_corrected\", \"agr_recall\", \"disagr_recall\", \"po_recall\", \"text\", \"shift\",\n",
    "                   \"filter_found_relations\", \"filter_false_positives\", \"recall_filtered\", \"precision_filtered\",\n",
    "                   \"f1_filtered\"])"
   ]
  },
  {
   "cell_type": "code",
   "execution_count": 6,
   "metadata": {},
   "outputs": [],
   "source": [
    "constituency_predictor_1 = Predictor.from_path(\"/mnt/efs/fs1/Validation/elmo-constituency-parser-2020.02.10.tar.gz\")\n"
   ]
  },
  {
   "cell_type": "code",
   "execution_count": 11,
   "metadata": {
    "pycharm": {
     "name": "#%%\n"
    },
    "scrolled": true
   },
   "outputs": [
    {
     "name": "stdout",
     "output_type": "stream",
     "text": [
      "Current Article0\n"
     ]
    },
    {
     "name": "stderr",
     "output_type": "stream",
     "text": [
      "/mnt/efs/fs1/CSS_Termpaper/EntityNetwork/entitynetwork/relation_extraction/relation_extraction.py:60: RuntimeWarning: Mean of empty slice\n",
      "  sentiment = np.nanmean(prod)\n",
      "/mnt/efs/fs1/CSS_Termpaper/EntityNetwork/entitynetwork/validation_tool/entity_validation.py:61: SettingWithCopyWarning: \n",
      "A value is trying to be set on a copy of a slice from a DataFrame\n",
      "\n",
      "See the caveats in the documentation: https://pandas.pydata.org/pandas-docs/stable/user_guide/indexing.html#returning-a-view-versus-a-copy\n",
      "  self.merged_data[\"synonyms\"][~self.merged_data[\"synonyms\"].str.contains(\"__\", na=False)] = np.NaN\n",
      "/mnt/efs/fs1/CSS_Termpaper/EntityNetwork/entitynetwork/validation_tool/relation_validation.py:36: SettingWithCopyWarning: \n",
      "A value is trying to be set on a copy of a slice from a DataFrame.\n",
      "Try using .loc[row_indexer,col_indexer] = value instead\n",
      "\n",
      "See the caveats in the documentation: https://pandas.pydata.org/pandas-docs/stable/user_guide/indexing.html#returning-a-view-versus-a-copy\n",
      "  article.relation_validation_data[\"valid\"] = 1\n",
      "/home/ubuntu/.local/lib/python3.6/site-packages/pandas/core/indexing.py:1765: SettingWithCopyWarning: \n",
      "A value is trying to be set on a copy of a slice from a DataFrame.\n",
      "Try using .loc[row_indexer,col_indexer] = value instead\n",
      "\n",
      "See the caveats in the documentation: https://pandas.pydata.org/pandas-docs/stable/user_guide/indexing.html#returning-a-view-versus-a-copy\n",
      "  isetter(loc, value)\n"
     ]
    },
    {
     "name": "stdout",
     "output_type": "stream",
     "text": [
      "Text took: 3.9025673866271973 Num S / Coref: 8 / 8\n",
      "Current Article1\n"
     ]
    },
    {
     "name": "stderr",
     "output_type": "stream",
     "text": [
      "/mnt/efs/fs1/CSS_Termpaper/EntityNetwork/entitynetwork/relation_extraction/relation_extraction.py:60: RuntimeWarning: Mean of empty slice\n",
      "  sentiment = np.nanmean(prod)\n",
      "/mnt/efs/fs1/CSS_Termpaper/EntityNetwork/entitynetwork/validation_tool/relation_validation.py:36: SettingWithCopyWarning: \n",
      "A value is trying to be set on a copy of a slice from a DataFrame.\n",
      "Try using .loc[row_indexer,col_indexer] = value instead\n",
      "\n",
      "See the caveats in the documentation: https://pandas.pydata.org/pandas-docs/stable/user_guide/indexing.html#returning-a-view-versus-a-copy\n",
      "  article.relation_validation_data[\"valid\"] = 1\n",
      "/home/ubuntu/.local/lib/python3.6/site-packages/pandas/core/indexing.py:1765: SettingWithCopyWarning: \n",
      "A value is trying to be set on a copy of a slice from a DataFrame.\n",
      "Try using .loc[row_indexer,col_indexer] = value instead\n",
      "\n",
      "See the caveats in the documentation: https://pandas.pydata.org/pandas-docs/stable/user_guide/indexing.html#returning-a-view-versus-a-copy\n",
      "  isetter(loc, value)\n"
     ]
    },
    {
     "name": "stdout",
     "output_type": "stream",
     "text": [
      "Text took: 2.2165205478668213 Num S / Coref: 4 / 4\n",
      "Current Article2\n"
     ]
    },
    {
     "name": "stderr",
     "output_type": "stream",
     "text": [
      "/mnt/efs/fs1/CSS_Termpaper/EntityNetwork/entitynetwork/relation_extraction/relation_extraction.py:60: RuntimeWarning: Mean of empty slice\n",
      "  sentiment = np.nanmean(prod)\n",
      "/mnt/efs/fs1/CSS_Termpaper/EntityNetwork/entitynetwork/validation_tool/relation_validation.py:36: SettingWithCopyWarning: \n",
      "A value is trying to be set on a copy of a slice from a DataFrame.\n",
      "Try using .loc[row_indexer,col_indexer] = value instead\n",
      "\n",
      "See the caveats in the documentation: https://pandas.pydata.org/pandas-docs/stable/user_guide/indexing.html#returning-a-view-versus-a-copy\n",
      "  article.relation_validation_data[\"valid\"] = 1\n",
      "/home/ubuntu/.local/lib/python3.6/site-packages/pandas/core/indexing.py:1765: SettingWithCopyWarning: \n",
      "A value is trying to be set on a copy of a slice from a DataFrame.\n",
      "Try using .loc[row_indexer,col_indexer] = value instead\n",
      "\n",
      "See the caveats in the documentation: https://pandas.pydata.org/pandas-docs/stable/user_guide/indexing.html#returning-a-view-versus-a-copy\n",
      "  isetter(loc, value)\n"
     ]
    },
    {
     "name": "stdout",
     "output_type": "stream",
     "text": [
      "Text took: 15.998804330825806 Num S / Coref: 36 / 36\n",
      "Current Article3\n"
     ]
    },
    {
     "name": "stderr",
     "output_type": "stream",
     "text": [
      "/mnt/efs/fs1/CSS_Termpaper/EntityNetwork/entitynetwork/relation_extraction/relation_extraction.py:60: RuntimeWarning: Mean of empty slice\n",
      "  sentiment = np.nanmean(prod)\n",
      "/mnt/efs/fs1/CSS_Termpaper/EntityNetwork/entitynetwork/validation_tool/relation_validation.py:36: SettingWithCopyWarning: \n",
      "A value is trying to be set on a copy of a slice from a DataFrame.\n",
      "Try using .loc[row_indexer,col_indexer] = value instead\n",
      "\n",
      "See the caveats in the documentation: https://pandas.pydata.org/pandas-docs/stable/user_guide/indexing.html#returning-a-view-versus-a-copy\n",
      "  article.relation_validation_data[\"valid\"] = 1\n",
      "/home/ubuntu/.local/lib/python3.6/site-packages/pandas/core/indexing.py:1765: SettingWithCopyWarning: \n",
      "A value is trying to be set on a copy of a slice from a DataFrame.\n",
      "Try using .loc[row_indexer,col_indexer] = value instead\n",
      "\n",
      "See the caveats in the documentation: https://pandas.pydata.org/pandas-docs/stable/user_guide/indexing.html#returning-a-view-versus-a-copy\n",
      "  isetter(loc, value)\n"
     ]
    },
    {
     "name": "stdout",
     "output_type": "stream",
     "text": [
      "Text took: 11.744889259338379 Num S / Coref: 25 / 25\n",
      "Current Article4\n"
     ]
    },
    {
     "name": "stderr",
     "output_type": "stream",
     "text": [
      "/mnt/efs/fs1/CSS_Termpaper/EntityNetwork/entitynetwork/relation_extraction/relation_extraction.py:60: RuntimeWarning: Mean of empty slice\n",
      "  sentiment = np.nanmean(prod)\n",
      "/mnt/efs/fs1/CSS_Termpaper/EntityNetwork/entitynetwork/validation_tool/relation_validation.py:36: SettingWithCopyWarning: \n",
      "A value is trying to be set on a copy of a slice from a DataFrame.\n",
      "Try using .loc[row_indexer,col_indexer] = value instead\n",
      "\n",
      "See the caveats in the documentation: https://pandas.pydata.org/pandas-docs/stable/user_guide/indexing.html#returning-a-view-versus-a-copy\n",
      "  article.relation_validation_data[\"valid\"] = 1\n",
      "/home/ubuntu/.local/lib/python3.6/site-packages/pandas/core/indexing.py:1765: SettingWithCopyWarning: \n",
      "A value is trying to be set on a copy of a slice from a DataFrame.\n",
      "Try using .loc[row_indexer,col_indexer] = value instead\n",
      "\n",
      "See the caveats in the documentation: https://pandas.pydata.org/pandas-docs/stable/user_guide/indexing.html#returning-a-view-versus-a-copy\n",
      "  isetter(loc, value)\n"
     ]
    },
    {
     "name": "stdout",
     "output_type": "stream",
     "text": [
      "Text took: 10.973860502243042 Num S / Coref: 26 / 26\n",
      "Current Article5\n"
     ]
    },
    {
     "name": "stderr",
     "output_type": "stream",
     "text": [
      "/mnt/efs/fs1/CSS_Termpaper/EntityNetwork/entitynetwork/relation_extraction/relation_extraction.py:60: RuntimeWarning: Mean of empty slice\n",
      "  sentiment = np.nanmean(prod)\n",
      "/mnt/efs/fs1/CSS_Termpaper/EntityNetwork/entitynetwork/validation_tool/entity_validation.py:61: SettingWithCopyWarning: \n",
      "A value is trying to be set on a copy of a slice from a DataFrame\n",
      "\n",
      "See the caveats in the documentation: https://pandas.pydata.org/pandas-docs/stable/user_guide/indexing.html#returning-a-view-versus-a-copy\n",
      "  self.merged_data[\"synonyms\"][~self.merged_data[\"synonyms\"].str.contains(\"__\", na=False)] = np.NaN\n",
      "/mnt/efs/fs1/CSS_Termpaper/EntityNetwork/entitynetwork/validation_tool/relation_validation.py:36: SettingWithCopyWarning: \n",
      "A value is trying to be set on a copy of a slice from a DataFrame.\n",
      "Try using .loc[row_indexer,col_indexer] = value instead\n",
      "\n",
      "See the caveats in the documentation: https://pandas.pydata.org/pandas-docs/stable/user_guide/indexing.html#returning-a-view-versus-a-copy\n",
      "  article.relation_validation_data[\"valid\"] = 1\n",
      "/home/ubuntu/.local/lib/python3.6/site-packages/pandas/core/indexing.py:1765: SettingWithCopyWarning: \n",
      "A value is trying to be set on a copy of a slice from a DataFrame.\n",
      "Try using .loc[row_indexer,col_indexer] = value instead\n",
      "\n",
      "See the caveats in the documentation: https://pandas.pydata.org/pandas-docs/stable/user_guide/indexing.html#returning-a-view-versus-a-copy\n",
      "  isetter(loc, value)\n"
     ]
    },
    {
     "name": "stdout",
     "output_type": "stream",
     "text": [
      "Text took: 9.613929986953735 Num S / Coref: 19 / 19\n",
      "Current Article6\n"
     ]
    },
    {
     "name": "stderr",
     "output_type": "stream",
     "text": [
      "/mnt/efs/fs1/CSS_Termpaper/EntityNetwork/entitynetwork/relation_extraction/relation_extraction.py:60: RuntimeWarning: Mean of empty slice\n",
      "  sentiment = np.nanmean(prod)\n",
      "/mnt/efs/fs1/CSS_Termpaper/EntityNetwork/entitynetwork/validation_tool/relation_validation.py:36: SettingWithCopyWarning: \n",
      "A value is trying to be set on a copy of a slice from a DataFrame.\n",
      "Try using .loc[row_indexer,col_indexer] = value instead\n",
      "\n",
      "See the caveats in the documentation: https://pandas.pydata.org/pandas-docs/stable/user_guide/indexing.html#returning-a-view-versus-a-copy\n",
      "  article.relation_validation_data[\"valid\"] = 1\n",
      "/home/ubuntu/.local/lib/python3.6/site-packages/pandas/core/indexing.py:1765: SettingWithCopyWarning: \n",
      "A value is trying to be set on a copy of a slice from a DataFrame.\n",
      "Try using .loc[row_indexer,col_indexer] = value instead\n",
      "\n",
      "See the caveats in the documentation: https://pandas.pydata.org/pandas-docs/stable/user_guide/indexing.html#returning-a-view-versus-a-copy\n",
      "  isetter(loc, value)\n"
     ]
    },
    {
     "name": "stdout",
     "output_type": "stream",
     "text": [
      "Text took: 10.89646029472351 Num S / Coref: 22 / 22\n",
      "Current Article7\n"
     ]
    },
    {
     "name": "stderr",
     "output_type": "stream",
     "text": [
      "/mnt/efs/fs1/CSS_Termpaper/EntityNetwork/entitynetwork/relation_extraction/relation_extraction.py:60: RuntimeWarning: Mean of empty slice\n",
      "  sentiment = np.nanmean(prod)\n",
      "/mnt/efs/fs1/CSS_Termpaper/EntityNetwork/entitynetwork/validation_tool/relation_validation.py:36: SettingWithCopyWarning: \n",
      "A value is trying to be set on a copy of a slice from a DataFrame.\n",
      "Try using .loc[row_indexer,col_indexer] = value instead\n",
      "\n",
      "See the caveats in the documentation: https://pandas.pydata.org/pandas-docs/stable/user_guide/indexing.html#returning-a-view-versus-a-copy\n",
      "  article.relation_validation_data[\"valid\"] = 1\n",
      "/home/ubuntu/.local/lib/python3.6/site-packages/pandas/core/indexing.py:1765: SettingWithCopyWarning: \n",
      "A value is trying to be set on a copy of a slice from a DataFrame.\n",
      "Try using .loc[row_indexer,col_indexer] = value instead\n",
      "\n",
      "See the caveats in the documentation: https://pandas.pydata.org/pandas-docs/stable/user_guide/indexing.html#returning-a-view-versus-a-copy\n",
      "  isetter(loc, value)\n"
     ]
    },
    {
     "name": "stdout",
     "output_type": "stream",
     "text": [
      "Text took: 2.526291847229004 Num S / Coref: 4 / 4\n",
      "Current Article8\n"
     ]
    },
    {
     "name": "stderr",
     "output_type": "stream",
     "text": [
      "/mnt/efs/fs1/CSS_Termpaper/EntityNetwork/entitynetwork/relation_extraction/relation_extraction.py:60: RuntimeWarning: Mean of empty slice\n",
      "  sentiment = np.nanmean(prod)\n",
      "/mnt/efs/fs1/CSS_Termpaper/EntityNetwork/entitynetwork/validation_tool/relation_validation.py:36: SettingWithCopyWarning: \n",
      "A value is trying to be set on a copy of a slice from a DataFrame.\n",
      "Try using .loc[row_indexer,col_indexer] = value instead\n",
      "\n",
      "See the caveats in the documentation: https://pandas.pydata.org/pandas-docs/stable/user_guide/indexing.html#returning-a-view-versus-a-copy\n",
      "  article.relation_validation_data[\"valid\"] = 1\n",
      "/home/ubuntu/.local/lib/python3.6/site-packages/pandas/core/indexing.py:1765: SettingWithCopyWarning: \n",
      "A value is trying to be set on a copy of a slice from a DataFrame.\n",
      "Try using .loc[row_indexer,col_indexer] = value instead\n",
      "\n",
      "See the caveats in the documentation: https://pandas.pydata.org/pandas-docs/stable/user_guide/indexing.html#returning-a-view-versus-a-copy\n",
      "  isetter(loc, value)\n"
     ]
    },
    {
     "name": "stdout",
     "output_type": "stream",
     "text": [
      "Text took: 4.525863409042358 Num S / Coref: 8 / 8\n",
      "Current Article9\n"
     ]
    },
    {
     "name": "stderr",
     "output_type": "stream",
     "text": [
      "/mnt/efs/fs1/CSS_Termpaper/EntityNetwork/entitynetwork/relation_extraction/relation_extraction.py:60: RuntimeWarning: Mean of empty slice\n",
      "  sentiment = np.nanmean(prod)\n",
      "/mnt/efs/fs1/CSS_Termpaper/EntityNetwork/entitynetwork/validation_tool/relation_validation.py:36: SettingWithCopyWarning: \n",
      "A value is trying to be set on a copy of a slice from a DataFrame.\n",
      "Try using .loc[row_indexer,col_indexer] = value instead\n",
      "\n",
      "See the caveats in the documentation: https://pandas.pydata.org/pandas-docs/stable/user_guide/indexing.html#returning-a-view-versus-a-copy\n",
      "  article.relation_validation_data[\"valid\"] = 1\n",
      "/home/ubuntu/.local/lib/python3.6/site-packages/pandas/core/indexing.py:1765: SettingWithCopyWarning: \n",
      "A value is trying to be set on a copy of a slice from a DataFrame.\n",
      "Try using .loc[row_indexer,col_indexer] = value instead\n",
      "\n",
      "See the caveats in the documentation: https://pandas.pydata.org/pandas-docs/stable/user_guide/indexing.html#returning-a-view-versus-a-copy\n",
      "  isetter(loc, value)\n"
     ]
    },
    {
     "name": "stdout",
     "output_type": "stream",
     "text": [
      "Text took: 10.524792909622192 Num S / Coref: 14 / 14\n",
      "Current Article10\n"
     ]
    },
    {
     "name": "stderr",
     "output_type": "stream",
     "text": [
      "/mnt/efs/fs1/CSS_Termpaper/EntityNetwork/entitynetwork/relation_extraction/relation_extraction.py:60: RuntimeWarning: Mean of empty slice\n",
      "  sentiment = np.nanmean(prod)\n",
      "/mnt/efs/fs1/CSS_Termpaper/EntityNetwork/entitynetwork/validation_tool/relation_validation.py:36: SettingWithCopyWarning: \n",
      "A value is trying to be set on a copy of a slice from a DataFrame.\n",
      "Try using .loc[row_indexer,col_indexer] = value instead\n",
      "\n",
      "See the caveats in the documentation: https://pandas.pydata.org/pandas-docs/stable/user_guide/indexing.html#returning-a-view-versus-a-copy\n",
      "  article.relation_validation_data[\"valid\"] = 1\n",
      "/home/ubuntu/.local/lib/python3.6/site-packages/pandas/core/indexing.py:1765: SettingWithCopyWarning: \n",
      "A value is trying to be set on a copy of a slice from a DataFrame.\n",
      "Try using .loc[row_indexer,col_indexer] = value instead\n",
      "\n",
      "See the caveats in the documentation: https://pandas.pydata.org/pandas-docs/stable/user_guide/indexing.html#returning-a-view-versus-a-copy\n",
      "  isetter(loc, value)\n"
     ]
    },
    {
     "name": "stdout",
     "output_type": "stream",
     "text": [
      "Text took: 4.3334267139434814 Num S / Coref: 12 / 12\n",
      "Current Article11\n"
     ]
    },
    {
     "name": "stderr",
     "output_type": "stream",
     "text": [
      "/mnt/efs/fs1/CSS_Termpaper/EntityNetwork/entitynetwork/relation_extraction/relation_extraction.py:60: RuntimeWarning: Mean of empty slice\n",
      "  sentiment = np.nanmean(prod)\n",
      "/mnt/efs/fs1/CSS_Termpaper/EntityNetwork/entitynetwork/validation_tool/entity_validation.py:61: SettingWithCopyWarning: \n",
      "A value is trying to be set on a copy of a slice from a DataFrame\n",
      "\n",
      "See the caveats in the documentation: https://pandas.pydata.org/pandas-docs/stable/user_guide/indexing.html#returning-a-view-versus-a-copy\n",
      "  self.merged_data[\"synonyms\"][~self.merged_data[\"synonyms\"].str.contains(\"__\", na=False)] = np.NaN\n",
      "/mnt/efs/fs1/CSS_Termpaper/EntityNetwork/entitynetwork/validation_tool/relation_validation.py:36: SettingWithCopyWarning: \n",
      "A value is trying to be set on a copy of a slice from a DataFrame.\n",
      "Try using .loc[row_indexer,col_indexer] = value instead\n",
      "\n",
      "See the caveats in the documentation: https://pandas.pydata.org/pandas-docs/stable/user_guide/indexing.html#returning-a-view-versus-a-copy\n",
      "  article.relation_validation_data[\"valid\"] = 1\n",
      "/home/ubuntu/.local/lib/python3.6/site-packages/pandas/core/indexing.py:1765: SettingWithCopyWarning: \n",
      "A value is trying to be set on a copy of a slice from a DataFrame.\n",
      "Try using .loc[row_indexer,col_indexer] = value instead\n",
      "\n",
      "See the caveats in the documentation: https://pandas.pydata.org/pandas-docs/stable/user_guide/indexing.html#returning-a-view-versus-a-copy\n",
      "  isetter(loc, value)\n",
      "/mnt/efs/fs1/CSS_Termpaper/EntityNetwork/entitynetwork/validation_tool/relation_validation.py:110: RuntimeWarning: invalid value encountered in double_scalars\n",
      "  self.f1 = 2 * ((self.precision * self.recall) / (self.precision + self.recall))\n",
      "/mnt/efs/fs1/CSS_Termpaper/EntityNetwork/entitynetwork/validation_tool/relation_validation.py:112: RuntimeWarning: invalid value encountered in long_scalars\n",
      "  self.missed_relations - self.invalid_relations)\n"
     ]
    },
    {
     "name": "stdout",
     "output_type": "stream",
     "text": [
      "Text took: 3.622452974319458 Num S / Coref: 11 / 11\n",
      "Current Article12\n"
     ]
    },
    {
     "name": "stderr",
     "output_type": "stream",
     "text": [
      "/mnt/efs/fs1/CSS_Termpaper/EntityNetwork/entitynetwork/relation_extraction/relation_extraction.py:60: RuntimeWarning: Mean of empty slice\n",
      "  sentiment = np.nanmean(prod)\n",
      "/mnt/efs/fs1/CSS_Termpaper/EntityNetwork/entitynetwork/validation_tool/relation_validation.py:36: SettingWithCopyWarning: \n",
      "A value is trying to be set on a copy of a slice from a DataFrame.\n",
      "Try using .loc[row_indexer,col_indexer] = value instead\n",
      "\n",
      "See the caveats in the documentation: https://pandas.pydata.org/pandas-docs/stable/user_guide/indexing.html#returning-a-view-versus-a-copy\n",
      "  article.relation_validation_data[\"valid\"] = 1\n",
      "/home/ubuntu/.local/lib/python3.6/site-packages/pandas/core/indexing.py:1765: SettingWithCopyWarning: \n",
      "A value is trying to be set on a copy of a slice from a DataFrame.\n",
      "Try using .loc[row_indexer,col_indexer] = value instead\n",
      "\n",
      "See the caveats in the documentation: https://pandas.pydata.org/pandas-docs/stable/user_guide/indexing.html#returning-a-view-versus-a-copy\n",
      "  isetter(loc, value)\n"
     ]
    },
    {
     "name": "stdout",
     "output_type": "stream",
     "text": [
      "Text took: 9.573650598526001 Num S / Coref: 22 / 22\n",
      "Current Article13\n"
     ]
    },
    {
     "name": "stderr",
     "output_type": "stream",
     "text": [
      "/mnt/efs/fs1/CSS_Termpaper/EntityNetwork/entitynetwork/relation_extraction/relation_extraction.py:60: RuntimeWarning: Mean of empty slice\n",
      "  sentiment = np.nanmean(prod)\n",
      "/mnt/efs/fs1/CSS_Termpaper/EntityNetwork/entitynetwork/validation_tool/relation_validation.py:36: SettingWithCopyWarning: \n",
      "A value is trying to be set on a copy of a slice from a DataFrame.\n",
      "Try using .loc[row_indexer,col_indexer] = value instead\n",
      "\n",
      "See the caveats in the documentation: https://pandas.pydata.org/pandas-docs/stable/user_guide/indexing.html#returning-a-view-versus-a-copy\n",
      "  article.relation_validation_data[\"valid\"] = 1\n",
      "/home/ubuntu/.local/lib/python3.6/site-packages/pandas/core/indexing.py:1765: SettingWithCopyWarning: \n",
      "A value is trying to be set on a copy of a slice from a DataFrame.\n",
      "Try using .loc[row_indexer,col_indexer] = value instead\n",
      "\n",
      "See the caveats in the documentation: https://pandas.pydata.org/pandas-docs/stable/user_guide/indexing.html#returning-a-view-versus-a-copy\n",
      "  isetter(loc, value)\n"
     ]
    },
    {
     "name": "stdout",
     "output_type": "stream",
     "text": [
      "Text took: 5.379798412322998 Num S / Coref: 10 / 10\n",
      "Current Article14\n"
     ]
    },
    {
     "name": "stderr",
     "output_type": "stream",
     "text": [
      "/mnt/efs/fs1/CSS_Termpaper/EntityNetwork/entitynetwork/relation_extraction/relation_extraction.py:60: RuntimeWarning: Mean of empty slice\n",
      "  sentiment = np.nanmean(prod)\n",
      "/mnt/efs/fs1/CSS_Termpaper/EntityNetwork/entitynetwork/validation_tool/entity_validation.py:61: SettingWithCopyWarning: \n",
      "A value is trying to be set on a copy of a slice from a DataFrame\n",
      "\n",
      "See the caveats in the documentation: https://pandas.pydata.org/pandas-docs/stable/user_guide/indexing.html#returning-a-view-versus-a-copy\n",
      "  self.merged_data[\"synonyms\"][~self.merged_data[\"synonyms\"].str.contains(\"__\", na=False)] = np.NaN\n",
      "/mnt/efs/fs1/CSS_Termpaper/EntityNetwork/entitynetwork/validation_tool/relation_validation.py:36: SettingWithCopyWarning: \n",
      "A value is trying to be set on a copy of a slice from a DataFrame.\n",
      "Try using .loc[row_indexer,col_indexer] = value instead\n",
      "\n",
      "See the caveats in the documentation: https://pandas.pydata.org/pandas-docs/stable/user_guide/indexing.html#returning-a-view-versus-a-copy\n",
      "  article.relation_validation_data[\"valid\"] = 1\n",
      "/home/ubuntu/.local/lib/python3.6/site-packages/pandas/core/indexing.py:1765: SettingWithCopyWarning: \n",
      "A value is trying to be set on a copy of a slice from a DataFrame.\n",
      "Try using .loc[row_indexer,col_indexer] = value instead\n",
      "\n",
      "See the caveats in the documentation: https://pandas.pydata.org/pandas-docs/stable/user_guide/indexing.html#returning-a-view-versus-a-copy\n",
      "  isetter(loc, value)\n"
     ]
    },
    {
     "name": "stdout",
     "output_type": "stream",
     "text": [
      "Text took: 3.9100277423858643 Num S / Coref: 10 / 10\n",
      "Current Article15\n"
     ]
    },
    {
     "name": "stderr",
     "output_type": "stream",
     "text": [
      "/mnt/efs/fs1/CSS_Termpaper/EntityNetwork/entitynetwork/relation_extraction/relation_extraction.py:60: RuntimeWarning: Mean of empty slice\n",
      "  sentiment = np.nanmean(prod)\n",
      "/mnt/efs/fs1/CSS_Termpaper/EntityNetwork/entitynetwork/validation_tool/relation_validation.py:36: SettingWithCopyWarning: \n",
      "A value is trying to be set on a copy of a slice from a DataFrame.\n",
      "Try using .loc[row_indexer,col_indexer] = value instead\n",
      "\n",
      "See the caveats in the documentation: https://pandas.pydata.org/pandas-docs/stable/user_guide/indexing.html#returning-a-view-versus-a-copy\n",
      "  article.relation_validation_data[\"valid\"] = 1\n",
      "/home/ubuntu/.local/lib/python3.6/site-packages/pandas/core/indexing.py:1765: SettingWithCopyWarning: \n",
      "A value is trying to be set on a copy of a slice from a DataFrame.\n",
      "Try using .loc[row_indexer,col_indexer] = value instead\n",
      "\n",
      "See the caveats in the documentation: https://pandas.pydata.org/pandas-docs/stable/user_guide/indexing.html#returning-a-view-versus-a-copy\n",
      "  isetter(loc, value)\n"
     ]
    },
    {
     "name": "stdout",
     "output_type": "stream",
     "text": [
      "Text took: 7.004896640777588 Num S / Coref: 16 / 16\n",
      "Current Article16\n"
     ]
    },
    {
     "name": "stderr",
     "output_type": "stream",
     "text": [
      "/mnt/efs/fs1/CSS_Termpaper/EntityNetwork/entitynetwork/relation_extraction/relation_extraction.py:60: RuntimeWarning: Mean of empty slice\n",
      "  sentiment = np.nanmean(prod)\n",
      "/mnt/efs/fs1/CSS_Termpaper/EntityNetwork/entitynetwork/validation_tool/relation_validation.py:36: SettingWithCopyWarning: \n",
      "A value is trying to be set on a copy of a slice from a DataFrame.\n",
      "Try using .loc[row_indexer,col_indexer] = value instead\n",
      "\n",
      "See the caveats in the documentation: https://pandas.pydata.org/pandas-docs/stable/user_guide/indexing.html#returning-a-view-versus-a-copy\n",
      "  article.relation_validation_data[\"valid\"] = 1\n",
      "/home/ubuntu/.local/lib/python3.6/site-packages/pandas/core/indexing.py:1765: SettingWithCopyWarning: \n",
      "A value is trying to be set on a copy of a slice from a DataFrame.\n",
      "Try using .loc[row_indexer,col_indexer] = value instead\n",
      "\n",
      "See the caveats in the documentation: https://pandas.pydata.org/pandas-docs/stable/user_guide/indexing.html#returning-a-view-versus-a-copy\n",
      "  isetter(loc, value)\n"
     ]
    },
    {
     "name": "stdout",
     "output_type": "stream",
     "text": [
      "Text took: 9.689713478088379 Num S / Coref: 23 / 23\n",
      "Current Article17\n"
     ]
    },
    {
     "name": "stderr",
     "output_type": "stream",
     "text": [
      "/mnt/efs/fs1/CSS_Termpaper/EntityNetwork/entitynetwork/relation_extraction/relation_extraction.py:60: RuntimeWarning: Mean of empty slice\n",
      "  sentiment = np.nanmean(prod)\n",
      "/mnt/efs/fs1/CSS_Termpaper/EntityNetwork/entitynetwork/validation_tool/relation_validation.py:36: SettingWithCopyWarning: \n",
      "A value is trying to be set on a copy of a slice from a DataFrame.\n",
      "Try using .loc[row_indexer,col_indexer] = value instead\n",
      "\n",
      "See the caveats in the documentation: https://pandas.pydata.org/pandas-docs/stable/user_guide/indexing.html#returning-a-view-versus-a-copy\n",
      "  article.relation_validation_data[\"valid\"] = 1\n",
      "/home/ubuntu/.local/lib/python3.6/site-packages/pandas/core/indexing.py:1765: SettingWithCopyWarning: \n",
      "A value is trying to be set on a copy of a slice from a DataFrame.\n",
      "Try using .loc[row_indexer,col_indexer] = value instead\n",
      "\n",
      "See the caveats in the documentation: https://pandas.pydata.org/pandas-docs/stable/user_guide/indexing.html#returning-a-view-versus-a-copy\n",
      "  isetter(loc, value)\n"
     ]
    },
    {
     "name": "stdout",
     "output_type": "stream",
     "text": [
      "Text took: 17.112869024276733 Num S / Coref: 28 / 27\n",
      "Current Article18\n"
     ]
    },
    {
     "name": "stderr",
     "output_type": "stream",
     "text": [
      "/mnt/efs/fs1/CSS_Termpaper/EntityNetwork/entitynetwork/relation_extraction/relation_extraction.py:60: RuntimeWarning: Mean of empty slice\n",
      "  sentiment = np.nanmean(prod)\n",
      "/mnt/efs/fs1/CSS_Termpaper/EntityNetwork/entitynetwork/validation_tool/relation_validation.py:36: SettingWithCopyWarning: \n",
      "A value is trying to be set on a copy of a slice from a DataFrame.\n",
      "Try using .loc[row_indexer,col_indexer] = value instead\n",
      "\n",
      "See the caveats in the documentation: https://pandas.pydata.org/pandas-docs/stable/user_guide/indexing.html#returning-a-view-versus-a-copy\n",
      "  article.relation_validation_data[\"valid\"] = 1\n",
      "/home/ubuntu/.local/lib/python3.6/site-packages/pandas/core/indexing.py:1765: SettingWithCopyWarning: \n",
      "A value is trying to be set on a copy of a slice from a DataFrame.\n",
      "Try using .loc[row_indexer,col_indexer] = value instead\n",
      "\n",
      "See the caveats in the documentation: https://pandas.pydata.org/pandas-docs/stable/user_guide/indexing.html#returning-a-view-versus-a-copy\n",
      "  isetter(loc, value)\n"
     ]
    },
    {
     "name": "stdout",
     "output_type": "stream",
     "text": [
      "Text took: 4.627231597900391 Num S / Coref: 6 / 6\n",
      "Current Article19\n"
     ]
    },
    {
     "name": "stderr",
     "output_type": "stream",
     "text": [
      "/mnt/efs/fs1/CSS_Termpaper/EntityNetwork/entitynetwork/relation_extraction/relation_extraction.py:60: RuntimeWarning: Mean of empty slice\n",
      "  sentiment = np.nanmean(prod)\n",
      "/mnt/efs/fs1/CSS_Termpaper/EntityNetwork/entitynetwork/validation_tool/relation_validation.py:36: SettingWithCopyWarning: \n",
      "A value is trying to be set on a copy of a slice from a DataFrame.\n",
      "Try using .loc[row_indexer,col_indexer] = value instead\n",
      "\n",
      "See the caveats in the documentation: https://pandas.pydata.org/pandas-docs/stable/user_guide/indexing.html#returning-a-view-versus-a-copy\n",
      "  article.relation_validation_data[\"valid\"] = 1\n",
      "/home/ubuntu/.local/lib/python3.6/site-packages/pandas/core/indexing.py:1765: SettingWithCopyWarning: \n",
      "A value is trying to be set on a copy of a slice from a DataFrame.\n",
      "Try using .loc[row_indexer,col_indexer] = value instead\n",
      "\n",
      "See the caveats in the documentation: https://pandas.pydata.org/pandas-docs/stable/user_guide/indexing.html#returning-a-view-versus-a-copy\n",
      "  isetter(loc, value)\n"
     ]
    },
    {
     "name": "stdout",
     "output_type": "stream",
     "text": [
      "Text took: 16.091870307922363 Num S / Coref: 37 / 37\n",
      "Current Article20\n"
     ]
    },
    {
     "name": "stderr",
     "output_type": "stream",
     "text": [
      "/mnt/efs/fs1/CSS_Termpaper/EntityNetwork/entitynetwork/relation_extraction/relation_extraction.py:60: RuntimeWarning: Mean of empty slice\n",
      "  sentiment = np.nanmean(prod)\n",
      "/mnt/efs/fs1/CSS_Termpaper/EntityNetwork/entitynetwork/validation_tool/entity_validation.py:61: SettingWithCopyWarning: \n",
      "A value is trying to be set on a copy of a slice from a DataFrame\n",
      "\n",
      "See the caveats in the documentation: https://pandas.pydata.org/pandas-docs/stable/user_guide/indexing.html#returning-a-view-versus-a-copy\n",
      "  self.merged_data[\"synonyms\"][~self.merged_data[\"synonyms\"].str.contains(\"__\", na=False)] = np.NaN\n",
      "/mnt/efs/fs1/CSS_Termpaper/EntityNetwork/entitynetwork/validation_tool/relation_validation.py:36: SettingWithCopyWarning: \n",
      "A value is trying to be set on a copy of a slice from a DataFrame.\n",
      "Try using .loc[row_indexer,col_indexer] = value instead\n",
      "\n",
      "See the caveats in the documentation: https://pandas.pydata.org/pandas-docs/stable/user_guide/indexing.html#returning-a-view-versus-a-copy\n",
      "  article.relation_validation_data[\"valid\"] = 1\n",
      "/home/ubuntu/.local/lib/python3.6/site-packages/pandas/core/indexing.py:1765: SettingWithCopyWarning: \n",
      "A value is trying to be set on a copy of a slice from a DataFrame.\n",
      "Try using .loc[row_indexer,col_indexer] = value instead\n",
      "\n",
      "See the caveats in the documentation: https://pandas.pydata.org/pandas-docs/stable/user_guide/indexing.html#returning-a-view-versus-a-copy\n",
      "  isetter(loc, value)\n"
     ]
    },
    {
     "name": "stdout",
     "output_type": "stream",
     "text": [
      "Text took: 3.277663469314575 Num S / Coref: 6 / 6\n",
      "Current Article21\n"
     ]
    },
    {
     "name": "stderr",
     "output_type": "stream",
     "text": [
      "/mnt/efs/fs1/CSS_Termpaper/EntityNetwork/entitynetwork/relation_extraction/relation_extraction.py:60: RuntimeWarning: Mean of empty slice\n",
      "  sentiment = np.nanmean(prod)\n",
      "/mnt/efs/fs1/CSS_Termpaper/EntityNetwork/entitynetwork/validation_tool/relation_validation.py:36: SettingWithCopyWarning: \n",
      "A value is trying to be set on a copy of a slice from a DataFrame.\n",
      "Try using .loc[row_indexer,col_indexer] = value instead\n",
      "\n",
      "See the caveats in the documentation: https://pandas.pydata.org/pandas-docs/stable/user_guide/indexing.html#returning-a-view-versus-a-copy\n",
      "  article.relation_validation_data[\"valid\"] = 1\n",
      "/home/ubuntu/.local/lib/python3.6/site-packages/pandas/core/indexing.py:1765: SettingWithCopyWarning: \n",
      "A value is trying to be set on a copy of a slice from a DataFrame.\n",
      "Try using .loc[row_indexer,col_indexer] = value instead\n",
      "\n",
      "See the caveats in the documentation: https://pandas.pydata.org/pandas-docs/stable/user_guide/indexing.html#returning-a-view-versus-a-copy\n",
      "  isetter(loc, value)\n"
     ]
    },
    {
     "name": "stdout",
     "output_type": "stream",
     "text": [
      "Text took: 16.714653491973877 Num S / Coref: 29 / 29\n",
      "Current Article22\n"
     ]
    },
    {
     "name": "stderr",
     "output_type": "stream",
     "text": [
      "/mnt/efs/fs1/CSS_Termpaper/EntityNetwork/entitynetwork/relation_extraction/relation_extraction.py:60: RuntimeWarning: Mean of empty slice\n",
      "  sentiment = np.nanmean(prod)\n",
      "/mnt/efs/fs1/CSS_Termpaper/EntityNetwork/entitynetwork/validation_tool/relation_validation.py:36: SettingWithCopyWarning: \n",
      "A value is trying to be set on a copy of a slice from a DataFrame.\n",
      "Try using .loc[row_indexer,col_indexer] = value instead\n",
      "\n",
      "See the caveats in the documentation: https://pandas.pydata.org/pandas-docs/stable/user_guide/indexing.html#returning-a-view-versus-a-copy\n",
      "  article.relation_validation_data[\"valid\"] = 1\n",
      "/home/ubuntu/.local/lib/python3.6/site-packages/pandas/core/indexing.py:1765: SettingWithCopyWarning: \n",
      "A value is trying to be set on a copy of a slice from a DataFrame.\n",
      "Try using .loc[row_indexer,col_indexer] = value instead\n",
      "\n",
      "See the caveats in the documentation: https://pandas.pydata.org/pandas-docs/stable/user_guide/indexing.html#returning-a-view-versus-a-copy\n",
      "  isetter(loc, value)\n"
     ]
    },
    {
     "name": "stdout",
     "output_type": "stream",
     "text": [
      "Text took: 6.06191086769104 Num S / Coref: 11 / 11\n",
      "Current Article23\n"
     ]
    },
    {
     "name": "stderr",
     "output_type": "stream",
     "text": [
      "/mnt/efs/fs1/CSS_Termpaper/EntityNetwork/entitynetwork/relation_extraction/relation_extraction.py:60: RuntimeWarning: Mean of empty slice\n",
      "  sentiment = np.nanmean(prod)\n",
      "/mnt/efs/fs1/CSS_Termpaper/EntityNetwork/entitynetwork/validation_tool/relation_validation.py:36: SettingWithCopyWarning: \n",
      "A value is trying to be set on a copy of a slice from a DataFrame.\n",
      "Try using .loc[row_indexer,col_indexer] = value instead\n",
      "\n",
      "See the caveats in the documentation: https://pandas.pydata.org/pandas-docs/stable/user_guide/indexing.html#returning-a-view-versus-a-copy\n",
      "  article.relation_validation_data[\"valid\"] = 1\n",
      "/home/ubuntu/.local/lib/python3.6/site-packages/pandas/core/indexing.py:1765: SettingWithCopyWarning: \n",
      "A value is trying to be set on a copy of a slice from a DataFrame.\n",
      "Try using .loc[row_indexer,col_indexer] = value instead\n",
      "\n",
      "See the caveats in the documentation: https://pandas.pydata.org/pandas-docs/stable/user_guide/indexing.html#returning-a-view-versus-a-copy\n",
      "  isetter(loc, value)\n"
     ]
    },
    {
     "name": "stdout",
     "output_type": "stream",
     "text": [
      "Text took: 2.8769278526306152 Num S / Coref: 8 / 8\n",
      "Current Article24\n"
     ]
    },
    {
     "name": "stderr",
     "output_type": "stream",
     "text": [
      "/mnt/efs/fs1/CSS_Termpaper/EntityNetwork/entitynetwork/relation_extraction/relation_extraction.py:60: RuntimeWarning: Mean of empty slice\n",
      "  sentiment = np.nanmean(prod)\n",
      "/mnt/efs/fs1/CSS_Termpaper/EntityNetwork/entitynetwork/validation_tool/relation_validation.py:36: SettingWithCopyWarning: \n",
      "A value is trying to be set on a copy of a slice from a DataFrame.\n",
      "Try using .loc[row_indexer,col_indexer] = value instead\n",
      "\n",
      "See the caveats in the documentation: https://pandas.pydata.org/pandas-docs/stable/user_guide/indexing.html#returning-a-view-versus-a-copy\n",
      "  article.relation_validation_data[\"valid\"] = 1\n",
      "/home/ubuntu/.local/lib/python3.6/site-packages/pandas/core/indexing.py:1765: SettingWithCopyWarning: \n",
      "A value is trying to be set on a copy of a slice from a DataFrame.\n",
      "Try using .loc[row_indexer,col_indexer] = value instead\n",
      "\n",
      "See the caveats in the documentation: https://pandas.pydata.org/pandas-docs/stable/user_guide/indexing.html#returning-a-view-versus-a-copy\n",
      "  isetter(loc, value)\n"
     ]
    },
    {
     "name": "stdout",
     "output_type": "stream",
     "text": [
      "Text took: 10.66891860961914 Num S / Coref: 18 / 19\n",
      "Current Article25\n"
     ]
    },
    {
     "name": "stderr",
     "output_type": "stream",
     "text": [
      "/mnt/efs/fs1/CSS_Termpaper/EntityNetwork/entitynetwork/relation_extraction/relation_extraction.py:60: RuntimeWarning: Mean of empty slice\n",
      "  sentiment = np.nanmean(prod)\n",
      "/mnt/efs/fs1/CSS_Termpaper/EntityNetwork/entitynetwork/validation_tool/relation_validation.py:36: SettingWithCopyWarning: \n",
      "A value is trying to be set on a copy of a slice from a DataFrame.\n",
      "Try using .loc[row_indexer,col_indexer] = value instead\n",
      "\n",
      "See the caveats in the documentation: https://pandas.pydata.org/pandas-docs/stable/user_guide/indexing.html#returning-a-view-versus-a-copy\n",
      "  article.relation_validation_data[\"valid\"] = 1\n",
      "/home/ubuntu/.local/lib/python3.6/site-packages/pandas/core/indexing.py:1765: SettingWithCopyWarning: \n",
      "A value is trying to be set on a copy of a slice from a DataFrame.\n",
      "Try using .loc[row_indexer,col_indexer] = value instead\n",
      "\n",
      "See the caveats in the documentation: https://pandas.pydata.org/pandas-docs/stable/user_guide/indexing.html#returning-a-view-versus-a-copy\n",
      "  isetter(loc, value)\n"
     ]
    },
    {
     "name": "stdout",
     "output_type": "stream",
     "text": [
      "Text took: 3.7059566974639893 Num S / Coref: 9 / 9\n",
      "Current Article26\n"
     ]
    },
    {
     "name": "stderr",
     "output_type": "stream",
     "text": [
      "/mnt/efs/fs1/CSS_Termpaper/EntityNetwork/entitynetwork/relation_extraction/relation_extraction.py:60: RuntimeWarning: Mean of empty slice\n",
      "  sentiment = np.nanmean(prod)\n",
      "/mnt/efs/fs1/CSS_Termpaper/EntityNetwork/entitynetwork/validation_tool/relation_validation.py:36: SettingWithCopyWarning: \n",
      "A value is trying to be set on a copy of a slice from a DataFrame.\n",
      "Try using .loc[row_indexer,col_indexer] = value instead\n",
      "\n",
      "See the caveats in the documentation: https://pandas.pydata.org/pandas-docs/stable/user_guide/indexing.html#returning-a-view-versus-a-copy\n",
      "  article.relation_validation_data[\"valid\"] = 1\n",
      "/home/ubuntu/.local/lib/python3.6/site-packages/pandas/core/indexing.py:1765: SettingWithCopyWarning: \n",
      "A value is trying to be set on a copy of a slice from a DataFrame.\n",
      "Try using .loc[row_indexer,col_indexer] = value instead\n",
      "\n",
      "See the caveats in the documentation: https://pandas.pydata.org/pandas-docs/stable/user_guide/indexing.html#returning-a-view-versus-a-copy\n",
      "  isetter(loc, value)\n"
     ]
    },
    {
     "name": "stdout",
     "output_type": "stream",
     "text": [
      "Text took: 3.724060297012329 Num S / Coref: 9 / 9\n",
      "Current Article27\n"
     ]
    },
    {
     "name": "stderr",
     "output_type": "stream",
     "text": [
      "/mnt/efs/fs1/CSS_Termpaper/EntityNetwork/entitynetwork/relation_extraction/relation_extraction.py:60: RuntimeWarning: Mean of empty slice\n",
      "  sentiment = np.nanmean(prod)\n",
      "/mnt/efs/fs1/CSS_Termpaper/EntityNetwork/entitynetwork/validation_tool/relation_validation.py:36: SettingWithCopyWarning: \n",
      "A value is trying to be set on a copy of a slice from a DataFrame.\n",
      "Try using .loc[row_indexer,col_indexer] = value instead\n",
      "\n",
      "See the caveats in the documentation: https://pandas.pydata.org/pandas-docs/stable/user_guide/indexing.html#returning-a-view-versus-a-copy\n",
      "  article.relation_validation_data[\"valid\"] = 1\n",
      "/home/ubuntu/.local/lib/python3.6/site-packages/pandas/core/indexing.py:1765: SettingWithCopyWarning: \n",
      "A value is trying to be set on a copy of a slice from a DataFrame.\n",
      "Try using .loc[row_indexer,col_indexer] = value instead\n",
      "\n",
      "See the caveats in the documentation: https://pandas.pydata.org/pandas-docs/stable/user_guide/indexing.html#returning-a-view-versus-a-copy\n",
      "  isetter(loc, value)\n"
     ]
    },
    {
     "name": "stdout",
     "output_type": "stream",
     "text": [
      "Text took: 14.96782636642456 Num S / Coref: 22 / 22\n",
      "Current Article28\n"
     ]
    },
    {
     "name": "stderr",
     "output_type": "stream",
     "text": [
      "/mnt/efs/fs1/CSS_Termpaper/EntityNetwork/entitynetwork/relation_extraction/relation_extraction.py:60: RuntimeWarning: Mean of empty slice\n",
      "  sentiment = np.nanmean(prod)\n",
      "/mnt/efs/fs1/CSS_Termpaper/EntityNetwork/entitynetwork/validation_tool/entity_validation.py:61: SettingWithCopyWarning: \n",
      "A value is trying to be set on a copy of a slice from a DataFrame\n",
      "\n",
      "See the caveats in the documentation: https://pandas.pydata.org/pandas-docs/stable/user_guide/indexing.html#returning-a-view-versus-a-copy\n",
      "  self.merged_data[\"synonyms\"][~self.merged_data[\"synonyms\"].str.contains(\"__\", na=False)] = np.NaN\n",
      "/mnt/efs/fs1/CSS_Termpaper/EntityNetwork/entitynetwork/validation_tool/relation_validation.py:36: SettingWithCopyWarning: \n",
      "A value is trying to be set on a copy of a slice from a DataFrame.\n",
      "Try using .loc[row_indexer,col_indexer] = value instead\n",
      "\n",
      "See the caveats in the documentation: https://pandas.pydata.org/pandas-docs/stable/user_guide/indexing.html#returning-a-view-versus-a-copy\n",
      "  article.relation_validation_data[\"valid\"] = 1\n",
      "/home/ubuntu/.local/lib/python3.6/site-packages/pandas/core/indexing.py:1765: SettingWithCopyWarning: \n",
      "A value is trying to be set on a copy of a slice from a DataFrame.\n",
      "Try using .loc[row_indexer,col_indexer] = value instead\n",
      "\n",
      "See the caveats in the documentation: https://pandas.pydata.org/pandas-docs/stable/user_guide/indexing.html#returning-a-view-versus-a-copy\n",
      "  isetter(loc, value)\n"
     ]
    },
    {
     "name": "stdout",
     "output_type": "stream",
     "text": [
      "Text took: 4.53908896446228 Num S / Coref: 10 / 10\n",
      "Current Article29\n"
     ]
    },
    {
     "name": "stderr",
     "output_type": "stream",
     "text": [
      "/mnt/efs/fs1/CSS_Termpaper/EntityNetwork/entitynetwork/relation_extraction/relation_extraction.py:60: RuntimeWarning: Mean of empty slice\n",
      "  sentiment = np.nanmean(prod)\n",
      "/mnt/efs/fs1/CSS_Termpaper/EntityNetwork/entitynetwork/validation_tool/relation_validation.py:36: SettingWithCopyWarning: \n",
      "A value is trying to be set on a copy of a slice from a DataFrame.\n",
      "Try using .loc[row_indexer,col_indexer] = value instead\n",
      "\n",
      "See the caveats in the documentation: https://pandas.pydata.org/pandas-docs/stable/user_guide/indexing.html#returning-a-view-versus-a-copy\n",
      "  article.relation_validation_data[\"valid\"] = 1\n",
      "/home/ubuntu/.local/lib/python3.6/site-packages/pandas/core/indexing.py:1765: SettingWithCopyWarning: \n",
      "A value is trying to be set on a copy of a slice from a DataFrame.\n",
      "Try using .loc[row_indexer,col_indexer] = value instead\n",
      "\n",
      "See the caveats in the documentation: https://pandas.pydata.org/pandas-docs/stable/user_guide/indexing.html#returning-a-view-versus-a-copy\n",
      "  isetter(loc, value)\n"
     ]
    },
    {
     "name": "stdout",
     "output_type": "stream",
     "text": [
      "Text took: 21.43219304084778 Num S / Coref: 30 / 30\n",
      "Current Article30\n"
     ]
    },
    {
     "name": "stderr",
     "output_type": "stream",
     "text": [
      "/mnt/efs/fs1/CSS_Termpaper/EntityNetwork/entitynetwork/relation_extraction/relation_extraction.py:60: RuntimeWarning: Mean of empty slice\n",
      "  sentiment = np.nanmean(prod)\n",
      "/mnt/efs/fs1/CSS_Termpaper/EntityNetwork/entitynetwork/validation_tool/relation_validation.py:36: SettingWithCopyWarning: \n",
      "A value is trying to be set on a copy of a slice from a DataFrame.\n",
      "Try using .loc[row_indexer,col_indexer] = value instead\n",
      "\n",
      "See the caveats in the documentation: https://pandas.pydata.org/pandas-docs/stable/user_guide/indexing.html#returning-a-view-versus-a-copy\n",
      "  article.relation_validation_data[\"valid\"] = 1\n",
      "/home/ubuntu/.local/lib/python3.6/site-packages/pandas/core/indexing.py:1765: SettingWithCopyWarning: \n",
      "A value is trying to be set on a copy of a slice from a DataFrame.\n",
      "Try using .loc[row_indexer,col_indexer] = value instead\n",
      "\n",
      "See the caveats in the documentation: https://pandas.pydata.org/pandas-docs/stable/user_guide/indexing.html#returning-a-view-versus-a-copy\n",
      "  isetter(loc, value)\n"
     ]
    },
    {
     "name": "stdout",
     "output_type": "stream",
     "text": [
      "Text took: 8.209448337554932 Num S / Coref: 13 / 13\n",
      "Current Article31\n"
     ]
    },
    {
     "name": "stderr",
     "output_type": "stream",
     "text": [
      "/mnt/efs/fs1/CSS_Termpaper/EntityNetwork/entitynetwork/relation_extraction/relation_extraction.py:60: RuntimeWarning: Mean of empty slice\n",
      "  sentiment = np.nanmean(prod)\n",
      "/mnt/efs/fs1/CSS_Termpaper/EntityNetwork/entitynetwork/validation_tool/relation_validation.py:36: SettingWithCopyWarning: \n",
      "A value is trying to be set on a copy of a slice from a DataFrame.\n",
      "Try using .loc[row_indexer,col_indexer] = value instead\n",
      "\n",
      "See the caveats in the documentation: https://pandas.pydata.org/pandas-docs/stable/user_guide/indexing.html#returning-a-view-versus-a-copy\n",
      "  article.relation_validation_data[\"valid\"] = 1\n",
      "/home/ubuntu/.local/lib/python3.6/site-packages/pandas/core/indexing.py:1765: SettingWithCopyWarning: \n",
      "A value is trying to be set on a copy of a slice from a DataFrame.\n",
      "Try using .loc[row_indexer,col_indexer] = value instead\n",
      "\n",
      "See the caveats in the documentation: https://pandas.pydata.org/pandas-docs/stable/user_guide/indexing.html#returning-a-view-versus-a-copy\n",
      "  isetter(loc, value)\n"
     ]
    },
    {
     "name": "stdout",
     "output_type": "stream",
     "text": [
      "Text took: 11.512401103973389 Num S / Coref: 15 / 15\n",
      "Current Article32\n"
     ]
    },
    {
     "name": "stderr",
     "output_type": "stream",
     "text": [
      "/mnt/efs/fs1/CSS_Termpaper/EntityNetwork/entitynetwork/relation_extraction/relation_extraction.py:60: RuntimeWarning: Mean of empty slice\n",
      "  sentiment = np.nanmean(prod)\n",
      "/mnt/efs/fs1/CSS_Termpaper/EntityNetwork/entitynetwork/validation_tool/relation_validation.py:36: SettingWithCopyWarning: \n",
      "A value is trying to be set on a copy of a slice from a DataFrame.\n",
      "Try using .loc[row_indexer,col_indexer] = value instead\n",
      "\n",
      "See the caveats in the documentation: https://pandas.pydata.org/pandas-docs/stable/user_guide/indexing.html#returning-a-view-versus-a-copy\n",
      "  article.relation_validation_data[\"valid\"] = 1\n",
      "/home/ubuntu/.local/lib/python3.6/site-packages/pandas/core/indexing.py:1765: SettingWithCopyWarning: \n",
      "A value is trying to be set on a copy of a slice from a DataFrame.\n",
      "Try using .loc[row_indexer,col_indexer] = value instead\n",
      "\n",
      "See the caveats in the documentation: https://pandas.pydata.org/pandas-docs/stable/user_guide/indexing.html#returning-a-view-versus-a-copy\n",
      "  isetter(loc, value)\n"
     ]
    },
    {
     "name": "stdout",
     "output_type": "stream",
     "text": [
      "Text took: 10.302707433700562 Num S / Coref: 19 / 19\n",
      "Current Article33\n"
     ]
    },
    {
     "name": "stderr",
     "output_type": "stream",
     "text": [
      "/mnt/efs/fs1/CSS_Termpaper/EntityNetwork/entitynetwork/relation_extraction/relation_extraction.py:60: RuntimeWarning: Mean of empty slice\n",
      "  sentiment = np.nanmean(prod)\n",
      "/mnt/efs/fs1/CSS_Termpaper/EntityNetwork/entitynetwork/validation_tool/relation_validation.py:36: SettingWithCopyWarning: \n",
      "A value is trying to be set on a copy of a slice from a DataFrame.\n",
      "Try using .loc[row_indexer,col_indexer] = value instead\n",
      "\n",
      "See the caveats in the documentation: https://pandas.pydata.org/pandas-docs/stable/user_guide/indexing.html#returning-a-view-versus-a-copy\n",
      "  article.relation_validation_data[\"valid\"] = 1\n",
      "/home/ubuntu/.local/lib/python3.6/site-packages/pandas/core/indexing.py:1765: SettingWithCopyWarning: \n",
      "A value is trying to be set on a copy of a slice from a DataFrame.\n",
      "Try using .loc[row_indexer,col_indexer] = value instead\n",
      "\n",
      "See the caveats in the documentation: https://pandas.pydata.org/pandas-docs/stable/user_guide/indexing.html#returning-a-view-versus-a-copy\n",
      "  isetter(loc, value)\n"
     ]
    },
    {
     "name": "stdout",
     "output_type": "stream",
     "text": [
      "Text took: 7.513395071029663 Num S / Coref: 9 / 9\n",
      "Current Article34\n"
     ]
    },
    {
     "name": "stderr",
     "output_type": "stream",
     "text": [
      "/mnt/efs/fs1/CSS_Termpaper/EntityNetwork/entitynetwork/relation_extraction/relation_extraction.py:60: RuntimeWarning: Mean of empty slice\n",
      "  sentiment = np.nanmean(prod)\n",
      "/mnt/efs/fs1/CSS_Termpaper/EntityNetwork/entitynetwork/validation_tool/relation_validation.py:36: SettingWithCopyWarning: \n",
      "A value is trying to be set on a copy of a slice from a DataFrame.\n",
      "Try using .loc[row_indexer,col_indexer] = value instead\n",
      "\n",
      "See the caveats in the documentation: https://pandas.pydata.org/pandas-docs/stable/user_guide/indexing.html#returning-a-view-versus-a-copy\n",
      "  article.relation_validation_data[\"valid\"] = 1\n",
      "/home/ubuntu/.local/lib/python3.6/site-packages/pandas/core/indexing.py:1765: SettingWithCopyWarning: \n",
      "A value is trying to be set on a copy of a slice from a DataFrame.\n",
      "Try using .loc[row_indexer,col_indexer] = value instead\n",
      "\n",
      "See the caveats in the documentation: https://pandas.pydata.org/pandas-docs/stable/user_guide/indexing.html#returning-a-view-versus-a-copy\n",
      "  isetter(loc, value)\n"
     ]
    },
    {
     "name": "stdout",
     "output_type": "stream",
     "text": [
      "Text took: 14.396651268005371 Num S / Coref: 31 / 31\n",
      "Current Article35\n"
     ]
    },
    {
     "name": "stderr",
     "output_type": "stream",
     "text": [
      "/mnt/efs/fs1/CSS_Termpaper/EntityNetwork/entitynetwork/relation_extraction/relation_extraction.py:60: RuntimeWarning: Mean of empty slice\n",
      "  sentiment = np.nanmean(prod)\n",
      "/mnt/efs/fs1/CSS_Termpaper/EntityNetwork/entitynetwork/validation_tool/relation_validation.py:36: SettingWithCopyWarning: \n",
      "A value is trying to be set on a copy of a slice from a DataFrame.\n",
      "Try using .loc[row_indexer,col_indexer] = value instead\n",
      "\n",
      "See the caveats in the documentation: https://pandas.pydata.org/pandas-docs/stable/user_guide/indexing.html#returning-a-view-versus-a-copy\n",
      "  article.relation_validation_data[\"valid\"] = 1\n",
      "/home/ubuntu/.local/lib/python3.6/site-packages/pandas/core/indexing.py:1765: SettingWithCopyWarning: \n",
      "A value is trying to be set on a copy of a slice from a DataFrame.\n",
      "Try using .loc[row_indexer,col_indexer] = value instead\n",
      "\n",
      "See the caveats in the documentation: https://pandas.pydata.org/pandas-docs/stable/user_guide/indexing.html#returning-a-view-versus-a-copy\n",
      "  isetter(loc, value)\n"
     ]
    },
    {
     "name": "stdout",
     "output_type": "stream",
     "text": [
      "Text took: 12.053811073303223 Num S / Coref: 18 / 18\n",
      "Current Article36\n"
     ]
    },
    {
     "name": "stderr",
     "output_type": "stream",
     "text": [
      "/mnt/efs/fs1/CSS_Termpaper/EntityNetwork/entitynetwork/relation_extraction/relation_extraction.py:60: RuntimeWarning: Mean of empty slice\n",
      "  sentiment = np.nanmean(prod)\n",
      "/mnt/efs/fs1/CSS_Termpaper/EntityNetwork/entitynetwork/validation_tool/relation_validation.py:36: SettingWithCopyWarning: \n",
      "A value is trying to be set on a copy of a slice from a DataFrame.\n",
      "Try using .loc[row_indexer,col_indexer] = value instead\n",
      "\n",
      "See the caveats in the documentation: https://pandas.pydata.org/pandas-docs/stable/user_guide/indexing.html#returning-a-view-versus-a-copy\n",
      "  article.relation_validation_data[\"valid\"] = 1\n",
      "/home/ubuntu/.local/lib/python3.6/site-packages/pandas/core/indexing.py:1765: SettingWithCopyWarning: \n",
      "A value is trying to be set on a copy of a slice from a DataFrame.\n",
      "Try using .loc[row_indexer,col_indexer] = value instead\n",
      "\n",
      "See the caveats in the documentation: https://pandas.pydata.org/pandas-docs/stable/user_guide/indexing.html#returning-a-view-versus-a-copy\n",
      "  isetter(loc, value)\n"
     ]
    },
    {
     "name": "stdout",
     "output_type": "stream",
     "text": [
      "Text took: 13.992223739624023 Num S / Coref: 28 / 28\n",
      "Current Article37\n"
     ]
    },
    {
     "name": "stderr",
     "output_type": "stream",
     "text": [
      "/mnt/efs/fs1/CSS_Termpaper/EntityNetwork/entitynetwork/relation_extraction/relation_extraction.py:60: RuntimeWarning: Mean of empty slice\n",
      "  sentiment = np.nanmean(prod)\n",
      "/mnt/efs/fs1/CSS_Termpaper/EntityNetwork/entitynetwork/validation_tool/relation_validation.py:36: SettingWithCopyWarning: \n",
      "A value is trying to be set on a copy of a slice from a DataFrame.\n",
      "Try using .loc[row_indexer,col_indexer] = value instead\n",
      "\n",
      "See the caveats in the documentation: https://pandas.pydata.org/pandas-docs/stable/user_guide/indexing.html#returning-a-view-versus-a-copy\n",
      "  article.relation_validation_data[\"valid\"] = 1\n",
      "/home/ubuntu/.local/lib/python3.6/site-packages/pandas/core/indexing.py:1765: SettingWithCopyWarning: \n",
      "A value is trying to be set on a copy of a slice from a DataFrame.\n",
      "Try using .loc[row_indexer,col_indexer] = value instead\n",
      "\n",
      "See the caveats in the documentation: https://pandas.pydata.org/pandas-docs/stable/user_guide/indexing.html#returning-a-view-versus-a-copy\n",
      "  isetter(loc, value)\n"
     ]
    },
    {
     "name": "stdout",
     "output_type": "stream",
     "text": [
      "Text took: 17.85519313812256 Num S / Coref: 27 / 27\n",
      "Current Article38\n"
     ]
    },
    {
     "name": "stderr",
     "output_type": "stream",
     "text": [
      "/mnt/efs/fs1/CSS_Termpaper/EntityNetwork/entitynetwork/validation_tool/relation_validation.py:36: SettingWithCopyWarning: \n",
      "A value is trying to be set on a copy of a slice from a DataFrame.\n",
      "Try using .loc[row_indexer,col_indexer] = value instead\n",
      "\n",
      "See the caveats in the documentation: https://pandas.pydata.org/pandas-docs/stable/user_guide/indexing.html#returning-a-view-versus-a-copy\n",
      "  article.relation_validation_data[\"valid\"] = 1\n",
      "/home/ubuntu/.local/lib/python3.6/site-packages/pandas/core/indexing.py:1765: SettingWithCopyWarning: \n",
      "A value is trying to be set on a copy of a slice from a DataFrame.\n",
      "Try using .loc[row_indexer,col_indexer] = value instead\n",
      "\n",
      "See the caveats in the documentation: https://pandas.pydata.org/pandas-docs/stable/user_guide/indexing.html#returning-a-view-versus-a-copy\n",
      "  isetter(loc, value)\n"
     ]
    },
    {
     "name": "stdout",
     "output_type": "stream",
     "text": [
      "Text took: 2.1656336784362793 Num S / Coref: 5 / 5\n",
      "Current Article39\n"
     ]
    },
    {
     "name": "stderr",
     "output_type": "stream",
     "text": [
      "/mnt/efs/fs1/CSS_Termpaper/EntityNetwork/entitynetwork/relation_extraction/relation_extraction.py:60: RuntimeWarning: Mean of empty slice\n",
      "  sentiment = np.nanmean(prod)\n",
      "/mnt/efs/fs1/CSS_Termpaper/EntityNetwork/entitynetwork/validation_tool/relation_validation.py:36: SettingWithCopyWarning: \n",
      "A value is trying to be set on a copy of a slice from a DataFrame.\n",
      "Try using .loc[row_indexer,col_indexer] = value instead\n",
      "\n",
      "See the caveats in the documentation: https://pandas.pydata.org/pandas-docs/stable/user_guide/indexing.html#returning-a-view-versus-a-copy\n",
      "  article.relation_validation_data[\"valid\"] = 1\n",
      "/home/ubuntu/.local/lib/python3.6/site-packages/pandas/core/indexing.py:1765: SettingWithCopyWarning: \n",
      "A value is trying to be set on a copy of a slice from a DataFrame.\n",
      "Try using .loc[row_indexer,col_indexer] = value instead\n",
      "\n",
      "See the caveats in the documentation: https://pandas.pydata.org/pandas-docs/stable/user_guide/indexing.html#returning-a-view-versus-a-copy\n",
      "  isetter(loc, value)\n"
     ]
    },
    {
     "name": "stdout",
     "output_type": "stream",
     "text": [
      "Text took: 4.456952810287476 Num S / Coref: 8 / 8\n",
      "Current Article40\n"
     ]
    },
    {
     "name": "stderr",
     "output_type": "stream",
     "text": [
      "/mnt/efs/fs1/CSS_Termpaper/EntityNetwork/entitynetwork/relation_extraction/relation_extraction.py:60: RuntimeWarning: Mean of empty slice\n",
      "  sentiment = np.nanmean(prod)\n",
      "/mnt/efs/fs1/CSS_Termpaper/EntityNetwork/entitynetwork/validation_tool/relation_validation.py:36: SettingWithCopyWarning: \n",
      "A value is trying to be set on a copy of a slice from a DataFrame.\n",
      "Try using .loc[row_indexer,col_indexer] = value instead\n",
      "\n",
      "See the caveats in the documentation: https://pandas.pydata.org/pandas-docs/stable/user_guide/indexing.html#returning-a-view-versus-a-copy\n",
      "  article.relation_validation_data[\"valid\"] = 1\n",
      "/home/ubuntu/.local/lib/python3.6/site-packages/pandas/core/indexing.py:1765: SettingWithCopyWarning: \n",
      "A value is trying to be set on a copy of a slice from a DataFrame.\n",
      "Try using .loc[row_indexer,col_indexer] = value instead\n",
      "\n",
      "See the caveats in the documentation: https://pandas.pydata.org/pandas-docs/stable/user_guide/indexing.html#returning-a-view-versus-a-copy\n",
      "  isetter(loc, value)\n"
     ]
    },
    {
     "name": "stdout",
     "output_type": "stream",
     "text": [
      "Text took: 10.618595123291016 Num S / Coref: 24 / 24\n",
      "Current Article41\n"
     ]
    },
    {
     "name": "stderr",
     "output_type": "stream",
     "text": [
      "/mnt/efs/fs1/CSS_Termpaper/EntityNetwork/entitynetwork/relation_extraction/relation_extraction.py:60: RuntimeWarning: Mean of empty slice\n",
      "  sentiment = np.nanmean(prod)\n",
      "/mnt/efs/fs1/CSS_Termpaper/EntityNetwork/entitynetwork/validation_tool/relation_validation.py:36: SettingWithCopyWarning: \n",
      "A value is trying to be set on a copy of a slice from a DataFrame.\n",
      "Try using .loc[row_indexer,col_indexer] = value instead\n",
      "\n",
      "See the caveats in the documentation: https://pandas.pydata.org/pandas-docs/stable/user_guide/indexing.html#returning-a-view-versus-a-copy\n",
      "  article.relation_validation_data[\"valid\"] = 1\n",
      "/home/ubuntu/.local/lib/python3.6/site-packages/pandas/core/indexing.py:1765: SettingWithCopyWarning: \n",
      "A value is trying to be set on a copy of a slice from a DataFrame.\n",
      "Try using .loc[row_indexer,col_indexer] = value instead\n",
      "\n",
      "See the caveats in the documentation: https://pandas.pydata.org/pandas-docs/stable/user_guide/indexing.html#returning-a-view-versus-a-copy\n",
      "  isetter(loc, value)\n"
     ]
    },
    {
     "name": "stdout",
     "output_type": "stream",
     "text": [
      "Text took: 3.13334321975708 Num S / Coref: 6 / 6\n",
      "Current Article42\n"
     ]
    },
    {
     "name": "stderr",
     "output_type": "stream",
     "text": [
      "/mnt/efs/fs1/CSS_Termpaper/EntityNetwork/entitynetwork/validation_tool/entity_validation.py:61: SettingWithCopyWarning: \n",
      "A value is trying to be set on a copy of a slice from a DataFrame\n",
      "\n",
      "See the caveats in the documentation: https://pandas.pydata.org/pandas-docs/stable/user_guide/indexing.html#returning-a-view-versus-a-copy\n",
      "  self.merged_data[\"synonyms\"][~self.merged_data[\"synonyms\"].str.contains(\"__\", na=False)] = np.NaN\n",
      "/mnt/efs/fs1/CSS_Termpaper/EntityNetwork/entitynetwork/validation_tool/relation_validation.py:36: SettingWithCopyWarning: \n",
      "A value is trying to be set on a copy of a slice from a DataFrame.\n",
      "Try using .loc[row_indexer,col_indexer] = value instead\n",
      "\n",
      "See the caveats in the documentation: https://pandas.pydata.org/pandas-docs/stable/user_guide/indexing.html#returning-a-view-versus-a-copy\n",
      "  article.relation_validation_data[\"valid\"] = 1\n",
      "/home/ubuntu/.local/lib/python3.6/site-packages/pandas/core/indexing.py:1765: SettingWithCopyWarning: \n",
      "A value is trying to be set on a copy of a slice from a DataFrame.\n",
      "Try using .loc[row_indexer,col_indexer] = value instead\n",
      "\n",
      "See the caveats in the documentation: https://pandas.pydata.org/pandas-docs/stable/user_guide/indexing.html#returning-a-view-versus-a-copy\n",
      "  isetter(loc, value)\n"
     ]
    },
    {
     "name": "stdout",
     "output_type": "stream",
     "text": [
      "Text took: 5.716231822967529 Num S / Coref: 13 / 13\n",
      "Current Article43\n"
     ]
    },
    {
     "name": "stderr",
     "output_type": "stream",
     "text": [
      "/mnt/efs/fs1/CSS_Termpaper/EntityNetwork/entitynetwork/relation_extraction/relation_extraction.py:60: RuntimeWarning: Mean of empty slice\n",
      "  sentiment = np.nanmean(prod)\n",
      "/mnt/efs/fs1/CSS_Termpaper/EntityNetwork/entitynetwork/validation_tool/relation_validation.py:36: SettingWithCopyWarning: \n",
      "A value is trying to be set on a copy of a slice from a DataFrame.\n",
      "Try using .loc[row_indexer,col_indexer] = value instead\n",
      "\n",
      "See the caveats in the documentation: https://pandas.pydata.org/pandas-docs/stable/user_guide/indexing.html#returning-a-view-versus-a-copy\n",
      "  article.relation_validation_data[\"valid\"] = 1\n",
      "/home/ubuntu/.local/lib/python3.6/site-packages/pandas/core/indexing.py:1765: SettingWithCopyWarning: \n",
      "A value is trying to be set on a copy of a slice from a DataFrame.\n",
      "Try using .loc[row_indexer,col_indexer] = value instead\n",
      "\n",
      "See the caveats in the documentation: https://pandas.pydata.org/pandas-docs/stable/user_guide/indexing.html#returning-a-view-versus-a-copy\n",
      "  isetter(loc, value)\n"
     ]
    },
    {
     "name": "stdout",
     "output_type": "stream",
     "text": [
      "Text took: 13.824920892715454 Num S / Coref: 21 / 21\n",
      "Current Article44\n"
     ]
    },
    {
     "name": "stderr",
     "output_type": "stream",
     "text": [
      "/mnt/efs/fs1/CSS_Termpaper/EntityNetwork/entitynetwork/relation_extraction/relation_extraction.py:60: RuntimeWarning: Mean of empty slice\n",
      "  sentiment = np.nanmean(prod)\n",
      "/mnt/efs/fs1/CSS_Termpaper/EntityNetwork/entitynetwork/validation_tool/relation_validation.py:36: SettingWithCopyWarning: \n",
      "A value is trying to be set on a copy of a slice from a DataFrame.\n",
      "Try using .loc[row_indexer,col_indexer] = value instead\n",
      "\n",
      "See the caveats in the documentation: https://pandas.pydata.org/pandas-docs/stable/user_guide/indexing.html#returning-a-view-versus-a-copy\n",
      "  article.relation_validation_data[\"valid\"] = 1\n",
      "/home/ubuntu/.local/lib/python3.6/site-packages/pandas/core/indexing.py:1765: SettingWithCopyWarning: \n",
      "A value is trying to be set on a copy of a slice from a DataFrame.\n",
      "Try using .loc[row_indexer,col_indexer] = value instead\n",
      "\n",
      "See the caveats in the documentation: https://pandas.pydata.org/pandas-docs/stable/user_guide/indexing.html#returning-a-view-versus-a-copy\n",
      "  isetter(loc, value)\n"
     ]
    },
    {
     "name": "stdout",
     "output_type": "stream",
     "text": [
      "Text took: 10.939923524856567 Num S / Coref: 21 / 21\n",
      "Current Article45\n"
     ]
    },
    {
     "name": "stderr",
     "output_type": "stream",
     "text": [
      "/mnt/efs/fs1/CSS_Termpaper/EntityNetwork/entitynetwork/relation_extraction/relation_extraction.py:60: RuntimeWarning: Mean of empty slice\n",
      "  sentiment = np.nanmean(prod)\n",
      "/mnt/efs/fs1/CSS_Termpaper/EntityNetwork/entitynetwork/validation_tool/relation_validation.py:36: SettingWithCopyWarning: \n",
      "A value is trying to be set on a copy of a slice from a DataFrame.\n",
      "Try using .loc[row_indexer,col_indexer] = value instead\n",
      "\n",
      "See the caveats in the documentation: https://pandas.pydata.org/pandas-docs/stable/user_guide/indexing.html#returning-a-view-versus-a-copy\n",
      "  article.relation_validation_data[\"valid\"] = 1\n",
      "/home/ubuntu/.local/lib/python3.6/site-packages/pandas/core/indexing.py:1765: SettingWithCopyWarning: \n",
      "A value is trying to be set on a copy of a slice from a DataFrame.\n",
      "Try using .loc[row_indexer,col_indexer] = value instead\n",
      "\n",
      "See the caveats in the documentation: https://pandas.pydata.org/pandas-docs/stable/user_guide/indexing.html#returning-a-view-versus-a-copy\n",
      "  isetter(loc, value)\n"
     ]
    },
    {
     "name": "stdout",
     "output_type": "stream",
     "text": [
      "Text took: 12.822772026062012 Num S / Coref: 27 / 27\n",
      "Current Article46\n"
     ]
    },
    {
     "name": "stderr",
     "output_type": "stream",
     "text": [
      "/mnt/efs/fs1/CSS_Termpaper/EntityNetwork/entitynetwork/relation_extraction/relation_extraction.py:60: RuntimeWarning: Mean of empty slice\n",
      "  sentiment = np.nanmean(prod)\n",
      "/mnt/efs/fs1/CSS_Termpaper/EntityNetwork/entitynetwork/validation_tool/relation_validation.py:36: SettingWithCopyWarning: \n",
      "A value is trying to be set on a copy of a slice from a DataFrame.\n",
      "Try using .loc[row_indexer,col_indexer] = value instead\n",
      "\n",
      "See the caveats in the documentation: https://pandas.pydata.org/pandas-docs/stable/user_guide/indexing.html#returning-a-view-versus-a-copy\n",
      "  article.relation_validation_data[\"valid\"] = 1\n",
      "/home/ubuntu/.local/lib/python3.6/site-packages/pandas/core/indexing.py:1765: SettingWithCopyWarning: \n",
      "A value is trying to be set on a copy of a slice from a DataFrame.\n",
      "Try using .loc[row_indexer,col_indexer] = value instead\n",
      "\n",
      "See the caveats in the documentation: https://pandas.pydata.org/pandas-docs/stable/user_guide/indexing.html#returning-a-view-versus-a-copy\n",
      "  isetter(loc, value)\n"
     ]
    },
    {
     "name": "stdout",
     "output_type": "stream",
     "text": [
      "Text took: 4.326145172119141 Num S / Coref: 11 / 11\n",
      "Current Article47\n"
     ]
    },
    {
     "name": "stderr",
     "output_type": "stream",
     "text": [
      "/mnt/efs/fs1/CSS_Termpaper/EntityNetwork/entitynetwork/relation_extraction/relation_extraction.py:60: RuntimeWarning: Mean of empty slice\n",
      "  sentiment = np.nanmean(prod)\n",
      "/mnt/efs/fs1/CSS_Termpaper/EntityNetwork/entitynetwork/validation_tool/entity_validation.py:61: SettingWithCopyWarning: \n",
      "A value is trying to be set on a copy of a slice from a DataFrame\n",
      "\n",
      "See the caveats in the documentation: https://pandas.pydata.org/pandas-docs/stable/user_guide/indexing.html#returning-a-view-versus-a-copy\n",
      "  self.merged_data[\"synonyms\"][~self.merged_data[\"synonyms\"].str.contains(\"__\", na=False)] = np.NaN\n",
      "/mnt/efs/fs1/CSS_Termpaper/EntityNetwork/entitynetwork/validation_tool/relation_validation.py:36: SettingWithCopyWarning: \n",
      "A value is trying to be set on a copy of a slice from a DataFrame.\n",
      "Try using .loc[row_indexer,col_indexer] = value instead\n",
      "\n",
      "See the caveats in the documentation: https://pandas.pydata.org/pandas-docs/stable/user_guide/indexing.html#returning-a-view-versus-a-copy\n",
      "  article.relation_validation_data[\"valid\"] = 1\n",
      "/home/ubuntu/.local/lib/python3.6/site-packages/pandas/core/indexing.py:1765: SettingWithCopyWarning: \n",
      "A value is trying to be set on a copy of a slice from a DataFrame.\n",
      "Try using .loc[row_indexer,col_indexer] = value instead\n",
      "\n",
      "See the caveats in the documentation: https://pandas.pydata.org/pandas-docs/stable/user_guide/indexing.html#returning-a-view-versus-a-copy\n",
      "  isetter(loc, value)\n"
     ]
    },
    {
     "name": "stdout",
     "output_type": "stream",
     "text": [
      "Text took: 1.8039798736572266 Num S / Coref: 4 / 4\n",
      "Current Article48\n"
     ]
    },
    {
     "name": "stderr",
     "output_type": "stream",
     "text": [
      "/mnt/efs/fs1/CSS_Termpaper/EntityNetwork/entitynetwork/relation_extraction/relation_extraction.py:60: RuntimeWarning: Mean of empty slice\n",
      "  sentiment = np.nanmean(prod)\n",
      "/mnt/efs/fs1/CSS_Termpaper/EntityNetwork/entitynetwork/validation_tool/relation_validation.py:36: SettingWithCopyWarning: \n",
      "A value is trying to be set on a copy of a slice from a DataFrame.\n",
      "Try using .loc[row_indexer,col_indexer] = value instead\n",
      "\n",
      "See the caveats in the documentation: https://pandas.pydata.org/pandas-docs/stable/user_guide/indexing.html#returning-a-view-versus-a-copy\n",
      "  article.relation_validation_data[\"valid\"] = 1\n",
      "/home/ubuntu/.local/lib/python3.6/site-packages/pandas/core/indexing.py:1765: SettingWithCopyWarning: \n",
      "A value is trying to be set on a copy of a slice from a DataFrame.\n",
      "Try using .loc[row_indexer,col_indexer] = value instead\n",
      "\n",
      "See the caveats in the documentation: https://pandas.pydata.org/pandas-docs/stable/user_guide/indexing.html#returning-a-view-versus-a-copy\n",
      "  isetter(loc, value)\n"
     ]
    },
    {
     "name": "stdout",
     "output_type": "stream",
     "text": [
      "Text took: 10.40749740600586 Num S / Coref: 30 / 30\n",
      "Current Article49\n"
     ]
    },
    {
     "name": "stderr",
     "output_type": "stream",
     "text": [
      "/mnt/efs/fs1/CSS_Termpaper/EntityNetwork/entitynetwork/relation_extraction/relation_extraction.py:60: RuntimeWarning: Mean of empty slice\n",
      "  sentiment = np.nanmean(prod)\n",
      "/mnt/efs/fs1/CSS_Termpaper/EntityNetwork/entitynetwork/validation_tool/entity_validation.py:61: SettingWithCopyWarning: \n",
      "A value is trying to be set on a copy of a slice from a DataFrame\n",
      "\n",
      "See the caveats in the documentation: https://pandas.pydata.org/pandas-docs/stable/user_guide/indexing.html#returning-a-view-versus-a-copy\n",
      "  self.merged_data[\"synonyms\"][~self.merged_data[\"synonyms\"].str.contains(\"__\", na=False)] = np.NaN\n",
      "/mnt/efs/fs1/CSS_Termpaper/EntityNetwork/entitynetwork/validation_tool/relation_validation.py:36: SettingWithCopyWarning: \n",
      "A value is trying to be set on a copy of a slice from a DataFrame.\n",
      "Try using .loc[row_indexer,col_indexer] = value instead\n",
      "\n",
      "See the caveats in the documentation: https://pandas.pydata.org/pandas-docs/stable/user_guide/indexing.html#returning-a-view-versus-a-copy\n",
      "  article.relation_validation_data[\"valid\"] = 1\n",
      "/home/ubuntu/.local/lib/python3.6/site-packages/pandas/core/indexing.py:1765: SettingWithCopyWarning: \n",
      "A value is trying to be set on a copy of a slice from a DataFrame.\n",
      "Try using .loc[row_indexer,col_indexer] = value instead\n",
      "\n",
      "See the caveats in the documentation: https://pandas.pydata.org/pandas-docs/stable/user_guide/indexing.html#returning-a-view-versus-a-copy\n",
      "  isetter(loc, value)\n",
      "/mnt/efs/fs1/CSS_Termpaper/EntityNetwork/entitynetwork/validation_tool/relation_validation.py:110: RuntimeWarning: invalid value encountered in double_scalars\n",
      "  self.f1 = 2 * ((self.precision * self.recall) / (self.precision + self.recall))\n",
      "/mnt/efs/fs1/CSS_Termpaper/EntityNetwork/entitynetwork/validation_tool/relation_validation.py:112: RuntimeWarning: invalid value encountered in long_scalars\n",
      "  self.missed_relations - self.invalid_relations)\n"
     ]
    },
    {
     "name": "stdout",
     "output_type": "stream",
     "text": [
      "Text took: 2.8012804985046387 Num S / Coref: 7 / 7\n",
      "Current Article50\n"
     ]
    },
    {
     "name": "stderr",
     "output_type": "stream",
     "text": [
      "/mnt/efs/fs1/CSS_Termpaper/EntityNetwork/entitynetwork/relation_extraction/relation_extraction.py:60: RuntimeWarning: Mean of empty slice\n",
      "  sentiment = np.nanmean(prod)\n",
      "/mnt/efs/fs1/CSS_Termpaper/EntityNetwork/entitynetwork/validation_tool/entity_validation.py:61: SettingWithCopyWarning: \n",
      "A value is trying to be set on a copy of a slice from a DataFrame\n",
      "\n",
      "See the caveats in the documentation: https://pandas.pydata.org/pandas-docs/stable/user_guide/indexing.html#returning-a-view-versus-a-copy\n",
      "  self.merged_data[\"synonyms\"][~self.merged_data[\"synonyms\"].str.contains(\"__\", na=False)] = np.NaN\n",
      "/mnt/efs/fs1/CSS_Termpaper/EntityNetwork/entitynetwork/validation_tool/relation_validation.py:36: SettingWithCopyWarning: \n",
      "A value is trying to be set on a copy of a slice from a DataFrame.\n",
      "Try using .loc[row_indexer,col_indexer] = value instead\n",
      "\n",
      "See the caveats in the documentation: https://pandas.pydata.org/pandas-docs/stable/user_guide/indexing.html#returning-a-view-versus-a-copy\n",
      "  article.relation_validation_data[\"valid\"] = 1\n",
      "/home/ubuntu/.local/lib/python3.6/site-packages/pandas/core/indexing.py:1765: SettingWithCopyWarning: \n",
      "A value is trying to be set on a copy of a slice from a DataFrame.\n",
      "Try using .loc[row_indexer,col_indexer] = value instead\n",
      "\n",
      "See the caveats in the documentation: https://pandas.pydata.org/pandas-docs/stable/user_guide/indexing.html#returning-a-view-versus-a-copy\n",
      "  isetter(loc, value)\n"
     ]
    },
    {
     "name": "stdout",
     "output_type": "stream",
     "text": [
      "Text took: 4.880223989486694 Num S / Coref: 9 / 8\n",
      "Current Article51\n"
     ]
    },
    {
     "name": "stderr",
     "output_type": "stream",
     "text": [
      "/mnt/efs/fs1/CSS_Termpaper/EntityNetwork/entitynetwork/relation_extraction/relation_extraction.py:60: RuntimeWarning: Mean of empty slice\n",
      "  sentiment = np.nanmean(prod)\n",
      "/mnt/efs/fs1/CSS_Termpaper/EntityNetwork/entitynetwork/validation_tool/relation_validation.py:36: SettingWithCopyWarning: \n",
      "A value is trying to be set on a copy of a slice from a DataFrame.\n",
      "Try using .loc[row_indexer,col_indexer] = value instead\n",
      "\n",
      "See the caveats in the documentation: https://pandas.pydata.org/pandas-docs/stable/user_guide/indexing.html#returning-a-view-versus-a-copy\n",
      "  article.relation_validation_data[\"valid\"] = 1\n",
      "/home/ubuntu/.local/lib/python3.6/site-packages/pandas/core/indexing.py:1765: SettingWithCopyWarning: \n",
      "A value is trying to be set on a copy of a slice from a DataFrame.\n",
      "Try using .loc[row_indexer,col_indexer] = value instead\n",
      "\n",
      "See the caveats in the documentation: https://pandas.pydata.org/pandas-docs/stable/user_guide/indexing.html#returning-a-view-versus-a-copy\n",
      "  isetter(loc, value)\n"
     ]
    },
    {
     "name": "stdout",
     "output_type": "stream",
     "text": [
      "Text took: 31.219420194625854 Num S / Coref: 76 / 76\n",
      "Current Article52\n"
     ]
    },
    {
     "name": "stderr",
     "output_type": "stream",
     "text": [
      "/mnt/efs/fs1/CSS_Termpaper/EntityNetwork/entitynetwork/relation_extraction/relation_extraction.py:60: RuntimeWarning: Mean of empty slice\n",
      "  sentiment = np.nanmean(prod)\n",
      "/mnt/efs/fs1/CSS_Termpaper/EntityNetwork/entitynetwork/validation_tool/entity_validation.py:61: SettingWithCopyWarning: \n",
      "A value is trying to be set on a copy of a slice from a DataFrame\n",
      "\n",
      "See the caveats in the documentation: https://pandas.pydata.org/pandas-docs/stable/user_guide/indexing.html#returning-a-view-versus-a-copy\n",
      "  self.merged_data[\"synonyms\"][~self.merged_data[\"synonyms\"].str.contains(\"__\", na=False)] = np.NaN\n",
      "/mnt/efs/fs1/CSS_Termpaper/EntityNetwork/entitynetwork/validation_tool/relation_validation.py:36: SettingWithCopyWarning: \n",
      "A value is trying to be set on a copy of a slice from a DataFrame.\n",
      "Try using .loc[row_indexer,col_indexer] = value instead\n",
      "\n",
      "See the caveats in the documentation: https://pandas.pydata.org/pandas-docs/stable/user_guide/indexing.html#returning-a-view-versus-a-copy\n",
      "  article.relation_validation_data[\"valid\"] = 1\n",
      "/home/ubuntu/.local/lib/python3.6/site-packages/pandas/core/indexing.py:1765: SettingWithCopyWarning: \n",
      "A value is trying to be set on a copy of a slice from a DataFrame.\n",
      "Try using .loc[row_indexer,col_indexer] = value instead\n",
      "\n",
      "See the caveats in the documentation: https://pandas.pydata.org/pandas-docs/stable/user_guide/indexing.html#returning-a-view-versus-a-copy\n",
      "  isetter(loc, value)\n"
     ]
    },
    {
     "name": "stdout",
     "output_type": "stream",
     "text": [
      "Text took: 2.703903913497925 Num S / Coref: 5 / 5\n",
      "Current Article53\n"
     ]
    },
    {
     "name": "stderr",
     "output_type": "stream",
     "text": [
      "/mnt/efs/fs1/CSS_Termpaper/EntityNetwork/entitynetwork/validation_tool/relation_validation.py:36: SettingWithCopyWarning: \n",
      "A value is trying to be set on a copy of a slice from a DataFrame.\n",
      "Try using .loc[row_indexer,col_indexer] = value instead\n",
      "\n",
      "See the caveats in the documentation: https://pandas.pydata.org/pandas-docs/stable/user_guide/indexing.html#returning-a-view-versus-a-copy\n",
      "  article.relation_validation_data[\"valid\"] = 1\n",
      "/home/ubuntu/.local/lib/python3.6/site-packages/pandas/core/indexing.py:1765: SettingWithCopyWarning: \n",
      "A value is trying to be set on a copy of a slice from a DataFrame.\n",
      "Try using .loc[row_indexer,col_indexer] = value instead\n",
      "\n",
      "See the caveats in the documentation: https://pandas.pydata.org/pandas-docs/stable/user_guide/indexing.html#returning-a-view-versus-a-copy\n",
      "  isetter(loc, value)\n"
     ]
    },
    {
     "name": "stdout",
     "output_type": "stream",
     "text": [
      "Text took: 1.6196212768554688 Num S / Coref: 4 / 4\n",
      "Current Article54\n"
     ]
    },
    {
     "name": "stderr",
     "output_type": "stream",
     "text": [
      "/mnt/efs/fs1/CSS_Termpaper/EntityNetwork/entitynetwork/relation_extraction/relation_extraction.py:60: RuntimeWarning: Mean of empty slice\n",
      "  sentiment = np.nanmean(prod)\n",
      "/mnt/efs/fs1/CSS_Termpaper/EntityNetwork/entitynetwork/validation_tool/relation_validation.py:36: SettingWithCopyWarning: \n",
      "A value is trying to be set on a copy of a slice from a DataFrame.\n",
      "Try using .loc[row_indexer,col_indexer] = value instead\n",
      "\n",
      "See the caveats in the documentation: https://pandas.pydata.org/pandas-docs/stable/user_guide/indexing.html#returning-a-view-versus-a-copy\n",
      "  article.relation_validation_data[\"valid\"] = 1\n",
      "/home/ubuntu/.local/lib/python3.6/site-packages/pandas/core/indexing.py:1765: SettingWithCopyWarning: \n",
      "A value is trying to be set on a copy of a slice from a DataFrame.\n",
      "Try using .loc[row_indexer,col_indexer] = value instead\n",
      "\n",
      "See the caveats in the documentation: https://pandas.pydata.org/pandas-docs/stable/user_guide/indexing.html#returning-a-view-versus-a-copy\n",
      "  isetter(loc, value)\n"
     ]
    },
    {
     "name": "stdout",
     "output_type": "stream",
     "text": [
      "Text took: 6.590565204620361 Num S / Coref: 14 / 14\n",
      "Current Article55\n"
     ]
    },
    {
     "name": "stderr",
     "output_type": "stream",
     "text": [
      "/mnt/efs/fs1/CSS_Termpaper/EntityNetwork/entitynetwork/relation_extraction/relation_extraction.py:60: RuntimeWarning: Mean of empty slice\n",
      "  sentiment = np.nanmean(prod)\n",
      "/mnt/efs/fs1/CSS_Termpaper/EntityNetwork/entitynetwork/validation_tool/relation_validation.py:36: SettingWithCopyWarning: \n",
      "A value is trying to be set on a copy of a slice from a DataFrame.\n",
      "Try using .loc[row_indexer,col_indexer] = value instead\n",
      "\n",
      "See the caveats in the documentation: https://pandas.pydata.org/pandas-docs/stable/user_guide/indexing.html#returning-a-view-versus-a-copy\n",
      "  article.relation_validation_data[\"valid\"] = 1\n",
      "/home/ubuntu/.local/lib/python3.6/site-packages/pandas/core/indexing.py:1765: SettingWithCopyWarning: \n",
      "A value is trying to be set on a copy of a slice from a DataFrame.\n",
      "Try using .loc[row_indexer,col_indexer] = value instead\n",
      "\n",
      "See the caveats in the documentation: https://pandas.pydata.org/pandas-docs/stable/user_guide/indexing.html#returning-a-view-versus-a-copy\n",
      "  isetter(loc, value)\n"
     ]
    },
    {
     "name": "stdout",
     "output_type": "stream",
     "text": [
      "Text took: 9.355129957199097 Num S / Coref: 20 / 20\n",
      "Current Article56\n"
     ]
    },
    {
     "name": "stderr",
     "output_type": "stream",
     "text": [
      "/mnt/efs/fs1/CSS_Termpaper/EntityNetwork/entitynetwork/relation_extraction/relation_extraction.py:60: RuntimeWarning: Mean of empty slice\n",
      "  sentiment = np.nanmean(prod)\n",
      "/mnt/efs/fs1/CSS_Termpaper/EntityNetwork/entitynetwork/validation_tool/entity_validation.py:61: SettingWithCopyWarning: \n",
      "A value is trying to be set on a copy of a slice from a DataFrame\n",
      "\n",
      "See the caveats in the documentation: https://pandas.pydata.org/pandas-docs/stable/user_guide/indexing.html#returning-a-view-versus-a-copy\n",
      "  self.merged_data[\"synonyms\"][~self.merged_data[\"synonyms\"].str.contains(\"__\", na=False)] = np.NaN\n",
      "/mnt/efs/fs1/CSS_Termpaper/EntityNetwork/entitynetwork/validation_tool/relation_validation.py:36: SettingWithCopyWarning: \n",
      "A value is trying to be set on a copy of a slice from a DataFrame.\n",
      "Try using .loc[row_indexer,col_indexer] = value instead\n",
      "\n",
      "See the caveats in the documentation: https://pandas.pydata.org/pandas-docs/stable/user_guide/indexing.html#returning-a-view-versus-a-copy\n",
      "  article.relation_validation_data[\"valid\"] = 1\n",
      "/home/ubuntu/.local/lib/python3.6/site-packages/pandas/core/indexing.py:1765: SettingWithCopyWarning: \n",
      "A value is trying to be set on a copy of a slice from a DataFrame.\n",
      "Try using .loc[row_indexer,col_indexer] = value instead\n",
      "\n",
      "See the caveats in the documentation: https://pandas.pydata.org/pandas-docs/stable/user_guide/indexing.html#returning-a-view-versus-a-copy\n",
      "  isetter(loc, value)\n"
     ]
    },
    {
     "name": "stdout",
     "output_type": "stream",
     "text": [
      "Text took: 1.918107032775879 Num S / Coref: 7 / 7\n",
      "Current Article57\n"
     ]
    },
    {
     "name": "stderr",
     "output_type": "stream",
     "text": [
      "/mnt/efs/fs1/CSS_Termpaper/EntityNetwork/entitynetwork/relation_extraction/relation_extraction.py:60: RuntimeWarning: Mean of empty slice\n",
      "  sentiment = np.nanmean(prod)\n",
      "/mnt/efs/fs1/CSS_Termpaper/EntityNetwork/entitynetwork/validation_tool/relation_validation.py:36: SettingWithCopyWarning: \n",
      "A value is trying to be set on a copy of a slice from a DataFrame.\n",
      "Try using .loc[row_indexer,col_indexer] = value instead\n",
      "\n",
      "See the caveats in the documentation: https://pandas.pydata.org/pandas-docs/stable/user_guide/indexing.html#returning-a-view-versus-a-copy\n",
      "  article.relation_validation_data[\"valid\"] = 1\n",
      "/home/ubuntu/.local/lib/python3.6/site-packages/pandas/core/indexing.py:1765: SettingWithCopyWarning: \n",
      "A value is trying to be set on a copy of a slice from a DataFrame.\n",
      "Try using .loc[row_indexer,col_indexer] = value instead\n",
      "\n",
      "See the caveats in the documentation: https://pandas.pydata.org/pandas-docs/stable/user_guide/indexing.html#returning-a-view-versus-a-copy\n",
      "  isetter(loc, value)\n"
     ]
    },
    {
     "name": "stdout",
     "output_type": "stream",
     "text": [
      "Text took: 9.467280387878418 Num S / Coref: 20 / 19\n",
      "Current Article58\n"
     ]
    },
    {
     "name": "stderr",
     "output_type": "stream",
     "text": [
      "/mnt/efs/fs1/CSS_Termpaper/EntityNetwork/entitynetwork/relation_extraction/relation_extraction.py:60: RuntimeWarning: Mean of empty slice\n",
      "  sentiment = np.nanmean(prod)\n",
      "/mnt/efs/fs1/CSS_Termpaper/EntityNetwork/entitynetwork/validation_tool/entity_validation.py:61: SettingWithCopyWarning: \n",
      "A value is trying to be set on a copy of a slice from a DataFrame\n",
      "\n",
      "See the caveats in the documentation: https://pandas.pydata.org/pandas-docs/stable/user_guide/indexing.html#returning-a-view-versus-a-copy\n",
      "  self.merged_data[\"synonyms\"][~self.merged_data[\"synonyms\"].str.contains(\"__\", na=False)] = np.NaN\n",
      "/mnt/efs/fs1/CSS_Termpaper/EntityNetwork/entitynetwork/validation_tool/relation_validation.py:36: SettingWithCopyWarning: \n",
      "A value is trying to be set on a copy of a slice from a DataFrame.\n",
      "Try using .loc[row_indexer,col_indexer] = value instead\n",
      "\n",
      "See the caveats in the documentation: https://pandas.pydata.org/pandas-docs/stable/user_guide/indexing.html#returning-a-view-versus-a-copy\n",
      "  article.relation_validation_data[\"valid\"] = 1\n",
      "/home/ubuntu/.local/lib/python3.6/site-packages/pandas/core/indexing.py:1765: SettingWithCopyWarning: \n",
      "A value is trying to be set on a copy of a slice from a DataFrame.\n",
      "Try using .loc[row_indexer,col_indexer] = value instead\n",
      "\n",
      "See the caveats in the documentation: https://pandas.pydata.org/pandas-docs/stable/user_guide/indexing.html#returning-a-view-versus-a-copy\n",
      "  isetter(loc, value)\n"
     ]
    },
    {
     "name": "stdout",
     "output_type": "stream",
     "text": [
      "Text took: 2.1644515991210938 Num S / Coref: 5 / 5\n",
      "Current Article59\n"
     ]
    },
    {
     "name": "stderr",
     "output_type": "stream",
     "text": [
      "/mnt/efs/fs1/CSS_Termpaper/EntityNetwork/entitynetwork/relation_extraction/relation_extraction.py:60: RuntimeWarning: Mean of empty slice\n",
      "  sentiment = np.nanmean(prod)\n",
      "/mnt/efs/fs1/CSS_Termpaper/EntityNetwork/entitynetwork/validation_tool/relation_validation.py:36: SettingWithCopyWarning: \n",
      "A value is trying to be set on a copy of a slice from a DataFrame.\n",
      "Try using .loc[row_indexer,col_indexer] = value instead\n",
      "\n",
      "See the caveats in the documentation: https://pandas.pydata.org/pandas-docs/stable/user_guide/indexing.html#returning-a-view-versus-a-copy\n",
      "  article.relation_validation_data[\"valid\"] = 1\n",
      "/home/ubuntu/.local/lib/python3.6/site-packages/pandas/core/indexing.py:1765: SettingWithCopyWarning: \n",
      "A value is trying to be set on a copy of a slice from a DataFrame.\n",
      "Try using .loc[row_indexer,col_indexer] = value instead\n",
      "\n",
      "See the caveats in the documentation: https://pandas.pydata.org/pandas-docs/stable/user_guide/indexing.html#returning-a-view-versus-a-copy\n",
      "  isetter(loc, value)\n"
     ]
    },
    {
     "name": "stdout",
     "output_type": "stream",
     "text": [
      "Text took: 6.577340841293335 Num S / Coref: 11 / 11\n",
      "Current Article60\n"
     ]
    },
    {
     "name": "stderr",
     "output_type": "stream",
     "text": [
      "/mnt/efs/fs1/CSS_Termpaper/EntityNetwork/entitynetwork/validation_tool/entity_validation.py:61: SettingWithCopyWarning: \n",
      "A value is trying to be set on a copy of a slice from a DataFrame\n",
      "\n",
      "See the caveats in the documentation: https://pandas.pydata.org/pandas-docs/stable/user_guide/indexing.html#returning-a-view-versus-a-copy\n",
      "  self.merged_data[\"synonyms\"][~self.merged_data[\"synonyms\"].str.contains(\"__\", na=False)] = np.NaN\n",
      "/mnt/efs/fs1/CSS_Termpaper/EntityNetwork/entitynetwork/validation_tool/relation_validation.py:36: SettingWithCopyWarning: \n",
      "A value is trying to be set on a copy of a slice from a DataFrame.\n",
      "Try using .loc[row_indexer,col_indexer] = value instead\n",
      "\n",
      "See the caveats in the documentation: https://pandas.pydata.org/pandas-docs/stable/user_guide/indexing.html#returning-a-view-versus-a-copy\n",
      "  article.relation_validation_data[\"valid\"] = 1\n",
      "/home/ubuntu/.local/lib/python3.6/site-packages/pandas/core/indexing.py:1765: SettingWithCopyWarning: \n",
      "A value is trying to be set on a copy of a slice from a DataFrame.\n",
      "Try using .loc[row_indexer,col_indexer] = value instead\n",
      "\n",
      "See the caveats in the documentation: https://pandas.pydata.org/pandas-docs/stable/user_guide/indexing.html#returning-a-view-versus-a-copy\n",
      "  isetter(loc, value)\n"
     ]
    },
    {
     "name": "stdout",
     "output_type": "stream",
     "text": [
      "Text took: 1.6450529098510742 Num S / Coref: 4 / 4\n",
      "Current Article61\n"
     ]
    },
    {
     "name": "stderr",
     "output_type": "stream",
     "text": [
      "/mnt/efs/fs1/CSS_Termpaper/EntityNetwork/entitynetwork/relation_extraction/relation_extraction.py:60: RuntimeWarning: Mean of empty slice\n",
      "  sentiment = np.nanmean(prod)\n",
      "/mnt/efs/fs1/CSS_Termpaper/EntityNetwork/entitynetwork/validation_tool/relation_validation.py:36: SettingWithCopyWarning: \n",
      "A value is trying to be set on a copy of a slice from a DataFrame.\n",
      "Try using .loc[row_indexer,col_indexer] = value instead\n",
      "\n",
      "See the caveats in the documentation: https://pandas.pydata.org/pandas-docs/stable/user_guide/indexing.html#returning-a-view-versus-a-copy\n",
      "  article.relation_validation_data[\"valid\"] = 1\n",
      "/home/ubuntu/.local/lib/python3.6/site-packages/pandas/core/indexing.py:1765: SettingWithCopyWarning: \n",
      "A value is trying to be set on a copy of a slice from a DataFrame.\n",
      "Try using .loc[row_indexer,col_indexer] = value instead\n",
      "\n",
      "See the caveats in the documentation: https://pandas.pydata.org/pandas-docs/stable/user_guide/indexing.html#returning-a-view-versus-a-copy\n",
      "  isetter(loc, value)\n"
     ]
    },
    {
     "name": "stdout",
     "output_type": "stream",
     "text": [
      "Text took: 3.369723320007324 Num S / Coref: 8 / 8\n",
      "Current Article62\n"
     ]
    },
    {
     "name": "stderr",
     "output_type": "stream",
     "text": [
      "/mnt/efs/fs1/CSS_Termpaper/EntityNetwork/entitynetwork/relation_extraction/relation_extraction.py:60: RuntimeWarning: Mean of empty slice\n",
      "  sentiment = np.nanmean(prod)\n",
      "/mnt/efs/fs1/CSS_Termpaper/EntityNetwork/entitynetwork/validation_tool/relation_validation.py:36: SettingWithCopyWarning: \n",
      "A value is trying to be set on a copy of a slice from a DataFrame.\n",
      "Try using .loc[row_indexer,col_indexer] = value instead\n",
      "\n",
      "See the caveats in the documentation: https://pandas.pydata.org/pandas-docs/stable/user_guide/indexing.html#returning-a-view-versus-a-copy\n",
      "  article.relation_validation_data[\"valid\"] = 1\n",
      "/home/ubuntu/.local/lib/python3.6/site-packages/pandas/core/indexing.py:1765: SettingWithCopyWarning: \n",
      "A value is trying to be set on a copy of a slice from a DataFrame.\n",
      "Try using .loc[row_indexer,col_indexer] = value instead\n",
      "\n",
      "See the caveats in the documentation: https://pandas.pydata.org/pandas-docs/stable/user_guide/indexing.html#returning-a-view-versus-a-copy\n",
      "  isetter(loc, value)\n"
     ]
    },
    {
     "name": "stdout",
     "output_type": "stream",
     "text": [
      "Text took: 5.5482354164123535 Num S / Coref: 11 / 11\n",
      "Current Article63\n"
     ]
    },
    {
     "name": "stderr",
     "output_type": "stream",
     "text": [
      "/mnt/efs/fs1/CSS_Termpaper/EntityNetwork/entitynetwork/relation_extraction/relation_extraction.py:60: RuntimeWarning: Mean of empty slice\n",
      "  sentiment = np.nanmean(prod)\n",
      "/mnt/efs/fs1/CSS_Termpaper/EntityNetwork/entitynetwork/validation_tool/relation_validation.py:36: SettingWithCopyWarning: \n",
      "A value is trying to be set on a copy of a slice from a DataFrame.\n",
      "Try using .loc[row_indexer,col_indexer] = value instead\n",
      "\n",
      "See the caveats in the documentation: https://pandas.pydata.org/pandas-docs/stable/user_guide/indexing.html#returning-a-view-versus-a-copy\n",
      "  article.relation_validation_data[\"valid\"] = 1\n",
      "/home/ubuntu/.local/lib/python3.6/site-packages/pandas/core/indexing.py:1765: SettingWithCopyWarning: \n",
      "A value is trying to be set on a copy of a slice from a DataFrame.\n",
      "Try using .loc[row_indexer,col_indexer] = value instead\n",
      "\n",
      "See the caveats in the documentation: https://pandas.pydata.org/pandas-docs/stable/user_guide/indexing.html#returning-a-view-versus-a-copy\n",
      "  isetter(loc, value)\n"
     ]
    },
    {
     "name": "stdout",
     "output_type": "stream",
     "text": [
      "Text took: 3.592758893966675 Num S / Coref: 8 / 8\n",
      "Current Article64\n"
     ]
    },
    {
     "name": "stderr",
     "output_type": "stream",
     "text": [
      "/mnt/efs/fs1/CSS_Termpaper/EntityNetwork/entitynetwork/relation_extraction/relation_extraction.py:60: RuntimeWarning: Mean of empty slice\n",
      "  sentiment = np.nanmean(prod)\n",
      "/mnt/efs/fs1/CSS_Termpaper/EntityNetwork/entitynetwork/validation_tool/relation_validation.py:36: SettingWithCopyWarning: \n",
      "A value is trying to be set on a copy of a slice from a DataFrame.\n",
      "Try using .loc[row_indexer,col_indexer] = value instead\n",
      "\n",
      "See the caveats in the documentation: https://pandas.pydata.org/pandas-docs/stable/user_guide/indexing.html#returning-a-view-versus-a-copy\n",
      "  article.relation_validation_data[\"valid\"] = 1\n",
      "/home/ubuntu/.local/lib/python3.6/site-packages/pandas/core/indexing.py:1765: SettingWithCopyWarning: \n",
      "A value is trying to be set on a copy of a slice from a DataFrame.\n",
      "Try using .loc[row_indexer,col_indexer] = value instead\n",
      "\n",
      "See the caveats in the documentation: https://pandas.pydata.org/pandas-docs/stable/user_guide/indexing.html#returning-a-view-versus-a-copy\n",
      "  isetter(loc, value)\n"
     ]
    },
    {
     "name": "stdout",
     "output_type": "stream",
     "text": [
      "Text took: 25.28048849105835 Num S / Coref: 59 / 59\n",
      "Current Article65\n"
     ]
    },
    {
     "name": "stderr",
     "output_type": "stream",
     "text": [
      "/mnt/efs/fs1/CSS_Termpaper/EntityNetwork/entitynetwork/relation_extraction/relation_extraction.py:60: RuntimeWarning: Mean of empty slice\n",
      "  sentiment = np.nanmean(prod)\n",
      "/mnt/efs/fs1/CSS_Termpaper/EntityNetwork/entitynetwork/validation_tool/relation_validation.py:36: SettingWithCopyWarning: \n",
      "A value is trying to be set on a copy of a slice from a DataFrame.\n",
      "Try using .loc[row_indexer,col_indexer] = value instead\n",
      "\n",
      "See the caveats in the documentation: https://pandas.pydata.org/pandas-docs/stable/user_guide/indexing.html#returning-a-view-versus-a-copy\n",
      "  article.relation_validation_data[\"valid\"] = 1\n",
      "/home/ubuntu/.local/lib/python3.6/site-packages/pandas/core/indexing.py:1765: SettingWithCopyWarning: \n",
      "A value is trying to be set on a copy of a slice from a DataFrame.\n",
      "Try using .loc[row_indexer,col_indexer] = value instead\n",
      "\n",
      "See the caveats in the documentation: https://pandas.pydata.org/pandas-docs/stable/user_guide/indexing.html#returning-a-view-versus-a-copy\n",
      "  isetter(loc, value)\n"
     ]
    },
    {
     "name": "stdout",
     "output_type": "stream",
     "text": [
      "Text took: 6.6658666133880615 Num S / Coref: 14 / 14\n",
      "Current Article66\n"
     ]
    },
    {
     "name": "stderr",
     "output_type": "stream",
     "text": [
      "/mnt/efs/fs1/CSS_Termpaper/EntityNetwork/entitynetwork/relation_extraction/relation_extraction.py:60: RuntimeWarning: Mean of empty slice\n",
      "  sentiment = np.nanmean(prod)\n",
      "/mnt/efs/fs1/CSS_Termpaper/EntityNetwork/entitynetwork/validation_tool/relation_validation.py:36: SettingWithCopyWarning: \n",
      "A value is trying to be set on a copy of a slice from a DataFrame.\n",
      "Try using .loc[row_indexer,col_indexer] = value instead\n",
      "\n",
      "See the caveats in the documentation: https://pandas.pydata.org/pandas-docs/stable/user_guide/indexing.html#returning-a-view-versus-a-copy\n",
      "  article.relation_validation_data[\"valid\"] = 1\n",
      "/home/ubuntu/.local/lib/python3.6/site-packages/pandas/core/indexing.py:1765: SettingWithCopyWarning: \n",
      "A value is trying to be set on a copy of a slice from a DataFrame.\n",
      "Try using .loc[row_indexer,col_indexer] = value instead\n",
      "\n",
      "See the caveats in the documentation: https://pandas.pydata.org/pandas-docs/stable/user_guide/indexing.html#returning-a-view-versus-a-copy\n",
      "  isetter(loc, value)\n",
      "/mnt/efs/fs1/CSS_Termpaper/EntityNetwork/entitynetwork/validation_tool/relation_validation.py:110: RuntimeWarning: invalid value encountered in double_scalars\n",
      "  self.f1 = 2 * ((self.precision * self.recall) / (self.precision + self.recall))\n",
      "/mnt/efs/fs1/CSS_Termpaper/EntityNetwork/entitynetwork/validation_tool/relation_validation.py:113: RuntimeWarning: invalid value encountered in double_scalars\n",
      "  self.f1_corrected = 2 * ((self.precision * self.recall_corrected) / (self.precision + self.recall_corrected))\n"
     ]
    },
    {
     "name": "stdout",
     "output_type": "stream",
     "text": [
      "Text took: 3.6234169006347656 Num S / Coref: 10 / 10\n",
      "Current Article67\n"
     ]
    },
    {
     "name": "stderr",
     "output_type": "stream",
     "text": [
      "/mnt/efs/fs1/CSS_Termpaper/EntityNetwork/entitynetwork/relation_extraction/relation_extraction.py:60: RuntimeWarning: Mean of empty slice\n",
      "  sentiment = np.nanmean(prod)\n",
      "/mnt/efs/fs1/CSS_Termpaper/EntityNetwork/entitynetwork/validation_tool/relation_validation.py:36: SettingWithCopyWarning: \n",
      "A value is trying to be set on a copy of a slice from a DataFrame.\n",
      "Try using .loc[row_indexer,col_indexer] = value instead\n",
      "\n",
      "See the caveats in the documentation: https://pandas.pydata.org/pandas-docs/stable/user_guide/indexing.html#returning-a-view-versus-a-copy\n",
      "  article.relation_validation_data[\"valid\"] = 1\n",
      "/home/ubuntu/.local/lib/python3.6/site-packages/pandas/core/indexing.py:1765: SettingWithCopyWarning: \n",
      "A value is trying to be set on a copy of a slice from a DataFrame.\n",
      "Try using .loc[row_indexer,col_indexer] = value instead\n",
      "\n",
      "See the caveats in the documentation: https://pandas.pydata.org/pandas-docs/stable/user_guide/indexing.html#returning-a-view-versus-a-copy\n",
      "  isetter(loc, value)\n"
     ]
    },
    {
     "name": "stdout",
     "output_type": "stream",
     "text": [
      "Text took: 10.989241123199463 Num S / Coref: 14 / 14\n",
      "Current Article68\n"
     ]
    },
    {
     "name": "stderr",
     "output_type": "stream",
     "text": [
      "/mnt/efs/fs1/CSS_Termpaper/EntityNetwork/entitynetwork/relation_extraction/relation_extraction.py:60: RuntimeWarning: Mean of empty slice\n",
      "  sentiment = np.nanmean(prod)\n",
      "/mnt/efs/fs1/CSS_Termpaper/EntityNetwork/entitynetwork/validation_tool/relation_validation.py:36: SettingWithCopyWarning: \n",
      "A value is trying to be set on a copy of a slice from a DataFrame.\n",
      "Try using .loc[row_indexer,col_indexer] = value instead\n",
      "\n",
      "See the caveats in the documentation: https://pandas.pydata.org/pandas-docs/stable/user_guide/indexing.html#returning-a-view-versus-a-copy\n",
      "  article.relation_validation_data[\"valid\"] = 1\n",
      "/home/ubuntu/.local/lib/python3.6/site-packages/pandas/core/indexing.py:1765: SettingWithCopyWarning: \n",
      "A value is trying to be set on a copy of a slice from a DataFrame.\n",
      "Try using .loc[row_indexer,col_indexer] = value instead\n",
      "\n",
      "See the caveats in the documentation: https://pandas.pydata.org/pandas-docs/stable/user_guide/indexing.html#returning-a-view-versus-a-copy\n",
      "  isetter(loc, value)\n"
     ]
    },
    {
     "name": "stdout",
     "output_type": "stream",
     "text": [
      "Text took: 9.964350938796997 Num S / Coref: 24 / 24\n",
      "Current Article69\n"
     ]
    },
    {
     "name": "stderr",
     "output_type": "stream",
     "text": [
      "/mnt/efs/fs1/CSS_Termpaper/EntityNetwork/entitynetwork/relation_extraction/relation_extraction.py:60: RuntimeWarning: Mean of empty slice\n",
      "  sentiment = np.nanmean(prod)\n",
      "/mnt/efs/fs1/CSS_Termpaper/EntityNetwork/entitynetwork/validation_tool/relation_validation.py:36: SettingWithCopyWarning: \n",
      "A value is trying to be set on a copy of a slice from a DataFrame.\n",
      "Try using .loc[row_indexer,col_indexer] = value instead\n",
      "\n",
      "See the caveats in the documentation: https://pandas.pydata.org/pandas-docs/stable/user_guide/indexing.html#returning-a-view-versus-a-copy\n",
      "  article.relation_validation_data[\"valid\"] = 1\n",
      "/home/ubuntu/.local/lib/python3.6/site-packages/pandas/core/indexing.py:1765: SettingWithCopyWarning: \n",
      "A value is trying to be set on a copy of a slice from a DataFrame.\n",
      "Try using .loc[row_indexer,col_indexer] = value instead\n",
      "\n",
      "See the caveats in the documentation: https://pandas.pydata.org/pandas-docs/stable/user_guide/indexing.html#returning-a-view-versus-a-copy\n",
      "  isetter(loc, value)\n"
     ]
    },
    {
     "name": "stdout",
     "output_type": "stream",
     "text": [
      "Text took: 11.989762544631958 Num S / Coref: 28 / 28\n",
      "Current Article70\n"
     ]
    },
    {
     "name": "stderr",
     "output_type": "stream",
     "text": [
      "/mnt/efs/fs1/CSS_Termpaper/EntityNetwork/entitynetwork/relation_extraction/relation_extraction.py:60: RuntimeWarning: Mean of empty slice\n",
      "  sentiment = np.nanmean(prod)\n",
      "/mnt/efs/fs1/CSS_Termpaper/EntityNetwork/entitynetwork/validation_tool/relation_validation.py:36: SettingWithCopyWarning: \n",
      "A value is trying to be set on a copy of a slice from a DataFrame.\n",
      "Try using .loc[row_indexer,col_indexer] = value instead\n",
      "\n",
      "See the caveats in the documentation: https://pandas.pydata.org/pandas-docs/stable/user_guide/indexing.html#returning-a-view-versus-a-copy\n",
      "  article.relation_validation_data[\"valid\"] = 1\n",
      "/home/ubuntu/.local/lib/python3.6/site-packages/pandas/core/indexing.py:1765: SettingWithCopyWarning: \n",
      "A value is trying to be set on a copy of a slice from a DataFrame.\n",
      "Try using .loc[row_indexer,col_indexer] = value instead\n",
      "\n",
      "See the caveats in the documentation: https://pandas.pydata.org/pandas-docs/stable/user_guide/indexing.html#returning-a-view-versus-a-copy\n",
      "  isetter(loc, value)\n"
     ]
    },
    {
     "name": "stdout",
     "output_type": "stream",
     "text": [
      "Text took: 6.051731824874878 Num S / Coref: 13 / 13\n",
      "Current Article71\n"
     ]
    },
    {
     "name": "stderr",
     "output_type": "stream",
     "text": [
      "/mnt/efs/fs1/CSS_Termpaper/EntityNetwork/entitynetwork/relation_extraction/relation_extraction.py:60: RuntimeWarning: Mean of empty slice\n",
      "  sentiment = np.nanmean(prod)\n",
      "/mnt/efs/fs1/CSS_Termpaper/EntityNetwork/entitynetwork/validation_tool/relation_validation.py:36: SettingWithCopyWarning: \n",
      "A value is trying to be set on a copy of a slice from a DataFrame.\n",
      "Try using .loc[row_indexer,col_indexer] = value instead\n",
      "\n",
      "See the caveats in the documentation: https://pandas.pydata.org/pandas-docs/stable/user_guide/indexing.html#returning-a-view-versus-a-copy\n",
      "  article.relation_validation_data[\"valid\"] = 1\n",
      "/home/ubuntu/.local/lib/python3.6/site-packages/pandas/core/indexing.py:1765: SettingWithCopyWarning: \n",
      "A value is trying to be set on a copy of a slice from a DataFrame.\n",
      "Try using .loc[row_indexer,col_indexer] = value instead\n",
      "\n",
      "See the caveats in the documentation: https://pandas.pydata.org/pandas-docs/stable/user_guide/indexing.html#returning-a-view-versus-a-copy\n",
      "  isetter(loc, value)\n"
     ]
    },
    {
     "name": "stdout",
     "output_type": "stream",
     "text": [
      "Text took: 10.463674306869507 Num S / Coref: 21 / 22\n",
      "Current Article72\n"
     ]
    },
    {
     "name": "stderr",
     "output_type": "stream",
     "text": [
      "/mnt/efs/fs1/CSS_Termpaper/EntityNetwork/entitynetwork/relation_extraction/relation_extraction.py:60: RuntimeWarning: Mean of empty slice\n",
      "  sentiment = np.nanmean(prod)\n",
      "/mnt/efs/fs1/CSS_Termpaper/EntityNetwork/entitynetwork/validation_tool/entity_validation.py:61: SettingWithCopyWarning: \n",
      "A value is trying to be set on a copy of a slice from a DataFrame\n",
      "\n",
      "See the caveats in the documentation: https://pandas.pydata.org/pandas-docs/stable/user_guide/indexing.html#returning-a-view-versus-a-copy\n",
      "  self.merged_data[\"synonyms\"][~self.merged_data[\"synonyms\"].str.contains(\"__\", na=False)] = np.NaN\n",
      "/mnt/efs/fs1/CSS_Termpaper/EntityNetwork/entitynetwork/validation_tool/relation_validation.py:36: SettingWithCopyWarning: \n",
      "A value is trying to be set on a copy of a slice from a DataFrame.\n",
      "Try using .loc[row_indexer,col_indexer] = value instead\n",
      "\n",
      "See the caveats in the documentation: https://pandas.pydata.org/pandas-docs/stable/user_guide/indexing.html#returning-a-view-versus-a-copy\n",
      "  article.relation_validation_data[\"valid\"] = 1\n",
      "/home/ubuntu/.local/lib/python3.6/site-packages/pandas/core/indexing.py:1765: SettingWithCopyWarning: \n",
      "A value is trying to be set on a copy of a slice from a DataFrame.\n",
      "Try using .loc[row_indexer,col_indexer] = value instead\n",
      "\n",
      "See the caveats in the documentation: https://pandas.pydata.org/pandas-docs/stable/user_guide/indexing.html#returning-a-view-versus-a-copy\n",
      "  isetter(loc, value)\n"
     ]
    },
    {
     "name": "stdout",
     "output_type": "stream",
     "text": [
      "Text took: 12.5193030834198 Num S / Coref: 28 / 28\n",
      "Current Article73\n"
     ]
    },
    {
     "name": "stderr",
     "output_type": "stream",
     "text": [
      "/mnt/efs/fs1/CSS_Termpaper/EntityNetwork/entitynetwork/relation_extraction/relation_extraction.py:60: RuntimeWarning: Mean of empty slice\n",
      "  sentiment = np.nanmean(prod)\n",
      "/mnt/efs/fs1/CSS_Termpaper/EntityNetwork/entitynetwork/validation_tool/relation_validation.py:36: SettingWithCopyWarning: \n",
      "A value is trying to be set on a copy of a slice from a DataFrame.\n",
      "Try using .loc[row_indexer,col_indexer] = value instead\n",
      "\n",
      "See the caveats in the documentation: https://pandas.pydata.org/pandas-docs/stable/user_guide/indexing.html#returning-a-view-versus-a-copy\n",
      "  article.relation_validation_data[\"valid\"] = 1\n",
      "/home/ubuntu/.local/lib/python3.6/site-packages/pandas/core/indexing.py:1765: SettingWithCopyWarning: \n",
      "A value is trying to be set on a copy of a slice from a DataFrame.\n",
      "Try using .loc[row_indexer,col_indexer] = value instead\n",
      "\n",
      "See the caveats in the documentation: https://pandas.pydata.org/pandas-docs/stable/user_guide/indexing.html#returning-a-view-versus-a-copy\n",
      "  isetter(loc, value)\n"
     ]
    },
    {
     "name": "stdout",
     "output_type": "stream",
     "text": [
      "Text took: 10.735921621322632 Num S / Coref: 22 / 21\n",
      "Current Article74\n"
     ]
    },
    {
     "name": "stderr",
     "output_type": "stream",
     "text": [
      "/mnt/efs/fs1/CSS_Termpaper/EntityNetwork/entitynetwork/relation_extraction/relation_extraction.py:60: RuntimeWarning: Mean of empty slice\n",
      "  sentiment = np.nanmean(prod)\n",
      "/mnt/efs/fs1/CSS_Termpaper/EntityNetwork/entitynetwork/validation_tool/relation_validation.py:36: SettingWithCopyWarning: \n",
      "A value is trying to be set on a copy of a slice from a DataFrame.\n",
      "Try using .loc[row_indexer,col_indexer] = value instead\n",
      "\n",
      "See the caveats in the documentation: https://pandas.pydata.org/pandas-docs/stable/user_guide/indexing.html#returning-a-view-versus-a-copy\n",
      "  article.relation_validation_data[\"valid\"] = 1\n",
      "/home/ubuntu/.local/lib/python3.6/site-packages/pandas/core/indexing.py:1765: SettingWithCopyWarning: \n",
      "A value is trying to be set on a copy of a slice from a DataFrame.\n",
      "Try using .loc[row_indexer,col_indexer] = value instead\n",
      "\n",
      "See the caveats in the documentation: https://pandas.pydata.org/pandas-docs/stable/user_guide/indexing.html#returning-a-view-versus-a-copy\n",
      "  isetter(loc, value)\n"
     ]
    },
    {
     "name": "stdout",
     "output_type": "stream",
     "text": [
      "Text took: 12.558948755264282 Num S / Coref: 19 / 19\n",
      "Current Article75\n"
     ]
    },
    {
     "name": "stderr",
     "output_type": "stream",
     "text": [
      "/mnt/efs/fs1/CSS_Termpaper/EntityNetwork/entitynetwork/relation_extraction/relation_extraction.py:60: RuntimeWarning: Mean of empty slice\n",
      "  sentiment = np.nanmean(prod)\n",
      "/mnt/efs/fs1/CSS_Termpaper/EntityNetwork/entitynetwork/validation_tool/relation_validation.py:36: SettingWithCopyWarning: \n",
      "A value is trying to be set on a copy of a slice from a DataFrame.\n",
      "Try using .loc[row_indexer,col_indexer] = value instead\n",
      "\n",
      "See the caveats in the documentation: https://pandas.pydata.org/pandas-docs/stable/user_guide/indexing.html#returning-a-view-versus-a-copy\n",
      "  article.relation_validation_data[\"valid\"] = 1\n",
      "/home/ubuntu/.local/lib/python3.6/site-packages/pandas/core/indexing.py:1765: SettingWithCopyWarning: \n",
      "A value is trying to be set on a copy of a slice from a DataFrame.\n",
      "Try using .loc[row_indexer,col_indexer] = value instead\n",
      "\n",
      "See the caveats in the documentation: https://pandas.pydata.org/pandas-docs/stable/user_guide/indexing.html#returning-a-view-versus-a-copy\n",
      "  isetter(loc, value)\n"
     ]
    },
    {
     "name": "stdout",
     "output_type": "stream",
     "text": [
      "Text took: 4.1421802043914795 Num S / Coref: 7 / 7\n",
      "Current Article76\n"
     ]
    },
    {
     "name": "stderr",
     "output_type": "stream",
     "text": [
      "/mnt/efs/fs1/CSS_Termpaper/EntityNetwork/entitynetwork/validation_tool/relation_validation.py:36: SettingWithCopyWarning: \n",
      "A value is trying to be set on a copy of a slice from a DataFrame.\n",
      "Try using .loc[row_indexer,col_indexer] = value instead\n",
      "\n",
      "See the caveats in the documentation: https://pandas.pydata.org/pandas-docs/stable/user_guide/indexing.html#returning-a-view-versus-a-copy\n",
      "  article.relation_validation_data[\"valid\"] = 1\n",
      "/home/ubuntu/.local/lib/python3.6/site-packages/pandas/core/indexing.py:1765: SettingWithCopyWarning: \n",
      "A value is trying to be set on a copy of a slice from a DataFrame.\n",
      "Try using .loc[row_indexer,col_indexer] = value instead\n",
      "\n",
      "See the caveats in the documentation: https://pandas.pydata.org/pandas-docs/stable/user_guide/indexing.html#returning-a-view-versus-a-copy\n",
      "  isetter(loc, value)\n"
     ]
    },
    {
     "name": "stdout",
     "output_type": "stream",
     "text": [
      "Text took: 2.4413185119628906 Num S / Coref: 5 / 5\n",
      "Current Article77\n"
     ]
    },
    {
     "name": "stderr",
     "output_type": "stream",
     "text": [
      "/mnt/efs/fs1/CSS_Termpaper/EntityNetwork/entitynetwork/relation_extraction/relation_extraction.py:60: RuntimeWarning: Mean of empty slice\n",
      "  sentiment = np.nanmean(prod)\n",
      "/mnt/efs/fs1/CSS_Termpaper/EntityNetwork/entitynetwork/validation_tool/entity_validation.py:61: SettingWithCopyWarning: \n",
      "A value is trying to be set on a copy of a slice from a DataFrame\n",
      "\n",
      "See the caveats in the documentation: https://pandas.pydata.org/pandas-docs/stable/user_guide/indexing.html#returning-a-view-versus-a-copy\n",
      "  self.merged_data[\"synonyms\"][~self.merged_data[\"synonyms\"].str.contains(\"__\", na=False)] = np.NaN\n",
      "/mnt/efs/fs1/CSS_Termpaper/EntityNetwork/entitynetwork/validation_tool/relation_validation.py:36: SettingWithCopyWarning: \n",
      "A value is trying to be set on a copy of a slice from a DataFrame.\n",
      "Try using .loc[row_indexer,col_indexer] = value instead\n",
      "\n",
      "See the caveats in the documentation: https://pandas.pydata.org/pandas-docs/stable/user_guide/indexing.html#returning-a-view-versus-a-copy\n",
      "  article.relation_validation_data[\"valid\"] = 1\n",
      "/home/ubuntu/.local/lib/python3.6/site-packages/pandas/core/indexing.py:1765: SettingWithCopyWarning: \n",
      "A value is trying to be set on a copy of a slice from a DataFrame.\n",
      "Try using .loc[row_indexer,col_indexer] = value instead\n",
      "\n",
      "See the caveats in the documentation: https://pandas.pydata.org/pandas-docs/stable/user_guide/indexing.html#returning-a-view-versus-a-copy\n",
      "  isetter(loc, value)\n"
     ]
    },
    {
     "name": "stdout",
     "output_type": "stream",
     "text": [
      "Text took: 4.670812129974365 Num S / Coref: 8 / 9\n",
      "Current Article78\n"
     ]
    },
    {
     "name": "stderr",
     "output_type": "stream",
     "text": [
      "/mnt/efs/fs1/CSS_Termpaper/EntityNetwork/entitynetwork/relation_extraction/relation_extraction.py:60: RuntimeWarning: Mean of empty slice\n",
      "  sentiment = np.nanmean(prod)\n",
      "/mnt/efs/fs1/CSS_Termpaper/EntityNetwork/entitynetwork/validation_tool/relation_validation.py:36: SettingWithCopyWarning: \n",
      "A value is trying to be set on a copy of a slice from a DataFrame.\n",
      "Try using .loc[row_indexer,col_indexer] = value instead\n",
      "\n",
      "See the caveats in the documentation: https://pandas.pydata.org/pandas-docs/stable/user_guide/indexing.html#returning-a-view-versus-a-copy\n",
      "  article.relation_validation_data[\"valid\"] = 1\n",
      "/home/ubuntu/.local/lib/python3.6/site-packages/pandas/core/indexing.py:1765: SettingWithCopyWarning: \n",
      "A value is trying to be set on a copy of a slice from a DataFrame.\n",
      "Try using .loc[row_indexer,col_indexer] = value instead\n",
      "\n",
      "See the caveats in the documentation: https://pandas.pydata.org/pandas-docs/stable/user_guide/indexing.html#returning-a-view-versus-a-copy\n",
      "  isetter(loc, value)\n"
     ]
    },
    {
     "name": "stdout",
     "output_type": "stream",
     "text": [
      "Text took: 6.04061222076416 Num S / Coref: 15 / 15\n",
      "Current Article79\n"
     ]
    },
    {
     "name": "stderr",
     "output_type": "stream",
     "text": [
      "/mnt/efs/fs1/CSS_Termpaper/EntityNetwork/entitynetwork/relation_extraction/relation_extraction.py:60: RuntimeWarning: Mean of empty slice\n",
      "  sentiment = np.nanmean(prod)\n",
      "/mnt/efs/fs1/CSS_Termpaper/EntityNetwork/entitynetwork/validation_tool/entity_validation.py:61: SettingWithCopyWarning: \n",
      "A value is trying to be set on a copy of a slice from a DataFrame\n",
      "\n",
      "See the caveats in the documentation: https://pandas.pydata.org/pandas-docs/stable/user_guide/indexing.html#returning-a-view-versus-a-copy\n",
      "  self.merged_data[\"synonyms\"][~self.merged_data[\"synonyms\"].str.contains(\"__\", na=False)] = np.NaN\n",
      "/mnt/efs/fs1/CSS_Termpaper/EntityNetwork/entitynetwork/validation_tool/relation_validation.py:36: SettingWithCopyWarning: \n",
      "A value is trying to be set on a copy of a slice from a DataFrame.\n",
      "Try using .loc[row_indexer,col_indexer] = value instead\n",
      "\n",
      "See the caveats in the documentation: https://pandas.pydata.org/pandas-docs/stable/user_guide/indexing.html#returning-a-view-versus-a-copy\n",
      "  article.relation_validation_data[\"valid\"] = 1\n",
      "/home/ubuntu/.local/lib/python3.6/site-packages/pandas/core/indexing.py:1765: SettingWithCopyWarning: \n",
      "A value is trying to be set on a copy of a slice from a DataFrame.\n",
      "Try using .loc[row_indexer,col_indexer] = value instead\n",
      "\n",
      "See the caveats in the documentation: https://pandas.pydata.org/pandas-docs/stable/user_guide/indexing.html#returning-a-view-versus-a-copy\n",
      "  isetter(loc, value)\n"
     ]
    },
    {
     "name": "stdout",
     "output_type": "stream",
     "text": [
      "Text took: 9.120155096054077 Num S / Coref: 16 / 16\n",
      "Current Article80\n"
     ]
    },
    {
     "name": "stderr",
     "output_type": "stream",
     "text": [
      "/mnt/efs/fs1/CSS_Termpaper/EntityNetwork/entitynetwork/relation_extraction/relation_extraction.py:60: RuntimeWarning: Mean of empty slice\n",
      "  sentiment = np.nanmean(prod)\n",
      "/mnt/efs/fs1/CSS_Termpaper/EntityNetwork/entitynetwork/validation_tool/entity_validation.py:61: SettingWithCopyWarning: \n",
      "A value is trying to be set on a copy of a slice from a DataFrame\n",
      "\n",
      "See the caveats in the documentation: https://pandas.pydata.org/pandas-docs/stable/user_guide/indexing.html#returning-a-view-versus-a-copy\n",
      "  self.merged_data[\"synonyms\"][~self.merged_data[\"synonyms\"].str.contains(\"__\", na=False)] = np.NaN\n"
     ]
    },
    {
     "name": "stdout",
     "output_type": "stream",
     "text": [
      "Text took: 8.465901613235474 Num S / Coref: 20 / 20\n",
      "Current Article81\n"
     ]
    },
    {
     "name": "stderr",
     "output_type": "stream",
     "text": [
      "/mnt/efs/fs1/CSS_Termpaper/EntityNetwork/entitynetwork/relation_extraction/relation_extraction.py:60: RuntimeWarning: Mean of empty slice\n",
      "  sentiment = np.nanmean(prod)\n",
      "/mnt/efs/fs1/CSS_Termpaper/EntityNetwork/entitynetwork/validation_tool/entity_validation.py:61: SettingWithCopyWarning: \n",
      "A value is trying to be set on a copy of a slice from a DataFrame\n",
      "\n",
      "See the caveats in the documentation: https://pandas.pydata.org/pandas-docs/stable/user_guide/indexing.html#returning-a-view-versus-a-copy\n",
      "  self.merged_data[\"synonyms\"][~self.merged_data[\"synonyms\"].str.contains(\"__\", na=False)] = np.NaN\n",
      "/mnt/efs/fs1/CSS_Termpaper/EntityNetwork/entitynetwork/validation_tool/relation_validation.py:36: SettingWithCopyWarning: \n",
      "A value is trying to be set on a copy of a slice from a DataFrame.\n",
      "Try using .loc[row_indexer,col_indexer] = value instead\n",
      "\n",
      "See the caveats in the documentation: https://pandas.pydata.org/pandas-docs/stable/user_guide/indexing.html#returning-a-view-versus-a-copy\n",
      "  article.relation_validation_data[\"valid\"] = 1\n",
      "/home/ubuntu/.local/lib/python3.6/site-packages/pandas/core/indexing.py:1765: SettingWithCopyWarning: \n",
      "A value is trying to be set on a copy of a slice from a DataFrame.\n",
      "Try using .loc[row_indexer,col_indexer] = value instead\n",
      "\n",
      "See the caveats in the documentation: https://pandas.pydata.org/pandas-docs/stable/user_guide/indexing.html#returning-a-view-versus-a-copy\n",
      "  isetter(loc, value)\n"
     ]
    },
    {
     "name": "stdout",
     "output_type": "stream",
     "text": [
      "Text took: 5.877767086029053 Num S / Coref: 12 / 12\n",
      "Current Article82\n"
     ]
    },
    {
     "name": "stderr",
     "output_type": "stream",
     "text": [
      "/mnt/efs/fs1/CSS_Termpaper/EntityNetwork/entitynetwork/relation_extraction/relation_extraction.py:60: RuntimeWarning: Mean of empty slice\n",
      "  sentiment = np.nanmean(prod)\n",
      "/mnt/efs/fs1/CSS_Termpaper/EntityNetwork/entitynetwork/validation_tool/entity_validation.py:61: SettingWithCopyWarning: \n",
      "A value is trying to be set on a copy of a slice from a DataFrame\n",
      "\n",
      "See the caveats in the documentation: https://pandas.pydata.org/pandas-docs/stable/user_guide/indexing.html#returning-a-view-versus-a-copy\n",
      "  self.merged_data[\"synonyms\"][~self.merged_data[\"synonyms\"].str.contains(\"__\", na=False)] = np.NaN\n",
      "/mnt/efs/fs1/CSS_Termpaper/EntityNetwork/entitynetwork/validation_tool/relation_validation.py:36: SettingWithCopyWarning: \n",
      "A value is trying to be set on a copy of a slice from a DataFrame.\n",
      "Try using .loc[row_indexer,col_indexer] = value instead\n",
      "\n",
      "See the caveats in the documentation: https://pandas.pydata.org/pandas-docs/stable/user_guide/indexing.html#returning-a-view-versus-a-copy\n",
      "  article.relation_validation_data[\"valid\"] = 1\n",
      "/home/ubuntu/.local/lib/python3.6/site-packages/pandas/core/indexing.py:1765: SettingWithCopyWarning: \n",
      "A value is trying to be set on a copy of a slice from a DataFrame.\n",
      "Try using .loc[row_indexer,col_indexer] = value instead\n",
      "\n",
      "See the caveats in the documentation: https://pandas.pydata.org/pandas-docs/stable/user_guide/indexing.html#returning-a-view-versus-a-copy\n",
      "  isetter(loc, value)\n"
     ]
    },
    {
     "name": "stdout",
     "output_type": "stream",
     "text": [
      "Text took: 8.824777603149414 Num S / Coref: 21 / 21\n",
      "Current Article83\n"
     ]
    },
    {
     "name": "stderr",
     "output_type": "stream",
     "text": [
      "/mnt/efs/fs1/CSS_Termpaper/EntityNetwork/entitynetwork/relation_extraction/relation_extraction.py:60: RuntimeWarning: Mean of empty slice\n",
      "  sentiment = np.nanmean(prod)\n",
      "/mnt/efs/fs1/CSS_Termpaper/EntityNetwork/entitynetwork/validation_tool/relation_validation.py:36: SettingWithCopyWarning: \n",
      "A value is trying to be set on a copy of a slice from a DataFrame.\n",
      "Try using .loc[row_indexer,col_indexer] = value instead\n",
      "\n",
      "See the caveats in the documentation: https://pandas.pydata.org/pandas-docs/stable/user_guide/indexing.html#returning-a-view-versus-a-copy\n",
      "  article.relation_validation_data[\"valid\"] = 1\n",
      "/home/ubuntu/.local/lib/python3.6/site-packages/pandas/core/indexing.py:1765: SettingWithCopyWarning: \n",
      "A value is trying to be set on a copy of a slice from a DataFrame.\n",
      "Try using .loc[row_indexer,col_indexer] = value instead\n",
      "\n",
      "See the caveats in the documentation: https://pandas.pydata.org/pandas-docs/stable/user_guide/indexing.html#returning-a-view-versus-a-copy\n",
      "  isetter(loc, value)\n"
     ]
    },
    {
     "name": "stdout",
     "output_type": "stream",
     "text": [
      "Text took: 10.630986213684082 Num S / Coref: 25 / 25\n",
      "Current Article84\n"
     ]
    },
    {
     "name": "stderr",
     "output_type": "stream",
     "text": [
      "/mnt/efs/fs1/CSS_Termpaper/EntityNetwork/entitynetwork/relation_extraction/relation_extraction.py:60: RuntimeWarning: Mean of empty slice\n",
      "  sentiment = np.nanmean(prod)\n",
      "/mnt/efs/fs1/CSS_Termpaper/EntityNetwork/entitynetwork/validation_tool/relation_validation.py:36: SettingWithCopyWarning: \n",
      "A value is trying to be set on a copy of a slice from a DataFrame.\n",
      "Try using .loc[row_indexer,col_indexer] = value instead\n",
      "\n",
      "See the caveats in the documentation: https://pandas.pydata.org/pandas-docs/stable/user_guide/indexing.html#returning-a-view-versus-a-copy\n",
      "  article.relation_validation_data[\"valid\"] = 1\n",
      "/home/ubuntu/.local/lib/python3.6/site-packages/pandas/core/indexing.py:1765: SettingWithCopyWarning: \n",
      "A value is trying to be set on a copy of a slice from a DataFrame.\n",
      "Try using .loc[row_indexer,col_indexer] = value instead\n",
      "\n",
      "See the caveats in the documentation: https://pandas.pydata.org/pandas-docs/stable/user_guide/indexing.html#returning-a-view-versus-a-copy\n",
      "  isetter(loc, value)\n"
     ]
    },
    {
     "name": "stdout",
     "output_type": "stream",
     "text": [
      "Text took: 3.742518901824951 Num S / Coref: 9 / 9\n",
      "Current Article85\n"
     ]
    },
    {
     "name": "stderr",
     "output_type": "stream",
     "text": [
      "/mnt/efs/fs1/CSS_Termpaper/EntityNetwork/entitynetwork/relation_extraction/relation_extraction.py:60: RuntimeWarning: Mean of empty slice\n",
      "  sentiment = np.nanmean(prod)\n",
      "/mnt/efs/fs1/CSS_Termpaper/EntityNetwork/entitynetwork/validation_tool/relation_validation.py:36: SettingWithCopyWarning: \n",
      "A value is trying to be set on a copy of a slice from a DataFrame.\n",
      "Try using .loc[row_indexer,col_indexer] = value instead\n",
      "\n",
      "See the caveats in the documentation: https://pandas.pydata.org/pandas-docs/stable/user_guide/indexing.html#returning-a-view-versus-a-copy\n",
      "  article.relation_validation_data[\"valid\"] = 1\n",
      "/home/ubuntu/.local/lib/python3.6/site-packages/pandas/core/indexing.py:1765: SettingWithCopyWarning: \n",
      "A value is trying to be set on a copy of a slice from a DataFrame.\n",
      "Try using .loc[row_indexer,col_indexer] = value instead\n",
      "\n",
      "See the caveats in the documentation: https://pandas.pydata.org/pandas-docs/stable/user_guide/indexing.html#returning-a-view-versus-a-copy\n",
      "  isetter(loc, value)\n"
     ]
    },
    {
     "name": "stdout",
     "output_type": "stream",
     "text": [
      "Text took: 6.86738395690918 Num S / Coref: 16 / 16\n",
      "Current Article86\n"
     ]
    },
    {
     "name": "stderr",
     "output_type": "stream",
     "text": [
      "/mnt/efs/fs1/CSS_Termpaper/EntityNetwork/entitynetwork/validation_tool/relation_validation.py:36: SettingWithCopyWarning: \n",
      "A value is trying to be set on a copy of a slice from a DataFrame.\n",
      "Try using .loc[row_indexer,col_indexer] = value instead\n",
      "\n",
      "See the caveats in the documentation: https://pandas.pydata.org/pandas-docs/stable/user_guide/indexing.html#returning-a-view-versus-a-copy\n",
      "  article.relation_validation_data[\"valid\"] = 1\n",
      "/home/ubuntu/.local/lib/python3.6/site-packages/pandas/core/indexing.py:1765: SettingWithCopyWarning: \n",
      "A value is trying to be set on a copy of a slice from a DataFrame.\n",
      "Try using .loc[row_indexer,col_indexer] = value instead\n",
      "\n",
      "See the caveats in the documentation: https://pandas.pydata.org/pandas-docs/stable/user_guide/indexing.html#returning-a-view-versus-a-copy\n",
      "  isetter(loc, value)\n"
     ]
    },
    {
     "name": "stdout",
     "output_type": "stream",
     "text": [
      "Text took: 2.8196451663970947 Num S / Coref: 5 / 5\n",
      "Current Article87\n"
     ]
    },
    {
     "name": "stderr",
     "output_type": "stream",
     "text": [
      "/mnt/efs/fs1/CSS_Termpaper/EntityNetwork/entitynetwork/relation_extraction/relation_extraction.py:60: RuntimeWarning: Mean of empty slice\n",
      "  sentiment = np.nanmean(prod)\n",
      "/mnt/efs/fs1/CSS_Termpaper/EntityNetwork/entitynetwork/validation_tool/entity_validation.py:61: SettingWithCopyWarning: \n",
      "A value is trying to be set on a copy of a slice from a DataFrame\n",
      "\n",
      "See the caveats in the documentation: https://pandas.pydata.org/pandas-docs/stable/user_guide/indexing.html#returning-a-view-versus-a-copy\n",
      "  self.merged_data[\"synonyms\"][~self.merged_data[\"synonyms\"].str.contains(\"__\", na=False)] = np.NaN\n",
      "/mnt/efs/fs1/CSS_Termpaper/EntityNetwork/entitynetwork/validation_tool/relation_validation.py:36: SettingWithCopyWarning: \n",
      "A value is trying to be set on a copy of a slice from a DataFrame.\n",
      "Try using .loc[row_indexer,col_indexer] = value instead\n",
      "\n",
      "See the caveats in the documentation: https://pandas.pydata.org/pandas-docs/stable/user_guide/indexing.html#returning-a-view-versus-a-copy\n",
      "  article.relation_validation_data[\"valid\"] = 1\n",
      "/home/ubuntu/.local/lib/python3.6/site-packages/pandas/core/indexing.py:1765: SettingWithCopyWarning: \n",
      "A value is trying to be set on a copy of a slice from a DataFrame.\n",
      "Try using .loc[row_indexer,col_indexer] = value instead\n",
      "\n",
      "See the caveats in the documentation: https://pandas.pydata.org/pandas-docs/stable/user_guide/indexing.html#returning-a-view-versus-a-copy\n",
      "  isetter(loc, value)\n"
     ]
    },
    {
     "name": "stdout",
     "output_type": "stream",
     "text": [
      "Text took: 2.8647077083587646 Num S / Coref: 5 / 5\n",
      "Current Article88\n"
     ]
    },
    {
     "name": "stderr",
     "output_type": "stream",
     "text": [
      "/mnt/efs/fs1/CSS_Termpaper/EntityNetwork/entitynetwork/validation_tool/relation_validation.py:36: SettingWithCopyWarning: \n",
      "A value is trying to be set on a copy of a slice from a DataFrame.\n",
      "Try using .loc[row_indexer,col_indexer] = value instead\n",
      "\n",
      "See the caveats in the documentation: https://pandas.pydata.org/pandas-docs/stable/user_guide/indexing.html#returning-a-view-versus-a-copy\n",
      "  article.relation_validation_data[\"valid\"] = 1\n",
      "/home/ubuntu/.local/lib/python3.6/site-packages/pandas/core/indexing.py:1765: SettingWithCopyWarning: \n",
      "A value is trying to be set on a copy of a slice from a DataFrame.\n",
      "Try using .loc[row_indexer,col_indexer] = value instead\n",
      "\n",
      "See the caveats in the documentation: https://pandas.pydata.org/pandas-docs/stable/user_guide/indexing.html#returning-a-view-versus-a-copy\n",
      "  isetter(loc, value)\n"
     ]
    },
    {
     "name": "stdout",
     "output_type": "stream",
     "text": [
      "Text took: 1.6066443920135498 Num S / Coref: 2 / 2\n",
      "Current Article89\n"
     ]
    },
    {
     "name": "stderr",
     "output_type": "stream",
     "text": [
      "/mnt/efs/fs1/CSS_Termpaper/EntityNetwork/entitynetwork/relation_extraction/relation_extraction.py:60: RuntimeWarning: Mean of empty slice\n",
      "  sentiment = np.nanmean(prod)\n",
      "/mnt/efs/fs1/CSS_Termpaper/EntityNetwork/entitynetwork/validation_tool/entity_validation.py:61: SettingWithCopyWarning: \n",
      "A value is trying to be set on a copy of a slice from a DataFrame\n",
      "\n",
      "See the caveats in the documentation: https://pandas.pydata.org/pandas-docs/stable/user_guide/indexing.html#returning-a-view-versus-a-copy\n",
      "  self.merged_data[\"synonyms\"][~self.merged_data[\"synonyms\"].str.contains(\"__\", na=False)] = np.NaN\n",
      "/mnt/efs/fs1/CSS_Termpaper/EntityNetwork/entitynetwork/validation_tool/relation_validation.py:36: SettingWithCopyWarning: \n",
      "A value is trying to be set on a copy of a slice from a DataFrame.\n",
      "Try using .loc[row_indexer,col_indexer] = value instead\n",
      "\n",
      "See the caveats in the documentation: https://pandas.pydata.org/pandas-docs/stable/user_guide/indexing.html#returning-a-view-versus-a-copy\n",
      "  article.relation_validation_data[\"valid\"] = 1\n",
      "/home/ubuntu/.local/lib/python3.6/site-packages/pandas/core/indexing.py:1765: SettingWithCopyWarning: \n",
      "A value is trying to be set on a copy of a slice from a DataFrame.\n",
      "Try using .loc[row_indexer,col_indexer] = value instead\n",
      "\n",
      "See the caveats in the documentation: https://pandas.pydata.org/pandas-docs/stable/user_guide/indexing.html#returning-a-view-versus-a-copy\n",
      "  isetter(loc, value)\n"
     ]
    },
    {
     "name": "stdout",
     "output_type": "stream",
     "text": [
      "Text took: 4.338378429412842 Num S / Coref: 6 / 6\n",
      "Current Article90\n"
     ]
    },
    {
     "name": "stderr",
     "output_type": "stream",
     "text": [
      "/mnt/efs/fs1/CSS_Termpaper/EntityNetwork/entitynetwork/relation_extraction/relation_extraction.py:60: RuntimeWarning: Mean of empty slice\n",
      "  sentiment = np.nanmean(prod)\n",
      "/mnt/efs/fs1/CSS_Termpaper/EntityNetwork/entitynetwork/validation_tool/entity_validation.py:61: SettingWithCopyWarning: \n",
      "A value is trying to be set on a copy of a slice from a DataFrame\n",
      "\n",
      "See the caveats in the documentation: https://pandas.pydata.org/pandas-docs/stable/user_guide/indexing.html#returning-a-view-versus-a-copy\n",
      "  self.merged_data[\"synonyms\"][~self.merged_data[\"synonyms\"].str.contains(\"__\", na=False)] = np.NaN\n",
      "/mnt/efs/fs1/CSS_Termpaper/EntityNetwork/entitynetwork/validation_tool/relation_validation.py:36: SettingWithCopyWarning: \n",
      "A value is trying to be set on a copy of a slice from a DataFrame.\n",
      "Try using .loc[row_indexer,col_indexer] = value instead\n",
      "\n",
      "See the caveats in the documentation: https://pandas.pydata.org/pandas-docs/stable/user_guide/indexing.html#returning-a-view-versus-a-copy\n",
      "  article.relation_validation_data[\"valid\"] = 1\n",
      "/home/ubuntu/.local/lib/python3.6/site-packages/pandas/core/indexing.py:1765: SettingWithCopyWarning: \n",
      "A value is trying to be set on a copy of a slice from a DataFrame.\n",
      "Try using .loc[row_indexer,col_indexer] = value instead\n",
      "\n",
      "See the caveats in the documentation: https://pandas.pydata.org/pandas-docs/stable/user_guide/indexing.html#returning-a-view-versus-a-copy\n",
      "  isetter(loc, value)\n"
     ]
    },
    {
     "name": "stdout",
     "output_type": "stream",
     "text": [
      "Text took: 2.7410194873809814 Num S / Coref: 5 / 5\n",
      "Current Article91\n"
     ]
    },
    {
     "name": "stderr",
     "output_type": "stream",
     "text": [
      "/mnt/efs/fs1/CSS_Termpaper/EntityNetwork/entitynetwork/relation_extraction/relation_extraction.py:60: RuntimeWarning: Mean of empty slice\n",
      "  sentiment = np.nanmean(prod)\n",
      "/mnt/efs/fs1/CSS_Termpaper/EntityNetwork/entitynetwork/validation_tool/relation_validation.py:36: SettingWithCopyWarning: \n",
      "A value is trying to be set on a copy of a slice from a DataFrame.\n",
      "Try using .loc[row_indexer,col_indexer] = value instead\n",
      "\n",
      "See the caveats in the documentation: https://pandas.pydata.org/pandas-docs/stable/user_guide/indexing.html#returning-a-view-versus-a-copy\n",
      "  article.relation_validation_data[\"valid\"] = 1\n",
      "/home/ubuntu/.local/lib/python3.6/site-packages/pandas/core/indexing.py:1765: SettingWithCopyWarning: \n",
      "A value is trying to be set on a copy of a slice from a DataFrame.\n",
      "Try using .loc[row_indexer,col_indexer] = value instead\n",
      "\n",
      "See the caveats in the documentation: https://pandas.pydata.org/pandas-docs/stable/user_guide/indexing.html#returning-a-view-versus-a-copy\n",
      "  isetter(loc, value)\n"
     ]
    },
    {
     "name": "stdout",
     "output_type": "stream",
     "text": [
      "Text took: 7.160207509994507 Num S / Coref: 15 / 16\n",
      "Current Article92\n"
     ]
    },
    {
     "name": "stderr",
     "output_type": "stream",
     "text": [
      "/mnt/efs/fs1/CSS_Termpaper/EntityNetwork/entitynetwork/relation_extraction/relation_extraction.py:60: RuntimeWarning: Mean of empty slice\n",
      "  sentiment = np.nanmean(prod)\n",
      "/mnt/efs/fs1/CSS_Termpaper/EntityNetwork/entitynetwork/validation_tool/relation_validation.py:36: SettingWithCopyWarning: \n",
      "A value is trying to be set on a copy of a slice from a DataFrame.\n",
      "Try using .loc[row_indexer,col_indexer] = value instead\n",
      "\n",
      "See the caveats in the documentation: https://pandas.pydata.org/pandas-docs/stable/user_guide/indexing.html#returning-a-view-versus-a-copy\n",
      "  article.relation_validation_data[\"valid\"] = 1\n",
      "/home/ubuntu/.local/lib/python3.6/site-packages/pandas/core/indexing.py:1765: SettingWithCopyWarning: \n",
      "A value is trying to be set on a copy of a slice from a DataFrame.\n",
      "Try using .loc[row_indexer,col_indexer] = value instead\n",
      "\n",
      "See the caveats in the documentation: https://pandas.pydata.org/pandas-docs/stable/user_guide/indexing.html#returning-a-view-versus-a-copy\n",
      "  isetter(loc, value)\n"
     ]
    },
    {
     "name": "stdout",
     "output_type": "stream",
     "text": [
      "Text took: 4.339969635009766 Num S / Coref: 7 / 7\n",
      "Current Article93\n"
     ]
    },
    {
     "name": "stderr",
     "output_type": "stream",
     "text": [
      "/mnt/efs/fs1/CSS_Termpaper/EntityNetwork/entitynetwork/relation_extraction/relation_extraction.py:60: RuntimeWarning: Mean of empty slice\n",
      "  sentiment = np.nanmean(prod)\n",
      "/mnt/efs/fs1/CSS_Termpaper/EntityNetwork/entitynetwork/validation_tool/relation_validation.py:36: SettingWithCopyWarning: \n",
      "A value is trying to be set on a copy of a slice from a DataFrame.\n",
      "Try using .loc[row_indexer,col_indexer] = value instead\n",
      "\n",
      "See the caveats in the documentation: https://pandas.pydata.org/pandas-docs/stable/user_guide/indexing.html#returning-a-view-versus-a-copy\n",
      "  article.relation_validation_data[\"valid\"] = 1\n",
      "/home/ubuntu/.local/lib/python3.6/site-packages/pandas/core/indexing.py:1765: SettingWithCopyWarning: \n",
      "A value is trying to be set on a copy of a slice from a DataFrame.\n",
      "Try using .loc[row_indexer,col_indexer] = value instead\n",
      "\n",
      "See the caveats in the documentation: https://pandas.pydata.org/pandas-docs/stable/user_guide/indexing.html#returning-a-view-versus-a-copy\n",
      "  isetter(loc, value)\n"
     ]
    },
    {
     "name": "stdout",
     "output_type": "stream",
     "text": [
      "Text took: 5.130880832672119 Num S / Coref: 9 / 10\n",
      "Current Article94\n"
     ]
    },
    {
     "name": "stderr",
     "output_type": "stream",
     "text": [
      "/mnt/efs/fs1/CSS_Termpaper/EntityNetwork/entitynetwork/relation_extraction/relation_extraction.py:60: RuntimeWarning: Mean of empty slice\n",
      "  sentiment = np.nanmean(prod)\n",
      "/mnt/efs/fs1/CSS_Termpaper/EntityNetwork/entitynetwork/validation_tool/relation_validation.py:36: SettingWithCopyWarning: \n",
      "A value is trying to be set on a copy of a slice from a DataFrame.\n",
      "Try using .loc[row_indexer,col_indexer] = value instead\n",
      "\n",
      "See the caveats in the documentation: https://pandas.pydata.org/pandas-docs/stable/user_guide/indexing.html#returning-a-view-versus-a-copy\n",
      "  article.relation_validation_data[\"valid\"] = 1\n",
      "/home/ubuntu/.local/lib/python3.6/site-packages/pandas/core/indexing.py:1765: SettingWithCopyWarning: \n",
      "A value is trying to be set on a copy of a slice from a DataFrame.\n",
      "Try using .loc[row_indexer,col_indexer] = value instead\n",
      "\n",
      "See the caveats in the documentation: https://pandas.pydata.org/pandas-docs/stable/user_guide/indexing.html#returning-a-view-versus-a-copy\n",
      "  isetter(loc, value)\n"
     ]
    },
    {
     "name": "stdout",
     "output_type": "stream",
     "text": [
      "Text took: 5.315865993499756 Num S / Coref: 12 / 12\n",
      "Current Article95\n"
     ]
    },
    {
     "name": "stderr",
     "output_type": "stream",
     "text": [
      "/mnt/efs/fs1/CSS_Termpaper/EntityNetwork/entitynetwork/relation_extraction/relation_extraction.py:60: RuntimeWarning: Mean of empty slice\n",
      "  sentiment = np.nanmean(prod)\n",
      "/mnt/efs/fs1/CSS_Termpaper/EntityNetwork/entitynetwork/validation_tool/relation_validation.py:36: SettingWithCopyWarning: \n",
      "A value is trying to be set on a copy of a slice from a DataFrame.\n",
      "Try using .loc[row_indexer,col_indexer] = value instead\n",
      "\n",
      "See the caveats in the documentation: https://pandas.pydata.org/pandas-docs/stable/user_guide/indexing.html#returning-a-view-versus-a-copy\n",
      "  article.relation_validation_data[\"valid\"] = 1\n",
      "/home/ubuntu/.local/lib/python3.6/site-packages/pandas/core/indexing.py:1765: SettingWithCopyWarning: \n",
      "A value is trying to be set on a copy of a slice from a DataFrame.\n",
      "Try using .loc[row_indexer,col_indexer] = value instead\n",
      "\n",
      "See the caveats in the documentation: https://pandas.pydata.org/pandas-docs/stable/user_guide/indexing.html#returning-a-view-versus-a-copy\n",
      "  isetter(loc, value)\n"
     ]
    },
    {
     "name": "stdout",
     "output_type": "stream",
     "text": [
      "Text took: 11.972535610198975 Num S / Coref: 18 / 18\n",
      "Current Article96\n"
     ]
    },
    {
     "name": "stderr",
     "output_type": "stream",
     "text": [
      "/mnt/efs/fs1/CSS_Termpaper/EntityNetwork/entitynetwork/relation_extraction/relation_extraction.py:60: RuntimeWarning: Mean of empty slice\n",
      "  sentiment = np.nanmean(prod)\n",
      "/mnt/efs/fs1/CSS_Termpaper/EntityNetwork/entitynetwork/validation_tool/relation_validation.py:36: SettingWithCopyWarning: \n",
      "A value is trying to be set on a copy of a slice from a DataFrame.\n",
      "Try using .loc[row_indexer,col_indexer] = value instead\n",
      "\n",
      "See the caveats in the documentation: https://pandas.pydata.org/pandas-docs/stable/user_guide/indexing.html#returning-a-view-versus-a-copy\n",
      "  article.relation_validation_data[\"valid\"] = 1\n",
      "/home/ubuntu/.local/lib/python3.6/site-packages/pandas/core/indexing.py:1765: SettingWithCopyWarning: \n",
      "A value is trying to be set on a copy of a slice from a DataFrame.\n",
      "Try using .loc[row_indexer,col_indexer] = value instead\n",
      "\n",
      "See the caveats in the documentation: https://pandas.pydata.org/pandas-docs/stable/user_guide/indexing.html#returning-a-view-versus-a-copy\n",
      "  isetter(loc, value)\n"
     ]
    },
    {
     "name": "stdout",
     "output_type": "stream",
     "text": [
      "Text took: 2.2259178161621094 Num S / Coref: 4 / 4\n",
      "Current Article97\n"
     ]
    },
    {
     "name": "stderr",
     "output_type": "stream",
     "text": [
      "/mnt/efs/fs1/CSS_Termpaper/EntityNetwork/entitynetwork/relation_extraction/relation_extraction.py:60: RuntimeWarning: Mean of empty slice\n",
      "  sentiment = np.nanmean(prod)\n",
      "/mnt/efs/fs1/CSS_Termpaper/EntityNetwork/entitynetwork/validation_tool/entity_validation.py:61: SettingWithCopyWarning: \n",
      "A value is trying to be set on a copy of a slice from a DataFrame\n",
      "\n",
      "See the caveats in the documentation: https://pandas.pydata.org/pandas-docs/stable/user_guide/indexing.html#returning-a-view-versus-a-copy\n",
      "  self.merged_data[\"synonyms\"][~self.merged_data[\"synonyms\"].str.contains(\"__\", na=False)] = np.NaN\n",
      "/mnt/efs/fs1/CSS_Termpaper/EntityNetwork/entitynetwork/validation_tool/relation_validation.py:36: SettingWithCopyWarning: \n",
      "A value is trying to be set on a copy of a slice from a DataFrame.\n",
      "Try using .loc[row_indexer,col_indexer] = value instead\n",
      "\n",
      "See the caveats in the documentation: https://pandas.pydata.org/pandas-docs/stable/user_guide/indexing.html#returning-a-view-versus-a-copy\n",
      "  article.relation_validation_data[\"valid\"] = 1\n",
      "/home/ubuntu/.local/lib/python3.6/site-packages/pandas/core/indexing.py:1765: SettingWithCopyWarning: \n",
      "A value is trying to be set on a copy of a slice from a DataFrame.\n",
      "Try using .loc[row_indexer,col_indexer] = value instead\n",
      "\n",
      "See the caveats in the documentation: https://pandas.pydata.org/pandas-docs/stable/user_guide/indexing.html#returning-a-view-versus-a-copy\n",
      "  isetter(loc, value)\n"
     ]
    },
    {
     "name": "stdout",
     "output_type": "stream",
     "text": [
      "Text took: 5.374845266342163 Num S / Coref: 14 / 14\n",
      "Current Article98\n"
     ]
    },
    {
     "name": "stderr",
     "output_type": "stream",
     "text": [
      "/mnt/efs/fs1/CSS_Termpaper/EntityNetwork/entitynetwork/relation_extraction/relation_extraction.py:60: RuntimeWarning: Mean of empty slice\n",
      "  sentiment = np.nanmean(prod)\n",
      "/mnt/efs/fs1/CSS_Termpaper/EntityNetwork/entitynetwork/validation_tool/relation_validation.py:36: SettingWithCopyWarning: \n",
      "A value is trying to be set on a copy of a slice from a DataFrame.\n",
      "Try using .loc[row_indexer,col_indexer] = value instead\n",
      "\n",
      "See the caveats in the documentation: https://pandas.pydata.org/pandas-docs/stable/user_guide/indexing.html#returning-a-view-versus-a-copy\n",
      "  article.relation_validation_data[\"valid\"] = 1\n",
      "/home/ubuntu/.local/lib/python3.6/site-packages/pandas/core/indexing.py:1765: SettingWithCopyWarning: \n",
      "A value is trying to be set on a copy of a slice from a DataFrame.\n",
      "Try using .loc[row_indexer,col_indexer] = value instead\n",
      "\n",
      "See the caveats in the documentation: https://pandas.pydata.org/pandas-docs/stable/user_guide/indexing.html#returning-a-view-versus-a-copy\n",
      "  isetter(loc, value)\n"
     ]
    },
    {
     "name": "stdout",
     "output_type": "stream",
     "text": [
      "Text took: 4.44467568397522 Num S / Coref: 8 / 8\n",
      "Current Article99\n"
     ]
    },
    {
     "name": "stderr",
     "output_type": "stream",
     "text": [
      "/mnt/efs/fs1/CSS_Termpaper/EntityNetwork/entitynetwork/relation_extraction/relation_extraction.py:60: RuntimeWarning: Mean of empty slice\n",
      "  sentiment = np.nanmean(prod)\n",
      "/mnt/efs/fs1/CSS_Termpaper/EntityNetwork/entitynetwork/validation_tool/relation_validation.py:36: SettingWithCopyWarning: \n",
      "A value is trying to be set on a copy of a slice from a DataFrame.\n",
      "Try using .loc[row_indexer,col_indexer] = value instead\n",
      "\n",
      "See the caveats in the documentation: https://pandas.pydata.org/pandas-docs/stable/user_guide/indexing.html#returning-a-view-versus-a-copy\n",
      "  article.relation_validation_data[\"valid\"] = 1\n",
      "/home/ubuntu/.local/lib/python3.6/site-packages/pandas/core/indexing.py:1765: SettingWithCopyWarning: \n",
      "A value is trying to be set on a copy of a slice from a DataFrame.\n",
      "Try using .loc[row_indexer,col_indexer] = value instead\n",
      "\n",
      "See the caveats in the documentation: https://pandas.pydata.org/pandas-docs/stable/user_guide/indexing.html#returning-a-view-versus-a-copy\n",
      "  isetter(loc, value)\n"
     ]
    },
    {
     "name": "stdout",
     "output_type": "stream",
     "text": [
      "Text took: 3.773444652557373 Num S / Coref: 9 / 9\n",
      "Current Article100\n"
     ]
    },
    {
     "name": "stderr",
     "output_type": "stream",
     "text": [
      "/mnt/efs/fs1/CSS_Termpaper/EntityNetwork/entitynetwork/relation_extraction/relation_extraction.py:60: RuntimeWarning: Mean of empty slice\n",
      "  sentiment = np.nanmean(prod)\n",
      "/mnt/efs/fs1/CSS_Termpaper/EntityNetwork/entitynetwork/validation_tool/entity_validation.py:61: SettingWithCopyWarning: \n",
      "A value is trying to be set on a copy of a slice from a DataFrame\n",
      "\n",
      "See the caveats in the documentation: https://pandas.pydata.org/pandas-docs/stable/user_guide/indexing.html#returning-a-view-versus-a-copy\n",
      "  self.merged_data[\"synonyms\"][~self.merged_data[\"synonyms\"].str.contains(\"__\", na=False)] = np.NaN\n",
      "/mnt/efs/fs1/CSS_Termpaper/EntityNetwork/entitynetwork/validation_tool/relation_validation.py:36: SettingWithCopyWarning: \n",
      "A value is trying to be set on a copy of a slice from a DataFrame.\n",
      "Try using .loc[row_indexer,col_indexer] = value instead\n",
      "\n",
      "See the caveats in the documentation: https://pandas.pydata.org/pandas-docs/stable/user_guide/indexing.html#returning-a-view-versus-a-copy\n",
      "  article.relation_validation_data[\"valid\"] = 1\n",
      "/home/ubuntu/.local/lib/python3.6/site-packages/pandas/core/indexing.py:1765: SettingWithCopyWarning: \n",
      "A value is trying to be set on a copy of a slice from a DataFrame.\n",
      "Try using .loc[row_indexer,col_indexer] = value instead\n",
      "\n",
      "See the caveats in the documentation: https://pandas.pydata.org/pandas-docs/stable/user_guide/indexing.html#returning-a-view-versus-a-copy\n",
      "  isetter(loc, value)\n"
     ]
    },
    {
     "name": "stdout",
     "output_type": "stream",
     "text": [
      "Text took: 13.360212564468384 Num S / Coref: 24 / 24\n",
      "Current Article101\n"
     ]
    },
    {
     "name": "stderr",
     "output_type": "stream",
     "text": [
      "/mnt/efs/fs1/CSS_Termpaper/EntityNetwork/entitynetwork/relation_extraction/relation_extraction.py:60: RuntimeWarning: Mean of empty slice\n",
      "  sentiment = np.nanmean(prod)\n",
      "/mnt/efs/fs1/CSS_Termpaper/EntityNetwork/entitynetwork/validation_tool/relation_validation.py:36: SettingWithCopyWarning: \n",
      "A value is trying to be set on a copy of a slice from a DataFrame.\n",
      "Try using .loc[row_indexer,col_indexer] = value instead\n",
      "\n",
      "See the caveats in the documentation: https://pandas.pydata.org/pandas-docs/stable/user_guide/indexing.html#returning-a-view-versus-a-copy\n",
      "  article.relation_validation_data[\"valid\"] = 1\n",
      "/home/ubuntu/.local/lib/python3.6/site-packages/pandas/core/indexing.py:1765: SettingWithCopyWarning: \n",
      "A value is trying to be set on a copy of a slice from a DataFrame.\n",
      "Try using .loc[row_indexer,col_indexer] = value instead\n",
      "\n",
      "See the caveats in the documentation: https://pandas.pydata.org/pandas-docs/stable/user_guide/indexing.html#returning-a-view-versus-a-copy\n",
      "  isetter(loc, value)\n"
     ]
    },
    {
     "name": "stdout",
     "output_type": "stream",
     "text": [
      "Text took: 4.068256616592407 Num S / Coref: 10 / 10\n",
      "Current Article102\n"
     ]
    },
    {
     "name": "stderr",
     "output_type": "stream",
     "text": [
      "/mnt/efs/fs1/CSS_Termpaper/EntityNetwork/entitynetwork/relation_extraction/relation_extraction.py:60: RuntimeWarning: Mean of empty slice\n",
      "  sentiment = np.nanmean(prod)\n",
      "/mnt/efs/fs1/CSS_Termpaper/EntityNetwork/entitynetwork/validation_tool/relation_validation.py:36: SettingWithCopyWarning: \n",
      "A value is trying to be set on a copy of a slice from a DataFrame.\n",
      "Try using .loc[row_indexer,col_indexer] = value instead\n",
      "\n",
      "See the caveats in the documentation: https://pandas.pydata.org/pandas-docs/stable/user_guide/indexing.html#returning-a-view-versus-a-copy\n",
      "  article.relation_validation_data[\"valid\"] = 1\n",
      "/home/ubuntu/.local/lib/python3.6/site-packages/pandas/core/indexing.py:1765: SettingWithCopyWarning: \n",
      "A value is trying to be set on a copy of a slice from a DataFrame.\n",
      "Try using .loc[row_indexer,col_indexer] = value instead\n",
      "\n",
      "See the caveats in the documentation: https://pandas.pydata.org/pandas-docs/stable/user_guide/indexing.html#returning-a-view-versus-a-copy\n",
      "  isetter(loc, value)\n"
     ]
    },
    {
     "name": "stdout",
     "output_type": "stream",
     "text": [
      "Text took: 16.02626943588257 Num S / Coref: 29 / 29\n",
      "Current Article103\n"
     ]
    },
    {
     "name": "stderr",
     "output_type": "stream",
     "text": [
      "/mnt/efs/fs1/CSS_Termpaper/EntityNetwork/entitynetwork/validation_tool/entity_validation.py:61: SettingWithCopyWarning: \n",
      "A value is trying to be set on a copy of a slice from a DataFrame\n",
      "\n",
      "See the caveats in the documentation: https://pandas.pydata.org/pandas-docs/stable/user_guide/indexing.html#returning-a-view-versus-a-copy\n",
      "  self.merged_data[\"synonyms\"][~self.merged_data[\"synonyms\"].str.contains(\"__\", na=False)] = np.NaN\n",
      "/mnt/efs/fs1/CSS_Termpaper/EntityNetwork/entitynetwork/validation_tool/relation_validation.py:36: SettingWithCopyWarning: \n",
      "A value is trying to be set on a copy of a slice from a DataFrame.\n",
      "Try using .loc[row_indexer,col_indexer] = value instead\n",
      "\n",
      "See the caveats in the documentation: https://pandas.pydata.org/pandas-docs/stable/user_guide/indexing.html#returning-a-view-versus-a-copy\n",
      "  article.relation_validation_data[\"valid\"] = 1\n",
      "/home/ubuntu/.local/lib/python3.6/site-packages/pandas/core/indexing.py:1765: SettingWithCopyWarning: \n",
      "A value is trying to be set on a copy of a slice from a DataFrame.\n",
      "Try using .loc[row_indexer,col_indexer] = value instead\n",
      "\n",
      "See the caveats in the documentation: https://pandas.pydata.org/pandas-docs/stable/user_guide/indexing.html#returning-a-view-versus-a-copy\n",
      "  isetter(loc, value)\n",
      "/mnt/efs/fs1/CSS_Termpaper/EntityNetwork/entitynetwork/validation_tool/relation_validation.py:110: RuntimeWarning: invalid value encountered in double_scalars\n",
      "  self.f1 = 2 * ((self.precision * self.recall) / (self.precision + self.recall))\n",
      "/mnt/efs/fs1/CSS_Termpaper/EntityNetwork/entitynetwork/validation_tool/relation_validation.py:113: RuntimeWarning: invalid value encountered in double_scalars\n",
      "  self.f1_corrected = 2 * ((self.precision * self.recall_corrected) / (self.precision + self.recall_corrected))\n"
     ]
    },
    {
     "name": "stdout",
     "output_type": "stream",
     "text": [
      "Text took: 2.5513551235198975 Num S / Coref: 5 / 5\n",
      "Current Article104\n"
     ]
    },
    {
     "name": "stderr",
     "output_type": "stream",
     "text": [
      "/mnt/efs/fs1/CSS_Termpaper/EntityNetwork/entitynetwork/relation_extraction/relation_extraction.py:60: RuntimeWarning: Mean of empty slice\n",
      "  sentiment = np.nanmean(prod)\n",
      "/mnt/efs/fs1/CSS_Termpaper/EntityNetwork/entitynetwork/validation_tool/relation_validation.py:36: SettingWithCopyWarning: \n",
      "A value is trying to be set on a copy of a slice from a DataFrame.\n",
      "Try using .loc[row_indexer,col_indexer] = value instead\n",
      "\n",
      "See the caveats in the documentation: https://pandas.pydata.org/pandas-docs/stable/user_guide/indexing.html#returning-a-view-versus-a-copy\n",
      "  article.relation_validation_data[\"valid\"] = 1\n",
      "/home/ubuntu/.local/lib/python3.6/site-packages/pandas/core/indexing.py:1765: SettingWithCopyWarning: \n",
      "A value is trying to be set on a copy of a slice from a DataFrame.\n",
      "Try using .loc[row_indexer,col_indexer] = value instead\n",
      "\n",
      "See the caveats in the documentation: https://pandas.pydata.org/pandas-docs/stable/user_guide/indexing.html#returning-a-view-versus-a-copy\n",
      "  isetter(loc, value)\n"
     ]
    },
    {
     "name": "stdout",
     "output_type": "stream",
     "text": [
      "Text took: 6.087700843811035 Num S / Coref: 12 / 12\n",
      "Current Article105\n"
     ]
    },
    {
     "name": "stderr",
     "output_type": "stream",
     "text": [
      "/mnt/efs/fs1/CSS_Termpaper/EntityNetwork/entitynetwork/relation_extraction/relation_extraction.py:60: RuntimeWarning: Mean of empty slice\n",
      "  sentiment = np.nanmean(prod)\n",
      "/mnt/efs/fs1/CSS_Termpaper/EntityNetwork/entitynetwork/validation_tool/entity_validation.py:61: SettingWithCopyWarning: \n",
      "A value is trying to be set on a copy of a slice from a DataFrame\n",
      "\n",
      "See the caveats in the documentation: https://pandas.pydata.org/pandas-docs/stable/user_guide/indexing.html#returning-a-view-versus-a-copy\n",
      "  self.merged_data[\"synonyms\"][~self.merged_data[\"synonyms\"].str.contains(\"__\", na=False)] = np.NaN\n",
      "/mnt/efs/fs1/CSS_Termpaper/EntityNetwork/entitynetwork/validation_tool/relation_validation.py:36: SettingWithCopyWarning: \n",
      "A value is trying to be set on a copy of a slice from a DataFrame.\n",
      "Try using .loc[row_indexer,col_indexer] = value instead\n",
      "\n",
      "See the caveats in the documentation: https://pandas.pydata.org/pandas-docs/stable/user_guide/indexing.html#returning-a-view-versus-a-copy\n",
      "  article.relation_validation_data[\"valid\"] = 1\n",
      "/home/ubuntu/.local/lib/python3.6/site-packages/pandas/core/indexing.py:1765: SettingWithCopyWarning: \n",
      "A value is trying to be set on a copy of a slice from a DataFrame.\n",
      "Try using .loc[row_indexer,col_indexer] = value instead\n",
      "\n",
      "See the caveats in the documentation: https://pandas.pydata.org/pandas-docs/stable/user_guide/indexing.html#returning-a-view-versus-a-copy\n",
      "  isetter(loc, value)\n"
     ]
    },
    {
     "name": "stdout",
     "output_type": "stream",
     "text": [
      "Text took: 3.6476759910583496 Num S / Coref: 9 / 9\n",
      "Current Article106\n"
     ]
    },
    {
     "name": "stderr",
     "output_type": "stream",
     "text": [
      "/mnt/efs/fs1/CSS_Termpaper/EntityNetwork/entitynetwork/relation_extraction/relation_extraction.py:60: RuntimeWarning: Mean of empty slice\n",
      "  sentiment = np.nanmean(prod)\n",
      "/mnt/efs/fs1/CSS_Termpaper/EntityNetwork/entitynetwork/validation_tool/relation_validation.py:36: SettingWithCopyWarning: \n",
      "A value is trying to be set on a copy of a slice from a DataFrame.\n",
      "Try using .loc[row_indexer,col_indexer] = value instead\n",
      "\n",
      "See the caveats in the documentation: https://pandas.pydata.org/pandas-docs/stable/user_guide/indexing.html#returning-a-view-versus-a-copy\n",
      "  article.relation_validation_data[\"valid\"] = 1\n",
      "/home/ubuntu/.local/lib/python3.6/site-packages/pandas/core/indexing.py:1765: SettingWithCopyWarning: \n",
      "A value is trying to be set on a copy of a slice from a DataFrame.\n",
      "Try using .loc[row_indexer,col_indexer] = value instead\n",
      "\n",
      "See the caveats in the documentation: https://pandas.pydata.org/pandas-docs/stable/user_guide/indexing.html#returning-a-view-versus-a-copy\n",
      "  isetter(loc, value)\n"
     ]
    },
    {
     "name": "stdout",
     "output_type": "stream",
     "text": [
      "Text took: 12.869202136993408 Num S / Coref: 30 / 30\n",
      "Current Article107\n"
     ]
    },
    {
     "name": "stderr",
     "output_type": "stream",
     "text": [
      "/mnt/efs/fs1/CSS_Termpaper/EntityNetwork/entitynetwork/relation_extraction/relation_extraction.py:60: RuntimeWarning: Mean of empty slice\n",
      "  sentiment = np.nanmean(prod)\n",
      "/mnt/efs/fs1/CSS_Termpaper/EntityNetwork/entitynetwork/validation_tool/relation_validation.py:36: SettingWithCopyWarning: \n",
      "A value is trying to be set on a copy of a slice from a DataFrame.\n",
      "Try using .loc[row_indexer,col_indexer] = value instead\n",
      "\n",
      "See the caveats in the documentation: https://pandas.pydata.org/pandas-docs/stable/user_guide/indexing.html#returning-a-view-versus-a-copy\n",
      "  article.relation_validation_data[\"valid\"] = 1\n",
      "/home/ubuntu/.local/lib/python3.6/site-packages/pandas/core/indexing.py:1765: SettingWithCopyWarning: \n",
      "A value is trying to be set on a copy of a slice from a DataFrame.\n",
      "Try using .loc[row_indexer,col_indexer] = value instead\n",
      "\n",
      "See the caveats in the documentation: https://pandas.pydata.org/pandas-docs/stable/user_guide/indexing.html#returning-a-view-versus-a-copy\n",
      "  isetter(loc, value)\n"
     ]
    },
    {
     "name": "stdout",
     "output_type": "stream",
     "text": [
      "Text took: 10.510180234909058 Num S / Coref: 20 / 20\n",
      "Current Article108\n"
     ]
    },
    {
     "name": "stderr",
     "output_type": "stream",
     "text": [
      "/mnt/efs/fs1/CSS_Termpaper/EntityNetwork/entitynetwork/relation_extraction/relation_extraction.py:60: RuntimeWarning: Mean of empty slice\n",
      "  sentiment = np.nanmean(prod)\n",
      "/mnt/efs/fs1/CSS_Termpaper/EntityNetwork/entitynetwork/validation_tool/entity_validation.py:61: SettingWithCopyWarning: \n",
      "A value is trying to be set on a copy of a slice from a DataFrame\n",
      "\n",
      "See the caveats in the documentation: https://pandas.pydata.org/pandas-docs/stable/user_guide/indexing.html#returning-a-view-versus-a-copy\n",
      "  self.merged_data[\"synonyms\"][~self.merged_data[\"synonyms\"].str.contains(\"__\", na=False)] = np.NaN\n",
      "/mnt/efs/fs1/CSS_Termpaper/EntityNetwork/entitynetwork/validation_tool/relation_validation.py:36: SettingWithCopyWarning: \n",
      "A value is trying to be set on a copy of a slice from a DataFrame.\n",
      "Try using .loc[row_indexer,col_indexer] = value instead\n",
      "\n",
      "See the caveats in the documentation: https://pandas.pydata.org/pandas-docs/stable/user_guide/indexing.html#returning-a-view-versus-a-copy\n",
      "  article.relation_validation_data[\"valid\"] = 1\n",
      "/home/ubuntu/.local/lib/python3.6/site-packages/pandas/core/indexing.py:1765: SettingWithCopyWarning: \n",
      "A value is trying to be set on a copy of a slice from a DataFrame.\n",
      "Try using .loc[row_indexer,col_indexer] = value instead\n",
      "\n",
      "See the caveats in the documentation: https://pandas.pydata.org/pandas-docs/stable/user_guide/indexing.html#returning-a-view-versus-a-copy\n",
      "  isetter(loc, value)\n"
     ]
    },
    {
     "name": "stdout",
     "output_type": "stream",
     "text": [
      "Text took: 6.711331367492676 Num S / Coref: 14 / 14\n",
      "Current Article109\n"
     ]
    },
    {
     "name": "stderr",
     "output_type": "stream",
     "text": [
      "/mnt/efs/fs1/CSS_Termpaper/EntityNetwork/entitynetwork/relation_extraction/relation_extraction.py:60: RuntimeWarning: Mean of empty slice\n",
      "  sentiment = np.nanmean(prod)\n",
      "/mnt/efs/fs1/CSS_Termpaper/EntityNetwork/entitynetwork/validation_tool/relation_validation.py:36: SettingWithCopyWarning: \n",
      "A value is trying to be set on a copy of a slice from a DataFrame.\n",
      "Try using .loc[row_indexer,col_indexer] = value instead\n",
      "\n",
      "See the caveats in the documentation: https://pandas.pydata.org/pandas-docs/stable/user_guide/indexing.html#returning-a-view-versus-a-copy\n",
      "  article.relation_validation_data[\"valid\"] = 1\n",
      "/home/ubuntu/.local/lib/python3.6/site-packages/pandas/core/indexing.py:1765: SettingWithCopyWarning: \n",
      "A value is trying to be set on a copy of a slice from a DataFrame.\n",
      "Try using .loc[row_indexer,col_indexer] = value instead\n",
      "\n",
      "See the caveats in the documentation: https://pandas.pydata.org/pandas-docs/stable/user_guide/indexing.html#returning-a-view-versus-a-copy\n",
      "  isetter(loc, value)\n"
     ]
    },
    {
     "name": "stdout",
     "output_type": "stream",
     "text": [
      "Text took: 6.606948614120483 Num S / Coref: 14 / 14\n",
      "Current Article110\n"
     ]
    },
    {
     "name": "stderr",
     "output_type": "stream",
     "text": [
      "/mnt/efs/fs1/CSS_Termpaper/EntityNetwork/entitynetwork/relation_extraction/relation_extraction.py:60: RuntimeWarning: Mean of empty slice\n",
      "  sentiment = np.nanmean(prod)\n",
      "/mnt/efs/fs1/CSS_Termpaper/EntityNetwork/entitynetwork/validation_tool/relation_validation.py:36: SettingWithCopyWarning: \n",
      "A value is trying to be set on a copy of a slice from a DataFrame.\n",
      "Try using .loc[row_indexer,col_indexer] = value instead\n",
      "\n",
      "See the caveats in the documentation: https://pandas.pydata.org/pandas-docs/stable/user_guide/indexing.html#returning-a-view-versus-a-copy\n",
      "  article.relation_validation_data[\"valid\"] = 1\n",
      "/home/ubuntu/.local/lib/python3.6/site-packages/pandas/core/indexing.py:1765: SettingWithCopyWarning: \n",
      "A value is trying to be set on a copy of a slice from a DataFrame.\n",
      "Try using .loc[row_indexer,col_indexer] = value instead\n",
      "\n",
      "See the caveats in the documentation: https://pandas.pydata.org/pandas-docs/stable/user_guide/indexing.html#returning-a-view-versus-a-copy\n",
      "  isetter(loc, value)\n"
     ]
    },
    {
     "name": "stdout",
     "output_type": "stream",
     "text": [
      "Text took: 3.5311031341552734 Num S / Coref: 8 / 8\n",
      "Current Article111\n"
     ]
    },
    {
     "name": "stderr",
     "output_type": "stream",
     "text": [
      "/mnt/efs/fs1/CSS_Termpaper/EntityNetwork/entitynetwork/relation_extraction/relation_extraction.py:60: RuntimeWarning: Mean of empty slice\n",
      "  sentiment = np.nanmean(prod)\n",
      "/mnt/efs/fs1/CSS_Termpaper/EntityNetwork/entitynetwork/validation_tool/entity_validation.py:61: SettingWithCopyWarning: \n",
      "A value is trying to be set on a copy of a slice from a DataFrame\n",
      "\n",
      "See the caveats in the documentation: https://pandas.pydata.org/pandas-docs/stable/user_guide/indexing.html#returning-a-view-versus-a-copy\n",
      "  self.merged_data[\"synonyms\"][~self.merged_data[\"synonyms\"].str.contains(\"__\", na=False)] = np.NaN\n"
     ]
    },
    {
     "name": "stdout",
     "output_type": "stream",
     "text": [
      "Text took: 2.5929510593414307 Num S / Coref: 8 / 8\n",
      "Current Article112\n"
     ]
    },
    {
     "name": "stderr",
     "output_type": "stream",
     "text": [
      "/mnt/efs/fs1/CSS_Termpaper/EntityNetwork/entitynetwork/relation_extraction/relation_extraction.py:60: RuntimeWarning: Mean of empty slice\n",
      "  sentiment = np.nanmean(prod)\n",
      "/mnt/efs/fs1/CSS_Termpaper/EntityNetwork/entitynetwork/validation_tool/entity_validation.py:61: SettingWithCopyWarning: \n",
      "A value is trying to be set on a copy of a slice from a DataFrame\n",
      "\n",
      "See the caveats in the documentation: https://pandas.pydata.org/pandas-docs/stable/user_guide/indexing.html#returning-a-view-versus-a-copy\n",
      "  self.merged_data[\"synonyms\"][~self.merged_data[\"synonyms\"].str.contains(\"__\", na=False)] = np.NaN\n",
      "/mnt/efs/fs1/CSS_Termpaper/EntityNetwork/entitynetwork/validation_tool/relation_validation.py:36: SettingWithCopyWarning: \n",
      "A value is trying to be set on a copy of a slice from a DataFrame.\n",
      "Try using .loc[row_indexer,col_indexer] = value instead\n",
      "\n",
      "See the caveats in the documentation: https://pandas.pydata.org/pandas-docs/stable/user_guide/indexing.html#returning-a-view-versus-a-copy\n",
      "  article.relation_validation_data[\"valid\"] = 1\n",
      "/home/ubuntu/.local/lib/python3.6/site-packages/pandas/core/indexing.py:1765: SettingWithCopyWarning: \n",
      "A value is trying to be set on a copy of a slice from a DataFrame.\n",
      "Try using .loc[row_indexer,col_indexer] = value instead\n",
      "\n",
      "See the caveats in the documentation: https://pandas.pydata.org/pandas-docs/stable/user_guide/indexing.html#returning-a-view-versus-a-copy\n",
      "  isetter(loc, value)\n"
     ]
    },
    {
     "name": "stdout",
     "output_type": "stream",
     "text": [
      "Text took: 9.40393328666687 Num S / Coref: 27 / 27\n",
      "Current Article113\n"
     ]
    },
    {
     "name": "stderr",
     "output_type": "stream",
     "text": [
      "/mnt/efs/fs1/CSS_Termpaper/EntityNetwork/entitynetwork/relation_extraction/relation_extraction.py:60: RuntimeWarning: Mean of empty slice\n",
      "  sentiment = np.nanmean(prod)\n",
      "/mnt/efs/fs1/CSS_Termpaper/EntityNetwork/entitynetwork/validation_tool/entity_validation.py:61: SettingWithCopyWarning: \n",
      "A value is trying to be set on a copy of a slice from a DataFrame\n",
      "\n",
      "See the caveats in the documentation: https://pandas.pydata.org/pandas-docs/stable/user_guide/indexing.html#returning-a-view-versus-a-copy\n",
      "  self.merged_data[\"synonyms\"][~self.merged_data[\"synonyms\"].str.contains(\"__\", na=False)] = np.NaN\n",
      "/mnt/efs/fs1/CSS_Termpaper/EntityNetwork/entitynetwork/validation_tool/relation_validation.py:36: SettingWithCopyWarning: \n",
      "A value is trying to be set on a copy of a slice from a DataFrame.\n",
      "Try using .loc[row_indexer,col_indexer] = value instead\n",
      "\n",
      "See the caveats in the documentation: https://pandas.pydata.org/pandas-docs/stable/user_guide/indexing.html#returning-a-view-versus-a-copy\n",
      "  article.relation_validation_data[\"valid\"] = 1\n",
      "/home/ubuntu/.local/lib/python3.6/site-packages/pandas/core/indexing.py:1765: SettingWithCopyWarning: \n",
      "A value is trying to be set on a copy of a slice from a DataFrame.\n",
      "Try using .loc[row_indexer,col_indexer] = value instead\n",
      "\n",
      "See the caveats in the documentation: https://pandas.pydata.org/pandas-docs/stable/user_guide/indexing.html#returning-a-view-versus-a-copy\n",
      "  isetter(loc, value)\n"
     ]
    },
    {
     "name": "stdout",
     "output_type": "stream",
     "text": [
      "Text took: 21.65996479988098 Num S / Coref: 55 / 55\n",
      "Current Article114\n"
     ]
    },
    {
     "name": "stderr",
     "output_type": "stream",
     "text": [
      "/mnt/efs/fs1/CSS_Termpaper/EntityNetwork/entitynetwork/relation_extraction/relation_extraction.py:60: RuntimeWarning: Mean of empty slice\n",
      "  sentiment = np.nanmean(prod)\n",
      "/mnt/efs/fs1/CSS_Termpaper/EntityNetwork/entitynetwork/validation_tool/relation_validation.py:36: SettingWithCopyWarning: \n",
      "A value is trying to be set on a copy of a slice from a DataFrame.\n",
      "Try using .loc[row_indexer,col_indexer] = value instead\n",
      "\n",
      "See the caveats in the documentation: https://pandas.pydata.org/pandas-docs/stable/user_guide/indexing.html#returning-a-view-versus-a-copy\n",
      "  article.relation_validation_data[\"valid\"] = 1\n",
      "/home/ubuntu/.local/lib/python3.6/site-packages/pandas/core/indexing.py:1765: SettingWithCopyWarning: \n",
      "A value is trying to be set on a copy of a slice from a DataFrame.\n",
      "Try using .loc[row_indexer,col_indexer] = value instead\n",
      "\n",
      "See the caveats in the documentation: https://pandas.pydata.org/pandas-docs/stable/user_guide/indexing.html#returning-a-view-versus-a-copy\n",
      "  isetter(loc, value)\n"
     ]
    },
    {
     "name": "stdout",
     "output_type": "stream",
     "text": [
      "Text took: 13.972768545150757 Num S / Coref: 29 / 28\n",
      "Current Article115\n"
     ]
    },
    {
     "name": "stderr",
     "output_type": "stream",
     "text": [
      "/mnt/efs/fs1/CSS_Termpaper/EntityNetwork/entitynetwork/relation_extraction/relation_extraction.py:60: RuntimeWarning: Mean of empty slice\n",
      "  sentiment = np.nanmean(prod)\n",
      "/mnt/efs/fs1/CSS_Termpaper/EntityNetwork/entitynetwork/validation_tool/relation_validation.py:36: SettingWithCopyWarning: \n",
      "A value is trying to be set on a copy of a slice from a DataFrame.\n",
      "Try using .loc[row_indexer,col_indexer] = value instead\n",
      "\n",
      "See the caveats in the documentation: https://pandas.pydata.org/pandas-docs/stable/user_guide/indexing.html#returning-a-view-versus-a-copy\n",
      "  article.relation_validation_data[\"valid\"] = 1\n",
      "/home/ubuntu/.local/lib/python3.6/site-packages/pandas/core/indexing.py:1765: SettingWithCopyWarning: \n",
      "A value is trying to be set on a copy of a slice from a DataFrame.\n",
      "Try using .loc[row_indexer,col_indexer] = value instead\n",
      "\n",
      "See the caveats in the documentation: https://pandas.pydata.org/pandas-docs/stable/user_guide/indexing.html#returning-a-view-versus-a-copy\n",
      "  isetter(loc, value)\n"
     ]
    },
    {
     "name": "stdout",
     "output_type": "stream",
     "text": [
      "Text took: 11.004691123962402 Num S / Coref: 22 / 21\n",
      "Current Article116\n"
     ]
    },
    {
     "name": "stderr",
     "output_type": "stream",
     "text": [
      "/mnt/efs/fs1/CSS_Termpaper/EntityNetwork/entitynetwork/relation_extraction/relation_extraction.py:60: RuntimeWarning: Mean of empty slice\n",
      "  sentiment = np.nanmean(prod)\n",
      "/mnt/efs/fs1/CSS_Termpaper/EntityNetwork/entitynetwork/validation_tool/relation_validation.py:36: SettingWithCopyWarning: \n",
      "A value is trying to be set on a copy of a slice from a DataFrame.\n",
      "Try using .loc[row_indexer,col_indexer] = value instead\n",
      "\n",
      "See the caveats in the documentation: https://pandas.pydata.org/pandas-docs/stable/user_guide/indexing.html#returning-a-view-versus-a-copy\n",
      "  article.relation_validation_data[\"valid\"] = 1\n",
      "/home/ubuntu/.local/lib/python3.6/site-packages/pandas/core/indexing.py:1765: SettingWithCopyWarning: \n",
      "A value is trying to be set on a copy of a slice from a DataFrame.\n",
      "Try using .loc[row_indexer,col_indexer] = value instead\n",
      "\n",
      "See the caveats in the documentation: https://pandas.pydata.org/pandas-docs/stable/user_guide/indexing.html#returning-a-view-versus-a-copy\n",
      "  isetter(loc, value)\n"
     ]
    },
    {
     "name": "stdout",
     "output_type": "stream",
     "text": [
      "Text took: 3.4482502937316895 Num S / Coref: 9 / 9\n",
      "Current Article117\n"
     ]
    },
    {
     "name": "stderr",
     "output_type": "stream",
     "text": [
      "/mnt/efs/fs1/CSS_Termpaper/EntityNetwork/entitynetwork/relation_extraction/relation_extraction.py:60: RuntimeWarning: Mean of empty slice\n",
      "  sentiment = np.nanmean(prod)\n",
      "/mnt/efs/fs1/CSS_Termpaper/EntityNetwork/entitynetwork/validation_tool/relation_validation.py:36: SettingWithCopyWarning: \n",
      "A value is trying to be set on a copy of a slice from a DataFrame.\n",
      "Try using .loc[row_indexer,col_indexer] = value instead\n",
      "\n",
      "See the caveats in the documentation: https://pandas.pydata.org/pandas-docs/stable/user_guide/indexing.html#returning-a-view-versus-a-copy\n",
      "  article.relation_validation_data[\"valid\"] = 1\n",
      "/home/ubuntu/.local/lib/python3.6/site-packages/pandas/core/indexing.py:1765: SettingWithCopyWarning: \n",
      "A value is trying to be set on a copy of a slice from a DataFrame.\n",
      "Try using .loc[row_indexer,col_indexer] = value instead\n",
      "\n",
      "See the caveats in the documentation: https://pandas.pydata.org/pandas-docs/stable/user_guide/indexing.html#returning-a-view-versus-a-copy\n",
      "  isetter(loc, value)\n"
     ]
    },
    {
     "name": "stdout",
     "output_type": "stream",
     "text": [
      "Text took: 2.7015531063079834 Num S / Coref: 5 / 5\n",
      "Current Article118\n"
     ]
    },
    {
     "name": "stderr",
     "output_type": "stream",
     "text": [
      "/mnt/efs/fs1/CSS_Termpaper/EntityNetwork/entitynetwork/relation_extraction/relation_extraction.py:60: RuntimeWarning: Mean of empty slice\n",
      "  sentiment = np.nanmean(prod)\n",
      "/mnt/efs/fs1/CSS_Termpaper/EntityNetwork/entitynetwork/validation_tool/relation_validation.py:36: SettingWithCopyWarning: \n",
      "A value is trying to be set on a copy of a slice from a DataFrame.\n",
      "Try using .loc[row_indexer,col_indexer] = value instead\n",
      "\n",
      "See the caveats in the documentation: https://pandas.pydata.org/pandas-docs/stable/user_guide/indexing.html#returning-a-view-versus-a-copy\n",
      "  article.relation_validation_data[\"valid\"] = 1\n",
      "/home/ubuntu/.local/lib/python3.6/site-packages/pandas/core/indexing.py:1765: SettingWithCopyWarning: \n",
      "A value is trying to be set on a copy of a slice from a DataFrame.\n",
      "Try using .loc[row_indexer,col_indexer] = value instead\n",
      "\n",
      "See the caveats in the documentation: https://pandas.pydata.org/pandas-docs/stable/user_guide/indexing.html#returning-a-view-versus-a-copy\n",
      "  isetter(loc, value)\n"
     ]
    },
    {
     "name": "stdout",
     "output_type": "stream",
     "text": [
      "Text took: 5.726857900619507 Num S / Coref: 12 / 12\n",
      "Current Article119\n"
     ]
    },
    {
     "name": "stderr",
     "output_type": "stream",
     "text": [
      "/mnt/efs/fs1/CSS_Termpaper/EntityNetwork/entitynetwork/relation_extraction/relation_extraction.py:60: RuntimeWarning: Mean of empty slice\n",
      "  sentiment = np.nanmean(prod)\n",
      "/mnt/efs/fs1/CSS_Termpaper/EntityNetwork/entitynetwork/validation_tool/entity_validation.py:61: SettingWithCopyWarning: \n",
      "A value is trying to be set on a copy of a slice from a DataFrame\n",
      "\n",
      "See the caveats in the documentation: https://pandas.pydata.org/pandas-docs/stable/user_guide/indexing.html#returning-a-view-versus-a-copy\n",
      "  self.merged_data[\"synonyms\"][~self.merged_data[\"synonyms\"].str.contains(\"__\", na=False)] = np.NaN\n",
      "/mnt/efs/fs1/CSS_Termpaper/EntityNetwork/entitynetwork/validation_tool/relation_validation.py:36: SettingWithCopyWarning: \n",
      "A value is trying to be set on a copy of a slice from a DataFrame.\n",
      "Try using .loc[row_indexer,col_indexer] = value instead\n",
      "\n",
      "See the caveats in the documentation: https://pandas.pydata.org/pandas-docs/stable/user_guide/indexing.html#returning-a-view-versus-a-copy\n",
      "  article.relation_validation_data[\"valid\"] = 1\n",
      "/home/ubuntu/.local/lib/python3.6/site-packages/pandas/core/indexing.py:1765: SettingWithCopyWarning: \n",
      "A value is trying to be set on a copy of a slice from a DataFrame.\n",
      "Try using .loc[row_indexer,col_indexer] = value instead\n",
      "\n",
      "See the caveats in the documentation: https://pandas.pydata.org/pandas-docs/stable/user_guide/indexing.html#returning-a-view-versus-a-copy\n",
      "  isetter(loc, value)\n"
     ]
    },
    {
     "name": "stdout",
     "output_type": "stream",
     "text": [
      "Text took: 5.119959354400635 Num S / Coref: 11 / 11\n",
      "Current Article120\n"
     ]
    },
    {
     "name": "stderr",
     "output_type": "stream",
     "text": [
      "/mnt/efs/fs1/CSS_Termpaper/EntityNetwork/entitynetwork/relation_extraction/relation_extraction.py:60: RuntimeWarning: Mean of empty slice\n",
      "  sentiment = np.nanmean(prod)\n",
      "/mnt/efs/fs1/CSS_Termpaper/EntityNetwork/entitynetwork/validation_tool/entity_validation.py:61: SettingWithCopyWarning: \n",
      "A value is trying to be set on a copy of a slice from a DataFrame\n",
      "\n",
      "See the caveats in the documentation: https://pandas.pydata.org/pandas-docs/stable/user_guide/indexing.html#returning-a-view-versus-a-copy\n",
      "  self.merged_data[\"synonyms\"][~self.merged_data[\"synonyms\"].str.contains(\"__\", na=False)] = np.NaN\n",
      "/mnt/efs/fs1/CSS_Termpaper/EntityNetwork/entitynetwork/validation_tool/relation_validation.py:36: SettingWithCopyWarning: \n",
      "A value is trying to be set on a copy of a slice from a DataFrame.\n",
      "Try using .loc[row_indexer,col_indexer] = value instead\n",
      "\n",
      "See the caveats in the documentation: https://pandas.pydata.org/pandas-docs/stable/user_guide/indexing.html#returning-a-view-versus-a-copy\n",
      "  article.relation_validation_data[\"valid\"] = 1\n",
      "/home/ubuntu/.local/lib/python3.6/site-packages/pandas/core/indexing.py:1765: SettingWithCopyWarning: \n",
      "A value is trying to be set on a copy of a slice from a DataFrame.\n",
      "Try using .loc[row_indexer,col_indexer] = value instead\n",
      "\n",
      "See the caveats in the documentation: https://pandas.pydata.org/pandas-docs/stable/user_guide/indexing.html#returning-a-view-versus-a-copy\n",
      "  isetter(loc, value)\n"
     ]
    },
    {
     "name": "stdout",
     "output_type": "stream",
     "text": [
      "Text took: 10.602956295013428 Num S / Coref: 17 / 20\n",
      "Current Article121\n"
     ]
    },
    {
     "name": "stderr",
     "output_type": "stream",
     "text": [
      "/mnt/efs/fs1/CSS_Termpaper/EntityNetwork/entitynetwork/relation_extraction/relation_extraction.py:60: RuntimeWarning: Mean of empty slice\n",
      "  sentiment = np.nanmean(prod)\n",
      "/mnt/efs/fs1/CSS_Termpaper/EntityNetwork/entitynetwork/validation_tool/relation_validation.py:36: SettingWithCopyWarning: \n",
      "A value is trying to be set on a copy of a slice from a DataFrame.\n",
      "Try using .loc[row_indexer,col_indexer] = value instead\n",
      "\n",
      "See the caveats in the documentation: https://pandas.pydata.org/pandas-docs/stable/user_guide/indexing.html#returning-a-view-versus-a-copy\n",
      "  article.relation_validation_data[\"valid\"] = 1\n",
      "/home/ubuntu/.local/lib/python3.6/site-packages/pandas/core/indexing.py:1765: SettingWithCopyWarning: \n",
      "A value is trying to be set on a copy of a slice from a DataFrame.\n",
      "Try using .loc[row_indexer,col_indexer] = value instead\n",
      "\n",
      "See the caveats in the documentation: https://pandas.pydata.org/pandas-docs/stable/user_guide/indexing.html#returning-a-view-versus-a-copy\n",
      "  isetter(loc, value)\n"
     ]
    },
    {
     "name": "stdout",
     "output_type": "stream",
     "text": [
      "Text took: 23.31496262550354 Num S / Coref: 51 / 51\n",
      "Current Article122\n"
     ]
    },
    {
     "name": "stderr",
     "output_type": "stream",
     "text": [
      "/mnt/efs/fs1/CSS_Termpaper/EntityNetwork/entitynetwork/relation_extraction/relation_extraction.py:60: RuntimeWarning: Mean of empty slice\n",
      "  sentiment = np.nanmean(prod)\n",
      "/mnt/efs/fs1/CSS_Termpaper/EntityNetwork/entitynetwork/validation_tool/relation_validation.py:36: SettingWithCopyWarning: \n",
      "A value is trying to be set on a copy of a slice from a DataFrame.\n",
      "Try using .loc[row_indexer,col_indexer] = value instead\n",
      "\n",
      "See the caveats in the documentation: https://pandas.pydata.org/pandas-docs/stable/user_guide/indexing.html#returning-a-view-versus-a-copy\n",
      "  article.relation_validation_data[\"valid\"] = 1\n",
      "/home/ubuntu/.local/lib/python3.6/site-packages/pandas/core/indexing.py:1765: SettingWithCopyWarning: \n",
      "A value is trying to be set on a copy of a slice from a DataFrame.\n",
      "Try using .loc[row_indexer,col_indexer] = value instead\n",
      "\n",
      "See the caveats in the documentation: https://pandas.pydata.org/pandas-docs/stable/user_guide/indexing.html#returning-a-view-versus-a-copy\n",
      "  isetter(loc, value)\n"
     ]
    },
    {
     "name": "stdout",
     "output_type": "stream",
     "text": [
      "Text took: 13.930411100387573 Num S / Coref: 32 / 37\n",
      "Current Article123\n"
     ]
    },
    {
     "name": "stderr",
     "output_type": "stream",
     "text": [
      "/mnt/efs/fs1/CSS_Termpaper/EntityNetwork/entitynetwork/relation_extraction/relation_extraction.py:60: RuntimeWarning: Mean of empty slice\n",
      "  sentiment = np.nanmean(prod)\n",
      "/mnt/efs/fs1/CSS_Termpaper/EntityNetwork/entitynetwork/validation_tool/entity_validation.py:61: SettingWithCopyWarning: \n",
      "A value is trying to be set on a copy of a slice from a DataFrame\n",
      "\n",
      "See the caveats in the documentation: https://pandas.pydata.org/pandas-docs/stable/user_guide/indexing.html#returning-a-view-versus-a-copy\n",
      "  self.merged_data[\"synonyms\"][~self.merged_data[\"synonyms\"].str.contains(\"__\", na=False)] = np.NaN\n",
      "/mnt/efs/fs1/CSS_Termpaper/EntityNetwork/entitynetwork/validation_tool/relation_validation.py:36: SettingWithCopyWarning: \n",
      "A value is trying to be set on a copy of a slice from a DataFrame.\n",
      "Try using .loc[row_indexer,col_indexer] = value instead\n",
      "\n",
      "See the caveats in the documentation: https://pandas.pydata.org/pandas-docs/stable/user_guide/indexing.html#returning-a-view-versus-a-copy\n",
      "  article.relation_validation_data[\"valid\"] = 1\n",
      "/home/ubuntu/.local/lib/python3.6/site-packages/pandas/core/indexing.py:1765: SettingWithCopyWarning: \n",
      "A value is trying to be set on a copy of a slice from a DataFrame.\n",
      "Try using .loc[row_indexer,col_indexer] = value instead\n",
      "\n",
      "See the caveats in the documentation: https://pandas.pydata.org/pandas-docs/stable/user_guide/indexing.html#returning-a-view-versus-a-copy\n",
      "  isetter(loc, value)\n"
     ]
    },
    {
     "name": "stdout",
     "output_type": "stream",
     "text": [
      "Text took: 4.527420997619629 Num S / Coref: 10 / 10\n",
      "Current Article124\n"
     ]
    },
    {
     "name": "stderr",
     "output_type": "stream",
     "text": [
      "/mnt/efs/fs1/CSS_Termpaper/EntityNetwork/entitynetwork/relation_extraction/relation_extraction.py:60: RuntimeWarning: Mean of empty slice\n",
      "  sentiment = np.nanmean(prod)\n",
      "/mnt/efs/fs1/CSS_Termpaper/EntityNetwork/entitynetwork/validation_tool/relation_validation.py:36: SettingWithCopyWarning: \n",
      "A value is trying to be set on a copy of a slice from a DataFrame.\n",
      "Try using .loc[row_indexer,col_indexer] = value instead\n",
      "\n",
      "See the caveats in the documentation: https://pandas.pydata.org/pandas-docs/stable/user_guide/indexing.html#returning-a-view-versus-a-copy\n",
      "  article.relation_validation_data[\"valid\"] = 1\n",
      "/home/ubuntu/.local/lib/python3.6/site-packages/pandas/core/indexing.py:1765: SettingWithCopyWarning: \n",
      "A value is trying to be set on a copy of a slice from a DataFrame.\n",
      "Try using .loc[row_indexer,col_indexer] = value instead\n",
      "\n",
      "See the caveats in the documentation: https://pandas.pydata.org/pandas-docs/stable/user_guide/indexing.html#returning-a-view-versus-a-copy\n",
      "  isetter(loc, value)\n"
     ]
    },
    {
     "name": "stdout",
     "output_type": "stream",
     "text": [
      "Text took: 10.848968267440796 Num S / Coref: 30 / 30\n",
      "Current Article125\n"
     ]
    },
    {
     "name": "stderr",
     "output_type": "stream",
     "text": [
      "/mnt/efs/fs1/CSS_Termpaper/EntityNetwork/entitynetwork/relation_extraction/relation_extraction.py:60: RuntimeWarning: Mean of empty slice\n",
      "  sentiment = np.nanmean(prod)\n",
      "/mnt/efs/fs1/CSS_Termpaper/EntityNetwork/entitynetwork/validation_tool/entity_validation.py:61: SettingWithCopyWarning: \n",
      "A value is trying to be set on a copy of a slice from a DataFrame\n",
      "\n",
      "See the caveats in the documentation: https://pandas.pydata.org/pandas-docs/stable/user_guide/indexing.html#returning-a-view-versus-a-copy\n",
      "  self.merged_data[\"synonyms\"][~self.merged_data[\"synonyms\"].str.contains(\"__\", na=False)] = np.NaN\n",
      "/mnt/efs/fs1/CSS_Termpaper/EntityNetwork/entitynetwork/validation_tool/relation_validation.py:36: SettingWithCopyWarning: \n",
      "A value is trying to be set on a copy of a slice from a DataFrame.\n",
      "Try using .loc[row_indexer,col_indexer] = value instead\n",
      "\n",
      "See the caveats in the documentation: https://pandas.pydata.org/pandas-docs/stable/user_guide/indexing.html#returning-a-view-versus-a-copy\n",
      "  article.relation_validation_data[\"valid\"] = 1\n",
      "/home/ubuntu/.local/lib/python3.6/site-packages/pandas/core/indexing.py:1765: SettingWithCopyWarning: \n",
      "A value is trying to be set on a copy of a slice from a DataFrame.\n",
      "Try using .loc[row_indexer,col_indexer] = value instead\n",
      "\n",
      "See the caveats in the documentation: https://pandas.pydata.org/pandas-docs/stable/user_guide/indexing.html#returning-a-view-versus-a-copy\n",
      "  isetter(loc, value)\n"
     ]
    },
    {
     "name": "stdout",
     "output_type": "stream",
     "text": [
      "Text took: 10.267595529556274 Num S / Coref: 28 / 28\n",
      "Current Article126\n"
     ]
    },
    {
     "name": "stderr",
     "output_type": "stream",
     "text": [
      "/mnt/efs/fs1/CSS_Termpaper/EntityNetwork/entitynetwork/validation_tool/entity_validation.py:61: SettingWithCopyWarning: \n",
      "A value is trying to be set on a copy of a slice from a DataFrame\n",
      "\n",
      "See the caveats in the documentation: https://pandas.pydata.org/pandas-docs/stable/user_guide/indexing.html#returning-a-view-versus-a-copy\n",
      "  self.merged_data[\"synonyms\"][~self.merged_data[\"synonyms\"].str.contains(\"__\", na=False)] = np.NaN\n",
      "/mnt/efs/fs1/CSS_Termpaper/EntityNetwork/entitynetwork/validation_tool/relation_validation.py:36: SettingWithCopyWarning: \n",
      "A value is trying to be set on a copy of a slice from a DataFrame.\n",
      "Try using .loc[row_indexer,col_indexer] = value instead\n",
      "\n",
      "See the caveats in the documentation: https://pandas.pydata.org/pandas-docs/stable/user_guide/indexing.html#returning-a-view-versus-a-copy\n",
      "  article.relation_validation_data[\"valid\"] = 1\n",
      "/home/ubuntu/.local/lib/python3.6/site-packages/pandas/core/indexing.py:1765: SettingWithCopyWarning: \n",
      "A value is trying to be set on a copy of a slice from a DataFrame.\n",
      "Try using .loc[row_indexer,col_indexer] = value instead\n",
      "\n",
      "See the caveats in the documentation: https://pandas.pydata.org/pandas-docs/stable/user_guide/indexing.html#returning-a-view-versus-a-copy\n",
      "  isetter(loc, value)\n"
     ]
    },
    {
     "name": "stdout",
     "output_type": "stream",
     "text": [
      "Text took: 1.1474199295043945 Num S / Coref: 2 / 2\n",
      "Current Article127\n"
     ]
    },
    {
     "name": "stderr",
     "output_type": "stream",
     "text": [
      "/mnt/efs/fs1/CSS_Termpaper/EntityNetwork/entitynetwork/validation_tool/entity_validation.py:61: SettingWithCopyWarning: \n",
      "A value is trying to be set on a copy of a slice from a DataFrame\n",
      "\n",
      "See the caveats in the documentation: https://pandas.pydata.org/pandas-docs/stable/user_guide/indexing.html#returning-a-view-versus-a-copy\n",
      "  self.merged_data[\"synonyms\"][~self.merged_data[\"synonyms\"].str.contains(\"__\", na=False)] = np.NaN\n",
      "/mnt/efs/fs1/CSS_Termpaper/EntityNetwork/entitynetwork/validation_tool/relation_validation.py:36: SettingWithCopyWarning: \n",
      "A value is trying to be set on a copy of a slice from a DataFrame.\n",
      "Try using .loc[row_indexer,col_indexer] = value instead\n",
      "\n",
      "See the caveats in the documentation: https://pandas.pydata.org/pandas-docs/stable/user_guide/indexing.html#returning-a-view-versus-a-copy\n",
      "  article.relation_validation_data[\"valid\"] = 1\n",
      "/home/ubuntu/.local/lib/python3.6/site-packages/pandas/core/indexing.py:1765: SettingWithCopyWarning: \n",
      "A value is trying to be set on a copy of a slice from a DataFrame.\n",
      "Try using .loc[row_indexer,col_indexer] = value instead\n",
      "\n",
      "See the caveats in the documentation: https://pandas.pydata.org/pandas-docs/stable/user_guide/indexing.html#returning-a-view-versus-a-copy\n",
      "  isetter(loc, value)\n"
     ]
    },
    {
     "name": "stdout",
     "output_type": "stream",
     "text": [
      "Text took: 2.646836519241333 Num S / Coref: 6 / 6\n",
      "Current Article128\n"
     ]
    },
    {
     "name": "stderr",
     "output_type": "stream",
     "text": [
      "/mnt/efs/fs1/CSS_Termpaper/EntityNetwork/entitynetwork/relation_extraction/relation_extraction.py:60: RuntimeWarning: Mean of empty slice\n",
      "  sentiment = np.nanmean(prod)\n",
      "/mnt/efs/fs1/CSS_Termpaper/EntityNetwork/entitynetwork/validation_tool/relation_validation.py:36: SettingWithCopyWarning: \n",
      "A value is trying to be set on a copy of a slice from a DataFrame.\n",
      "Try using .loc[row_indexer,col_indexer] = value instead\n",
      "\n",
      "See the caveats in the documentation: https://pandas.pydata.org/pandas-docs/stable/user_guide/indexing.html#returning-a-view-versus-a-copy\n",
      "  article.relation_validation_data[\"valid\"] = 1\n",
      "/home/ubuntu/.local/lib/python3.6/site-packages/pandas/core/indexing.py:1765: SettingWithCopyWarning: \n",
      "A value is trying to be set on a copy of a slice from a DataFrame.\n",
      "Try using .loc[row_indexer,col_indexer] = value instead\n",
      "\n",
      "See the caveats in the documentation: https://pandas.pydata.org/pandas-docs/stable/user_guide/indexing.html#returning-a-view-versus-a-copy\n",
      "  isetter(loc, value)\n"
     ]
    },
    {
     "name": "stdout",
     "output_type": "stream",
     "text": [
      "Text took: 6.517484903335571 Num S / Coref: 11 / 11\n",
      "Current Article129\n"
     ]
    },
    {
     "name": "stderr",
     "output_type": "stream",
     "text": [
      "/mnt/efs/fs1/CSS_Termpaper/EntityNetwork/entitynetwork/relation_extraction/relation_extraction.py:60: RuntimeWarning: Mean of empty slice\n",
      "  sentiment = np.nanmean(prod)\n",
      "/mnt/efs/fs1/CSS_Termpaper/EntityNetwork/entitynetwork/validation_tool/relation_validation.py:36: SettingWithCopyWarning: \n",
      "A value is trying to be set on a copy of a slice from a DataFrame.\n",
      "Try using .loc[row_indexer,col_indexer] = value instead\n",
      "\n",
      "See the caveats in the documentation: https://pandas.pydata.org/pandas-docs/stable/user_guide/indexing.html#returning-a-view-versus-a-copy\n",
      "  article.relation_validation_data[\"valid\"] = 1\n",
      "/home/ubuntu/.local/lib/python3.6/site-packages/pandas/core/indexing.py:1765: SettingWithCopyWarning: \n",
      "A value is trying to be set on a copy of a slice from a DataFrame.\n",
      "Try using .loc[row_indexer,col_indexer] = value instead\n",
      "\n",
      "See the caveats in the documentation: https://pandas.pydata.org/pandas-docs/stable/user_guide/indexing.html#returning-a-view-versus-a-copy\n",
      "  isetter(loc, value)\n"
     ]
    },
    {
     "name": "stdout",
     "output_type": "stream",
     "text": [
      "Text took: 13.245218992233276 Num S / Coref: 22 / 22\n",
      "Current Article130\n"
     ]
    },
    {
     "name": "stderr",
     "output_type": "stream",
     "text": [
      "/mnt/efs/fs1/CSS_Termpaper/EntityNetwork/entitynetwork/relation_extraction/relation_extraction.py:60: RuntimeWarning: Mean of empty slice\n",
      "  sentiment = np.nanmean(prod)\n",
      "/mnt/efs/fs1/CSS_Termpaper/EntityNetwork/entitynetwork/validation_tool/relation_validation.py:36: SettingWithCopyWarning: \n",
      "A value is trying to be set on a copy of a slice from a DataFrame.\n",
      "Try using .loc[row_indexer,col_indexer] = value instead\n",
      "\n",
      "See the caveats in the documentation: https://pandas.pydata.org/pandas-docs/stable/user_guide/indexing.html#returning-a-view-versus-a-copy\n",
      "  article.relation_validation_data[\"valid\"] = 1\n",
      "/home/ubuntu/.local/lib/python3.6/site-packages/pandas/core/indexing.py:1765: SettingWithCopyWarning: \n",
      "A value is trying to be set on a copy of a slice from a DataFrame.\n",
      "Try using .loc[row_indexer,col_indexer] = value instead\n",
      "\n",
      "See the caveats in the documentation: https://pandas.pydata.org/pandas-docs/stable/user_guide/indexing.html#returning-a-view-versus-a-copy\n",
      "  isetter(loc, value)\n"
     ]
    },
    {
     "name": "stdout",
     "output_type": "stream",
     "text": [
      "Text took: 19.98205327987671 Num S / Coref: 44 / 44\n",
      "Current Article131\n"
     ]
    },
    {
     "name": "stderr",
     "output_type": "stream",
     "text": [
      "/mnt/efs/fs1/CSS_Termpaper/EntityNetwork/entitynetwork/relation_extraction/relation_extraction.py:60: RuntimeWarning: Mean of empty slice\n",
      "  sentiment = np.nanmean(prod)\n",
      "/mnt/efs/fs1/CSS_Termpaper/EntityNetwork/entitynetwork/validation_tool/entity_validation.py:61: SettingWithCopyWarning: \n",
      "A value is trying to be set on a copy of a slice from a DataFrame\n",
      "\n",
      "See the caveats in the documentation: https://pandas.pydata.org/pandas-docs/stable/user_guide/indexing.html#returning-a-view-versus-a-copy\n",
      "  self.merged_data[\"synonyms\"][~self.merged_data[\"synonyms\"].str.contains(\"__\", na=False)] = np.NaN\n",
      "/mnt/efs/fs1/CSS_Termpaper/EntityNetwork/entitynetwork/validation_tool/relation_validation.py:36: SettingWithCopyWarning: \n",
      "A value is trying to be set on a copy of a slice from a DataFrame.\n",
      "Try using .loc[row_indexer,col_indexer] = value instead\n",
      "\n",
      "See the caveats in the documentation: https://pandas.pydata.org/pandas-docs/stable/user_guide/indexing.html#returning-a-view-versus-a-copy\n",
      "  article.relation_validation_data[\"valid\"] = 1\n",
      "/home/ubuntu/.local/lib/python3.6/site-packages/pandas/core/indexing.py:1765: SettingWithCopyWarning: \n",
      "A value is trying to be set on a copy of a slice from a DataFrame.\n",
      "Try using .loc[row_indexer,col_indexer] = value instead\n",
      "\n",
      "See the caveats in the documentation: https://pandas.pydata.org/pandas-docs/stable/user_guide/indexing.html#returning-a-view-versus-a-copy\n",
      "  isetter(loc, value)\n"
     ]
    },
    {
     "name": "stdout",
     "output_type": "stream",
     "text": [
      "Text took: 3.943080425262451 Num S / Coref: 6 / 6\n",
      "Current Article132\n"
     ]
    },
    {
     "name": "stderr",
     "output_type": "stream",
     "text": [
      "/mnt/efs/fs1/CSS_Termpaper/EntityNetwork/entitynetwork/relation_extraction/relation_extraction.py:60: RuntimeWarning: Mean of empty slice\n",
      "  sentiment = np.nanmean(prod)\n",
      "/mnt/efs/fs1/CSS_Termpaper/EntityNetwork/entitynetwork/validation_tool/entity_validation.py:61: SettingWithCopyWarning: \n",
      "A value is trying to be set on a copy of a slice from a DataFrame\n",
      "\n",
      "See the caveats in the documentation: https://pandas.pydata.org/pandas-docs/stable/user_guide/indexing.html#returning-a-view-versus-a-copy\n",
      "  self.merged_data[\"synonyms\"][~self.merged_data[\"synonyms\"].str.contains(\"__\", na=False)] = np.NaN\n",
      "/mnt/efs/fs1/CSS_Termpaper/EntityNetwork/entitynetwork/validation_tool/relation_validation.py:36: SettingWithCopyWarning: \n",
      "A value is trying to be set on a copy of a slice from a DataFrame.\n",
      "Try using .loc[row_indexer,col_indexer] = value instead\n",
      "\n",
      "See the caveats in the documentation: https://pandas.pydata.org/pandas-docs/stable/user_guide/indexing.html#returning-a-view-versus-a-copy\n",
      "  article.relation_validation_data[\"valid\"] = 1\n",
      "/home/ubuntu/.local/lib/python3.6/site-packages/pandas/core/indexing.py:1765: SettingWithCopyWarning: \n",
      "A value is trying to be set on a copy of a slice from a DataFrame.\n",
      "Try using .loc[row_indexer,col_indexer] = value instead\n",
      "\n",
      "See the caveats in the documentation: https://pandas.pydata.org/pandas-docs/stable/user_guide/indexing.html#returning-a-view-versus-a-copy\n",
      "  isetter(loc, value)\n"
     ]
    },
    {
     "name": "stdout",
     "output_type": "stream",
     "text": [
      "Text took: 3.3326475620269775 Num S / Coref: 7 / 7\n",
      "Current Article133\n"
     ]
    },
    {
     "name": "stderr",
     "output_type": "stream",
     "text": [
      "/mnt/efs/fs1/CSS_Termpaper/EntityNetwork/entitynetwork/relation_extraction/relation_extraction.py:60: RuntimeWarning: Mean of empty slice\n",
      "  sentiment = np.nanmean(prod)\n",
      "/mnt/efs/fs1/CSS_Termpaper/EntityNetwork/entitynetwork/validation_tool/entity_validation.py:61: SettingWithCopyWarning: \n",
      "A value is trying to be set on a copy of a slice from a DataFrame\n",
      "\n",
      "See the caveats in the documentation: https://pandas.pydata.org/pandas-docs/stable/user_guide/indexing.html#returning-a-view-versus-a-copy\n",
      "  self.merged_data[\"synonyms\"][~self.merged_data[\"synonyms\"].str.contains(\"__\", na=False)] = np.NaN\n",
      "/mnt/efs/fs1/CSS_Termpaper/EntityNetwork/entitynetwork/validation_tool/relation_validation.py:36: SettingWithCopyWarning: \n",
      "A value is trying to be set on a copy of a slice from a DataFrame.\n",
      "Try using .loc[row_indexer,col_indexer] = value instead\n",
      "\n",
      "See the caveats in the documentation: https://pandas.pydata.org/pandas-docs/stable/user_guide/indexing.html#returning-a-view-versus-a-copy\n",
      "  article.relation_validation_data[\"valid\"] = 1\n",
      "/home/ubuntu/.local/lib/python3.6/site-packages/pandas/core/indexing.py:1765: SettingWithCopyWarning: \n",
      "A value is trying to be set on a copy of a slice from a DataFrame.\n",
      "Try using .loc[row_indexer,col_indexer] = value instead\n",
      "\n",
      "See the caveats in the documentation: https://pandas.pydata.org/pandas-docs/stable/user_guide/indexing.html#returning-a-view-versus-a-copy\n",
      "  isetter(loc, value)\n"
     ]
    },
    {
     "name": "stdout",
     "output_type": "stream",
     "text": [
      "Text took: 5.1973066329956055 Num S / Coref: 16 / 16\n",
      "Current Article134\n"
     ]
    },
    {
     "name": "stderr",
     "output_type": "stream",
     "text": [
      "/mnt/efs/fs1/CSS_Termpaper/EntityNetwork/entitynetwork/relation_extraction/relation_extraction.py:60: RuntimeWarning: Mean of empty slice\n",
      "  sentiment = np.nanmean(prod)\n",
      "/mnt/efs/fs1/CSS_Termpaper/EntityNetwork/entitynetwork/validation_tool/relation_validation.py:36: SettingWithCopyWarning: \n",
      "A value is trying to be set on a copy of a slice from a DataFrame.\n",
      "Try using .loc[row_indexer,col_indexer] = value instead\n",
      "\n",
      "See the caveats in the documentation: https://pandas.pydata.org/pandas-docs/stable/user_guide/indexing.html#returning-a-view-versus-a-copy\n",
      "  article.relation_validation_data[\"valid\"] = 1\n",
      "/home/ubuntu/.local/lib/python3.6/site-packages/pandas/core/indexing.py:1765: SettingWithCopyWarning: \n",
      "A value is trying to be set on a copy of a slice from a DataFrame.\n",
      "Try using .loc[row_indexer,col_indexer] = value instead\n",
      "\n",
      "See the caveats in the documentation: https://pandas.pydata.org/pandas-docs/stable/user_guide/indexing.html#returning-a-view-versus-a-copy\n",
      "  isetter(loc, value)\n"
     ]
    },
    {
     "name": "stdout",
     "output_type": "stream",
     "text": [
      "Text took: 11.52444076538086 Num S / Coref: 23 / 23\n",
      "Current Article135\n"
     ]
    },
    {
     "name": "stderr",
     "output_type": "stream",
     "text": [
      "/mnt/efs/fs1/CSS_Termpaper/EntityNetwork/entitynetwork/relation_extraction/relation_extraction.py:60: RuntimeWarning: Mean of empty slice\n",
      "  sentiment = np.nanmean(prod)\n",
      "/mnt/efs/fs1/CSS_Termpaper/EntityNetwork/entitynetwork/validation_tool/entity_validation.py:61: SettingWithCopyWarning: \n",
      "A value is trying to be set on a copy of a slice from a DataFrame\n",
      "\n",
      "See the caveats in the documentation: https://pandas.pydata.org/pandas-docs/stable/user_guide/indexing.html#returning-a-view-versus-a-copy\n",
      "  self.merged_data[\"synonyms\"][~self.merged_data[\"synonyms\"].str.contains(\"__\", na=False)] = np.NaN\n",
      "/mnt/efs/fs1/CSS_Termpaper/EntityNetwork/entitynetwork/validation_tool/relation_validation.py:36: SettingWithCopyWarning: \n",
      "A value is trying to be set on a copy of a slice from a DataFrame.\n",
      "Try using .loc[row_indexer,col_indexer] = value instead\n",
      "\n",
      "See the caveats in the documentation: https://pandas.pydata.org/pandas-docs/stable/user_guide/indexing.html#returning-a-view-versus-a-copy\n",
      "  article.relation_validation_data[\"valid\"] = 1\n",
      "/home/ubuntu/.local/lib/python3.6/site-packages/pandas/core/indexing.py:1765: SettingWithCopyWarning: \n",
      "A value is trying to be set on a copy of a slice from a DataFrame.\n",
      "Try using .loc[row_indexer,col_indexer] = value instead\n",
      "\n",
      "See the caveats in the documentation: https://pandas.pydata.org/pandas-docs/stable/user_guide/indexing.html#returning-a-view-versus-a-copy\n",
      "  isetter(loc, value)\n",
      "/mnt/efs/fs1/CSS_Termpaper/EntityNetwork/entitynetwork/validation_tool/relation_validation.py:110: RuntimeWarning: invalid value encountered in double_scalars\n",
      "  self.f1 = 2 * ((self.precision * self.recall) / (self.precision + self.recall))\n",
      "/mnt/efs/fs1/CSS_Termpaper/EntityNetwork/entitynetwork/validation_tool/relation_validation.py:112: RuntimeWarning: invalid value encountered in long_scalars\n",
      "  self.missed_relations - self.invalid_relations)\n"
     ]
    },
    {
     "name": "stdout",
     "output_type": "stream",
     "text": [
      "Text took: 14.40364670753479 Num S / Coref: 47 / 45\n",
      "Current Article136\n"
     ]
    },
    {
     "name": "stderr",
     "output_type": "stream",
     "text": [
      "/mnt/efs/fs1/CSS_Termpaper/EntityNetwork/entitynetwork/relation_extraction/relation_extraction.py:60: RuntimeWarning: Mean of empty slice\n",
      "  sentiment = np.nanmean(prod)\n",
      "/mnt/efs/fs1/CSS_Termpaper/EntityNetwork/entitynetwork/validation_tool/relation_validation.py:36: SettingWithCopyWarning: \n",
      "A value is trying to be set on a copy of a slice from a DataFrame.\n",
      "Try using .loc[row_indexer,col_indexer] = value instead\n",
      "\n",
      "See the caveats in the documentation: https://pandas.pydata.org/pandas-docs/stable/user_guide/indexing.html#returning-a-view-versus-a-copy\n",
      "  article.relation_validation_data[\"valid\"] = 1\n",
      "/home/ubuntu/.local/lib/python3.6/site-packages/pandas/core/indexing.py:1765: SettingWithCopyWarning: \n",
      "A value is trying to be set on a copy of a slice from a DataFrame.\n",
      "Try using .loc[row_indexer,col_indexer] = value instead\n",
      "\n",
      "See the caveats in the documentation: https://pandas.pydata.org/pandas-docs/stable/user_guide/indexing.html#returning-a-view-versus-a-copy\n",
      "  isetter(loc, value)\n"
     ]
    },
    {
     "name": "stdout",
     "output_type": "stream",
     "text": [
      "Text took: 4.392072677612305 Num S / Coref: 12 / 12\n",
      "Current Article137\n"
     ]
    },
    {
     "name": "stderr",
     "output_type": "stream",
     "text": [
      "/mnt/efs/fs1/CSS_Termpaper/EntityNetwork/entitynetwork/relation_extraction/relation_extraction.py:60: RuntimeWarning: Mean of empty slice\n",
      "  sentiment = np.nanmean(prod)\n",
      "/mnt/efs/fs1/CSS_Termpaper/EntityNetwork/entitynetwork/validation_tool/relation_validation.py:36: SettingWithCopyWarning: \n",
      "A value is trying to be set on a copy of a slice from a DataFrame.\n",
      "Try using .loc[row_indexer,col_indexer] = value instead\n",
      "\n",
      "See the caveats in the documentation: https://pandas.pydata.org/pandas-docs/stable/user_guide/indexing.html#returning-a-view-versus-a-copy\n",
      "  article.relation_validation_data[\"valid\"] = 1\n",
      "/home/ubuntu/.local/lib/python3.6/site-packages/pandas/core/indexing.py:1765: SettingWithCopyWarning: \n",
      "A value is trying to be set on a copy of a slice from a DataFrame.\n",
      "Try using .loc[row_indexer,col_indexer] = value instead\n",
      "\n",
      "See the caveats in the documentation: https://pandas.pydata.org/pandas-docs/stable/user_guide/indexing.html#returning-a-view-versus-a-copy\n",
      "  isetter(loc, value)\n"
     ]
    },
    {
     "name": "stdout",
     "output_type": "stream",
     "text": [
      "Text took: 10.362187147140503 Num S / Coref: 20 / 20\n",
      "Current Article138\n"
     ]
    },
    {
     "name": "stderr",
     "output_type": "stream",
     "text": [
      "/mnt/efs/fs1/CSS_Termpaper/EntityNetwork/entitynetwork/relation_extraction/relation_extraction.py:60: RuntimeWarning: Mean of empty slice\n",
      "  sentiment = np.nanmean(prod)\n",
      "/mnt/efs/fs1/CSS_Termpaper/EntityNetwork/entitynetwork/validation_tool/entity_validation.py:61: SettingWithCopyWarning: \n",
      "A value is trying to be set on a copy of a slice from a DataFrame\n",
      "\n",
      "See the caveats in the documentation: https://pandas.pydata.org/pandas-docs/stable/user_guide/indexing.html#returning-a-view-versus-a-copy\n",
      "  self.merged_data[\"synonyms\"][~self.merged_data[\"synonyms\"].str.contains(\"__\", na=False)] = np.NaN\n",
      "/mnt/efs/fs1/CSS_Termpaper/EntityNetwork/entitynetwork/validation_tool/relation_validation.py:36: SettingWithCopyWarning: \n",
      "A value is trying to be set on a copy of a slice from a DataFrame.\n",
      "Try using .loc[row_indexer,col_indexer] = value instead\n",
      "\n",
      "See the caveats in the documentation: https://pandas.pydata.org/pandas-docs/stable/user_guide/indexing.html#returning-a-view-versus-a-copy\n",
      "  article.relation_validation_data[\"valid\"] = 1\n",
      "/home/ubuntu/.local/lib/python3.6/site-packages/pandas/core/indexing.py:1765: SettingWithCopyWarning: \n",
      "A value is trying to be set on a copy of a slice from a DataFrame.\n",
      "Try using .loc[row_indexer,col_indexer] = value instead\n",
      "\n",
      "See the caveats in the documentation: https://pandas.pydata.org/pandas-docs/stable/user_guide/indexing.html#returning-a-view-versus-a-copy\n",
      "  isetter(loc, value)\n"
     ]
    },
    {
     "name": "stdout",
     "output_type": "stream",
     "text": [
      "Text took: 3.98842453956604 Num S / Coref: 9 / 9\n",
      "Current Article139\n"
     ]
    },
    {
     "name": "stderr",
     "output_type": "stream",
     "text": [
      "/mnt/efs/fs1/CSS_Termpaper/EntityNetwork/entitynetwork/relation_extraction/relation_extraction.py:60: RuntimeWarning: Mean of empty slice\n",
      "  sentiment = np.nanmean(prod)\n",
      "/mnt/efs/fs1/CSS_Termpaper/EntityNetwork/entitynetwork/validation_tool/relation_validation.py:36: SettingWithCopyWarning: \n",
      "A value is trying to be set on a copy of a slice from a DataFrame.\n",
      "Try using .loc[row_indexer,col_indexer] = value instead\n",
      "\n",
      "See the caveats in the documentation: https://pandas.pydata.org/pandas-docs/stable/user_guide/indexing.html#returning-a-view-versus-a-copy\n",
      "  article.relation_validation_data[\"valid\"] = 1\n",
      "/home/ubuntu/.local/lib/python3.6/site-packages/pandas/core/indexing.py:1765: SettingWithCopyWarning: \n",
      "A value is trying to be set on a copy of a slice from a DataFrame.\n",
      "Try using .loc[row_indexer,col_indexer] = value instead\n",
      "\n",
      "See the caveats in the documentation: https://pandas.pydata.org/pandas-docs/stable/user_guide/indexing.html#returning-a-view-versus-a-copy\n",
      "  isetter(loc, value)\n"
     ]
    },
    {
     "name": "stdout",
     "output_type": "stream",
     "text": [
      "Text took: 24.11069631576538 Num S / Coref: 47 / 47\n",
      "Current Article140\n"
     ]
    },
    {
     "name": "stderr",
     "output_type": "stream",
     "text": [
      "/mnt/efs/fs1/CSS_Termpaper/EntityNetwork/entitynetwork/relation_extraction/relation_extraction.py:60: RuntimeWarning: Mean of empty slice\n",
      "  sentiment = np.nanmean(prod)\n",
      "/mnt/efs/fs1/CSS_Termpaper/EntityNetwork/entitynetwork/validation_tool/entity_validation.py:61: SettingWithCopyWarning: \n",
      "A value is trying to be set on a copy of a slice from a DataFrame\n",
      "\n",
      "See the caveats in the documentation: https://pandas.pydata.org/pandas-docs/stable/user_guide/indexing.html#returning-a-view-versus-a-copy\n",
      "  self.merged_data[\"synonyms\"][~self.merged_data[\"synonyms\"].str.contains(\"__\", na=False)] = np.NaN\n",
      "/mnt/efs/fs1/CSS_Termpaper/EntityNetwork/entitynetwork/validation_tool/relation_validation.py:36: SettingWithCopyWarning: \n",
      "A value is trying to be set on a copy of a slice from a DataFrame.\n",
      "Try using .loc[row_indexer,col_indexer] = value instead\n",
      "\n",
      "See the caveats in the documentation: https://pandas.pydata.org/pandas-docs/stable/user_guide/indexing.html#returning-a-view-versus-a-copy\n",
      "  article.relation_validation_data[\"valid\"] = 1\n",
      "/home/ubuntu/.local/lib/python3.6/site-packages/pandas/core/indexing.py:1765: SettingWithCopyWarning: \n",
      "A value is trying to be set on a copy of a slice from a DataFrame.\n",
      "Try using .loc[row_indexer,col_indexer] = value instead\n",
      "\n",
      "See the caveats in the documentation: https://pandas.pydata.org/pandas-docs/stable/user_guide/indexing.html#returning-a-view-versus-a-copy\n",
      "  isetter(loc, value)\n",
      "/mnt/efs/fs1/CSS_Termpaper/EntityNetwork/entitynetwork/validation_tool/relation_validation.py:110: RuntimeWarning: invalid value encountered in double_scalars\n",
      "  self.f1 = 2 * ((self.precision * self.recall) / (self.precision + self.recall))\n",
      "/mnt/efs/fs1/CSS_Termpaper/EntityNetwork/entitynetwork/validation_tool/relation_validation.py:113: RuntimeWarning: invalid value encountered in double_scalars\n",
      "  self.f1_corrected = 2 * ((self.precision * self.recall_corrected) / (self.precision + self.recall_corrected))\n"
     ]
    },
    {
     "name": "stdout",
     "output_type": "stream",
     "text": [
      "Text took: 11.465237379074097 Num S / Coref: 35 / 35\n",
      "Current Article141\n"
     ]
    },
    {
     "name": "stderr",
     "output_type": "stream",
     "text": [
      "/mnt/efs/fs1/CSS_Termpaper/EntityNetwork/entitynetwork/relation_extraction/relation_extraction.py:60: RuntimeWarning: Mean of empty slice\n",
      "  sentiment = np.nanmean(prod)\n",
      "/mnt/efs/fs1/CSS_Termpaper/EntityNetwork/entitynetwork/validation_tool/entity_validation.py:61: SettingWithCopyWarning: \n",
      "A value is trying to be set on a copy of a slice from a DataFrame\n",
      "\n",
      "See the caveats in the documentation: https://pandas.pydata.org/pandas-docs/stable/user_guide/indexing.html#returning-a-view-versus-a-copy\n",
      "  self.merged_data[\"synonyms\"][~self.merged_data[\"synonyms\"].str.contains(\"__\", na=False)] = np.NaN\n",
      "/mnt/efs/fs1/CSS_Termpaper/EntityNetwork/entitynetwork/validation_tool/relation_validation.py:36: SettingWithCopyWarning: \n",
      "A value is trying to be set on a copy of a slice from a DataFrame.\n",
      "Try using .loc[row_indexer,col_indexer] = value instead\n",
      "\n",
      "See the caveats in the documentation: https://pandas.pydata.org/pandas-docs/stable/user_guide/indexing.html#returning-a-view-versus-a-copy\n",
      "  article.relation_validation_data[\"valid\"] = 1\n",
      "/home/ubuntu/.local/lib/python3.6/site-packages/pandas/core/indexing.py:1765: SettingWithCopyWarning: \n",
      "A value is trying to be set on a copy of a slice from a DataFrame.\n",
      "Try using .loc[row_indexer,col_indexer] = value instead\n",
      "\n",
      "See the caveats in the documentation: https://pandas.pydata.org/pandas-docs/stable/user_guide/indexing.html#returning-a-view-versus-a-copy\n",
      "  isetter(loc, value)\n"
     ]
    },
    {
     "name": "stdout",
     "output_type": "stream",
     "text": [
      "Text took: 10.1789870262146 Num S / Coref: 18 / 15\n",
      "Current Article142\n"
     ]
    },
    {
     "name": "stderr",
     "output_type": "stream",
     "text": [
      "/mnt/efs/fs1/CSS_Termpaper/EntityNetwork/entitynetwork/relation_extraction/relation_extraction.py:60: RuntimeWarning: Mean of empty slice\n",
      "  sentiment = np.nanmean(prod)\n",
      "/mnt/efs/fs1/CSS_Termpaper/EntityNetwork/entitynetwork/validation_tool/relation_validation.py:36: SettingWithCopyWarning: \n",
      "A value is trying to be set on a copy of a slice from a DataFrame.\n",
      "Try using .loc[row_indexer,col_indexer] = value instead\n",
      "\n",
      "See the caveats in the documentation: https://pandas.pydata.org/pandas-docs/stable/user_guide/indexing.html#returning-a-view-versus-a-copy\n",
      "  article.relation_validation_data[\"valid\"] = 1\n",
      "/home/ubuntu/.local/lib/python3.6/site-packages/pandas/core/indexing.py:1765: SettingWithCopyWarning: \n",
      "A value is trying to be set on a copy of a slice from a DataFrame.\n",
      "Try using .loc[row_indexer,col_indexer] = value instead\n",
      "\n",
      "See the caveats in the documentation: https://pandas.pydata.org/pandas-docs/stable/user_guide/indexing.html#returning-a-view-versus-a-copy\n",
      "  isetter(loc, value)\n"
     ]
    },
    {
     "name": "stdout",
     "output_type": "stream",
     "text": [
      "Text took: 13.104021072387695 Num S / Coref: 20 / 20\n",
      "Current Article143\n"
     ]
    },
    {
     "name": "stderr",
     "output_type": "stream",
     "text": [
      "/mnt/efs/fs1/CSS_Termpaper/EntityNetwork/entitynetwork/relation_extraction/relation_extraction.py:60: RuntimeWarning: Mean of empty slice\n",
      "  sentiment = np.nanmean(prod)\n",
      "/mnt/efs/fs1/CSS_Termpaper/EntityNetwork/entitynetwork/validation_tool/entity_validation.py:61: SettingWithCopyWarning: \n",
      "A value is trying to be set on a copy of a slice from a DataFrame\n",
      "\n",
      "See the caveats in the documentation: https://pandas.pydata.org/pandas-docs/stable/user_guide/indexing.html#returning-a-view-versus-a-copy\n",
      "  self.merged_data[\"synonyms\"][~self.merged_data[\"synonyms\"].str.contains(\"__\", na=False)] = np.NaN\n",
      "/mnt/efs/fs1/CSS_Termpaper/EntityNetwork/entitynetwork/validation_tool/relation_validation.py:36: SettingWithCopyWarning: \n",
      "A value is trying to be set on a copy of a slice from a DataFrame.\n",
      "Try using .loc[row_indexer,col_indexer] = value instead\n",
      "\n",
      "See the caveats in the documentation: https://pandas.pydata.org/pandas-docs/stable/user_guide/indexing.html#returning-a-view-versus-a-copy\n",
      "  article.relation_validation_data[\"valid\"] = 1\n",
      "/home/ubuntu/.local/lib/python3.6/site-packages/pandas/core/indexing.py:1765: SettingWithCopyWarning: \n",
      "A value is trying to be set on a copy of a slice from a DataFrame.\n",
      "Try using .loc[row_indexer,col_indexer] = value instead\n",
      "\n",
      "See the caveats in the documentation: https://pandas.pydata.org/pandas-docs/stable/user_guide/indexing.html#returning-a-view-versus-a-copy\n",
      "  isetter(loc, value)\n"
     ]
    },
    {
     "name": "stdout",
     "output_type": "stream",
     "text": [
      "Text took: 3.6717453002929688 Num S / Coref: 7 / 7\n",
      "Current Article144\n"
     ]
    },
    {
     "name": "stderr",
     "output_type": "stream",
     "text": [
      "/mnt/efs/fs1/CSS_Termpaper/EntityNetwork/entitynetwork/relation_extraction/relation_extraction.py:60: RuntimeWarning: Mean of empty slice\n",
      "  sentiment = np.nanmean(prod)\n",
      "/mnt/efs/fs1/CSS_Termpaper/EntityNetwork/entitynetwork/validation_tool/entity_validation.py:61: SettingWithCopyWarning: \n",
      "A value is trying to be set on a copy of a slice from a DataFrame\n",
      "\n",
      "See the caveats in the documentation: https://pandas.pydata.org/pandas-docs/stable/user_guide/indexing.html#returning-a-view-versus-a-copy\n",
      "  self.merged_data[\"synonyms\"][~self.merged_data[\"synonyms\"].str.contains(\"__\", na=False)] = np.NaN\n",
      "/mnt/efs/fs1/CSS_Termpaper/EntityNetwork/entitynetwork/validation_tool/relation_validation.py:36: SettingWithCopyWarning: \n",
      "A value is trying to be set on a copy of a slice from a DataFrame.\n",
      "Try using .loc[row_indexer,col_indexer] = value instead\n",
      "\n",
      "See the caveats in the documentation: https://pandas.pydata.org/pandas-docs/stable/user_guide/indexing.html#returning-a-view-versus-a-copy\n",
      "  article.relation_validation_data[\"valid\"] = 1\n",
      "/home/ubuntu/.local/lib/python3.6/site-packages/pandas/core/indexing.py:1765: SettingWithCopyWarning: \n",
      "A value is trying to be set on a copy of a slice from a DataFrame.\n",
      "Try using .loc[row_indexer,col_indexer] = value instead\n",
      "\n",
      "See the caveats in the documentation: https://pandas.pydata.org/pandas-docs/stable/user_guide/indexing.html#returning-a-view-versus-a-copy\n",
      "  isetter(loc, value)\n"
     ]
    },
    {
     "name": "stdout",
     "output_type": "stream",
     "text": [
      "Text took: 4.202147006988525 Num S / Coref: 11 / 11\n",
      "Current Article145\n"
     ]
    },
    {
     "name": "stderr",
     "output_type": "stream",
     "text": [
      "/mnt/efs/fs1/CSS_Termpaper/EntityNetwork/entitynetwork/relation_extraction/relation_extraction.py:60: RuntimeWarning: Mean of empty slice\n",
      "  sentiment = np.nanmean(prod)\n",
      "/mnt/efs/fs1/CSS_Termpaper/EntityNetwork/entitynetwork/validation_tool/relation_validation.py:36: SettingWithCopyWarning: \n",
      "A value is trying to be set on a copy of a slice from a DataFrame.\n",
      "Try using .loc[row_indexer,col_indexer] = value instead\n",
      "\n",
      "See the caveats in the documentation: https://pandas.pydata.org/pandas-docs/stable/user_guide/indexing.html#returning-a-view-versus-a-copy\n",
      "  article.relation_validation_data[\"valid\"] = 1\n",
      "/home/ubuntu/.local/lib/python3.6/site-packages/pandas/core/indexing.py:1765: SettingWithCopyWarning: \n",
      "A value is trying to be set on a copy of a slice from a DataFrame.\n",
      "Try using .loc[row_indexer,col_indexer] = value instead\n",
      "\n",
      "See the caveats in the documentation: https://pandas.pydata.org/pandas-docs/stable/user_guide/indexing.html#returning-a-view-versus-a-copy\n",
      "  isetter(loc, value)\n"
     ]
    },
    {
     "name": "stdout",
     "output_type": "stream",
     "text": [
      "Text took: 5.725207805633545 Num S / Coref: 10 / 10\n",
      "Current Article146\n"
     ]
    },
    {
     "name": "stderr",
     "output_type": "stream",
     "text": [
      "/mnt/efs/fs1/CSS_Termpaper/EntityNetwork/entitynetwork/relation_extraction/relation_extraction.py:60: RuntimeWarning: Mean of empty slice\n",
      "  sentiment = np.nanmean(prod)\n",
      "/mnt/efs/fs1/CSS_Termpaper/EntityNetwork/entitynetwork/validation_tool/relation_validation.py:36: SettingWithCopyWarning: \n",
      "A value is trying to be set on a copy of a slice from a DataFrame.\n",
      "Try using .loc[row_indexer,col_indexer] = value instead\n",
      "\n",
      "See the caveats in the documentation: https://pandas.pydata.org/pandas-docs/stable/user_guide/indexing.html#returning-a-view-versus-a-copy\n",
      "  article.relation_validation_data[\"valid\"] = 1\n",
      "/home/ubuntu/.local/lib/python3.6/site-packages/pandas/core/indexing.py:1765: SettingWithCopyWarning: \n",
      "A value is trying to be set on a copy of a slice from a DataFrame.\n",
      "Try using .loc[row_indexer,col_indexer] = value instead\n",
      "\n",
      "See the caveats in the documentation: https://pandas.pydata.org/pandas-docs/stable/user_guide/indexing.html#returning-a-view-versus-a-copy\n",
      "  isetter(loc, value)\n"
     ]
    },
    {
     "name": "stdout",
     "output_type": "stream",
     "text": [
      "Text took: 11.258310079574585 Num S / Coref: 22 / 22\n",
      "Current Article147\n"
     ]
    },
    {
     "name": "stderr",
     "output_type": "stream",
     "text": [
      "/mnt/efs/fs1/CSS_Termpaper/EntityNetwork/entitynetwork/validation_tool/entity_validation.py:61: SettingWithCopyWarning: \n",
      "A value is trying to be set on a copy of a slice from a DataFrame\n",
      "\n",
      "See the caveats in the documentation: https://pandas.pydata.org/pandas-docs/stable/user_guide/indexing.html#returning-a-view-versus-a-copy\n",
      "  self.merged_data[\"synonyms\"][~self.merged_data[\"synonyms\"].str.contains(\"__\", na=False)] = np.NaN\n",
      "/mnt/efs/fs1/CSS_Termpaper/EntityNetwork/entitynetwork/validation_tool/relation_validation.py:36: SettingWithCopyWarning: \n",
      "A value is trying to be set on a copy of a slice from a DataFrame.\n",
      "Try using .loc[row_indexer,col_indexer] = value instead\n",
      "\n",
      "See the caveats in the documentation: https://pandas.pydata.org/pandas-docs/stable/user_guide/indexing.html#returning-a-view-versus-a-copy\n",
      "  article.relation_validation_data[\"valid\"] = 1\n",
      "/home/ubuntu/.local/lib/python3.6/site-packages/pandas/core/indexing.py:1765: SettingWithCopyWarning: \n",
      "A value is trying to be set on a copy of a slice from a DataFrame.\n",
      "Try using .loc[row_indexer,col_indexer] = value instead\n",
      "\n",
      "See the caveats in the documentation: https://pandas.pydata.org/pandas-docs/stable/user_guide/indexing.html#returning-a-view-versus-a-copy\n",
      "  isetter(loc, value)\n"
     ]
    },
    {
     "name": "stdout",
     "output_type": "stream",
     "text": [
      "Text took: 1.8076753616333008 Num S / Coref: 4 / 4\n",
      "Current Article148\n"
     ]
    },
    {
     "name": "stderr",
     "output_type": "stream",
     "text": [
      "/mnt/efs/fs1/CSS_Termpaper/EntityNetwork/entitynetwork/relation_extraction/relation_extraction.py:60: RuntimeWarning: Mean of empty slice\n",
      "  sentiment = np.nanmean(prod)\n",
      "/mnt/efs/fs1/CSS_Termpaper/EntityNetwork/entitynetwork/validation_tool/entity_validation.py:61: SettingWithCopyWarning: \n",
      "A value is trying to be set on a copy of a slice from a DataFrame\n",
      "\n",
      "See the caveats in the documentation: https://pandas.pydata.org/pandas-docs/stable/user_guide/indexing.html#returning-a-view-versus-a-copy\n",
      "  self.merged_data[\"synonyms\"][~self.merged_data[\"synonyms\"].str.contains(\"__\", na=False)] = np.NaN\n",
      "/mnt/efs/fs1/CSS_Termpaper/EntityNetwork/entitynetwork/validation_tool/relation_validation.py:36: SettingWithCopyWarning: \n",
      "A value is trying to be set on a copy of a slice from a DataFrame.\n",
      "Try using .loc[row_indexer,col_indexer] = value instead\n",
      "\n",
      "See the caveats in the documentation: https://pandas.pydata.org/pandas-docs/stable/user_guide/indexing.html#returning-a-view-versus-a-copy\n",
      "  article.relation_validation_data[\"valid\"] = 1\n",
      "/home/ubuntu/.local/lib/python3.6/site-packages/pandas/core/indexing.py:1765: SettingWithCopyWarning: \n",
      "A value is trying to be set on a copy of a slice from a DataFrame.\n",
      "Try using .loc[row_indexer,col_indexer] = value instead\n",
      "\n",
      "See the caveats in the documentation: https://pandas.pydata.org/pandas-docs/stable/user_guide/indexing.html#returning-a-view-versus-a-copy\n",
      "  isetter(loc, value)\n"
     ]
    },
    {
     "name": "stdout",
     "output_type": "stream",
     "text": [
      "Text took: 4.354335784912109 Num S / Coref: 10 / 11\n",
      "Current Article149\n"
     ]
    },
    {
     "name": "stderr",
     "output_type": "stream",
     "text": [
      "/mnt/efs/fs1/CSS_Termpaper/EntityNetwork/entitynetwork/relation_extraction/relation_extraction.py:60: RuntimeWarning: Mean of empty slice\n",
      "  sentiment = np.nanmean(prod)\n",
      "/mnt/efs/fs1/CSS_Termpaper/EntityNetwork/entitynetwork/validation_tool/entity_validation.py:61: SettingWithCopyWarning: \n",
      "A value is trying to be set on a copy of a slice from a DataFrame\n",
      "\n",
      "See the caveats in the documentation: https://pandas.pydata.org/pandas-docs/stable/user_guide/indexing.html#returning-a-view-versus-a-copy\n",
      "  self.merged_data[\"synonyms\"][~self.merged_data[\"synonyms\"].str.contains(\"__\", na=False)] = np.NaN\n",
      "/mnt/efs/fs1/CSS_Termpaper/EntityNetwork/entitynetwork/validation_tool/relation_validation.py:36: SettingWithCopyWarning: \n",
      "A value is trying to be set on a copy of a slice from a DataFrame.\n",
      "Try using .loc[row_indexer,col_indexer] = value instead\n",
      "\n",
      "See the caveats in the documentation: https://pandas.pydata.org/pandas-docs/stable/user_guide/indexing.html#returning-a-view-versus-a-copy\n",
      "  article.relation_validation_data[\"valid\"] = 1\n",
      "/home/ubuntu/.local/lib/python3.6/site-packages/pandas/core/indexing.py:1765: SettingWithCopyWarning: \n",
      "A value is trying to be set on a copy of a slice from a DataFrame.\n",
      "Try using .loc[row_indexer,col_indexer] = value instead\n",
      "\n",
      "See the caveats in the documentation: https://pandas.pydata.org/pandas-docs/stable/user_guide/indexing.html#returning-a-view-versus-a-copy\n",
      "  isetter(loc, value)\n"
     ]
    },
    {
     "name": "stdout",
     "output_type": "stream",
     "text": [
      "Text took: 2.0404412746429443 Num S / Coref: 4 / 4\n",
      "Current Article150\n"
     ]
    },
    {
     "name": "stderr",
     "output_type": "stream",
     "text": [
      "/mnt/efs/fs1/CSS_Termpaper/EntityNetwork/entitynetwork/relation_extraction/relation_extraction.py:60: RuntimeWarning: Mean of empty slice\n",
      "  sentiment = np.nanmean(prod)\n",
      "/mnt/efs/fs1/CSS_Termpaper/EntityNetwork/entitynetwork/validation_tool/entity_validation.py:61: SettingWithCopyWarning: \n",
      "A value is trying to be set on a copy of a slice from a DataFrame\n",
      "\n",
      "See the caveats in the documentation: https://pandas.pydata.org/pandas-docs/stable/user_guide/indexing.html#returning-a-view-versus-a-copy\n",
      "  self.merged_data[\"synonyms\"][~self.merged_data[\"synonyms\"].str.contains(\"__\", na=False)] = np.NaN\n",
      "/mnt/efs/fs1/CSS_Termpaper/EntityNetwork/entitynetwork/validation_tool/relation_validation.py:36: SettingWithCopyWarning: \n",
      "A value is trying to be set on a copy of a slice from a DataFrame.\n",
      "Try using .loc[row_indexer,col_indexer] = value instead\n",
      "\n",
      "See the caveats in the documentation: https://pandas.pydata.org/pandas-docs/stable/user_guide/indexing.html#returning-a-view-versus-a-copy\n",
      "  article.relation_validation_data[\"valid\"] = 1\n",
      "/home/ubuntu/.local/lib/python3.6/site-packages/pandas/core/indexing.py:1765: SettingWithCopyWarning: \n",
      "A value is trying to be set on a copy of a slice from a DataFrame.\n",
      "Try using .loc[row_indexer,col_indexer] = value instead\n",
      "\n",
      "See the caveats in the documentation: https://pandas.pydata.org/pandas-docs/stable/user_guide/indexing.html#returning-a-view-versus-a-copy\n",
      "  isetter(loc, value)\n"
     ]
    },
    {
     "name": "stdout",
     "output_type": "stream",
     "text": [
      "Text took: 5.334264278411865 Num S / Coref: 8 / 8\n",
      "Current Article151\n"
     ]
    },
    {
     "name": "stderr",
     "output_type": "stream",
     "text": [
      "/mnt/efs/fs1/CSS_Termpaper/EntityNetwork/entitynetwork/relation_extraction/relation_extraction.py:60: RuntimeWarning: Mean of empty slice\n",
      "  sentiment = np.nanmean(prod)\n",
      "/mnt/efs/fs1/CSS_Termpaper/EntityNetwork/entitynetwork/validation_tool/relation_validation.py:36: SettingWithCopyWarning: \n",
      "A value is trying to be set on a copy of a slice from a DataFrame.\n",
      "Try using .loc[row_indexer,col_indexer] = value instead\n",
      "\n",
      "See the caveats in the documentation: https://pandas.pydata.org/pandas-docs/stable/user_guide/indexing.html#returning-a-view-versus-a-copy\n",
      "  article.relation_validation_data[\"valid\"] = 1\n",
      "/home/ubuntu/.local/lib/python3.6/site-packages/pandas/core/indexing.py:1765: SettingWithCopyWarning: \n",
      "A value is trying to be set on a copy of a slice from a DataFrame.\n",
      "Try using .loc[row_indexer,col_indexer] = value instead\n",
      "\n",
      "See the caveats in the documentation: https://pandas.pydata.org/pandas-docs/stable/user_guide/indexing.html#returning-a-view-versus-a-copy\n",
      "  isetter(loc, value)\n"
     ]
    },
    {
     "name": "stdout",
     "output_type": "stream",
     "text": [
      "Text took: 5.516602516174316 Num S / Coref: 6 / 6\n",
      "Current Article152\n"
     ]
    },
    {
     "name": "stderr",
     "output_type": "stream",
     "text": [
      "/mnt/efs/fs1/CSS_Termpaper/EntityNetwork/entitynetwork/relation_extraction/relation_extraction.py:60: RuntimeWarning: Mean of empty slice\n",
      "  sentiment = np.nanmean(prod)\n",
      "/mnt/efs/fs1/CSS_Termpaper/EntityNetwork/entitynetwork/validation_tool/relation_validation.py:36: SettingWithCopyWarning: \n",
      "A value is trying to be set on a copy of a slice from a DataFrame.\n",
      "Try using .loc[row_indexer,col_indexer] = value instead\n",
      "\n",
      "See the caveats in the documentation: https://pandas.pydata.org/pandas-docs/stable/user_guide/indexing.html#returning-a-view-versus-a-copy\n",
      "  article.relation_validation_data[\"valid\"] = 1\n",
      "/home/ubuntu/.local/lib/python3.6/site-packages/pandas/core/indexing.py:1765: SettingWithCopyWarning: \n",
      "A value is trying to be set on a copy of a slice from a DataFrame.\n",
      "Try using .loc[row_indexer,col_indexer] = value instead\n",
      "\n",
      "See the caveats in the documentation: https://pandas.pydata.org/pandas-docs/stable/user_guide/indexing.html#returning-a-view-versus-a-copy\n",
      "  isetter(loc, value)\n"
     ]
    },
    {
     "name": "stdout",
     "output_type": "stream",
     "text": [
      "Text took: 4.926993370056152 Num S / Coref: 10 / 10\n",
      "Current Article153\n"
     ]
    },
    {
     "name": "stderr",
     "output_type": "stream",
     "text": [
      "/mnt/efs/fs1/CSS_Termpaper/EntityNetwork/entitynetwork/relation_extraction/relation_extraction.py:60: RuntimeWarning: Mean of empty slice\n",
      "  sentiment = np.nanmean(prod)\n",
      "/mnt/efs/fs1/CSS_Termpaper/EntityNetwork/entitynetwork/validation_tool/relation_validation.py:36: SettingWithCopyWarning: \n",
      "A value is trying to be set on a copy of a slice from a DataFrame.\n",
      "Try using .loc[row_indexer,col_indexer] = value instead\n",
      "\n",
      "See the caveats in the documentation: https://pandas.pydata.org/pandas-docs/stable/user_guide/indexing.html#returning-a-view-versus-a-copy\n",
      "  article.relation_validation_data[\"valid\"] = 1\n",
      "/home/ubuntu/.local/lib/python3.6/site-packages/pandas/core/indexing.py:1765: SettingWithCopyWarning: \n",
      "A value is trying to be set on a copy of a slice from a DataFrame.\n",
      "Try using .loc[row_indexer,col_indexer] = value instead\n",
      "\n",
      "See the caveats in the documentation: https://pandas.pydata.org/pandas-docs/stable/user_guide/indexing.html#returning-a-view-versus-a-copy\n",
      "  isetter(loc, value)\n"
     ]
    },
    {
     "name": "stdout",
     "output_type": "stream",
     "text": [
      "Text took: 10.834350109100342 Num S / Coref: 24 / 23\n",
      "Current Article154\n"
     ]
    },
    {
     "name": "stderr",
     "output_type": "stream",
     "text": [
      "/mnt/efs/fs1/CSS_Termpaper/EntityNetwork/entitynetwork/relation_extraction/relation_extraction.py:60: RuntimeWarning: Mean of empty slice\n",
      "  sentiment = np.nanmean(prod)\n",
      "/mnt/efs/fs1/CSS_Termpaper/EntityNetwork/entitynetwork/validation_tool/relation_validation.py:36: SettingWithCopyWarning: \n",
      "A value is trying to be set on a copy of a slice from a DataFrame.\n",
      "Try using .loc[row_indexer,col_indexer] = value instead\n",
      "\n",
      "See the caveats in the documentation: https://pandas.pydata.org/pandas-docs/stable/user_guide/indexing.html#returning-a-view-versus-a-copy\n",
      "  article.relation_validation_data[\"valid\"] = 1\n",
      "/home/ubuntu/.local/lib/python3.6/site-packages/pandas/core/indexing.py:1765: SettingWithCopyWarning: \n",
      "A value is trying to be set on a copy of a slice from a DataFrame.\n",
      "Try using .loc[row_indexer,col_indexer] = value instead\n",
      "\n",
      "See the caveats in the documentation: https://pandas.pydata.org/pandas-docs/stable/user_guide/indexing.html#returning-a-view-versus-a-copy\n",
      "  isetter(loc, value)\n"
     ]
    },
    {
     "name": "stdout",
     "output_type": "stream",
     "text": [
      "Text took: 9.296571254730225 Num S / Coref: 16 / 16\n",
      "Current Article155\n"
     ]
    },
    {
     "name": "stderr",
     "output_type": "stream",
     "text": [
      "/mnt/efs/fs1/CSS_Termpaper/EntityNetwork/entitynetwork/relation_extraction/relation_extraction.py:60: RuntimeWarning: Mean of empty slice\n",
      "  sentiment = np.nanmean(prod)\n",
      "/mnt/efs/fs1/CSS_Termpaper/EntityNetwork/entitynetwork/validation_tool/relation_validation.py:36: SettingWithCopyWarning: \n",
      "A value is trying to be set on a copy of a slice from a DataFrame.\n",
      "Try using .loc[row_indexer,col_indexer] = value instead\n",
      "\n",
      "See the caveats in the documentation: https://pandas.pydata.org/pandas-docs/stable/user_guide/indexing.html#returning-a-view-versus-a-copy\n",
      "  article.relation_validation_data[\"valid\"] = 1\n",
      "/home/ubuntu/.local/lib/python3.6/site-packages/pandas/core/indexing.py:1765: SettingWithCopyWarning: \n",
      "A value is trying to be set on a copy of a slice from a DataFrame.\n",
      "Try using .loc[row_indexer,col_indexer] = value instead\n",
      "\n",
      "See the caveats in the documentation: https://pandas.pydata.org/pandas-docs/stable/user_guide/indexing.html#returning-a-view-versus-a-copy\n",
      "  isetter(loc, value)\n"
     ]
    },
    {
     "name": "stdout",
     "output_type": "stream",
     "text": [
      "Text took: 13.379125118255615 Num S / Coref: 26 / 26\n",
      "Current Article156\n"
     ]
    },
    {
     "name": "stderr",
     "output_type": "stream",
     "text": [
      "/mnt/efs/fs1/CSS_Termpaper/EntityNetwork/entitynetwork/relation_extraction/relation_extraction.py:60: RuntimeWarning: Mean of empty slice\n",
      "  sentiment = np.nanmean(prod)\n",
      "/mnt/efs/fs1/CSS_Termpaper/EntityNetwork/entitynetwork/validation_tool/relation_validation.py:36: SettingWithCopyWarning: \n",
      "A value is trying to be set on a copy of a slice from a DataFrame.\n",
      "Try using .loc[row_indexer,col_indexer] = value instead\n",
      "\n",
      "See the caveats in the documentation: https://pandas.pydata.org/pandas-docs/stable/user_guide/indexing.html#returning-a-view-versus-a-copy\n",
      "  article.relation_validation_data[\"valid\"] = 1\n",
      "/home/ubuntu/.local/lib/python3.6/site-packages/pandas/core/indexing.py:1765: SettingWithCopyWarning: \n",
      "A value is trying to be set on a copy of a slice from a DataFrame.\n",
      "Try using .loc[row_indexer,col_indexer] = value instead\n",
      "\n",
      "See the caveats in the documentation: https://pandas.pydata.org/pandas-docs/stable/user_guide/indexing.html#returning-a-view-versus-a-copy\n",
      "  isetter(loc, value)\n"
     ]
    },
    {
     "name": "stdout",
     "output_type": "stream",
     "text": [
      "Text took: 18.6361243724823 Num S / Coref: 27 / 27\n",
      "Current Article157\n"
     ]
    },
    {
     "name": "stderr",
     "output_type": "stream",
     "text": [
      "/mnt/efs/fs1/CSS_Termpaper/EntityNetwork/entitynetwork/relation_extraction/relation_extraction.py:60: RuntimeWarning: Mean of empty slice\n",
      "  sentiment = np.nanmean(prod)\n",
      "/mnt/efs/fs1/CSS_Termpaper/EntityNetwork/entitynetwork/validation_tool/relation_validation.py:36: SettingWithCopyWarning: \n",
      "A value is trying to be set on a copy of a slice from a DataFrame.\n",
      "Try using .loc[row_indexer,col_indexer] = value instead\n",
      "\n",
      "See the caveats in the documentation: https://pandas.pydata.org/pandas-docs/stable/user_guide/indexing.html#returning-a-view-versus-a-copy\n",
      "  article.relation_validation_data[\"valid\"] = 1\n",
      "/home/ubuntu/.local/lib/python3.6/site-packages/pandas/core/indexing.py:1765: SettingWithCopyWarning: \n",
      "A value is trying to be set on a copy of a slice from a DataFrame.\n",
      "Try using .loc[row_indexer,col_indexer] = value instead\n",
      "\n",
      "See the caveats in the documentation: https://pandas.pydata.org/pandas-docs/stable/user_guide/indexing.html#returning-a-view-versus-a-copy\n",
      "  isetter(loc, value)\n"
     ]
    },
    {
     "name": "stdout",
     "output_type": "stream",
     "text": [
      "Text took: 11.169669151306152 Num S / Coref: 19 / 19\n",
      "Current Article158\n"
     ]
    },
    {
     "name": "stderr",
     "output_type": "stream",
     "text": [
      "/mnt/efs/fs1/CSS_Termpaper/EntityNetwork/entitynetwork/relation_extraction/relation_extraction.py:60: RuntimeWarning: Mean of empty slice\n",
      "  sentiment = np.nanmean(prod)\n",
      "/mnt/efs/fs1/CSS_Termpaper/EntityNetwork/entitynetwork/validation_tool/relation_validation.py:36: SettingWithCopyWarning: \n",
      "A value is trying to be set on a copy of a slice from a DataFrame.\n",
      "Try using .loc[row_indexer,col_indexer] = value instead\n",
      "\n",
      "See the caveats in the documentation: https://pandas.pydata.org/pandas-docs/stable/user_guide/indexing.html#returning-a-view-versus-a-copy\n",
      "  article.relation_validation_data[\"valid\"] = 1\n",
      "/home/ubuntu/.local/lib/python3.6/site-packages/pandas/core/indexing.py:1765: SettingWithCopyWarning: \n",
      "A value is trying to be set on a copy of a slice from a DataFrame.\n",
      "Try using .loc[row_indexer,col_indexer] = value instead\n",
      "\n",
      "See the caveats in the documentation: https://pandas.pydata.org/pandas-docs/stable/user_guide/indexing.html#returning-a-view-versus-a-copy\n",
      "  isetter(loc, value)\n"
     ]
    },
    {
     "name": "stdout",
     "output_type": "stream",
     "text": [
      "Text took: 31.625810623168945 Num S / Coref: 71 / 71\n",
      "Current Article159\n"
     ]
    },
    {
     "name": "stderr",
     "output_type": "stream",
     "text": [
      "/mnt/efs/fs1/CSS_Termpaper/EntityNetwork/entitynetwork/relation_extraction/relation_extraction.py:60: RuntimeWarning: Mean of empty slice\n",
      "  sentiment = np.nanmean(prod)\n",
      "/mnt/efs/fs1/CSS_Termpaper/EntityNetwork/entitynetwork/validation_tool/entity_validation.py:61: SettingWithCopyWarning: \n",
      "A value is trying to be set on a copy of a slice from a DataFrame\n",
      "\n",
      "See the caveats in the documentation: https://pandas.pydata.org/pandas-docs/stable/user_guide/indexing.html#returning-a-view-versus-a-copy\n",
      "  self.merged_data[\"synonyms\"][~self.merged_data[\"synonyms\"].str.contains(\"__\", na=False)] = np.NaN\n",
      "/mnt/efs/fs1/CSS_Termpaper/EntityNetwork/entitynetwork/validation_tool/relation_validation.py:36: SettingWithCopyWarning: \n",
      "A value is trying to be set on a copy of a slice from a DataFrame.\n",
      "Try using .loc[row_indexer,col_indexer] = value instead\n",
      "\n",
      "See the caveats in the documentation: https://pandas.pydata.org/pandas-docs/stable/user_guide/indexing.html#returning-a-view-versus-a-copy\n",
      "  article.relation_validation_data[\"valid\"] = 1\n",
      "/home/ubuntu/.local/lib/python3.6/site-packages/pandas/core/indexing.py:1765: SettingWithCopyWarning: \n",
      "A value is trying to be set on a copy of a slice from a DataFrame.\n",
      "Try using .loc[row_indexer,col_indexer] = value instead\n",
      "\n",
      "See the caveats in the documentation: https://pandas.pydata.org/pandas-docs/stable/user_guide/indexing.html#returning-a-view-versus-a-copy\n",
      "  isetter(loc, value)\n"
     ]
    },
    {
     "name": "stdout",
     "output_type": "stream",
     "text": [
      "Text took: 10.407957792282104 Num S / Coref: 16 / 16\n",
      "Current Article160\n"
     ]
    },
    {
     "name": "stderr",
     "output_type": "stream",
     "text": [
      "/mnt/efs/fs1/CSS_Termpaper/EntityNetwork/entitynetwork/relation_extraction/relation_extraction.py:60: RuntimeWarning: Mean of empty slice\n",
      "  sentiment = np.nanmean(prod)\n",
      "/mnt/efs/fs1/CSS_Termpaper/EntityNetwork/entitynetwork/validation_tool/relation_validation.py:36: SettingWithCopyWarning: \n",
      "A value is trying to be set on a copy of a slice from a DataFrame.\n",
      "Try using .loc[row_indexer,col_indexer] = value instead\n",
      "\n",
      "See the caveats in the documentation: https://pandas.pydata.org/pandas-docs/stable/user_guide/indexing.html#returning-a-view-versus-a-copy\n",
      "  article.relation_validation_data[\"valid\"] = 1\n",
      "/home/ubuntu/.local/lib/python3.6/site-packages/pandas/core/indexing.py:1765: SettingWithCopyWarning: \n",
      "A value is trying to be set on a copy of a slice from a DataFrame.\n",
      "Try using .loc[row_indexer,col_indexer] = value instead\n",
      "\n",
      "See the caveats in the documentation: https://pandas.pydata.org/pandas-docs/stable/user_guide/indexing.html#returning-a-view-versus-a-copy\n",
      "  isetter(loc, value)\n"
     ]
    },
    {
     "name": "stdout",
     "output_type": "stream",
     "text": [
      "Text took: 9.259894132614136 Num S / Coref: 18 / 18\n",
      "Current Article161\n"
     ]
    },
    {
     "name": "stderr",
     "output_type": "stream",
     "text": [
      "/mnt/efs/fs1/CSS_Termpaper/EntityNetwork/entitynetwork/relation_extraction/relation_extraction.py:60: RuntimeWarning: Mean of empty slice\n",
      "  sentiment = np.nanmean(prod)\n",
      "/mnt/efs/fs1/CSS_Termpaper/EntityNetwork/entitynetwork/validation_tool/relation_validation.py:36: SettingWithCopyWarning: \n",
      "A value is trying to be set on a copy of a slice from a DataFrame.\n",
      "Try using .loc[row_indexer,col_indexer] = value instead\n",
      "\n",
      "See the caveats in the documentation: https://pandas.pydata.org/pandas-docs/stable/user_guide/indexing.html#returning-a-view-versus-a-copy\n",
      "  article.relation_validation_data[\"valid\"] = 1\n",
      "/home/ubuntu/.local/lib/python3.6/site-packages/pandas/core/indexing.py:1765: SettingWithCopyWarning: \n",
      "A value is trying to be set on a copy of a slice from a DataFrame.\n",
      "Try using .loc[row_indexer,col_indexer] = value instead\n",
      "\n",
      "See the caveats in the documentation: https://pandas.pydata.org/pandas-docs/stable/user_guide/indexing.html#returning-a-view-versus-a-copy\n",
      "  isetter(loc, value)\n"
     ]
    },
    {
     "name": "stdout",
     "output_type": "stream",
     "text": [
      "Text took: 10.81681489944458 Num S / Coref: 28 / 28\n",
      "Current Article162\n"
     ]
    },
    {
     "name": "stderr",
     "output_type": "stream",
     "text": [
      "/mnt/efs/fs1/CSS_Termpaper/EntityNetwork/entitynetwork/relation_extraction/relation_extraction.py:60: RuntimeWarning: Mean of empty slice\n",
      "  sentiment = np.nanmean(prod)\n",
      "/mnt/efs/fs1/CSS_Termpaper/EntityNetwork/entitynetwork/validation_tool/entity_validation.py:61: SettingWithCopyWarning: \n",
      "A value is trying to be set on a copy of a slice from a DataFrame\n",
      "\n",
      "See the caveats in the documentation: https://pandas.pydata.org/pandas-docs/stable/user_guide/indexing.html#returning-a-view-versus-a-copy\n",
      "  self.merged_data[\"synonyms\"][~self.merged_data[\"synonyms\"].str.contains(\"__\", na=False)] = np.NaN\n",
      "/mnt/efs/fs1/CSS_Termpaper/EntityNetwork/entitynetwork/validation_tool/relation_validation.py:36: SettingWithCopyWarning: \n",
      "A value is trying to be set on a copy of a slice from a DataFrame.\n",
      "Try using .loc[row_indexer,col_indexer] = value instead\n",
      "\n",
      "See the caveats in the documentation: https://pandas.pydata.org/pandas-docs/stable/user_guide/indexing.html#returning-a-view-versus-a-copy\n",
      "  article.relation_validation_data[\"valid\"] = 1\n",
      "/home/ubuntu/.local/lib/python3.6/site-packages/pandas/core/indexing.py:1765: SettingWithCopyWarning: \n",
      "A value is trying to be set on a copy of a slice from a DataFrame.\n",
      "Try using .loc[row_indexer,col_indexer] = value instead\n",
      "\n",
      "See the caveats in the documentation: https://pandas.pydata.org/pandas-docs/stable/user_guide/indexing.html#returning-a-view-versus-a-copy\n",
      "  isetter(loc, value)\n"
     ]
    },
    {
     "name": "stdout",
     "output_type": "stream",
     "text": [
      "Text took: 4.9186835289001465 Num S / Coref: 15 / 15\n",
      "Current Article163\n"
     ]
    },
    {
     "name": "stderr",
     "output_type": "stream",
     "text": [
      "/mnt/efs/fs1/CSS_Termpaper/EntityNetwork/entitynetwork/relation_extraction/relation_extraction.py:60: RuntimeWarning: Mean of empty slice\n",
      "  sentiment = np.nanmean(prod)\n",
      "/mnt/efs/fs1/CSS_Termpaper/EntityNetwork/entitynetwork/validation_tool/relation_validation.py:36: SettingWithCopyWarning: \n",
      "A value is trying to be set on a copy of a slice from a DataFrame.\n",
      "Try using .loc[row_indexer,col_indexer] = value instead\n",
      "\n",
      "See the caveats in the documentation: https://pandas.pydata.org/pandas-docs/stable/user_guide/indexing.html#returning-a-view-versus-a-copy\n",
      "  article.relation_validation_data[\"valid\"] = 1\n",
      "/home/ubuntu/.local/lib/python3.6/site-packages/pandas/core/indexing.py:1765: SettingWithCopyWarning: \n",
      "A value is trying to be set on a copy of a slice from a DataFrame.\n",
      "Try using .loc[row_indexer,col_indexer] = value instead\n",
      "\n",
      "See the caveats in the documentation: https://pandas.pydata.org/pandas-docs/stable/user_guide/indexing.html#returning-a-view-versus-a-copy\n",
      "  isetter(loc, value)\n"
     ]
    },
    {
     "name": "stdout",
     "output_type": "stream",
     "text": [
      "Text took: 26.2032310962677 Num S / Coref: 66 / 66\n",
      "Current Article164\n"
     ]
    },
    {
     "name": "stderr",
     "output_type": "stream",
     "text": [
      "/mnt/efs/fs1/CSS_Termpaper/EntityNetwork/entitynetwork/relation_extraction/relation_extraction.py:60: RuntimeWarning: Mean of empty slice\n",
      "  sentiment = np.nanmean(prod)\n",
      "/mnt/efs/fs1/CSS_Termpaper/EntityNetwork/entitynetwork/validation_tool/relation_validation.py:36: SettingWithCopyWarning: \n",
      "A value is trying to be set on a copy of a slice from a DataFrame.\n",
      "Try using .loc[row_indexer,col_indexer] = value instead\n",
      "\n",
      "See the caveats in the documentation: https://pandas.pydata.org/pandas-docs/stable/user_guide/indexing.html#returning-a-view-versus-a-copy\n",
      "  article.relation_validation_data[\"valid\"] = 1\n",
      "/home/ubuntu/.local/lib/python3.6/site-packages/pandas/core/indexing.py:1765: SettingWithCopyWarning: \n",
      "A value is trying to be set on a copy of a slice from a DataFrame.\n",
      "Try using .loc[row_indexer,col_indexer] = value instead\n",
      "\n",
      "See the caveats in the documentation: https://pandas.pydata.org/pandas-docs/stable/user_guide/indexing.html#returning-a-view-versus-a-copy\n",
      "  isetter(loc, value)\n"
     ]
    },
    {
     "name": "stdout",
     "output_type": "stream",
     "text": [
      "Text took: 10.797362565994263 Num S / Coref: 16 / 16\n",
      "Current Article165\n"
     ]
    },
    {
     "name": "stderr",
     "output_type": "stream",
     "text": [
      "/mnt/efs/fs1/CSS_Termpaper/EntityNetwork/entitynetwork/relation_extraction/relation_extraction.py:60: RuntimeWarning: Mean of empty slice\n",
      "  sentiment = np.nanmean(prod)\n",
      "/mnt/efs/fs1/CSS_Termpaper/EntityNetwork/entitynetwork/validation_tool/relation_validation.py:36: SettingWithCopyWarning: \n",
      "A value is trying to be set on a copy of a slice from a DataFrame.\n",
      "Try using .loc[row_indexer,col_indexer] = value instead\n",
      "\n",
      "See the caveats in the documentation: https://pandas.pydata.org/pandas-docs/stable/user_guide/indexing.html#returning-a-view-versus-a-copy\n",
      "  article.relation_validation_data[\"valid\"] = 1\n",
      "/home/ubuntu/.local/lib/python3.6/site-packages/pandas/core/indexing.py:1765: SettingWithCopyWarning: \n",
      "A value is trying to be set on a copy of a slice from a DataFrame.\n",
      "Try using .loc[row_indexer,col_indexer] = value instead\n",
      "\n",
      "See the caveats in the documentation: https://pandas.pydata.org/pandas-docs/stable/user_guide/indexing.html#returning-a-view-versus-a-copy\n",
      "  isetter(loc, value)\n"
     ]
    },
    {
     "name": "stdout",
     "output_type": "stream",
     "text": [
      "Text took: 20.24575424194336 Num S / Coref: 33 / 33\n",
      "Current Article166\n"
     ]
    },
    {
     "name": "stderr",
     "output_type": "stream",
     "text": [
      "/mnt/efs/fs1/CSS_Termpaper/EntityNetwork/entitynetwork/relation_extraction/relation_extraction.py:60: RuntimeWarning: Mean of empty slice\n",
      "  sentiment = np.nanmean(prod)\n",
      "/mnt/efs/fs1/CSS_Termpaper/EntityNetwork/entitynetwork/validation_tool/relation_validation.py:36: SettingWithCopyWarning: \n",
      "A value is trying to be set on a copy of a slice from a DataFrame.\n",
      "Try using .loc[row_indexer,col_indexer] = value instead\n",
      "\n",
      "See the caveats in the documentation: https://pandas.pydata.org/pandas-docs/stable/user_guide/indexing.html#returning-a-view-versus-a-copy\n",
      "  article.relation_validation_data[\"valid\"] = 1\n",
      "/home/ubuntu/.local/lib/python3.6/site-packages/pandas/core/indexing.py:1765: SettingWithCopyWarning: \n",
      "A value is trying to be set on a copy of a slice from a DataFrame.\n",
      "Try using .loc[row_indexer,col_indexer] = value instead\n",
      "\n",
      "See the caveats in the documentation: https://pandas.pydata.org/pandas-docs/stable/user_guide/indexing.html#returning-a-view-versus-a-copy\n",
      "  isetter(loc, value)\n"
     ]
    },
    {
     "name": "stdout",
     "output_type": "stream",
     "text": [
      "Text took: 5.981252193450928 Num S / Coref: 13 / 13\n",
      "Current Article167\n"
     ]
    },
    {
     "name": "stderr",
     "output_type": "stream",
     "text": [
      "/mnt/efs/fs1/CSS_Termpaper/EntityNetwork/entitynetwork/relation_extraction/relation_extraction.py:60: RuntimeWarning: Mean of empty slice\n",
      "  sentiment = np.nanmean(prod)\n",
      "/mnt/efs/fs1/CSS_Termpaper/EntityNetwork/entitynetwork/validation_tool/relation_validation.py:36: SettingWithCopyWarning: \n",
      "A value is trying to be set on a copy of a slice from a DataFrame.\n",
      "Try using .loc[row_indexer,col_indexer] = value instead\n",
      "\n",
      "See the caveats in the documentation: https://pandas.pydata.org/pandas-docs/stable/user_guide/indexing.html#returning-a-view-versus-a-copy\n",
      "  article.relation_validation_data[\"valid\"] = 1\n",
      "/home/ubuntu/.local/lib/python3.6/site-packages/pandas/core/indexing.py:1765: SettingWithCopyWarning: \n",
      "A value is trying to be set on a copy of a slice from a DataFrame.\n",
      "Try using .loc[row_indexer,col_indexer] = value instead\n",
      "\n",
      "See the caveats in the documentation: https://pandas.pydata.org/pandas-docs/stable/user_guide/indexing.html#returning-a-view-versus-a-copy\n",
      "  isetter(loc, value)\n"
     ]
    },
    {
     "name": "stdout",
     "output_type": "stream",
     "text": [
      "Text took: 7.02327561378479 Num S / Coref: 16 / 15\n",
      "Current Article168\n"
     ]
    },
    {
     "name": "stderr",
     "output_type": "stream",
     "text": [
      "/mnt/efs/fs1/CSS_Termpaper/EntityNetwork/entitynetwork/relation_extraction/relation_extraction.py:60: RuntimeWarning: Mean of empty slice\n",
      "  sentiment = np.nanmean(prod)\n",
      "/mnt/efs/fs1/CSS_Termpaper/EntityNetwork/entitynetwork/validation_tool/relation_validation.py:36: SettingWithCopyWarning: \n",
      "A value is trying to be set on a copy of a slice from a DataFrame.\n",
      "Try using .loc[row_indexer,col_indexer] = value instead\n",
      "\n",
      "See the caveats in the documentation: https://pandas.pydata.org/pandas-docs/stable/user_guide/indexing.html#returning-a-view-versus-a-copy\n",
      "  article.relation_validation_data[\"valid\"] = 1\n",
      "/home/ubuntu/.local/lib/python3.6/site-packages/pandas/core/indexing.py:1765: SettingWithCopyWarning: \n",
      "A value is trying to be set on a copy of a slice from a DataFrame.\n",
      "Try using .loc[row_indexer,col_indexer] = value instead\n",
      "\n",
      "See the caveats in the documentation: https://pandas.pydata.org/pandas-docs/stable/user_guide/indexing.html#returning-a-view-versus-a-copy\n",
      "  isetter(loc, value)\n"
     ]
    },
    {
     "name": "stdout",
     "output_type": "stream",
     "text": [
      "Text took: 12.397547721862793 Num S / Coref: 20 / 20\n",
      "Current Article169\n"
     ]
    },
    {
     "name": "stderr",
     "output_type": "stream",
     "text": [
      "/mnt/efs/fs1/CSS_Termpaper/EntityNetwork/entitynetwork/relation_extraction/relation_extraction.py:60: RuntimeWarning: Mean of empty slice\n",
      "  sentiment = np.nanmean(prod)\n",
      "/mnt/efs/fs1/CSS_Termpaper/EntityNetwork/entitynetwork/validation_tool/relation_validation.py:36: SettingWithCopyWarning: \n",
      "A value is trying to be set on a copy of a slice from a DataFrame.\n",
      "Try using .loc[row_indexer,col_indexer] = value instead\n",
      "\n",
      "See the caveats in the documentation: https://pandas.pydata.org/pandas-docs/stable/user_guide/indexing.html#returning-a-view-versus-a-copy\n",
      "  article.relation_validation_data[\"valid\"] = 1\n",
      "/home/ubuntu/.local/lib/python3.6/site-packages/pandas/core/indexing.py:1765: SettingWithCopyWarning: \n",
      "A value is trying to be set on a copy of a slice from a DataFrame.\n",
      "Try using .loc[row_indexer,col_indexer] = value instead\n",
      "\n",
      "See the caveats in the documentation: https://pandas.pydata.org/pandas-docs/stable/user_guide/indexing.html#returning-a-view-versus-a-copy\n",
      "  isetter(loc, value)\n"
     ]
    },
    {
     "name": "stdout",
     "output_type": "stream",
     "text": [
      "Text took: 17.909582138061523 Num S / Coref: 27 / 26\n",
      "Current Article170\n"
     ]
    },
    {
     "name": "stderr",
     "output_type": "stream",
     "text": [
      "/mnt/efs/fs1/CSS_Termpaper/EntityNetwork/entitynetwork/relation_extraction/relation_extraction.py:60: RuntimeWarning: Mean of empty slice\n",
      "  sentiment = np.nanmean(prod)\n",
      "/mnt/efs/fs1/CSS_Termpaper/EntityNetwork/entitynetwork/validation_tool/relation_validation.py:36: SettingWithCopyWarning: \n",
      "A value is trying to be set on a copy of a slice from a DataFrame.\n",
      "Try using .loc[row_indexer,col_indexer] = value instead\n",
      "\n",
      "See the caveats in the documentation: https://pandas.pydata.org/pandas-docs/stable/user_guide/indexing.html#returning-a-view-versus-a-copy\n",
      "  article.relation_validation_data[\"valid\"] = 1\n",
      "/home/ubuntu/.local/lib/python3.6/site-packages/pandas/core/indexing.py:1765: SettingWithCopyWarning: \n",
      "A value is trying to be set on a copy of a slice from a DataFrame.\n",
      "Try using .loc[row_indexer,col_indexer] = value instead\n",
      "\n",
      "See the caveats in the documentation: https://pandas.pydata.org/pandas-docs/stable/user_guide/indexing.html#returning-a-view-versus-a-copy\n",
      "  isetter(loc, value)\n"
     ]
    },
    {
     "name": "stdout",
     "output_type": "stream",
     "text": [
      "Text took: 10.521324157714844 Num S / Coref: 21 / 21\n",
      "Current Article171\n"
     ]
    },
    {
     "name": "stderr",
     "output_type": "stream",
     "text": [
      "/mnt/efs/fs1/CSS_Termpaper/EntityNetwork/entitynetwork/relation_extraction/relation_extraction.py:60: RuntimeWarning: Mean of empty slice\n",
      "  sentiment = np.nanmean(prod)\n",
      "/mnt/efs/fs1/CSS_Termpaper/EntityNetwork/entitynetwork/validation_tool/entity_validation.py:61: SettingWithCopyWarning: \n",
      "A value is trying to be set on a copy of a slice from a DataFrame\n",
      "\n",
      "See the caveats in the documentation: https://pandas.pydata.org/pandas-docs/stable/user_guide/indexing.html#returning-a-view-versus-a-copy\n",
      "  self.merged_data[\"synonyms\"][~self.merged_data[\"synonyms\"].str.contains(\"__\", na=False)] = np.NaN\n",
      "/mnt/efs/fs1/CSS_Termpaper/EntityNetwork/entitynetwork/validation_tool/relation_validation.py:36: SettingWithCopyWarning: \n",
      "A value is trying to be set on a copy of a slice from a DataFrame.\n",
      "Try using .loc[row_indexer,col_indexer] = value instead\n",
      "\n",
      "See the caveats in the documentation: https://pandas.pydata.org/pandas-docs/stable/user_guide/indexing.html#returning-a-view-versus-a-copy\n",
      "  article.relation_validation_data[\"valid\"] = 1\n",
      "/home/ubuntu/.local/lib/python3.6/site-packages/pandas/core/indexing.py:1765: SettingWithCopyWarning: \n",
      "A value is trying to be set on a copy of a slice from a DataFrame.\n",
      "Try using .loc[row_indexer,col_indexer] = value instead\n",
      "\n",
      "See the caveats in the documentation: https://pandas.pydata.org/pandas-docs/stable/user_guide/indexing.html#returning-a-view-versus-a-copy\n",
      "  isetter(loc, value)\n"
     ]
    },
    {
     "name": "stdout",
     "output_type": "stream",
     "text": [
      "Text took: 3.7337303161621094 Num S / Coref: 7 / 7\n",
      "Current Article172\n"
     ]
    },
    {
     "name": "stderr",
     "output_type": "stream",
     "text": [
      "/mnt/efs/fs1/CSS_Termpaper/EntityNetwork/entitynetwork/relation_extraction/relation_extraction.py:60: RuntimeWarning: Mean of empty slice\n",
      "  sentiment = np.nanmean(prod)\n",
      "/mnt/efs/fs1/CSS_Termpaper/EntityNetwork/entitynetwork/validation_tool/entity_validation.py:61: SettingWithCopyWarning: \n",
      "A value is trying to be set on a copy of a slice from a DataFrame\n",
      "\n",
      "See the caveats in the documentation: https://pandas.pydata.org/pandas-docs/stable/user_guide/indexing.html#returning-a-view-versus-a-copy\n",
      "  self.merged_data[\"synonyms\"][~self.merged_data[\"synonyms\"].str.contains(\"__\", na=False)] = np.NaN\n",
      "/mnt/efs/fs1/CSS_Termpaper/EntityNetwork/entitynetwork/validation_tool/relation_validation.py:36: SettingWithCopyWarning: \n",
      "A value is trying to be set on a copy of a slice from a DataFrame.\n",
      "Try using .loc[row_indexer,col_indexer] = value instead\n",
      "\n",
      "See the caveats in the documentation: https://pandas.pydata.org/pandas-docs/stable/user_guide/indexing.html#returning-a-view-versus-a-copy\n",
      "  article.relation_validation_data[\"valid\"] = 1\n",
      "/home/ubuntu/.local/lib/python3.6/site-packages/pandas/core/indexing.py:1765: SettingWithCopyWarning: \n",
      "A value is trying to be set on a copy of a slice from a DataFrame.\n",
      "Try using .loc[row_indexer,col_indexer] = value instead\n",
      "\n",
      "See the caveats in the documentation: https://pandas.pydata.org/pandas-docs/stable/user_guide/indexing.html#returning-a-view-versus-a-copy\n",
      "  isetter(loc, value)\n"
     ]
    },
    {
     "name": "stdout",
     "output_type": "stream",
     "text": [
      "Text took: 5.446783781051636 Num S / Coref: 11 / 11\n",
      "Current Article173\n"
     ]
    },
    {
     "name": "stderr",
     "output_type": "stream",
     "text": [
      "/mnt/efs/fs1/CSS_Termpaper/EntityNetwork/entitynetwork/relation_extraction/relation_extraction.py:60: RuntimeWarning: Mean of empty slice\n",
      "  sentiment = np.nanmean(prod)\n",
      "/mnt/efs/fs1/CSS_Termpaper/EntityNetwork/entitynetwork/validation_tool/relation_validation.py:36: SettingWithCopyWarning: \n",
      "A value is trying to be set on a copy of a slice from a DataFrame.\n",
      "Try using .loc[row_indexer,col_indexer] = value instead\n",
      "\n",
      "See the caveats in the documentation: https://pandas.pydata.org/pandas-docs/stable/user_guide/indexing.html#returning-a-view-versus-a-copy\n",
      "  article.relation_validation_data[\"valid\"] = 1\n",
      "/home/ubuntu/.local/lib/python3.6/site-packages/pandas/core/indexing.py:1765: SettingWithCopyWarning: \n",
      "A value is trying to be set on a copy of a slice from a DataFrame.\n",
      "Try using .loc[row_indexer,col_indexer] = value instead\n",
      "\n",
      "See the caveats in the documentation: https://pandas.pydata.org/pandas-docs/stable/user_guide/indexing.html#returning-a-view-versus-a-copy\n",
      "  isetter(loc, value)\n"
     ]
    },
    {
     "name": "stdout",
     "output_type": "stream",
     "text": [
      "Text took: 5.519413709640503 Num S / Coref: 8 / 8\n",
      "Current Article174\n"
     ]
    },
    {
     "name": "stderr",
     "output_type": "stream",
     "text": [
      "/mnt/efs/fs1/CSS_Termpaper/EntityNetwork/entitynetwork/relation_extraction/relation_extraction.py:60: RuntimeWarning: Mean of empty slice\n",
      "  sentiment = np.nanmean(prod)\n",
      "/mnt/efs/fs1/CSS_Termpaper/EntityNetwork/entitynetwork/validation_tool/relation_validation.py:36: SettingWithCopyWarning: \n",
      "A value is trying to be set on a copy of a slice from a DataFrame.\n",
      "Try using .loc[row_indexer,col_indexer] = value instead\n",
      "\n",
      "See the caveats in the documentation: https://pandas.pydata.org/pandas-docs/stable/user_guide/indexing.html#returning-a-view-versus-a-copy\n",
      "  article.relation_validation_data[\"valid\"] = 1\n",
      "/home/ubuntu/.local/lib/python3.6/site-packages/pandas/core/indexing.py:1765: SettingWithCopyWarning: \n",
      "A value is trying to be set on a copy of a slice from a DataFrame.\n",
      "Try using .loc[row_indexer,col_indexer] = value instead\n",
      "\n",
      "See the caveats in the documentation: https://pandas.pydata.org/pandas-docs/stable/user_guide/indexing.html#returning-a-view-versus-a-copy\n",
      "  isetter(loc, value)\n"
     ]
    },
    {
     "name": "stdout",
     "output_type": "stream",
     "text": [
      "Text took: 4.67496657371521 Num S / Coref: 12 / 12\n",
      "Current Article175\n"
     ]
    },
    {
     "name": "stderr",
     "output_type": "stream",
     "text": [
      "/mnt/efs/fs1/CSS_Termpaper/EntityNetwork/entitynetwork/relation_extraction/relation_extraction.py:60: RuntimeWarning: Mean of empty slice\n",
      "  sentiment = np.nanmean(prod)\n",
      "/mnt/efs/fs1/CSS_Termpaper/EntityNetwork/entitynetwork/validation_tool/relation_validation.py:36: SettingWithCopyWarning: \n",
      "A value is trying to be set on a copy of a slice from a DataFrame.\n",
      "Try using .loc[row_indexer,col_indexer] = value instead\n",
      "\n",
      "See the caveats in the documentation: https://pandas.pydata.org/pandas-docs/stable/user_guide/indexing.html#returning-a-view-versus-a-copy\n",
      "  article.relation_validation_data[\"valid\"] = 1\n",
      "/home/ubuntu/.local/lib/python3.6/site-packages/pandas/core/indexing.py:1765: SettingWithCopyWarning: \n",
      "A value is trying to be set on a copy of a slice from a DataFrame.\n",
      "Try using .loc[row_indexer,col_indexer] = value instead\n",
      "\n",
      "See the caveats in the documentation: https://pandas.pydata.org/pandas-docs/stable/user_guide/indexing.html#returning-a-view-versus-a-copy\n",
      "  isetter(loc, value)\n"
     ]
    },
    {
     "name": "stdout",
     "output_type": "stream",
     "text": [
      "Text took: 11.64513111114502 Num S / Coref: 24 / 24\n",
      "Current Article176\n"
     ]
    },
    {
     "name": "stderr",
     "output_type": "stream",
     "text": [
      "/mnt/efs/fs1/CSS_Termpaper/EntityNetwork/entitynetwork/relation_extraction/relation_extraction.py:60: RuntimeWarning: Mean of empty slice\n",
      "  sentiment = np.nanmean(prod)\n",
      "/mnt/efs/fs1/CSS_Termpaper/EntityNetwork/entitynetwork/validation_tool/relation_validation.py:36: SettingWithCopyWarning: \n",
      "A value is trying to be set on a copy of a slice from a DataFrame.\n",
      "Try using .loc[row_indexer,col_indexer] = value instead\n",
      "\n",
      "See the caveats in the documentation: https://pandas.pydata.org/pandas-docs/stable/user_guide/indexing.html#returning-a-view-versus-a-copy\n",
      "  article.relation_validation_data[\"valid\"] = 1\n",
      "/home/ubuntu/.local/lib/python3.6/site-packages/pandas/core/indexing.py:1765: SettingWithCopyWarning: \n",
      "A value is trying to be set on a copy of a slice from a DataFrame.\n",
      "Try using .loc[row_indexer,col_indexer] = value instead\n",
      "\n",
      "See the caveats in the documentation: https://pandas.pydata.org/pandas-docs/stable/user_guide/indexing.html#returning-a-view-versus-a-copy\n",
      "  isetter(loc, value)\n"
     ]
    },
    {
     "name": "stdout",
     "output_type": "stream",
     "text": [
      "Text took: 2.349235773086548 Num S / Coref: 4 / 4\n",
      "Current Article177\n"
     ]
    },
    {
     "name": "stderr",
     "output_type": "stream",
     "text": [
      "/mnt/efs/fs1/CSS_Termpaper/EntityNetwork/entitynetwork/relation_extraction/relation_extraction.py:60: RuntimeWarning: Mean of empty slice\n",
      "  sentiment = np.nanmean(prod)\n",
      "/mnt/efs/fs1/CSS_Termpaper/EntityNetwork/entitynetwork/validation_tool/relation_validation.py:36: SettingWithCopyWarning: \n",
      "A value is trying to be set on a copy of a slice from a DataFrame.\n",
      "Try using .loc[row_indexer,col_indexer] = value instead\n",
      "\n",
      "See the caveats in the documentation: https://pandas.pydata.org/pandas-docs/stable/user_guide/indexing.html#returning-a-view-versus-a-copy\n",
      "  article.relation_validation_data[\"valid\"] = 1\n",
      "/home/ubuntu/.local/lib/python3.6/site-packages/pandas/core/indexing.py:1765: SettingWithCopyWarning: \n",
      "A value is trying to be set on a copy of a slice from a DataFrame.\n",
      "Try using .loc[row_indexer,col_indexer] = value instead\n",
      "\n",
      "See the caveats in the documentation: https://pandas.pydata.org/pandas-docs/stable/user_guide/indexing.html#returning-a-view-versus-a-copy\n",
      "  isetter(loc, value)\n"
     ]
    },
    {
     "name": "stdout",
     "output_type": "stream",
     "text": [
      "Text took: 10.452736854553223 Num S / Coref: 35 / 35\n",
      "Current Article178\n"
     ]
    },
    {
     "name": "stderr",
     "output_type": "stream",
     "text": [
      "/mnt/efs/fs1/CSS_Termpaper/EntityNetwork/entitynetwork/relation_extraction/relation_extraction.py:60: RuntimeWarning: Mean of empty slice\n",
      "  sentiment = np.nanmean(prod)\n",
      "/mnt/efs/fs1/CSS_Termpaper/EntityNetwork/entitynetwork/validation_tool/relation_validation.py:36: SettingWithCopyWarning: \n",
      "A value is trying to be set on a copy of a slice from a DataFrame.\n",
      "Try using .loc[row_indexer,col_indexer] = value instead\n",
      "\n",
      "See the caveats in the documentation: https://pandas.pydata.org/pandas-docs/stable/user_guide/indexing.html#returning-a-view-versus-a-copy\n",
      "  article.relation_validation_data[\"valid\"] = 1\n",
      "/home/ubuntu/.local/lib/python3.6/site-packages/pandas/core/indexing.py:1765: SettingWithCopyWarning: \n",
      "A value is trying to be set on a copy of a slice from a DataFrame.\n",
      "Try using .loc[row_indexer,col_indexer] = value instead\n",
      "\n",
      "See the caveats in the documentation: https://pandas.pydata.org/pandas-docs/stable/user_guide/indexing.html#returning-a-view-versus-a-copy\n",
      "  isetter(loc, value)\n"
     ]
    },
    {
     "name": "stdout",
     "output_type": "stream",
     "text": [
      "Text took: 18.802085638046265 Num S / Coref: 58 / 58\n",
      "Current Article179\n"
     ]
    },
    {
     "name": "stderr",
     "output_type": "stream",
     "text": [
      "/mnt/efs/fs1/CSS_Termpaper/EntityNetwork/entitynetwork/relation_extraction/relation_extraction.py:60: RuntimeWarning: Mean of empty slice\n",
      "  sentiment = np.nanmean(prod)\n",
      "/mnt/efs/fs1/CSS_Termpaper/EntityNetwork/entitynetwork/validation_tool/relation_validation.py:36: SettingWithCopyWarning: \n",
      "A value is trying to be set on a copy of a slice from a DataFrame.\n",
      "Try using .loc[row_indexer,col_indexer] = value instead\n",
      "\n",
      "See the caveats in the documentation: https://pandas.pydata.org/pandas-docs/stable/user_guide/indexing.html#returning-a-view-versus-a-copy\n",
      "  article.relation_validation_data[\"valid\"] = 1\n",
      "/home/ubuntu/.local/lib/python3.6/site-packages/pandas/core/indexing.py:1765: SettingWithCopyWarning: \n",
      "A value is trying to be set on a copy of a slice from a DataFrame.\n",
      "Try using .loc[row_indexer,col_indexer] = value instead\n",
      "\n",
      "See the caveats in the documentation: https://pandas.pydata.org/pandas-docs/stable/user_guide/indexing.html#returning-a-view-versus-a-copy\n",
      "  isetter(loc, value)\n"
     ]
    },
    {
     "name": "stdout",
     "output_type": "stream",
     "text": [
      "Text took: 13.632397174835205 Num S / Coref: 24 / 24\n",
      "Current Article180\n"
     ]
    },
    {
     "name": "stderr",
     "output_type": "stream",
     "text": [
      "/mnt/efs/fs1/CSS_Termpaper/EntityNetwork/entitynetwork/relation_extraction/relation_extraction.py:60: RuntimeWarning: Mean of empty slice\n",
      "  sentiment = np.nanmean(prod)\n",
      "/mnt/efs/fs1/CSS_Termpaper/EntityNetwork/entitynetwork/validation_tool/relation_validation.py:36: SettingWithCopyWarning: \n",
      "A value is trying to be set on a copy of a slice from a DataFrame.\n",
      "Try using .loc[row_indexer,col_indexer] = value instead\n",
      "\n",
      "See the caveats in the documentation: https://pandas.pydata.org/pandas-docs/stable/user_guide/indexing.html#returning-a-view-versus-a-copy\n",
      "  article.relation_validation_data[\"valid\"] = 1\n",
      "/home/ubuntu/.local/lib/python3.6/site-packages/pandas/core/indexing.py:1765: SettingWithCopyWarning: \n",
      "A value is trying to be set on a copy of a slice from a DataFrame.\n",
      "Try using .loc[row_indexer,col_indexer] = value instead\n",
      "\n",
      "See the caveats in the documentation: https://pandas.pydata.org/pandas-docs/stable/user_guide/indexing.html#returning-a-view-versus-a-copy\n",
      "  isetter(loc, value)\n"
     ]
    },
    {
     "name": "stdout",
     "output_type": "stream",
     "text": [
      "Text took: 18.801342248916626 Num S / Coref: 39 / 39\n",
      "Current Article181\n"
     ]
    },
    {
     "name": "stderr",
     "output_type": "stream",
     "text": [
      "/mnt/efs/fs1/CSS_Termpaper/EntityNetwork/entitynetwork/relation_extraction/relation_extraction.py:60: RuntimeWarning: Mean of empty slice\n",
      "  sentiment = np.nanmean(prod)\n",
      "/mnt/efs/fs1/CSS_Termpaper/EntityNetwork/entitynetwork/validation_tool/relation_validation.py:36: SettingWithCopyWarning: \n",
      "A value is trying to be set on a copy of a slice from a DataFrame.\n",
      "Try using .loc[row_indexer,col_indexer] = value instead\n",
      "\n",
      "See the caveats in the documentation: https://pandas.pydata.org/pandas-docs/stable/user_guide/indexing.html#returning-a-view-versus-a-copy\n",
      "  article.relation_validation_data[\"valid\"] = 1\n",
      "/home/ubuntu/.local/lib/python3.6/site-packages/pandas/core/indexing.py:1765: SettingWithCopyWarning: \n",
      "A value is trying to be set on a copy of a slice from a DataFrame.\n",
      "Try using .loc[row_indexer,col_indexer] = value instead\n",
      "\n",
      "See the caveats in the documentation: https://pandas.pydata.org/pandas-docs/stable/user_guide/indexing.html#returning-a-view-versus-a-copy\n",
      "  isetter(loc, value)\n"
     ]
    },
    {
     "name": "stdout",
     "output_type": "stream",
     "text": [
      "Text took: 21.414560556411743 Num S / Coref: 33 / 33\n",
      "Current Article182\n"
     ]
    },
    {
     "name": "stderr",
     "output_type": "stream",
     "text": [
      "/mnt/efs/fs1/CSS_Termpaper/EntityNetwork/entitynetwork/relation_extraction/relation_extraction.py:60: RuntimeWarning: Mean of empty slice\n",
      "  sentiment = np.nanmean(prod)\n",
      "/mnt/efs/fs1/CSS_Termpaper/EntityNetwork/entitynetwork/validation_tool/relation_validation.py:36: SettingWithCopyWarning: \n",
      "A value is trying to be set on a copy of a slice from a DataFrame.\n",
      "Try using .loc[row_indexer,col_indexer] = value instead\n",
      "\n",
      "See the caveats in the documentation: https://pandas.pydata.org/pandas-docs/stable/user_guide/indexing.html#returning-a-view-versus-a-copy\n",
      "  article.relation_validation_data[\"valid\"] = 1\n",
      "/home/ubuntu/.local/lib/python3.6/site-packages/pandas/core/indexing.py:1765: SettingWithCopyWarning: \n",
      "A value is trying to be set on a copy of a slice from a DataFrame.\n",
      "Try using .loc[row_indexer,col_indexer] = value instead\n",
      "\n",
      "See the caveats in the documentation: https://pandas.pydata.org/pandas-docs/stable/user_guide/indexing.html#returning-a-view-versus-a-copy\n",
      "  isetter(loc, value)\n"
     ]
    },
    {
     "name": "stdout",
     "output_type": "stream",
     "text": [
      "Text took: 14.5373215675354 Num S / Coref: 24 / 24\n",
      "Current Article183\n"
     ]
    },
    {
     "name": "stderr",
     "output_type": "stream",
     "text": [
      "/mnt/efs/fs1/CSS_Termpaper/EntityNetwork/entitynetwork/relation_extraction/relation_extraction.py:60: RuntimeWarning: Mean of empty slice\n",
      "  sentiment = np.nanmean(prod)\n",
      "/mnt/efs/fs1/CSS_Termpaper/EntityNetwork/entitynetwork/validation_tool/relation_validation.py:36: SettingWithCopyWarning: \n",
      "A value is trying to be set on a copy of a slice from a DataFrame.\n",
      "Try using .loc[row_indexer,col_indexer] = value instead\n",
      "\n",
      "See the caveats in the documentation: https://pandas.pydata.org/pandas-docs/stable/user_guide/indexing.html#returning-a-view-versus-a-copy\n",
      "  article.relation_validation_data[\"valid\"] = 1\n",
      "/home/ubuntu/.local/lib/python3.6/site-packages/pandas/core/indexing.py:1765: SettingWithCopyWarning: \n",
      "A value is trying to be set on a copy of a slice from a DataFrame.\n",
      "Try using .loc[row_indexer,col_indexer] = value instead\n",
      "\n",
      "See the caveats in the documentation: https://pandas.pydata.org/pandas-docs/stable/user_guide/indexing.html#returning-a-view-versus-a-copy\n",
      "  isetter(loc, value)\n"
     ]
    },
    {
     "name": "stdout",
     "output_type": "stream",
     "text": [
      "Text took: 5.198596715927124 Num S / Coref: 12 / 12\n",
      "Current Article184\n"
     ]
    },
    {
     "name": "stderr",
     "output_type": "stream",
     "text": [
      "/mnt/efs/fs1/CSS_Termpaper/EntityNetwork/entitynetwork/relation_extraction/relation_extraction.py:60: RuntimeWarning: Mean of empty slice\n",
      "  sentiment = np.nanmean(prod)\n",
      "/mnt/efs/fs1/CSS_Termpaper/EntityNetwork/entitynetwork/validation_tool/relation_validation.py:36: SettingWithCopyWarning: \n",
      "A value is trying to be set on a copy of a slice from a DataFrame.\n",
      "Try using .loc[row_indexer,col_indexer] = value instead\n",
      "\n",
      "See the caveats in the documentation: https://pandas.pydata.org/pandas-docs/stable/user_guide/indexing.html#returning-a-view-versus-a-copy\n",
      "  article.relation_validation_data[\"valid\"] = 1\n",
      "/home/ubuntu/.local/lib/python3.6/site-packages/pandas/core/indexing.py:1765: SettingWithCopyWarning: \n",
      "A value is trying to be set on a copy of a slice from a DataFrame.\n",
      "Try using .loc[row_indexer,col_indexer] = value instead\n",
      "\n",
      "See the caveats in the documentation: https://pandas.pydata.org/pandas-docs/stable/user_guide/indexing.html#returning-a-view-versus-a-copy\n",
      "  isetter(loc, value)\n"
     ]
    },
    {
     "name": "stdout",
     "output_type": "stream",
     "text": [
      "Text took: 5.835338830947876 Num S / Coref: 12 / 12\n",
      "Current Article185\n"
     ]
    },
    {
     "name": "stderr",
     "output_type": "stream",
     "text": [
      "/mnt/efs/fs1/CSS_Termpaper/EntityNetwork/entitynetwork/relation_extraction/relation_extraction.py:60: RuntimeWarning: Mean of empty slice\n",
      "  sentiment = np.nanmean(prod)\n",
      "/mnt/efs/fs1/CSS_Termpaper/EntityNetwork/entitynetwork/validation_tool/relation_validation.py:36: SettingWithCopyWarning: \n",
      "A value is trying to be set on a copy of a slice from a DataFrame.\n",
      "Try using .loc[row_indexer,col_indexer] = value instead\n",
      "\n",
      "See the caveats in the documentation: https://pandas.pydata.org/pandas-docs/stable/user_guide/indexing.html#returning-a-view-versus-a-copy\n",
      "  article.relation_validation_data[\"valid\"] = 1\n",
      "/home/ubuntu/.local/lib/python3.6/site-packages/pandas/core/indexing.py:1765: SettingWithCopyWarning: \n",
      "A value is trying to be set on a copy of a slice from a DataFrame.\n",
      "Try using .loc[row_indexer,col_indexer] = value instead\n",
      "\n",
      "See the caveats in the documentation: https://pandas.pydata.org/pandas-docs/stable/user_guide/indexing.html#returning-a-view-versus-a-copy\n",
      "  isetter(loc, value)\n"
     ]
    },
    {
     "name": "stdout",
     "output_type": "stream",
     "text": [
      "Text took: 10.712920904159546 Num S / Coref: 14 / 14\n",
      "Current Article186\n"
     ]
    },
    {
     "name": "stderr",
     "output_type": "stream",
     "text": [
      "/mnt/efs/fs1/CSS_Termpaper/EntityNetwork/entitynetwork/relation_extraction/relation_extraction.py:60: RuntimeWarning: Mean of empty slice\n",
      "  sentiment = np.nanmean(prod)\n",
      "/mnt/efs/fs1/CSS_Termpaper/EntityNetwork/entitynetwork/validation_tool/entity_validation.py:61: SettingWithCopyWarning: \n",
      "A value is trying to be set on a copy of a slice from a DataFrame\n",
      "\n",
      "See the caveats in the documentation: https://pandas.pydata.org/pandas-docs/stable/user_guide/indexing.html#returning-a-view-versus-a-copy\n",
      "  self.merged_data[\"synonyms\"][~self.merged_data[\"synonyms\"].str.contains(\"__\", na=False)] = np.NaN\n",
      "/mnt/efs/fs1/CSS_Termpaper/EntityNetwork/entitynetwork/validation_tool/relation_validation.py:36: SettingWithCopyWarning: \n",
      "A value is trying to be set on a copy of a slice from a DataFrame.\n",
      "Try using .loc[row_indexer,col_indexer] = value instead\n",
      "\n",
      "See the caveats in the documentation: https://pandas.pydata.org/pandas-docs/stable/user_guide/indexing.html#returning-a-view-versus-a-copy\n",
      "  article.relation_validation_data[\"valid\"] = 1\n",
      "/home/ubuntu/.local/lib/python3.6/site-packages/pandas/core/indexing.py:1765: SettingWithCopyWarning: \n",
      "A value is trying to be set on a copy of a slice from a DataFrame.\n",
      "Try using .loc[row_indexer,col_indexer] = value instead\n",
      "\n",
      "See the caveats in the documentation: https://pandas.pydata.org/pandas-docs/stable/user_guide/indexing.html#returning-a-view-versus-a-copy\n",
      "  isetter(loc, value)\n"
     ]
    },
    {
     "name": "stdout",
     "output_type": "stream",
     "text": [
      "Text took: 9.957646369934082 Num S / Coref: 16 / 15\n",
      "Current Article187\n"
     ]
    },
    {
     "name": "stderr",
     "output_type": "stream",
     "text": [
      "/mnt/efs/fs1/CSS_Termpaper/EntityNetwork/entitynetwork/validation_tool/entity_validation.py:61: SettingWithCopyWarning: \n",
      "A value is trying to be set on a copy of a slice from a DataFrame\n",
      "\n",
      "See the caveats in the documentation: https://pandas.pydata.org/pandas-docs/stable/user_guide/indexing.html#returning-a-view-versus-a-copy\n",
      "  self.merged_data[\"synonyms\"][~self.merged_data[\"synonyms\"].str.contains(\"__\", na=False)] = np.NaN\n",
      "/mnt/efs/fs1/CSS_Termpaper/EntityNetwork/entitynetwork/validation_tool/relation_validation.py:36: SettingWithCopyWarning: \n",
      "A value is trying to be set on a copy of a slice from a DataFrame.\n",
      "Try using .loc[row_indexer,col_indexer] = value instead\n",
      "\n",
      "See the caveats in the documentation: https://pandas.pydata.org/pandas-docs/stable/user_guide/indexing.html#returning-a-view-versus-a-copy\n",
      "  article.relation_validation_data[\"valid\"] = 1\n",
      "/home/ubuntu/.local/lib/python3.6/site-packages/pandas/core/indexing.py:1765: SettingWithCopyWarning: \n",
      "A value is trying to be set on a copy of a slice from a DataFrame.\n",
      "Try using .loc[row_indexer,col_indexer] = value instead\n",
      "\n",
      "See the caveats in the documentation: https://pandas.pydata.org/pandas-docs/stable/user_guide/indexing.html#returning-a-view-versus-a-copy\n",
      "  isetter(loc, value)\n",
      "/mnt/efs/fs1/CSS_Termpaper/EntityNetwork/entitynetwork/validation_tool/relation_validation.py:110: RuntimeWarning: invalid value encountered in double_scalars\n",
      "  self.f1 = 2 * ((self.precision * self.recall) / (self.precision + self.recall))\n",
      "/mnt/efs/fs1/CSS_Termpaper/EntityNetwork/entitynetwork/validation_tool/relation_validation.py:112: RuntimeWarning: invalid value encountered in long_scalars\n",
      "  self.missed_relations - self.invalid_relations)\n"
     ]
    },
    {
     "name": "stdout",
     "output_type": "stream",
     "text": [
      "Text took: 2.212855339050293 Num S / Coref: 5 / 5\n",
      "Current Article188\n"
     ]
    },
    {
     "name": "stderr",
     "output_type": "stream",
     "text": [
      "/mnt/efs/fs1/CSS_Termpaper/EntityNetwork/entitynetwork/relation_extraction/relation_extraction.py:60: RuntimeWarning: Mean of empty slice\n",
      "  sentiment = np.nanmean(prod)\n",
      "/mnt/efs/fs1/CSS_Termpaper/EntityNetwork/entitynetwork/validation_tool/relation_validation.py:36: SettingWithCopyWarning: \n",
      "A value is trying to be set on a copy of a slice from a DataFrame.\n",
      "Try using .loc[row_indexer,col_indexer] = value instead\n",
      "\n",
      "See the caveats in the documentation: https://pandas.pydata.org/pandas-docs/stable/user_guide/indexing.html#returning-a-view-versus-a-copy\n",
      "  article.relation_validation_data[\"valid\"] = 1\n",
      "/home/ubuntu/.local/lib/python3.6/site-packages/pandas/core/indexing.py:1765: SettingWithCopyWarning: \n",
      "A value is trying to be set on a copy of a slice from a DataFrame.\n",
      "Try using .loc[row_indexer,col_indexer] = value instead\n",
      "\n",
      "See the caveats in the documentation: https://pandas.pydata.org/pandas-docs/stable/user_guide/indexing.html#returning-a-view-versus-a-copy\n",
      "  isetter(loc, value)\n"
     ]
    },
    {
     "name": "stdout",
     "output_type": "stream",
     "text": [
      "Text took: 5.25157356262207 Num S / Coref: 7 / 7\n",
      "Current Article189\n"
     ]
    },
    {
     "name": "stderr",
     "output_type": "stream",
     "text": [
      "/mnt/efs/fs1/CSS_Termpaper/EntityNetwork/entitynetwork/relation_extraction/relation_extraction.py:60: RuntimeWarning: Mean of empty slice\n",
      "  sentiment = np.nanmean(prod)\n",
      "/mnt/efs/fs1/CSS_Termpaper/EntityNetwork/entitynetwork/validation_tool/entity_validation.py:61: SettingWithCopyWarning: \n",
      "A value is trying to be set on a copy of a slice from a DataFrame\n",
      "\n",
      "See the caveats in the documentation: https://pandas.pydata.org/pandas-docs/stable/user_guide/indexing.html#returning-a-view-versus-a-copy\n",
      "  self.merged_data[\"synonyms\"][~self.merged_data[\"synonyms\"].str.contains(\"__\", na=False)] = np.NaN\n",
      "/mnt/efs/fs1/CSS_Termpaper/EntityNetwork/entitynetwork/validation_tool/entity_validation.py:95: RuntimeWarning: invalid value encountered in double_scalars\n",
      "  self.f1 = 2*((self.precision*self.recall)/(self.precision + self.recall))\n"
     ]
    },
    {
     "name": "stdout",
     "output_type": "stream",
     "text": [
      "Text took: 14.294713735580444 Num S / Coref: 32 / 32\n",
      "Current Article190\n"
     ]
    },
    {
     "name": "stderr",
     "output_type": "stream",
     "text": [
      "/mnt/efs/fs1/CSS_Termpaper/EntityNetwork/entitynetwork/relation_extraction/relation_extraction.py:60: RuntimeWarning: Mean of empty slice\n",
      "  sentiment = np.nanmean(prod)\n",
      "/mnt/efs/fs1/CSS_Termpaper/EntityNetwork/entitynetwork/validation_tool/relation_validation.py:36: SettingWithCopyWarning: \n",
      "A value is trying to be set on a copy of a slice from a DataFrame.\n",
      "Try using .loc[row_indexer,col_indexer] = value instead\n",
      "\n",
      "See the caveats in the documentation: https://pandas.pydata.org/pandas-docs/stable/user_guide/indexing.html#returning-a-view-versus-a-copy\n",
      "  article.relation_validation_data[\"valid\"] = 1\n",
      "/home/ubuntu/.local/lib/python3.6/site-packages/pandas/core/indexing.py:1765: SettingWithCopyWarning: \n",
      "A value is trying to be set on a copy of a slice from a DataFrame.\n",
      "Try using .loc[row_indexer,col_indexer] = value instead\n",
      "\n",
      "See the caveats in the documentation: https://pandas.pydata.org/pandas-docs/stable/user_guide/indexing.html#returning-a-view-versus-a-copy\n",
      "  isetter(loc, value)\n"
     ]
    },
    {
     "name": "stdout",
     "output_type": "stream",
     "text": [
      "Text took: 13.118487358093262 Num S / Coref: 22 / 22\n",
      "Current Article191\n"
     ]
    },
    {
     "name": "stderr",
     "output_type": "stream",
     "text": [
      "/mnt/efs/fs1/CSS_Termpaper/EntityNetwork/entitynetwork/relation_extraction/relation_extraction.py:60: RuntimeWarning: Mean of empty slice\n",
      "  sentiment = np.nanmean(prod)\n",
      "/mnt/efs/fs1/CSS_Termpaper/EntityNetwork/entitynetwork/validation_tool/entity_validation.py:61: SettingWithCopyWarning: \n",
      "A value is trying to be set on a copy of a slice from a DataFrame\n",
      "\n",
      "See the caveats in the documentation: https://pandas.pydata.org/pandas-docs/stable/user_guide/indexing.html#returning-a-view-versus-a-copy\n",
      "  self.merged_data[\"synonyms\"][~self.merged_data[\"synonyms\"].str.contains(\"__\", na=False)] = np.NaN\n",
      "/mnt/efs/fs1/CSS_Termpaper/EntityNetwork/entitynetwork/validation_tool/relation_validation.py:36: SettingWithCopyWarning: \n",
      "A value is trying to be set on a copy of a slice from a DataFrame.\n",
      "Try using .loc[row_indexer,col_indexer] = value instead\n",
      "\n",
      "See the caveats in the documentation: https://pandas.pydata.org/pandas-docs/stable/user_guide/indexing.html#returning-a-view-versus-a-copy\n",
      "  article.relation_validation_data[\"valid\"] = 1\n",
      "/home/ubuntu/.local/lib/python3.6/site-packages/pandas/core/indexing.py:1765: SettingWithCopyWarning: \n",
      "A value is trying to be set on a copy of a slice from a DataFrame.\n",
      "Try using .loc[row_indexer,col_indexer] = value instead\n",
      "\n",
      "See the caveats in the documentation: https://pandas.pydata.org/pandas-docs/stable/user_guide/indexing.html#returning-a-view-versus-a-copy\n",
      "  isetter(loc, value)\n"
     ]
    },
    {
     "name": "stdout",
     "output_type": "stream",
     "text": [
      "Text took: 1.8427979946136475 Num S / Coref: 4 / 4\n",
      "Current Article192\n"
     ]
    },
    {
     "name": "stderr",
     "output_type": "stream",
     "text": [
      "/mnt/efs/fs1/CSS_Termpaper/EntityNetwork/entitynetwork/relation_extraction/relation_extraction.py:60: RuntimeWarning: Mean of empty slice\n",
      "  sentiment = np.nanmean(prod)\n",
      "/mnt/efs/fs1/CSS_Termpaper/EntityNetwork/entitynetwork/validation_tool/entity_validation.py:61: SettingWithCopyWarning: \n",
      "A value is trying to be set on a copy of a slice from a DataFrame\n",
      "\n",
      "See the caveats in the documentation: https://pandas.pydata.org/pandas-docs/stable/user_guide/indexing.html#returning-a-view-versus-a-copy\n",
      "  self.merged_data[\"synonyms\"][~self.merged_data[\"synonyms\"].str.contains(\"__\", na=False)] = np.NaN\n",
      "/mnt/efs/fs1/CSS_Termpaper/EntityNetwork/entitynetwork/validation_tool/relation_validation.py:36: SettingWithCopyWarning: \n",
      "A value is trying to be set on a copy of a slice from a DataFrame.\n",
      "Try using .loc[row_indexer,col_indexer] = value instead\n",
      "\n",
      "See the caveats in the documentation: https://pandas.pydata.org/pandas-docs/stable/user_guide/indexing.html#returning-a-view-versus-a-copy\n",
      "  article.relation_validation_data[\"valid\"] = 1\n",
      "/home/ubuntu/.local/lib/python3.6/site-packages/pandas/core/indexing.py:1765: SettingWithCopyWarning: \n",
      "A value is trying to be set on a copy of a slice from a DataFrame.\n",
      "Try using .loc[row_indexer,col_indexer] = value instead\n",
      "\n",
      "See the caveats in the documentation: https://pandas.pydata.org/pandas-docs/stable/user_guide/indexing.html#returning-a-view-versus-a-copy\n",
      "  isetter(loc, value)\n"
     ]
    },
    {
     "name": "stdout",
     "output_type": "stream",
     "text": [
      "Text took: 1.7100579738616943 Num S / Coref: 4 / 4\n",
      "Current Article193\n"
     ]
    },
    {
     "name": "stderr",
     "output_type": "stream",
     "text": [
      "/mnt/efs/fs1/CSS_Termpaper/EntityNetwork/entitynetwork/relation_extraction/relation_extraction.py:60: RuntimeWarning: Mean of empty slice\n",
      "  sentiment = np.nanmean(prod)\n",
      "/mnt/efs/fs1/CSS_Termpaper/EntityNetwork/entitynetwork/validation_tool/relation_validation.py:36: SettingWithCopyWarning: \n",
      "A value is trying to be set on a copy of a slice from a DataFrame.\n",
      "Try using .loc[row_indexer,col_indexer] = value instead\n",
      "\n",
      "See the caveats in the documentation: https://pandas.pydata.org/pandas-docs/stable/user_guide/indexing.html#returning-a-view-versus-a-copy\n",
      "  article.relation_validation_data[\"valid\"] = 1\n",
      "/home/ubuntu/.local/lib/python3.6/site-packages/pandas/core/indexing.py:1765: SettingWithCopyWarning: \n",
      "A value is trying to be set on a copy of a slice from a DataFrame.\n",
      "Try using .loc[row_indexer,col_indexer] = value instead\n",
      "\n",
      "See the caveats in the documentation: https://pandas.pydata.org/pandas-docs/stable/user_guide/indexing.html#returning-a-view-versus-a-copy\n",
      "  isetter(loc, value)\n"
     ]
    },
    {
     "name": "stdout",
     "output_type": "stream",
     "text": [
      "Text took: 2.058058977127075 Num S / Coref: 3 / 3\n",
      "Current Article194\n"
     ]
    },
    {
     "name": "stderr",
     "output_type": "stream",
     "text": [
      "/mnt/efs/fs1/CSS_Termpaper/EntityNetwork/entitynetwork/relation_extraction/relation_extraction.py:60: RuntimeWarning: Mean of empty slice\n",
      "  sentiment = np.nanmean(prod)\n",
      "/mnt/efs/fs1/CSS_Termpaper/EntityNetwork/entitynetwork/validation_tool/relation_validation.py:36: SettingWithCopyWarning: \n",
      "A value is trying to be set on a copy of a slice from a DataFrame.\n",
      "Try using .loc[row_indexer,col_indexer] = value instead\n",
      "\n",
      "See the caveats in the documentation: https://pandas.pydata.org/pandas-docs/stable/user_guide/indexing.html#returning-a-view-versus-a-copy\n",
      "  article.relation_validation_data[\"valid\"] = 1\n",
      "/home/ubuntu/.local/lib/python3.6/site-packages/pandas/core/indexing.py:1765: SettingWithCopyWarning: \n",
      "A value is trying to be set on a copy of a slice from a DataFrame.\n",
      "Try using .loc[row_indexer,col_indexer] = value instead\n",
      "\n",
      "See the caveats in the documentation: https://pandas.pydata.org/pandas-docs/stable/user_guide/indexing.html#returning-a-view-versus-a-copy\n",
      "  isetter(loc, value)\n"
     ]
    },
    {
     "name": "stdout",
     "output_type": "stream",
     "text": [
      "Text took: 9.994521856307983 Num S / Coref: 21 / 21\n",
      "Current Article195\n"
     ]
    },
    {
     "name": "stderr",
     "output_type": "stream",
     "text": [
      "/mnt/efs/fs1/CSS_Termpaper/EntityNetwork/entitynetwork/relation_extraction/relation_extraction.py:60: RuntimeWarning: Mean of empty slice\n",
      "  sentiment = np.nanmean(prod)\n",
      "/mnt/efs/fs1/CSS_Termpaper/EntityNetwork/entitynetwork/validation_tool/relation_validation.py:36: SettingWithCopyWarning: \n",
      "A value is trying to be set on a copy of a slice from a DataFrame.\n",
      "Try using .loc[row_indexer,col_indexer] = value instead\n",
      "\n",
      "See the caveats in the documentation: https://pandas.pydata.org/pandas-docs/stable/user_guide/indexing.html#returning-a-view-versus-a-copy\n",
      "  article.relation_validation_data[\"valid\"] = 1\n",
      "/home/ubuntu/.local/lib/python3.6/site-packages/pandas/core/indexing.py:1765: SettingWithCopyWarning: \n",
      "A value is trying to be set on a copy of a slice from a DataFrame.\n",
      "Try using .loc[row_indexer,col_indexer] = value instead\n",
      "\n",
      "See the caveats in the documentation: https://pandas.pydata.org/pandas-docs/stable/user_guide/indexing.html#returning-a-view-versus-a-copy\n",
      "  isetter(loc, value)\n"
     ]
    },
    {
     "name": "stdout",
     "output_type": "stream",
     "text": [
      "Text took: 10.975165367126465 Num S / Coref: 18 / 18\n",
      "Current Article196\n"
     ]
    },
    {
     "name": "stderr",
     "output_type": "stream",
     "text": [
      "/mnt/efs/fs1/CSS_Termpaper/EntityNetwork/entitynetwork/relation_extraction/relation_extraction.py:60: RuntimeWarning: Mean of empty slice\n",
      "  sentiment = np.nanmean(prod)\n",
      "/mnt/efs/fs1/CSS_Termpaper/EntityNetwork/entitynetwork/validation_tool/relation_validation.py:36: SettingWithCopyWarning: \n",
      "A value is trying to be set on a copy of a slice from a DataFrame.\n",
      "Try using .loc[row_indexer,col_indexer] = value instead\n",
      "\n",
      "See the caveats in the documentation: https://pandas.pydata.org/pandas-docs/stable/user_guide/indexing.html#returning-a-view-versus-a-copy\n",
      "  article.relation_validation_data[\"valid\"] = 1\n",
      "/home/ubuntu/.local/lib/python3.6/site-packages/pandas/core/indexing.py:1765: SettingWithCopyWarning: \n",
      "A value is trying to be set on a copy of a slice from a DataFrame.\n",
      "Try using .loc[row_indexer,col_indexer] = value instead\n",
      "\n",
      "See the caveats in the documentation: https://pandas.pydata.org/pandas-docs/stable/user_guide/indexing.html#returning-a-view-versus-a-copy\n",
      "  isetter(loc, value)\n"
     ]
    },
    {
     "name": "stdout",
     "output_type": "stream",
     "text": [
      "Text took: 7.838852167129517 Num S / Coref: 17 / 17\n",
      "Current Article197\n"
     ]
    },
    {
     "name": "stderr",
     "output_type": "stream",
     "text": [
      "/mnt/efs/fs1/CSS_Termpaper/EntityNetwork/entitynetwork/validation_tool/entity_validation.py:61: SettingWithCopyWarning: \n",
      "A value is trying to be set on a copy of a slice from a DataFrame\n",
      "\n",
      "See the caveats in the documentation: https://pandas.pydata.org/pandas-docs/stable/user_guide/indexing.html#returning-a-view-versus-a-copy\n",
      "  self.merged_data[\"synonyms\"][~self.merged_data[\"synonyms\"].str.contains(\"__\", na=False)] = np.NaN\n",
      "/mnt/efs/fs1/CSS_Termpaper/EntityNetwork/entitynetwork/validation_tool/entity_validation.py:95: RuntimeWarning: invalid value encountered in double_scalars\n",
      "  self.f1 = 2*((self.precision*self.recall)/(self.precision + self.recall))\n"
     ]
    },
    {
     "name": "stdout",
     "output_type": "stream",
     "text": [
      "Text took: 0.33591604232788086 Num S / Coref: 2 / 2\n",
      "Current Article198\n"
     ]
    },
    {
     "name": "stderr",
     "output_type": "stream",
     "text": [
      "/mnt/efs/fs1/CSS_Termpaper/EntityNetwork/entitynetwork/relation_extraction/relation_extraction.py:60: RuntimeWarning: Mean of empty slice\n",
      "  sentiment = np.nanmean(prod)\n",
      "/mnt/efs/fs1/CSS_Termpaper/EntityNetwork/entitynetwork/validation_tool/relation_validation.py:36: SettingWithCopyWarning: \n",
      "A value is trying to be set on a copy of a slice from a DataFrame.\n",
      "Try using .loc[row_indexer,col_indexer] = value instead\n",
      "\n",
      "See the caveats in the documentation: https://pandas.pydata.org/pandas-docs/stable/user_guide/indexing.html#returning-a-view-versus-a-copy\n",
      "  article.relation_validation_data[\"valid\"] = 1\n",
      "/home/ubuntu/.local/lib/python3.6/site-packages/pandas/core/indexing.py:1765: SettingWithCopyWarning: \n",
      "A value is trying to be set on a copy of a slice from a DataFrame.\n",
      "Try using .loc[row_indexer,col_indexer] = value instead\n",
      "\n",
      "See the caveats in the documentation: https://pandas.pydata.org/pandas-docs/stable/user_guide/indexing.html#returning-a-view-versus-a-copy\n",
      "  isetter(loc, value)\n"
     ]
    },
    {
     "name": "stdout",
     "output_type": "stream",
     "text": [
      "Text took: 3.7644457817077637 Num S / Coref: 8 / 8\n",
      "Current Article199\n"
     ]
    },
    {
     "name": "stderr",
     "output_type": "stream",
     "text": [
      "/mnt/efs/fs1/CSS_Termpaper/EntityNetwork/entitynetwork/relation_extraction/relation_extraction.py:60: RuntimeWarning: Mean of empty slice\n",
      "  sentiment = np.nanmean(prod)\n",
      "/mnt/efs/fs1/CSS_Termpaper/EntityNetwork/entitynetwork/validation_tool/relation_validation.py:36: SettingWithCopyWarning: \n",
      "A value is trying to be set on a copy of a slice from a DataFrame.\n",
      "Try using .loc[row_indexer,col_indexer] = value instead\n",
      "\n",
      "See the caveats in the documentation: https://pandas.pydata.org/pandas-docs/stable/user_guide/indexing.html#returning-a-view-versus-a-copy\n",
      "  article.relation_validation_data[\"valid\"] = 1\n",
      "/home/ubuntu/.local/lib/python3.6/site-packages/pandas/core/indexing.py:1765: SettingWithCopyWarning: \n",
      "A value is trying to be set on a copy of a slice from a DataFrame.\n",
      "Try using .loc[row_indexer,col_indexer] = value instead\n",
      "\n",
      "See the caveats in the documentation: https://pandas.pydata.org/pandas-docs/stable/user_guide/indexing.html#returning-a-view-versus-a-copy\n",
      "  isetter(loc, value)\n"
     ]
    },
    {
     "name": "stdout",
     "output_type": "stream",
     "text": [
      "Text took: 14.251163005828857 Num S / Coref: 28 / 28\n",
      "Current Article200\n"
     ]
    },
    {
     "name": "stderr",
     "output_type": "stream",
     "text": [
      "/mnt/efs/fs1/CSS_Termpaper/EntityNetwork/entitynetwork/relation_extraction/relation_extraction.py:60: RuntimeWarning: Mean of empty slice\n",
      "  sentiment = np.nanmean(prod)\n",
      "/mnt/efs/fs1/CSS_Termpaper/EntityNetwork/entitynetwork/validation_tool/relation_validation.py:36: SettingWithCopyWarning: \n",
      "A value is trying to be set on a copy of a slice from a DataFrame.\n",
      "Try using .loc[row_indexer,col_indexer] = value instead\n",
      "\n",
      "See the caveats in the documentation: https://pandas.pydata.org/pandas-docs/stable/user_guide/indexing.html#returning-a-view-versus-a-copy\n",
      "  article.relation_validation_data[\"valid\"] = 1\n",
      "/home/ubuntu/.local/lib/python3.6/site-packages/pandas/core/indexing.py:1765: SettingWithCopyWarning: \n",
      "A value is trying to be set on a copy of a slice from a DataFrame.\n",
      "Try using .loc[row_indexer,col_indexer] = value instead\n",
      "\n",
      "See the caveats in the documentation: https://pandas.pydata.org/pandas-docs/stable/user_guide/indexing.html#returning-a-view-versus-a-copy\n",
      "  isetter(loc, value)\n"
     ]
    },
    {
     "name": "stdout",
     "output_type": "stream",
     "text": [
      "Text took: 12.6045560836792 Num S / Coref: 25 / 25\n",
      "Current Article201\n"
     ]
    },
    {
     "name": "stderr",
     "output_type": "stream",
     "text": [
      "/mnt/efs/fs1/CSS_Termpaper/EntityNetwork/entitynetwork/relation_extraction/relation_extraction.py:60: RuntimeWarning: Mean of empty slice\n",
      "  sentiment = np.nanmean(prod)\n",
      "/mnt/efs/fs1/CSS_Termpaper/EntityNetwork/entitynetwork/validation_tool/relation_validation.py:36: SettingWithCopyWarning: \n",
      "A value is trying to be set on a copy of a slice from a DataFrame.\n",
      "Try using .loc[row_indexer,col_indexer] = value instead\n",
      "\n",
      "See the caveats in the documentation: https://pandas.pydata.org/pandas-docs/stable/user_guide/indexing.html#returning-a-view-versus-a-copy\n",
      "  article.relation_validation_data[\"valid\"] = 1\n",
      "/home/ubuntu/.local/lib/python3.6/site-packages/pandas/core/indexing.py:1765: SettingWithCopyWarning: \n",
      "A value is trying to be set on a copy of a slice from a DataFrame.\n",
      "Try using .loc[row_indexer,col_indexer] = value instead\n",
      "\n",
      "See the caveats in the documentation: https://pandas.pydata.org/pandas-docs/stable/user_guide/indexing.html#returning-a-view-versus-a-copy\n",
      "  isetter(loc, value)\n"
     ]
    },
    {
     "name": "stdout",
     "output_type": "stream",
     "text": [
      "Text took: 12.66808009147644 Num S / Coref: 20 / 20\n",
      "Current Article202\n"
     ]
    },
    {
     "name": "stderr",
     "output_type": "stream",
     "text": [
      "/mnt/efs/fs1/CSS_Termpaper/EntityNetwork/entitynetwork/relation_extraction/relation_extraction.py:60: RuntimeWarning: Mean of empty slice\n",
      "  sentiment = np.nanmean(prod)\n",
      "/mnt/efs/fs1/CSS_Termpaper/EntityNetwork/entitynetwork/validation_tool/relation_validation.py:36: SettingWithCopyWarning: \n",
      "A value is trying to be set on a copy of a slice from a DataFrame.\n",
      "Try using .loc[row_indexer,col_indexer] = value instead\n",
      "\n",
      "See the caveats in the documentation: https://pandas.pydata.org/pandas-docs/stable/user_guide/indexing.html#returning-a-view-versus-a-copy\n",
      "  article.relation_validation_data[\"valid\"] = 1\n",
      "/home/ubuntu/.local/lib/python3.6/site-packages/pandas/core/indexing.py:1765: SettingWithCopyWarning: \n",
      "A value is trying to be set on a copy of a slice from a DataFrame.\n",
      "Try using .loc[row_indexer,col_indexer] = value instead\n",
      "\n",
      "See the caveats in the documentation: https://pandas.pydata.org/pandas-docs/stable/user_guide/indexing.html#returning-a-view-versus-a-copy\n",
      "  isetter(loc, value)\n"
     ]
    },
    {
     "name": "stdout",
     "output_type": "stream",
     "text": [
      "Text took: 10.701125383377075 Num S / Coref: 19 / 19\n",
      "Current Article203\n"
     ]
    },
    {
     "name": "stderr",
     "output_type": "stream",
     "text": [
      "/mnt/efs/fs1/CSS_Termpaper/EntityNetwork/entitynetwork/relation_extraction/relation_extraction.py:60: RuntimeWarning: Mean of empty slice\n",
      "  sentiment = np.nanmean(prod)\n",
      "/mnt/efs/fs1/CSS_Termpaper/EntityNetwork/entitynetwork/validation_tool/relation_validation.py:36: SettingWithCopyWarning: \n",
      "A value is trying to be set on a copy of a slice from a DataFrame.\n",
      "Try using .loc[row_indexer,col_indexer] = value instead\n",
      "\n",
      "See the caveats in the documentation: https://pandas.pydata.org/pandas-docs/stable/user_guide/indexing.html#returning-a-view-versus-a-copy\n",
      "  article.relation_validation_data[\"valid\"] = 1\n",
      "/home/ubuntu/.local/lib/python3.6/site-packages/pandas/core/indexing.py:1765: SettingWithCopyWarning: \n",
      "A value is trying to be set on a copy of a slice from a DataFrame.\n",
      "Try using .loc[row_indexer,col_indexer] = value instead\n",
      "\n",
      "See the caveats in the documentation: https://pandas.pydata.org/pandas-docs/stable/user_guide/indexing.html#returning-a-view-versus-a-copy\n",
      "  isetter(loc, value)\n"
     ]
    },
    {
     "name": "stdout",
     "output_type": "stream",
     "text": [
      "Text took: 7.45055890083313 Num S / Coref: 14 / 14\n",
      "Current Article204\n"
     ]
    },
    {
     "name": "stderr",
     "output_type": "stream",
     "text": [
      "/mnt/efs/fs1/CSS_Termpaper/EntityNetwork/entitynetwork/relation_extraction/relation_extraction.py:60: RuntimeWarning: Mean of empty slice\n",
      "  sentiment = np.nanmean(prod)\n",
      "/mnt/efs/fs1/CSS_Termpaper/EntityNetwork/entitynetwork/validation_tool/entity_validation.py:61: SettingWithCopyWarning: \n",
      "A value is trying to be set on a copy of a slice from a DataFrame\n",
      "\n",
      "See the caveats in the documentation: https://pandas.pydata.org/pandas-docs/stable/user_guide/indexing.html#returning-a-view-versus-a-copy\n",
      "  self.merged_data[\"synonyms\"][~self.merged_data[\"synonyms\"].str.contains(\"__\", na=False)] = np.NaN\n",
      "/mnt/efs/fs1/CSS_Termpaper/EntityNetwork/entitynetwork/validation_tool/entity_validation.py:95: RuntimeWarning: invalid value encountered in double_scalars\n",
      "  self.f1 = 2*((self.precision*self.recall)/(self.precision + self.recall))\n"
     ]
    },
    {
     "name": "stdout",
     "output_type": "stream",
     "text": [
      "Text took: 20.690558433532715 Num S / Coref: 57 / 57\n",
      "Current Article205\n"
     ]
    },
    {
     "name": "stderr",
     "output_type": "stream",
     "text": [
      "/mnt/efs/fs1/CSS_Termpaper/EntityNetwork/entitynetwork/validation_tool/entity_validation.py:61: SettingWithCopyWarning: \n",
      "A value is trying to be set on a copy of a slice from a DataFrame\n",
      "\n",
      "See the caveats in the documentation: https://pandas.pydata.org/pandas-docs/stable/user_guide/indexing.html#returning-a-view-versus-a-copy\n",
      "  self.merged_data[\"synonyms\"][~self.merged_data[\"synonyms\"].str.contains(\"__\", na=False)] = np.NaN\n"
     ]
    },
    {
     "name": "stdout",
     "output_type": "stream",
     "text": [
      "Text took: 1.062525987625122 Num S / Coref: 3 / 3\n",
      "Current Article206\n"
     ]
    },
    {
     "name": "stderr",
     "output_type": "stream",
     "text": [
      "/mnt/efs/fs1/CSS_Termpaper/EntityNetwork/entitynetwork/validation_tool/entity_validation.py:61: SettingWithCopyWarning: \n",
      "A value is trying to be set on a copy of a slice from a DataFrame\n",
      "\n",
      "See the caveats in the documentation: https://pandas.pydata.org/pandas-docs/stable/user_guide/indexing.html#returning-a-view-versus-a-copy\n",
      "  self.merged_data[\"synonyms\"][~self.merged_data[\"synonyms\"].str.contains(\"__\", na=False)] = np.NaN\n",
      "/mnt/efs/fs1/CSS_Termpaper/EntityNetwork/entitynetwork/validation_tool/relation_validation.py:36: SettingWithCopyWarning: \n",
      "A value is trying to be set on a copy of a slice from a DataFrame.\n",
      "Try using .loc[row_indexer,col_indexer] = value instead\n",
      "\n",
      "See the caveats in the documentation: https://pandas.pydata.org/pandas-docs/stable/user_guide/indexing.html#returning-a-view-versus-a-copy\n",
      "  article.relation_validation_data[\"valid\"] = 1\n",
      "/home/ubuntu/.local/lib/python3.6/site-packages/pandas/core/indexing.py:1765: SettingWithCopyWarning: \n",
      "A value is trying to be set on a copy of a slice from a DataFrame.\n",
      "Try using .loc[row_indexer,col_indexer] = value instead\n",
      "\n",
      "See the caveats in the documentation: https://pandas.pydata.org/pandas-docs/stable/user_guide/indexing.html#returning-a-view-versus-a-copy\n",
      "  isetter(loc, value)\n"
     ]
    },
    {
     "name": "stdout",
     "output_type": "stream",
     "text": [
      "Text took: 2.028876304626465 Num S / Coref: 4 / 4\n",
      "Current Article207\n"
     ]
    },
    {
     "name": "stderr",
     "output_type": "stream",
     "text": [
      "/mnt/efs/fs1/CSS_Termpaper/EntityNetwork/entitynetwork/validation_tool/relation_validation.py:36: SettingWithCopyWarning: \n",
      "A value is trying to be set on a copy of a slice from a DataFrame.\n",
      "Try using .loc[row_indexer,col_indexer] = value instead\n",
      "\n",
      "See the caveats in the documentation: https://pandas.pydata.org/pandas-docs/stable/user_guide/indexing.html#returning-a-view-versus-a-copy\n",
      "  article.relation_validation_data[\"valid\"] = 1\n",
      "/home/ubuntu/.local/lib/python3.6/site-packages/pandas/core/indexing.py:1765: SettingWithCopyWarning: \n",
      "A value is trying to be set on a copy of a slice from a DataFrame.\n",
      "Try using .loc[row_indexer,col_indexer] = value instead\n",
      "\n",
      "See the caveats in the documentation: https://pandas.pydata.org/pandas-docs/stable/user_guide/indexing.html#returning-a-view-versus-a-copy\n",
      "  isetter(loc, value)\n"
     ]
    },
    {
     "name": "stdout",
     "output_type": "stream",
     "text": [
      "Text took: 2.260056972503662 Num S / Coref: 4 / 4\n",
      "Current Article208\n"
     ]
    },
    {
     "name": "stderr",
     "output_type": "stream",
     "text": [
      "/mnt/efs/fs1/CSS_Termpaper/EntityNetwork/entitynetwork/relation_extraction/relation_extraction.py:60: RuntimeWarning: Mean of empty slice\n",
      "  sentiment = np.nanmean(prod)\n",
      "/mnt/efs/fs1/CSS_Termpaper/EntityNetwork/entitynetwork/validation_tool/entity_validation.py:61: SettingWithCopyWarning: \n",
      "A value is trying to be set on a copy of a slice from a DataFrame\n",
      "\n",
      "See the caveats in the documentation: https://pandas.pydata.org/pandas-docs/stable/user_guide/indexing.html#returning-a-view-versus-a-copy\n",
      "  self.merged_data[\"synonyms\"][~self.merged_data[\"synonyms\"].str.contains(\"__\", na=False)] = np.NaN\n",
      "/mnt/efs/fs1/CSS_Termpaper/EntityNetwork/entitynetwork/validation_tool/entity_validation.py:95: RuntimeWarning: invalid value encountered in double_scalars\n",
      "  self.f1 = 2*((self.precision*self.recall)/(self.precision + self.recall))\n"
     ]
    },
    {
     "name": "stdout",
     "output_type": "stream",
     "text": [
      "Text took: 9.577163219451904 Num S / Coref: 22 / 22\n",
      "Current Article209\n"
     ]
    },
    {
     "name": "stderr",
     "output_type": "stream",
     "text": [
      "/mnt/efs/fs1/CSS_Termpaper/EntityNetwork/entitynetwork/relation_extraction/relation_extraction.py:60: RuntimeWarning: Mean of empty slice\n",
      "  sentiment = np.nanmean(prod)\n",
      "/mnt/efs/fs1/CSS_Termpaper/EntityNetwork/entitynetwork/validation_tool/relation_validation.py:36: SettingWithCopyWarning: \n",
      "A value is trying to be set on a copy of a slice from a DataFrame.\n",
      "Try using .loc[row_indexer,col_indexer] = value instead\n",
      "\n",
      "See the caveats in the documentation: https://pandas.pydata.org/pandas-docs/stable/user_guide/indexing.html#returning-a-view-versus-a-copy\n",
      "  article.relation_validation_data[\"valid\"] = 1\n",
      "/home/ubuntu/.local/lib/python3.6/site-packages/pandas/core/indexing.py:1765: SettingWithCopyWarning: \n",
      "A value is trying to be set on a copy of a slice from a DataFrame.\n",
      "Try using .loc[row_indexer,col_indexer] = value instead\n",
      "\n",
      "See the caveats in the documentation: https://pandas.pydata.org/pandas-docs/stable/user_guide/indexing.html#returning-a-view-versus-a-copy\n",
      "  isetter(loc, value)\n"
     ]
    },
    {
     "name": "stdout",
     "output_type": "stream",
     "text": [
      "Text took: 3.5865917205810547 Num S / Coref: 7 / 7\n",
      "Current Article210\n"
     ]
    },
    {
     "name": "stderr",
     "output_type": "stream",
     "text": [
      "/mnt/efs/fs1/CSS_Termpaper/EntityNetwork/entitynetwork/relation_extraction/relation_extraction.py:60: RuntimeWarning: Mean of empty slice\n",
      "  sentiment = np.nanmean(prod)\n",
      "/mnt/efs/fs1/CSS_Termpaper/EntityNetwork/entitynetwork/validation_tool/relation_validation.py:36: SettingWithCopyWarning: \n",
      "A value is trying to be set on a copy of a slice from a DataFrame.\n",
      "Try using .loc[row_indexer,col_indexer] = value instead\n",
      "\n",
      "See the caveats in the documentation: https://pandas.pydata.org/pandas-docs/stable/user_guide/indexing.html#returning-a-view-versus-a-copy\n",
      "  article.relation_validation_data[\"valid\"] = 1\n",
      "/home/ubuntu/.local/lib/python3.6/site-packages/pandas/core/indexing.py:1765: SettingWithCopyWarning: \n",
      "A value is trying to be set on a copy of a slice from a DataFrame.\n",
      "Try using .loc[row_indexer,col_indexer] = value instead\n",
      "\n",
      "See the caveats in the documentation: https://pandas.pydata.org/pandas-docs/stable/user_guide/indexing.html#returning-a-view-versus-a-copy\n",
      "  isetter(loc, value)\n"
     ]
    },
    {
     "name": "stdout",
     "output_type": "stream",
     "text": [
      "Text took: 10.534732818603516 Num S / Coref: 20 / 20\n",
      "Current Article211\n"
     ]
    },
    {
     "name": "stderr",
     "output_type": "stream",
     "text": [
      "/mnt/efs/fs1/CSS_Termpaper/EntityNetwork/entitynetwork/relation_extraction/relation_extraction.py:60: RuntimeWarning: Mean of empty slice\n",
      "  sentiment = np.nanmean(prod)\n",
      "/mnt/efs/fs1/CSS_Termpaper/EntityNetwork/entitynetwork/validation_tool/relation_validation.py:36: SettingWithCopyWarning: \n",
      "A value is trying to be set on a copy of a slice from a DataFrame.\n",
      "Try using .loc[row_indexer,col_indexer] = value instead\n",
      "\n",
      "See the caveats in the documentation: https://pandas.pydata.org/pandas-docs/stable/user_guide/indexing.html#returning-a-view-versus-a-copy\n",
      "  article.relation_validation_data[\"valid\"] = 1\n",
      "/home/ubuntu/.local/lib/python3.6/site-packages/pandas/core/indexing.py:1765: SettingWithCopyWarning: \n",
      "A value is trying to be set on a copy of a slice from a DataFrame.\n",
      "Try using .loc[row_indexer,col_indexer] = value instead\n",
      "\n",
      "See the caveats in the documentation: https://pandas.pydata.org/pandas-docs/stable/user_guide/indexing.html#returning-a-view-versus-a-copy\n",
      "  isetter(loc, value)\n"
     ]
    },
    {
     "name": "stdout",
     "output_type": "stream",
     "text": [
      "Text took: 4.839606523513794 Num S / Coref: 11 / 11\n",
      "Current Article212\n"
     ]
    },
    {
     "name": "stderr",
     "output_type": "stream",
     "text": [
      "/mnt/efs/fs1/CSS_Termpaper/EntityNetwork/entitynetwork/relation_extraction/relation_extraction.py:60: RuntimeWarning: Mean of empty slice\n",
      "  sentiment = np.nanmean(prod)\n",
      "/mnt/efs/fs1/CSS_Termpaper/EntityNetwork/entitynetwork/validation_tool/relation_validation.py:36: SettingWithCopyWarning: \n",
      "A value is trying to be set on a copy of a slice from a DataFrame.\n",
      "Try using .loc[row_indexer,col_indexer] = value instead\n",
      "\n",
      "See the caveats in the documentation: https://pandas.pydata.org/pandas-docs/stable/user_guide/indexing.html#returning-a-view-versus-a-copy\n",
      "  article.relation_validation_data[\"valid\"] = 1\n",
      "/home/ubuntu/.local/lib/python3.6/site-packages/pandas/core/indexing.py:1765: SettingWithCopyWarning: \n",
      "A value is trying to be set on a copy of a slice from a DataFrame.\n",
      "Try using .loc[row_indexer,col_indexer] = value instead\n",
      "\n",
      "See the caveats in the documentation: https://pandas.pydata.org/pandas-docs/stable/user_guide/indexing.html#returning-a-view-versus-a-copy\n",
      "  isetter(loc, value)\n"
     ]
    },
    {
     "name": "stdout",
     "output_type": "stream",
     "text": [
      "Text took: 11.324089050292969 Num S / Coref: 20 / 20\n",
      "Current Article213\n"
     ]
    },
    {
     "name": "stderr",
     "output_type": "stream",
     "text": [
      "/mnt/efs/fs1/CSS_Termpaper/EntityNetwork/entitynetwork/relation_extraction/relation_extraction.py:60: RuntimeWarning: Mean of empty slice\n",
      "  sentiment = np.nanmean(prod)\n",
      "/mnt/efs/fs1/CSS_Termpaper/EntityNetwork/entitynetwork/validation_tool/relation_validation.py:36: SettingWithCopyWarning: \n",
      "A value is trying to be set on a copy of a slice from a DataFrame.\n",
      "Try using .loc[row_indexer,col_indexer] = value instead\n",
      "\n",
      "See the caveats in the documentation: https://pandas.pydata.org/pandas-docs/stable/user_guide/indexing.html#returning-a-view-versus-a-copy\n",
      "  article.relation_validation_data[\"valid\"] = 1\n",
      "/home/ubuntu/.local/lib/python3.6/site-packages/pandas/core/indexing.py:1765: SettingWithCopyWarning: \n",
      "A value is trying to be set on a copy of a slice from a DataFrame.\n",
      "Try using .loc[row_indexer,col_indexer] = value instead\n",
      "\n",
      "See the caveats in the documentation: https://pandas.pydata.org/pandas-docs/stable/user_guide/indexing.html#returning-a-view-versus-a-copy\n",
      "  isetter(loc, value)\n"
     ]
    },
    {
     "name": "stdout",
     "output_type": "stream",
     "text": [
      "Text took: 3.604598045349121 Num S / Coref: 8 / 8\n",
      "Current Article214\n"
     ]
    },
    {
     "name": "stderr",
     "output_type": "stream",
     "text": [
      "/mnt/efs/fs1/CSS_Termpaper/EntityNetwork/entitynetwork/relation_extraction/relation_extraction.py:60: RuntimeWarning: Mean of empty slice\n",
      "  sentiment = np.nanmean(prod)\n",
      "/mnt/efs/fs1/CSS_Termpaper/EntityNetwork/entitynetwork/validation_tool/relation_validation.py:36: SettingWithCopyWarning: \n",
      "A value is trying to be set on a copy of a slice from a DataFrame.\n",
      "Try using .loc[row_indexer,col_indexer] = value instead\n",
      "\n",
      "See the caveats in the documentation: https://pandas.pydata.org/pandas-docs/stable/user_guide/indexing.html#returning-a-view-versus-a-copy\n",
      "  article.relation_validation_data[\"valid\"] = 1\n",
      "/home/ubuntu/.local/lib/python3.6/site-packages/pandas/core/indexing.py:1765: SettingWithCopyWarning: \n",
      "A value is trying to be set on a copy of a slice from a DataFrame.\n",
      "Try using .loc[row_indexer,col_indexer] = value instead\n",
      "\n",
      "See the caveats in the documentation: https://pandas.pydata.org/pandas-docs/stable/user_guide/indexing.html#returning-a-view-versus-a-copy\n",
      "  isetter(loc, value)\n"
     ]
    },
    {
     "name": "stdout",
     "output_type": "stream",
     "text": [
      "Text took: 11.505257606506348 Num S / Coref: 20 / 20\n",
      "Current Article215\n"
     ]
    },
    {
     "name": "stderr",
     "output_type": "stream",
     "text": [
      "/mnt/efs/fs1/CSS_Termpaper/EntityNetwork/entitynetwork/relation_extraction/relation_extraction.py:60: RuntimeWarning: Mean of empty slice\n",
      "  sentiment = np.nanmean(prod)\n",
      "/mnt/efs/fs1/CSS_Termpaper/EntityNetwork/entitynetwork/validation_tool/relation_validation.py:36: SettingWithCopyWarning: \n",
      "A value is trying to be set on a copy of a slice from a DataFrame.\n",
      "Try using .loc[row_indexer,col_indexer] = value instead\n",
      "\n",
      "See the caveats in the documentation: https://pandas.pydata.org/pandas-docs/stable/user_guide/indexing.html#returning-a-view-versus-a-copy\n",
      "  article.relation_validation_data[\"valid\"] = 1\n",
      "/home/ubuntu/.local/lib/python3.6/site-packages/pandas/core/indexing.py:1765: SettingWithCopyWarning: \n",
      "A value is trying to be set on a copy of a slice from a DataFrame.\n",
      "Try using .loc[row_indexer,col_indexer] = value instead\n",
      "\n",
      "See the caveats in the documentation: https://pandas.pydata.org/pandas-docs/stable/user_guide/indexing.html#returning-a-view-versus-a-copy\n",
      "  isetter(loc, value)\n"
     ]
    },
    {
     "name": "stdout",
     "output_type": "stream",
     "text": [
      "Text took: 3.283055067062378 Num S / Coref: 8 / 8\n",
      "Current Article216\n"
     ]
    },
    {
     "name": "stderr",
     "output_type": "stream",
     "text": [
      "/mnt/efs/fs1/CSS_Termpaper/EntityNetwork/entitynetwork/relation_extraction/relation_extraction.py:60: RuntimeWarning: Mean of empty slice\n",
      "  sentiment = np.nanmean(prod)\n",
      "/mnt/efs/fs1/CSS_Termpaper/EntityNetwork/entitynetwork/validation_tool/relation_validation.py:36: SettingWithCopyWarning: \n",
      "A value is trying to be set on a copy of a slice from a DataFrame.\n",
      "Try using .loc[row_indexer,col_indexer] = value instead\n",
      "\n",
      "See the caveats in the documentation: https://pandas.pydata.org/pandas-docs/stable/user_guide/indexing.html#returning-a-view-versus-a-copy\n",
      "  article.relation_validation_data[\"valid\"] = 1\n",
      "/home/ubuntu/.local/lib/python3.6/site-packages/pandas/core/indexing.py:1765: SettingWithCopyWarning: \n",
      "A value is trying to be set on a copy of a slice from a DataFrame.\n",
      "Try using .loc[row_indexer,col_indexer] = value instead\n",
      "\n",
      "See the caveats in the documentation: https://pandas.pydata.org/pandas-docs/stable/user_guide/indexing.html#returning-a-view-versus-a-copy\n",
      "  isetter(loc, value)\n"
     ]
    },
    {
     "name": "stdout",
     "output_type": "stream",
     "text": [
      "Text took: 13.616827011108398 Num S / Coref: 31 / 31\n",
      "Current Article217\n"
     ]
    },
    {
     "name": "stderr",
     "output_type": "stream",
     "text": [
      "/mnt/efs/fs1/CSS_Termpaper/EntityNetwork/entitynetwork/validation_tool/relation_validation.py:36: SettingWithCopyWarning: \n",
      "A value is trying to be set on a copy of a slice from a DataFrame.\n",
      "Try using .loc[row_indexer,col_indexer] = value instead\n",
      "\n",
      "See the caveats in the documentation: https://pandas.pydata.org/pandas-docs/stable/user_guide/indexing.html#returning-a-view-versus-a-copy\n",
      "  article.relation_validation_data[\"valid\"] = 1\n",
      "/home/ubuntu/.local/lib/python3.6/site-packages/pandas/core/indexing.py:1765: SettingWithCopyWarning: \n",
      "A value is trying to be set on a copy of a slice from a DataFrame.\n",
      "Try using .loc[row_indexer,col_indexer] = value instead\n",
      "\n",
      "See the caveats in the documentation: https://pandas.pydata.org/pandas-docs/stable/user_guide/indexing.html#returning-a-view-versus-a-copy\n",
      "  isetter(loc, value)\n"
     ]
    },
    {
     "name": "stdout",
     "output_type": "stream",
     "text": [
      "Text took: 3.877678155899048 Num S / Coref: 6 / 5\n",
      "Current Article218\n"
     ]
    },
    {
     "name": "stderr",
     "output_type": "stream",
     "text": [
      "/mnt/efs/fs1/CSS_Termpaper/EntityNetwork/entitynetwork/relation_extraction/relation_extraction.py:60: RuntimeWarning: Mean of empty slice\n",
      "  sentiment = np.nanmean(prod)\n",
      "/mnt/efs/fs1/CSS_Termpaper/EntityNetwork/entitynetwork/validation_tool/relation_validation.py:36: SettingWithCopyWarning: \n",
      "A value is trying to be set on a copy of a slice from a DataFrame.\n",
      "Try using .loc[row_indexer,col_indexer] = value instead\n",
      "\n",
      "See the caveats in the documentation: https://pandas.pydata.org/pandas-docs/stable/user_guide/indexing.html#returning-a-view-versus-a-copy\n",
      "  article.relation_validation_data[\"valid\"] = 1\n",
      "/home/ubuntu/.local/lib/python3.6/site-packages/pandas/core/indexing.py:1765: SettingWithCopyWarning: \n",
      "A value is trying to be set on a copy of a slice from a DataFrame.\n",
      "Try using .loc[row_indexer,col_indexer] = value instead\n",
      "\n",
      "See the caveats in the documentation: https://pandas.pydata.org/pandas-docs/stable/user_guide/indexing.html#returning-a-view-versus-a-copy\n",
      "  isetter(loc, value)\n"
     ]
    },
    {
     "name": "stdout",
     "output_type": "stream",
     "text": [
      "Text took: 6.301777124404907 Num S / Coref: 18 / 18\n",
      "Current Article219\n"
     ]
    },
    {
     "name": "stderr",
     "output_type": "stream",
     "text": [
      "/mnt/efs/fs1/CSS_Termpaper/EntityNetwork/entitynetwork/relation_extraction/relation_extraction.py:60: RuntimeWarning: Mean of empty slice\n",
      "  sentiment = np.nanmean(prod)\n",
      "/mnt/efs/fs1/CSS_Termpaper/EntityNetwork/entitynetwork/validation_tool/entity_validation.py:61: SettingWithCopyWarning: \n",
      "A value is trying to be set on a copy of a slice from a DataFrame\n",
      "\n",
      "See the caveats in the documentation: https://pandas.pydata.org/pandas-docs/stable/user_guide/indexing.html#returning-a-view-versus-a-copy\n",
      "  self.merged_data[\"synonyms\"][~self.merged_data[\"synonyms\"].str.contains(\"__\", na=False)] = np.NaN\n",
      "/mnt/efs/fs1/CSS_Termpaper/EntityNetwork/entitynetwork/validation_tool/entity_validation.py:95: RuntimeWarning: invalid value encountered in double_scalars\n",
      "  self.f1 = 2*((self.precision*self.recall)/(self.precision + self.recall))\n"
     ]
    },
    {
     "name": "stdout",
     "output_type": "stream",
     "text": [
      "Text took: 15.63561749458313 Num S / Coref: 50 / 44\n",
      "Current Article220\n"
     ]
    },
    {
     "name": "stderr",
     "output_type": "stream",
     "text": [
      "/mnt/efs/fs1/CSS_Termpaper/EntityNetwork/entitynetwork/relation_extraction/relation_extraction.py:60: RuntimeWarning: Mean of empty slice\n",
      "  sentiment = np.nanmean(prod)\n",
      "/mnt/efs/fs1/CSS_Termpaper/EntityNetwork/entitynetwork/validation_tool/relation_validation.py:36: SettingWithCopyWarning: \n",
      "A value is trying to be set on a copy of a slice from a DataFrame.\n",
      "Try using .loc[row_indexer,col_indexer] = value instead\n",
      "\n",
      "See the caveats in the documentation: https://pandas.pydata.org/pandas-docs/stable/user_guide/indexing.html#returning-a-view-versus-a-copy\n",
      "  article.relation_validation_data[\"valid\"] = 1\n",
      "/home/ubuntu/.local/lib/python3.6/site-packages/pandas/core/indexing.py:1765: SettingWithCopyWarning: \n",
      "A value is trying to be set on a copy of a slice from a DataFrame.\n",
      "Try using .loc[row_indexer,col_indexer] = value instead\n",
      "\n",
      "See the caveats in the documentation: https://pandas.pydata.org/pandas-docs/stable/user_guide/indexing.html#returning-a-view-versus-a-copy\n",
      "  isetter(loc, value)\n"
     ]
    },
    {
     "name": "stdout",
     "output_type": "stream",
     "text": [
      "Text took: 3.307950496673584 Num S / Coref: 9 / 9\n",
      "Current Article221\n"
     ]
    },
    {
     "name": "stderr",
     "output_type": "stream",
     "text": [
      "/mnt/efs/fs1/CSS_Termpaper/EntityNetwork/entitynetwork/relation_extraction/relation_extraction.py:60: RuntimeWarning: Mean of empty slice\n",
      "  sentiment = np.nanmean(prod)\n",
      "/mnt/efs/fs1/CSS_Termpaper/EntityNetwork/entitynetwork/validation_tool/relation_validation.py:36: SettingWithCopyWarning: \n",
      "A value is trying to be set on a copy of a slice from a DataFrame.\n",
      "Try using .loc[row_indexer,col_indexer] = value instead\n",
      "\n",
      "See the caveats in the documentation: https://pandas.pydata.org/pandas-docs/stable/user_guide/indexing.html#returning-a-view-versus-a-copy\n",
      "  article.relation_validation_data[\"valid\"] = 1\n",
      "/home/ubuntu/.local/lib/python3.6/site-packages/pandas/core/indexing.py:1765: SettingWithCopyWarning: \n",
      "A value is trying to be set on a copy of a slice from a DataFrame.\n",
      "Try using .loc[row_indexer,col_indexer] = value instead\n",
      "\n",
      "See the caveats in the documentation: https://pandas.pydata.org/pandas-docs/stable/user_guide/indexing.html#returning-a-view-versus-a-copy\n",
      "  isetter(loc, value)\n"
     ]
    },
    {
     "name": "stdout",
     "output_type": "stream",
     "text": [
      "Text took: 15.870936632156372 Num S / Coref: 31 / 31\n",
      "Current Article222\n"
     ]
    },
    {
     "name": "stderr",
     "output_type": "stream",
     "text": [
      "/mnt/efs/fs1/CSS_Termpaper/EntityNetwork/entitynetwork/relation_extraction/relation_extraction.py:60: RuntimeWarning: Mean of empty slice\n",
      "  sentiment = np.nanmean(prod)\n",
      "/mnt/efs/fs1/CSS_Termpaper/EntityNetwork/entitynetwork/validation_tool/relation_validation.py:36: SettingWithCopyWarning: \n",
      "A value is trying to be set on a copy of a slice from a DataFrame.\n",
      "Try using .loc[row_indexer,col_indexer] = value instead\n",
      "\n",
      "See the caveats in the documentation: https://pandas.pydata.org/pandas-docs/stable/user_guide/indexing.html#returning-a-view-versus-a-copy\n",
      "  article.relation_validation_data[\"valid\"] = 1\n",
      "/home/ubuntu/.local/lib/python3.6/site-packages/pandas/core/indexing.py:1765: SettingWithCopyWarning: \n",
      "A value is trying to be set on a copy of a slice from a DataFrame.\n",
      "Try using .loc[row_indexer,col_indexer] = value instead\n",
      "\n",
      "See the caveats in the documentation: https://pandas.pydata.org/pandas-docs/stable/user_guide/indexing.html#returning-a-view-versus-a-copy\n",
      "  isetter(loc, value)\n"
     ]
    },
    {
     "name": "stdout",
     "output_type": "stream",
     "text": [
      "Text took: 4.621920347213745 Num S / Coref: 11 / 11\n",
      "Current Article223\n"
     ]
    },
    {
     "name": "stderr",
     "output_type": "stream",
     "text": [
      "/mnt/efs/fs1/CSS_Termpaper/EntityNetwork/entitynetwork/relation_extraction/relation_extraction.py:60: RuntimeWarning: Mean of empty slice\n",
      "  sentiment = np.nanmean(prod)\n",
      "/mnt/efs/fs1/CSS_Termpaper/EntityNetwork/entitynetwork/validation_tool/relation_validation.py:36: SettingWithCopyWarning: \n",
      "A value is trying to be set on a copy of a slice from a DataFrame.\n",
      "Try using .loc[row_indexer,col_indexer] = value instead\n",
      "\n",
      "See the caveats in the documentation: https://pandas.pydata.org/pandas-docs/stable/user_guide/indexing.html#returning-a-view-versus-a-copy\n",
      "  article.relation_validation_data[\"valid\"] = 1\n",
      "/home/ubuntu/.local/lib/python3.6/site-packages/pandas/core/indexing.py:1765: SettingWithCopyWarning: \n",
      "A value is trying to be set on a copy of a slice from a DataFrame.\n",
      "Try using .loc[row_indexer,col_indexer] = value instead\n",
      "\n",
      "See the caveats in the documentation: https://pandas.pydata.org/pandas-docs/stable/user_guide/indexing.html#returning-a-view-versus-a-copy\n",
      "  isetter(loc, value)\n"
     ]
    },
    {
     "name": "stdout",
     "output_type": "stream",
     "text": [
      "Text took: 8.621175289154053 Num S / Coref: 20 / 20\n",
      "Current Article224\n"
     ]
    },
    {
     "name": "stderr",
     "output_type": "stream",
     "text": [
      "/mnt/efs/fs1/CSS_Termpaper/EntityNetwork/entitynetwork/relation_extraction/relation_extraction.py:60: RuntimeWarning: Mean of empty slice\n",
      "  sentiment = np.nanmean(prod)\n",
      "/mnt/efs/fs1/CSS_Termpaper/EntityNetwork/entitynetwork/validation_tool/relation_validation.py:36: SettingWithCopyWarning: \n",
      "A value is trying to be set on a copy of a slice from a DataFrame.\n",
      "Try using .loc[row_indexer,col_indexer] = value instead\n",
      "\n",
      "See the caveats in the documentation: https://pandas.pydata.org/pandas-docs/stable/user_guide/indexing.html#returning-a-view-versus-a-copy\n",
      "  article.relation_validation_data[\"valid\"] = 1\n",
      "/home/ubuntu/.local/lib/python3.6/site-packages/pandas/core/indexing.py:1765: SettingWithCopyWarning: \n",
      "A value is trying to be set on a copy of a slice from a DataFrame.\n",
      "Try using .loc[row_indexer,col_indexer] = value instead\n",
      "\n",
      "See the caveats in the documentation: https://pandas.pydata.org/pandas-docs/stable/user_guide/indexing.html#returning-a-view-versus-a-copy\n",
      "  isetter(loc, value)\n"
     ]
    },
    {
     "name": "stdout",
     "output_type": "stream",
     "text": [
      "Text took: 7.454622268676758 Num S / Coref: 10 / 10\n",
      "Current Article225\n"
     ]
    },
    {
     "name": "stderr",
     "output_type": "stream",
     "text": [
      "/mnt/efs/fs1/CSS_Termpaper/EntityNetwork/entitynetwork/relation_extraction/relation_extraction.py:60: RuntimeWarning: Mean of empty slice\n",
      "  sentiment = np.nanmean(prod)\n",
      "/mnt/efs/fs1/CSS_Termpaper/EntityNetwork/entitynetwork/validation_tool/relation_validation.py:36: SettingWithCopyWarning: \n",
      "A value is trying to be set on a copy of a slice from a DataFrame.\n",
      "Try using .loc[row_indexer,col_indexer] = value instead\n",
      "\n",
      "See the caveats in the documentation: https://pandas.pydata.org/pandas-docs/stable/user_guide/indexing.html#returning-a-view-versus-a-copy\n",
      "  article.relation_validation_data[\"valid\"] = 1\n",
      "/home/ubuntu/.local/lib/python3.6/site-packages/pandas/core/indexing.py:1765: SettingWithCopyWarning: \n",
      "A value is trying to be set on a copy of a slice from a DataFrame.\n",
      "Try using .loc[row_indexer,col_indexer] = value instead\n",
      "\n",
      "See the caveats in the documentation: https://pandas.pydata.org/pandas-docs/stable/user_guide/indexing.html#returning-a-view-versus-a-copy\n",
      "  isetter(loc, value)\n"
     ]
    },
    {
     "name": "stdout",
     "output_type": "stream",
     "text": [
      "Text took: 2.70298433303833 Num S / Coref: 5 / 5\n",
      "Current Article226\n"
     ]
    },
    {
     "name": "stderr",
     "output_type": "stream",
     "text": [
      "/mnt/efs/fs1/CSS_Termpaper/EntityNetwork/entitynetwork/relation_extraction/relation_extraction.py:60: RuntimeWarning: Mean of empty slice\n",
      "  sentiment = np.nanmean(prod)\n",
      "/mnt/efs/fs1/CSS_Termpaper/EntityNetwork/entitynetwork/validation_tool/relation_validation.py:36: SettingWithCopyWarning: \n",
      "A value is trying to be set on a copy of a slice from a DataFrame.\n",
      "Try using .loc[row_indexer,col_indexer] = value instead\n",
      "\n",
      "See the caveats in the documentation: https://pandas.pydata.org/pandas-docs/stable/user_guide/indexing.html#returning-a-view-versus-a-copy\n",
      "  article.relation_validation_data[\"valid\"] = 1\n",
      "/home/ubuntu/.local/lib/python3.6/site-packages/pandas/core/indexing.py:1765: SettingWithCopyWarning: \n",
      "A value is trying to be set on a copy of a slice from a DataFrame.\n",
      "Try using .loc[row_indexer,col_indexer] = value instead\n",
      "\n",
      "See the caveats in the documentation: https://pandas.pydata.org/pandas-docs/stable/user_guide/indexing.html#returning-a-view-versus-a-copy\n",
      "  isetter(loc, value)\n"
     ]
    },
    {
     "name": "stdout",
     "output_type": "stream",
     "text": [
      "Text took: 3.254349708557129 Num S / Coref: 7 / 7\n",
      "Current Article227\n"
     ]
    },
    {
     "name": "stderr",
     "output_type": "stream",
     "text": [
      "/mnt/efs/fs1/CSS_Termpaper/EntityNetwork/entitynetwork/relation_extraction/relation_extraction.py:60: RuntimeWarning: Mean of empty slice\n",
      "  sentiment = np.nanmean(prod)\n",
      "/mnt/efs/fs1/CSS_Termpaper/EntityNetwork/entitynetwork/validation_tool/relation_validation.py:36: SettingWithCopyWarning: \n",
      "A value is trying to be set on a copy of a slice from a DataFrame.\n",
      "Try using .loc[row_indexer,col_indexer] = value instead\n",
      "\n",
      "See the caveats in the documentation: https://pandas.pydata.org/pandas-docs/stable/user_guide/indexing.html#returning-a-view-versus-a-copy\n",
      "  article.relation_validation_data[\"valid\"] = 1\n",
      "/home/ubuntu/.local/lib/python3.6/site-packages/pandas/core/indexing.py:1765: SettingWithCopyWarning: \n",
      "A value is trying to be set on a copy of a slice from a DataFrame.\n",
      "Try using .loc[row_indexer,col_indexer] = value instead\n",
      "\n",
      "See the caveats in the documentation: https://pandas.pydata.org/pandas-docs/stable/user_guide/indexing.html#returning-a-view-versus-a-copy\n",
      "  isetter(loc, value)\n"
     ]
    },
    {
     "name": "stdout",
     "output_type": "stream",
     "text": [
      "Text took: 4.478704452514648 Num S / Coref: 6 / 6\n",
      "Current Article228\n"
     ]
    },
    {
     "name": "stderr",
     "output_type": "stream",
     "text": [
      "/mnt/efs/fs1/CSS_Termpaper/EntityNetwork/entitynetwork/relation_extraction/relation_extraction.py:60: RuntimeWarning: Mean of empty slice\n",
      "  sentiment = np.nanmean(prod)\n",
      "/mnt/efs/fs1/CSS_Termpaper/EntityNetwork/entitynetwork/validation_tool/entity_validation.py:61: SettingWithCopyWarning: \n",
      "A value is trying to be set on a copy of a slice from a DataFrame\n",
      "\n",
      "See the caveats in the documentation: https://pandas.pydata.org/pandas-docs/stable/user_guide/indexing.html#returning-a-view-versus-a-copy\n",
      "  self.merged_data[\"synonyms\"][~self.merged_data[\"synonyms\"].str.contains(\"__\", na=False)] = np.NaN\n",
      "/mnt/efs/fs1/CSS_Termpaper/EntityNetwork/entitynetwork/validation_tool/relation_validation.py:36: SettingWithCopyWarning: \n",
      "A value is trying to be set on a copy of a slice from a DataFrame.\n",
      "Try using .loc[row_indexer,col_indexer] = value instead\n",
      "\n",
      "See the caveats in the documentation: https://pandas.pydata.org/pandas-docs/stable/user_guide/indexing.html#returning-a-view-versus-a-copy\n",
      "  article.relation_validation_data[\"valid\"] = 1\n",
      "/home/ubuntu/.local/lib/python3.6/site-packages/pandas/core/indexing.py:1765: SettingWithCopyWarning: \n",
      "A value is trying to be set on a copy of a slice from a DataFrame.\n",
      "Try using .loc[row_indexer,col_indexer] = value instead\n",
      "\n",
      "See the caveats in the documentation: https://pandas.pydata.org/pandas-docs/stable/user_guide/indexing.html#returning-a-view-versus-a-copy\n",
      "  isetter(loc, value)\n"
     ]
    },
    {
     "name": "stdout",
     "output_type": "stream",
     "text": [
      "Text took: 2.023559331893921 Num S / Coref: 4 / 4\n",
      "Current Article229\n"
     ]
    },
    {
     "name": "stderr",
     "output_type": "stream",
     "text": [
      "/mnt/efs/fs1/CSS_Termpaper/EntityNetwork/entitynetwork/relation_extraction/relation_extraction.py:60: RuntimeWarning: Mean of empty slice\n",
      "  sentiment = np.nanmean(prod)\n",
      "/mnt/efs/fs1/CSS_Termpaper/EntityNetwork/entitynetwork/validation_tool/entity_validation.py:61: SettingWithCopyWarning: \n",
      "A value is trying to be set on a copy of a slice from a DataFrame\n",
      "\n",
      "See the caveats in the documentation: https://pandas.pydata.org/pandas-docs/stable/user_guide/indexing.html#returning-a-view-versus-a-copy\n",
      "  self.merged_data[\"synonyms\"][~self.merged_data[\"synonyms\"].str.contains(\"__\", na=False)] = np.NaN\n",
      "/mnt/efs/fs1/CSS_Termpaper/EntityNetwork/entitynetwork/validation_tool/relation_validation.py:36: SettingWithCopyWarning: \n",
      "A value is trying to be set on a copy of a slice from a DataFrame.\n",
      "Try using .loc[row_indexer,col_indexer] = value instead\n",
      "\n",
      "See the caveats in the documentation: https://pandas.pydata.org/pandas-docs/stable/user_guide/indexing.html#returning-a-view-versus-a-copy\n",
      "  article.relation_validation_data[\"valid\"] = 1\n",
      "/home/ubuntu/.local/lib/python3.6/site-packages/pandas/core/indexing.py:1765: SettingWithCopyWarning: \n",
      "A value is trying to be set on a copy of a slice from a DataFrame.\n",
      "Try using .loc[row_indexer,col_indexer] = value instead\n",
      "\n",
      "See the caveats in the documentation: https://pandas.pydata.org/pandas-docs/stable/user_guide/indexing.html#returning-a-view-versus-a-copy\n",
      "  isetter(loc, value)\n"
     ]
    },
    {
     "name": "stdout",
     "output_type": "stream",
     "text": [
      "Text took: 9.634418487548828 Num S / Coref: 16 / 16\n",
      "Current Article230\n"
     ]
    },
    {
     "name": "stderr",
     "output_type": "stream",
     "text": [
      "/mnt/efs/fs1/CSS_Termpaper/EntityNetwork/entitynetwork/relation_extraction/relation_extraction.py:60: RuntimeWarning: Mean of empty slice\n",
      "  sentiment = np.nanmean(prod)\n",
      "/mnt/efs/fs1/CSS_Termpaper/EntityNetwork/entitynetwork/validation_tool/relation_validation.py:36: SettingWithCopyWarning: \n",
      "A value is trying to be set on a copy of a slice from a DataFrame.\n",
      "Try using .loc[row_indexer,col_indexer] = value instead\n",
      "\n",
      "See the caveats in the documentation: https://pandas.pydata.org/pandas-docs/stable/user_guide/indexing.html#returning-a-view-versus-a-copy\n",
      "  article.relation_validation_data[\"valid\"] = 1\n",
      "/home/ubuntu/.local/lib/python3.6/site-packages/pandas/core/indexing.py:1765: SettingWithCopyWarning: \n",
      "A value is trying to be set on a copy of a slice from a DataFrame.\n",
      "Try using .loc[row_indexer,col_indexer] = value instead\n",
      "\n",
      "See the caveats in the documentation: https://pandas.pydata.org/pandas-docs/stable/user_guide/indexing.html#returning-a-view-versus-a-copy\n",
      "  isetter(loc, value)\n"
     ]
    },
    {
     "name": "stdout",
     "output_type": "stream",
     "text": [
      "Text took: 10.129501104354858 Num S / Coref: 17 / 17\n",
      "Current Article231\n"
     ]
    },
    {
     "name": "stderr",
     "output_type": "stream",
     "text": [
      "/mnt/efs/fs1/CSS_Termpaper/EntityNetwork/entitynetwork/relation_extraction/relation_extraction.py:60: RuntimeWarning: Mean of empty slice\n",
      "  sentiment = np.nanmean(prod)\n",
      "/mnt/efs/fs1/CSS_Termpaper/EntityNetwork/entitynetwork/validation_tool/entity_validation.py:61: SettingWithCopyWarning: \n",
      "A value is trying to be set on a copy of a slice from a DataFrame\n",
      "\n",
      "See the caveats in the documentation: https://pandas.pydata.org/pandas-docs/stable/user_guide/indexing.html#returning-a-view-versus-a-copy\n",
      "  self.merged_data[\"synonyms\"][~self.merged_data[\"synonyms\"].str.contains(\"__\", na=False)] = np.NaN\n"
     ]
    },
    {
     "name": "stdout",
     "output_type": "stream",
     "text": [
      "Text took: 2.9442601203918457 Num S / Coref: 7 / 7\n",
      "Current Article232\n"
     ]
    },
    {
     "name": "stderr",
     "output_type": "stream",
     "text": [
      "/mnt/efs/fs1/CSS_Termpaper/EntityNetwork/entitynetwork/validation_tool/relation_validation.py:36: SettingWithCopyWarning: \n",
      "A value is trying to be set on a copy of a slice from a DataFrame.\n",
      "Try using .loc[row_indexer,col_indexer] = value instead\n",
      "\n",
      "See the caveats in the documentation: https://pandas.pydata.org/pandas-docs/stable/user_guide/indexing.html#returning-a-view-versus-a-copy\n",
      "  article.relation_validation_data[\"valid\"] = 1\n",
      "/home/ubuntu/.local/lib/python3.6/site-packages/pandas/core/indexing.py:1765: SettingWithCopyWarning: \n",
      "A value is trying to be set on a copy of a slice from a DataFrame.\n",
      "Try using .loc[row_indexer,col_indexer] = value instead\n",
      "\n",
      "See the caveats in the documentation: https://pandas.pydata.org/pandas-docs/stable/user_guide/indexing.html#returning-a-view-versus-a-copy\n",
      "  isetter(loc, value)\n"
     ]
    },
    {
     "name": "stdout",
     "output_type": "stream",
     "text": [
      "Text took: 3.131488084793091 Num S / Coref: 5 / 5\n",
      "Current Article233\n"
     ]
    },
    {
     "name": "stderr",
     "output_type": "stream",
     "text": [
      "/mnt/efs/fs1/CSS_Termpaper/EntityNetwork/entitynetwork/relation_extraction/relation_extraction.py:60: RuntimeWarning: Mean of empty slice\n",
      "  sentiment = np.nanmean(prod)\n",
      "/mnt/efs/fs1/CSS_Termpaper/EntityNetwork/entitynetwork/validation_tool/relation_validation.py:36: SettingWithCopyWarning: \n",
      "A value is trying to be set on a copy of a slice from a DataFrame.\n",
      "Try using .loc[row_indexer,col_indexer] = value instead\n",
      "\n",
      "See the caveats in the documentation: https://pandas.pydata.org/pandas-docs/stable/user_guide/indexing.html#returning-a-view-versus-a-copy\n",
      "  article.relation_validation_data[\"valid\"] = 1\n",
      "/home/ubuntu/.local/lib/python3.6/site-packages/pandas/core/indexing.py:1765: SettingWithCopyWarning: \n",
      "A value is trying to be set on a copy of a slice from a DataFrame.\n",
      "Try using .loc[row_indexer,col_indexer] = value instead\n",
      "\n",
      "See the caveats in the documentation: https://pandas.pydata.org/pandas-docs/stable/user_guide/indexing.html#returning-a-view-versus-a-copy\n",
      "  isetter(loc, value)\n"
     ]
    },
    {
     "name": "stdout",
     "output_type": "stream",
     "text": [
      "Text took: 29.726724863052368 Num S / Coref: 68 / 66\n",
      "Current Article234\n"
     ]
    },
    {
     "name": "stderr",
     "output_type": "stream",
     "text": [
      "/mnt/efs/fs1/CSS_Termpaper/EntityNetwork/entitynetwork/relation_extraction/relation_extraction.py:60: RuntimeWarning: Mean of empty slice\n",
      "  sentiment = np.nanmean(prod)\n",
      "/mnt/efs/fs1/CSS_Termpaper/EntityNetwork/entitynetwork/validation_tool/relation_validation.py:36: SettingWithCopyWarning: \n",
      "A value is trying to be set on a copy of a slice from a DataFrame.\n",
      "Try using .loc[row_indexer,col_indexer] = value instead\n",
      "\n",
      "See the caveats in the documentation: https://pandas.pydata.org/pandas-docs/stable/user_guide/indexing.html#returning-a-view-versus-a-copy\n",
      "  article.relation_validation_data[\"valid\"] = 1\n",
      "/home/ubuntu/.local/lib/python3.6/site-packages/pandas/core/indexing.py:1765: SettingWithCopyWarning: \n",
      "A value is trying to be set on a copy of a slice from a DataFrame.\n",
      "Try using .loc[row_indexer,col_indexer] = value instead\n",
      "\n",
      "See the caveats in the documentation: https://pandas.pydata.org/pandas-docs/stable/user_guide/indexing.html#returning-a-view-versus-a-copy\n",
      "  isetter(loc, value)\n"
     ]
    },
    {
     "name": "stdout",
     "output_type": "stream",
     "text": [
      "Text took: 9.243872165679932 Num S / Coref: 23 / 23\n",
      "Current Article235\n"
     ]
    },
    {
     "name": "stderr",
     "output_type": "stream",
     "text": [
      "/mnt/efs/fs1/CSS_Termpaper/EntityNetwork/entitynetwork/relation_extraction/relation_extraction.py:60: RuntimeWarning: Mean of empty slice\n",
      "  sentiment = np.nanmean(prod)\n",
      "/mnt/efs/fs1/CSS_Termpaper/EntityNetwork/entitynetwork/validation_tool/relation_validation.py:36: SettingWithCopyWarning: \n",
      "A value is trying to be set on a copy of a slice from a DataFrame.\n",
      "Try using .loc[row_indexer,col_indexer] = value instead\n",
      "\n",
      "See the caveats in the documentation: https://pandas.pydata.org/pandas-docs/stable/user_guide/indexing.html#returning-a-view-versus-a-copy\n",
      "  article.relation_validation_data[\"valid\"] = 1\n",
      "/home/ubuntu/.local/lib/python3.6/site-packages/pandas/core/indexing.py:1765: SettingWithCopyWarning: \n",
      "A value is trying to be set on a copy of a slice from a DataFrame.\n",
      "Try using .loc[row_indexer,col_indexer] = value instead\n",
      "\n",
      "See the caveats in the documentation: https://pandas.pydata.org/pandas-docs/stable/user_guide/indexing.html#returning-a-view-versus-a-copy\n",
      "  isetter(loc, value)\n"
     ]
    },
    {
     "name": "stdout",
     "output_type": "stream",
     "text": [
      "Text took: 12.388855218887329 Num S / Coref: 29 / 29\n",
      "Current Article236\n"
     ]
    },
    {
     "name": "stderr",
     "output_type": "stream",
     "text": [
      "/mnt/efs/fs1/CSS_Termpaper/EntityNetwork/entitynetwork/relation_extraction/relation_extraction.py:60: RuntimeWarning: Mean of empty slice\n",
      "  sentiment = np.nanmean(prod)\n",
      "/mnt/efs/fs1/CSS_Termpaper/EntityNetwork/entitynetwork/validation_tool/relation_validation.py:36: SettingWithCopyWarning: \n",
      "A value is trying to be set on a copy of a slice from a DataFrame.\n",
      "Try using .loc[row_indexer,col_indexer] = value instead\n",
      "\n",
      "See the caveats in the documentation: https://pandas.pydata.org/pandas-docs/stable/user_guide/indexing.html#returning-a-view-versus-a-copy\n",
      "  article.relation_validation_data[\"valid\"] = 1\n",
      "/home/ubuntu/.local/lib/python3.6/site-packages/pandas/core/indexing.py:1765: SettingWithCopyWarning: \n",
      "A value is trying to be set on a copy of a slice from a DataFrame.\n",
      "Try using .loc[row_indexer,col_indexer] = value instead\n",
      "\n",
      "See the caveats in the documentation: https://pandas.pydata.org/pandas-docs/stable/user_guide/indexing.html#returning-a-view-versus-a-copy\n",
      "  isetter(loc, value)\n"
     ]
    },
    {
     "name": "stdout",
     "output_type": "stream",
     "text": [
      "Text took: 10.91623830795288 Num S / Coref: 24 / 24\n",
      "Current Article237\n"
     ]
    },
    {
     "name": "stderr",
     "output_type": "stream",
     "text": [
      "/mnt/efs/fs1/CSS_Termpaper/EntityNetwork/entitynetwork/relation_extraction/relation_extraction.py:60: RuntimeWarning: Mean of empty slice\n",
      "  sentiment = np.nanmean(prod)\n",
      "/mnt/efs/fs1/CSS_Termpaper/EntityNetwork/entitynetwork/validation_tool/relation_validation.py:36: SettingWithCopyWarning: \n",
      "A value is trying to be set on a copy of a slice from a DataFrame.\n",
      "Try using .loc[row_indexer,col_indexer] = value instead\n",
      "\n",
      "See the caveats in the documentation: https://pandas.pydata.org/pandas-docs/stable/user_guide/indexing.html#returning-a-view-versus-a-copy\n",
      "  article.relation_validation_data[\"valid\"] = 1\n",
      "/home/ubuntu/.local/lib/python3.6/site-packages/pandas/core/indexing.py:1765: SettingWithCopyWarning: \n",
      "A value is trying to be set on a copy of a slice from a DataFrame.\n",
      "Try using .loc[row_indexer,col_indexer] = value instead\n",
      "\n",
      "See the caveats in the documentation: https://pandas.pydata.org/pandas-docs/stable/user_guide/indexing.html#returning-a-view-versus-a-copy\n",
      "  isetter(loc, value)\n"
     ]
    },
    {
     "name": "stdout",
     "output_type": "stream",
     "text": [
      "Text took: 3.9680521488189697 Num S / Coref: 11 / 11\n",
      "Current Article238\n"
     ]
    },
    {
     "name": "stderr",
     "output_type": "stream",
     "text": [
      "/mnt/efs/fs1/CSS_Termpaper/EntityNetwork/entitynetwork/relation_extraction/relation_extraction.py:60: RuntimeWarning: Mean of empty slice\n",
      "  sentiment = np.nanmean(prod)\n",
      "/mnt/efs/fs1/CSS_Termpaper/EntityNetwork/entitynetwork/validation_tool/entity_validation.py:61: SettingWithCopyWarning: \n",
      "A value is trying to be set on a copy of a slice from a DataFrame\n",
      "\n",
      "See the caveats in the documentation: https://pandas.pydata.org/pandas-docs/stable/user_guide/indexing.html#returning-a-view-versus-a-copy\n",
      "  self.merged_data[\"synonyms\"][~self.merged_data[\"synonyms\"].str.contains(\"__\", na=False)] = np.NaN\n",
      "/mnt/efs/fs1/CSS_Termpaper/EntityNetwork/entitynetwork/validation_tool/relation_validation.py:36: SettingWithCopyWarning: \n",
      "A value is trying to be set on a copy of a slice from a DataFrame.\n",
      "Try using .loc[row_indexer,col_indexer] = value instead\n",
      "\n",
      "See the caveats in the documentation: https://pandas.pydata.org/pandas-docs/stable/user_guide/indexing.html#returning-a-view-versus-a-copy\n",
      "  article.relation_validation_data[\"valid\"] = 1\n",
      "/home/ubuntu/.local/lib/python3.6/site-packages/pandas/core/indexing.py:1765: SettingWithCopyWarning: \n",
      "A value is trying to be set on a copy of a slice from a DataFrame.\n",
      "Try using .loc[row_indexer,col_indexer] = value instead\n",
      "\n",
      "See the caveats in the documentation: https://pandas.pydata.org/pandas-docs/stable/user_guide/indexing.html#returning-a-view-versus-a-copy\n",
      "  isetter(loc, value)\n"
     ]
    },
    {
     "name": "stdout",
     "output_type": "stream",
     "text": [
      "Text took: 3.314192295074463 Num S / Coref: 7 / 7\n",
      "Current Article239\n"
     ]
    },
    {
     "name": "stderr",
     "output_type": "stream",
     "text": [
      "/mnt/efs/fs1/CSS_Termpaper/EntityNetwork/entitynetwork/relation_extraction/relation_extraction.py:60: RuntimeWarning: Mean of empty slice\n",
      "  sentiment = np.nanmean(prod)\n",
      "/mnt/efs/fs1/CSS_Termpaper/EntityNetwork/entitynetwork/validation_tool/relation_validation.py:36: SettingWithCopyWarning: \n",
      "A value is trying to be set on a copy of a slice from a DataFrame.\n",
      "Try using .loc[row_indexer,col_indexer] = value instead\n",
      "\n",
      "See the caveats in the documentation: https://pandas.pydata.org/pandas-docs/stable/user_guide/indexing.html#returning-a-view-versus-a-copy\n",
      "  article.relation_validation_data[\"valid\"] = 1\n",
      "/home/ubuntu/.local/lib/python3.6/site-packages/pandas/core/indexing.py:1765: SettingWithCopyWarning: \n",
      "A value is trying to be set on a copy of a slice from a DataFrame.\n",
      "Try using .loc[row_indexer,col_indexer] = value instead\n",
      "\n",
      "See the caveats in the documentation: https://pandas.pydata.org/pandas-docs/stable/user_guide/indexing.html#returning-a-view-versus-a-copy\n",
      "  isetter(loc, value)\n"
     ]
    },
    {
     "name": "stdout",
     "output_type": "stream",
     "text": [
      "Text took: 11.395101070404053 Num S / Coref: 20 / 20\n",
      "Current Article240\n"
     ]
    },
    {
     "name": "stderr",
     "output_type": "stream",
     "text": [
      "/mnt/efs/fs1/CSS_Termpaper/EntityNetwork/entitynetwork/relation_extraction/relation_extraction.py:60: RuntimeWarning: Mean of empty slice\n",
      "  sentiment = np.nanmean(prod)\n",
      "/mnt/efs/fs1/CSS_Termpaper/EntityNetwork/entitynetwork/validation_tool/relation_validation.py:36: SettingWithCopyWarning: \n",
      "A value is trying to be set on a copy of a slice from a DataFrame.\n",
      "Try using .loc[row_indexer,col_indexer] = value instead\n",
      "\n",
      "See the caveats in the documentation: https://pandas.pydata.org/pandas-docs/stable/user_guide/indexing.html#returning-a-view-versus-a-copy\n",
      "  article.relation_validation_data[\"valid\"] = 1\n",
      "/home/ubuntu/.local/lib/python3.6/site-packages/pandas/core/indexing.py:1765: SettingWithCopyWarning: \n",
      "A value is trying to be set on a copy of a slice from a DataFrame.\n",
      "Try using .loc[row_indexer,col_indexer] = value instead\n",
      "\n",
      "See the caveats in the documentation: https://pandas.pydata.org/pandas-docs/stable/user_guide/indexing.html#returning-a-view-versus-a-copy\n",
      "  isetter(loc, value)\n"
     ]
    },
    {
     "name": "stdout",
     "output_type": "stream",
     "text": [
      "Text took: 6.249300241470337 Num S / Coref: 14 / 14\n",
      "Current Article241\n"
     ]
    },
    {
     "name": "stderr",
     "output_type": "stream",
     "text": [
      "/mnt/efs/fs1/CSS_Termpaper/EntityNetwork/entitynetwork/relation_extraction/relation_extraction.py:60: RuntimeWarning: Mean of empty slice\n",
      "  sentiment = np.nanmean(prod)\n",
      "/mnt/efs/fs1/CSS_Termpaper/EntityNetwork/entitynetwork/validation_tool/relation_validation.py:36: SettingWithCopyWarning: \n",
      "A value is trying to be set on a copy of a slice from a DataFrame.\n",
      "Try using .loc[row_indexer,col_indexer] = value instead\n",
      "\n",
      "See the caveats in the documentation: https://pandas.pydata.org/pandas-docs/stable/user_guide/indexing.html#returning-a-view-versus-a-copy\n",
      "  article.relation_validation_data[\"valid\"] = 1\n",
      "/home/ubuntu/.local/lib/python3.6/site-packages/pandas/core/indexing.py:1765: SettingWithCopyWarning: \n",
      "A value is trying to be set on a copy of a slice from a DataFrame.\n",
      "Try using .loc[row_indexer,col_indexer] = value instead\n",
      "\n",
      "See the caveats in the documentation: https://pandas.pydata.org/pandas-docs/stable/user_guide/indexing.html#returning-a-view-versus-a-copy\n",
      "  isetter(loc, value)\n"
     ]
    },
    {
     "name": "stdout",
     "output_type": "stream",
     "text": [
      "Text took: 4.44641900062561 Num S / Coref: 11 / 11\n",
      "Current Article242\n"
     ]
    },
    {
     "name": "stderr",
     "output_type": "stream",
     "text": [
      "/mnt/efs/fs1/CSS_Termpaper/EntityNetwork/entitynetwork/relation_extraction/relation_extraction.py:60: RuntimeWarning: Mean of empty slice\n",
      "  sentiment = np.nanmean(prod)\n",
      "/mnt/efs/fs1/CSS_Termpaper/EntityNetwork/entitynetwork/validation_tool/entity_validation.py:61: SettingWithCopyWarning: \n",
      "A value is trying to be set on a copy of a slice from a DataFrame\n",
      "\n",
      "See the caveats in the documentation: https://pandas.pydata.org/pandas-docs/stable/user_guide/indexing.html#returning-a-view-versus-a-copy\n",
      "  self.merged_data[\"synonyms\"][~self.merged_data[\"synonyms\"].str.contains(\"__\", na=False)] = np.NaN\n",
      "/mnt/efs/fs1/CSS_Termpaper/EntityNetwork/entitynetwork/validation_tool/relation_validation.py:36: SettingWithCopyWarning: \n",
      "A value is trying to be set on a copy of a slice from a DataFrame.\n",
      "Try using .loc[row_indexer,col_indexer] = value instead\n",
      "\n",
      "See the caveats in the documentation: https://pandas.pydata.org/pandas-docs/stable/user_guide/indexing.html#returning-a-view-versus-a-copy\n",
      "  article.relation_validation_data[\"valid\"] = 1\n",
      "/home/ubuntu/.local/lib/python3.6/site-packages/pandas/core/indexing.py:1765: SettingWithCopyWarning: \n",
      "A value is trying to be set on a copy of a slice from a DataFrame.\n",
      "Try using .loc[row_indexer,col_indexer] = value instead\n",
      "\n",
      "See the caveats in the documentation: https://pandas.pydata.org/pandas-docs/stable/user_guide/indexing.html#returning-a-view-versus-a-copy\n",
      "  isetter(loc, value)\n"
     ]
    },
    {
     "name": "stdout",
     "output_type": "stream",
     "text": [
      "Text took: 3.706876277923584 Num S / Coref: 6 / 6\n",
      "Current Article243\n"
     ]
    },
    {
     "name": "stderr",
     "output_type": "stream",
     "text": [
      "/mnt/efs/fs1/CSS_Termpaper/EntityNetwork/entitynetwork/relation_extraction/relation_extraction.py:60: RuntimeWarning: Mean of empty slice\n",
      "  sentiment = np.nanmean(prod)\n",
      "/mnt/efs/fs1/CSS_Termpaper/EntityNetwork/entitynetwork/validation_tool/relation_validation.py:36: SettingWithCopyWarning: \n",
      "A value is trying to be set on a copy of a slice from a DataFrame.\n",
      "Try using .loc[row_indexer,col_indexer] = value instead\n",
      "\n",
      "See the caveats in the documentation: https://pandas.pydata.org/pandas-docs/stable/user_guide/indexing.html#returning-a-view-versus-a-copy\n",
      "  article.relation_validation_data[\"valid\"] = 1\n",
      "/home/ubuntu/.local/lib/python3.6/site-packages/pandas/core/indexing.py:1765: SettingWithCopyWarning: \n",
      "A value is trying to be set on a copy of a slice from a DataFrame.\n",
      "Try using .loc[row_indexer,col_indexer] = value instead\n",
      "\n",
      "See the caveats in the documentation: https://pandas.pydata.org/pandas-docs/stable/user_guide/indexing.html#returning-a-view-versus-a-copy\n",
      "  isetter(loc, value)\n"
     ]
    },
    {
     "name": "stdout",
     "output_type": "stream",
     "text": [
      "Text took: 17.321510076522827 Num S / Coref: 38 / 38\n",
      "Current Article244\n"
     ]
    },
    {
     "name": "stderr",
     "output_type": "stream",
     "text": [
      "/mnt/efs/fs1/CSS_Termpaper/EntityNetwork/entitynetwork/relation_extraction/relation_extraction.py:60: RuntimeWarning: Mean of empty slice\n",
      "  sentiment = np.nanmean(prod)\n",
      "/mnt/efs/fs1/CSS_Termpaper/EntityNetwork/entitynetwork/validation_tool/relation_validation.py:36: SettingWithCopyWarning: \n",
      "A value is trying to be set on a copy of a slice from a DataFrame.\n",
      "Try using .loc[row_indexer,col_indexer] = value instead\n",
      "\n",
      "See the caveats in the documentation: https://pandas.pydata.org/pandas-docs/stable/user_guide/indexing.html#returning-a-view-versus-a-copy\n",
      "  article.relation_validation_data[\"valid\"] = 1\n",
      "/home/ubuntu/.local/lib/python3.6/site-packages/pandas/core/indexing.py:1765: SettingWithCopyWarning: \n",
      "A value is trying to be set on a copy of a slice from a DataFrame.\n",
      "Try using .loc[row_indexer,col_indexer] = value instead\n",
      "\n",
      "See the caveats in the documentation: https://pandas.pydata.org/pandas-docs/stable/user_guide/indexing.html#returning-a-view-versus-a-copy\n",
      "  isetter(loc, value)\n"
     ]
    },
    {
     "name": "stdout",
     "output_type": "stream",
     "text": [
      "Text took: 10.078112602233887 Num S / Coref: 16 / 16\n",
      "Current Article245\n"
     ]
    },
    {
     "name": "stderr",
     "output_type": "stream",
     "text": [
      "/mnt/efs/fs1/CSS_Termpaper/EntityNetwork/entitynetwork/relation_extraction/relation_extraction.py:60: RuntimeWarning: Mean of empty slice\n",
      "  sentiment = np.nanmean(prod)\n",
      "/mnt/efs/fs1/CSS_Termpaper/EntityNetwork/entitynetwork/validation_tool/entity_validation.py:61: SettingWithCopyWarning: \n",
      "A value is trying to be set on a copy of a slice from a DataFrame\n",
      "\n",
      "See the caveats in the documentation: https://pandas.pydata.org/pandas-docs/stable/user_guide/indexing.html#returning-a-view-versus-a-copy\n",
      "  self.merged_data[\"synonyms\"][~self.merged_data[\"synonyms\"].str.contains(\"__\", na=False)] = np.NaN\n",
      "/mnt/efs/fs1/CSS_Termpaper/EntityNetwork/entitynetwork/validation_tool/relation_validation.py:36: SettingWithCopyWarning: \n",
      "A value is trying to be set on a copy of a slice from a DataFrame.\n",
      "Try using .loc[row_indexer,col_indexer] = value instead\n",
      "\n",
      "See the caveats in the documentation: https://pandas.pydata.org/pandas-docs/stable/user_guide/indexing.html#returning-a-view-versus-a-copy\n",
      "  article.relation_validation_data[\"valid\"] = 1\n",
      "/home/ubuntu/.local/lib/python3.6/site-packages/pandas/core/indexing.py:1765: SettingWithCopyWarning: \n",
      "A value is trying to be set on a copy of a slice from a DataFrame.\n",
      "Try using .loc[row_indexer,col_indexer] = value instead\n",
      "\n",
      "See the caveats in the documentation: https://pandas.pydata.org/pandas-docs/stable/user_guide/indexing.html#returning-a-view-versus-a-copy\n",
      "  isetter(loc, value)\n"
     ]
    },
    {
     "name": "stdout",
     "output_type": "stream",
     "text": [
      "Text took: 2.955174207687378 Num S / Coref: 8 / 8\n",
      "Current Article246\n"
     ]
    },
    {
     "name": "stderr",
     "output_type": "stream",
     "text": [
      "/mnt/efs/fs1/CSS_Termpaper/EntityNetwork/entitynetwork/relation_extraction/relation_extraction.py:60: RuntimeWarning: Mean of empty slice\n",
      "  sentiment = np.nanmean(prod)\n",
      "/mnt/efs/fs1/CSS_Termpaper/EntityNetwork/entitynetwork/validation_tool/relation_validation.py:36: SettingWithCopyWarning: \n",
      "A value is trying to be set on a copy of a slice from a DataFrame.\n",
      "Try using .loc[row_indexer,col_indexer] = value instead\n",
      "\n",
      "See the caveats in the documentation: https://pandas.pydata.org/pandas-docs/stable/user_guide/indexing.html#returning-a-view-versus-a-copy\n",
      "  article.relation_validation_data[\"valid\"] = 1\n",
      "/home/ubuntu/.local/lib/python3.6/site-packages/pandas/core/indexing.py:1765: SettingWithCopyWarning: \n",
      "A value is trying to be set on a copy of a slice from a DataFrame.\n",
      "Try using .loc[row_indexer,col_indexer] = value instead\n",
      "\n",
      "See the caveats in the documentation: https://pandas.pydata.org/pandas-docs/stable/user_guide/indexing.html#returning-a-view-versus-a-copy\n",
      "  isetter(loc, value)\n"
     ]
    },
    {
     "name": "stdout",
     "output_type": "stream",
     "text": [
      "Text took: 2.3211476802825928 Num S / Coref: 3 / 3\n",
      "Current Article247\n"
     ]
    },
    {
     "name": "stderr",
     "output_type": "stream",
     "text": [
      "/mnt/efs/fs1/CSS_Termpaper/EntityNetwork/entitynetwork/relation_extraction/relation_extraction.py:60: RuntimeWarning: Mean of empty slice\n",
      "  sentiment = np.nanmean(prod)\n",
      "/mnt/efs/fs1/CSS_Termpaper/EntityNetwork/entitynetwork/validation_tool/relation_validation.py:36: SettingWithCopyWarning: \n",
      "A value is trying to be set on a copy of a slice from a DataFrame.\n",
      "Try using .loc[row_indexer,col_indexer] = value instead\n",
      "\n",
      "See the caveats in the documentation: https://pandas.pydata.org/pandas-docs/stable/user_guide/indexing.html#returning-a-view-versus-a-copy\n",
      "  article.relation_validation_data[\"valid\"] = 1\n",
      "/home/ubuntu/.local/lib/python3.6/site-packages/pandas/core/indexing.py:1765: SettingWithCopyWarning: \n",
      "A value is trying to be set on a copy of a slice from a DataFrame.\n",
      "Try using .loc[row_indexer,col_indexer] = value instead\n",
      "\n",
      "See the caveats in the documentation: https://pandas.pydata.org/pandas-docs/stable/user_guide/indexing.html#returning-a-view-versus-a-copy\n",
      "  isetter(loc, value)\n"
     ]
    },
    {
     "name": "stdout",
     "output_type": "stream",
     "text": [
      "Text took: 10.119626998901367 Num S / Coref: 17 / 17\n",
      "Current Article248\n"
     ]
    },
    {
     "name": "stderr",
     "output_type": "stream",
     "text": [
      "/mnt/efs/fs1/CSS_Termpaper/EntityNetwork/entitynetwork/relation_extraction/relation_extraction.py:60: RuntimeWarning: Mean of empty slice\n",
      "  sentiment = np.nanmean(prod)\n",
      "/mnt/efs/fs1/CSS_Termpaper/EntityNetwork/entitynetwork/validation_tool/relation_validation.py:36: SettingWithCopyWarning: \n",
      "A value is trying to be set on a copy of a slice from a DataFrame.\n",
      "Try using .loc[row_indexer,col_indexer] = value instead\n",
      "\n",
      "See the caveats in the documentation: https://pandas.pydata.org/pandas-docs/stable/user_guide/indexing.html#returning-a-view-versus-a-copy\n",
      "  article.relation_validation_data[\"valid\"] = 1\n",
      "/home/ubuntu/.local/lib/python3.6/site-packages/pandas/core/indexing.py:1765: SettingWithCopyWarning: \n",
      "A value is trying to be set on a copy of a slice from a DataFrame.\n",
      "Try using .loc[row_indexer,col_indexer] = value instead\n",
      "\n",
      "See the caveats in the documentation: https://pandas.pydata.org/pandas-docs/stable/user_guide/indexing.html#returning-a-view-versus-a-copy\n",
      "  isetter(loc, value)\n"
     ]
    },
    {
     "name": "stdout",
     "output_type": "stream",
     "text": [
      "Text took: 6.906363487243652 Num S / Coref: 12 / 12\n",
      "Current Article249\n"
     ]
    },
    {
     "name": "stderr",
     "output_type": "stream",
     "text": [
      "/mnt/efs/fs1/CSS_Termpaper/EntityNetwork/entitynetwork/validation_tool/relation_validation.py:36: SettingWithCopyWarning: \n",
      "A value is trying to be set on a copy of a slice from a DataFrame.\n",
      "Try using .loc[row_indexer,col_indexer] = value instead\n",
      "\n",
      "See the caveats in the documentation: https://pandas.pydata.org/pandas-docs/stable/user_guide/indexing.html#returning-a-view-versus-a-copy\n",
      "  article.relation_validation_data[\"valid\"] = 1\n",
      "/home/ubuntu/.local/lib/python3.6/site-packages/pandas/core/indexing.py:1765: SettingWithCopyWarning: \n",
      "A value is trying to be set on a copy of a slice from a DataFrame.\n",
      "Try using .loc[row_indexer,col_indexer] = value instead\n",
      "\n",
      "See the caveats in the documentation: https://pandas.pydata.org/pandas-docs/stable/user_guide/indexing.html#returning-a-view-versus-a-copy\n",
      "  isetter(loc, value)\n"
     ]
    },
    {
     "name": "stdout",
     "output_type": "stream",
     "text": [
      "Text took: 3.5533440113067627 Num S / Coref: 4 / 4\n",
      "Current Article250\n"
     ]
    },
    {
     "name": "stderr",
     "output_type": "stream",
     "text": [
      "/mnt/efs/fs1/CSS_Termpaper/EntityNetwork/entitynetwork/relation_extraction/relation_extraction.py:60: RuntimeWarning: Mean of empty slice\n",
      "  sentiment = np.nanmean(prod)\n",
      "/mnt/efs/fs1/CSS_Termpaper/EntityNetwork/entitynetwork/validation_tool/entity_validation.py:61: SettingWithCopyWarning: \n",
      "A value is trying to be set on a copy of a slice from a DataFrame\n",
      "\n",
      "See the caveats in the documentation: https://pandas.pydata.org/pandas-docs/stable/user_guide/indexing.html#returning-a-view-versus-a-copy\n",
      "  self.merged_data[\"synonyms\"][~self.merged_data[\"synonyms\"].str.contains(\"__\", na=False)] = np.NaN\n",
      "/mnt/efs/fs1/CSS_Termpaper/EntityNetwork/entitynetwork/validation_tool/relation_validation.py:36: SettingWithCopyWarning: \n",
      "A value is trying to be set on a copy of a slice from a DataFrame.\n",
      "Try using .loc[row_indexer,col_indexer] = value instead\n",
      "\n",
      "See the caveats in the documentation: https://pandas.pydata.org/pandas-docs/stable/user_guide/indexing.html#returning-a-view-versus-a-copy\n",
      "  article.relation_validation_data[\"valid\"] = 1\n",
      "/home/ubuntu/.local/lib/python3.6/site-packages/pandas/core/indexing.py:1765: SettingWithCopyWarning: \n",
      "A value is trying to be set on a copy of a slice from a DataFrame.\n",
      "Try using .loc[row_indexer,col_indexer] = value instead\n",
      "\n",
      "See the caveats in the documentation: https://pandas.pydata.org/pandas-docs/stable/user_guide/indexing.html#returning-a-view-versus-a-copy\n",
      "  isetter(loc, value)\n"
     ]
    },
    {
     "name": "stdout",
     "output_type": "stream",
     "text": [
      "Text took: 10.72321081161499 Num S / Coref: 24 / 24\n",
      "Current Article251\n"
     ]
    },
    {
     "name": "stderr",
     "output_type": "stream",
     "text": [
      "/mnt/efs/fs1/CSS_Termpaper/EntityNetwork/entitynetwork/relation_extraction/relation_extraction.py:60: RuntimeWarning: Mean of empty slice\n",
      "  sentiment = np.nanmean(prod)\n",
      "/mnt/efs/fs1/CSS_Termpaper/EntityNetwork/entitynetwork/validation_tool/relation_validation.py:36: SettingWithCopyWarning: \n",
      "A value is trying to be set on a copy of a slice from a DataFrame.\n",
      "Try using .loc[row_indexer,col_indexer] = value instead\n",
      "\n",
      "See the caveats in the documentation: https://pandas.pydata.org/pandas-docs/stable/user_guide/indexing.html#returning-a-view-versus-a-copy\n",
      "  article.relation_validation_data[\"valid\"] = 1\n",
      "/home/ubuntu/.local/lib/python3.6/site-packages/pandas/core/indexing.py:1765: SettingWithCopyWarning: \n",
      "A value is trying to be set on a copy of a slice from a DataFrame.\n",
      "Try using .loc[row_indexer,col_indexer] = value instead\n",
      "\n",
      "See the caveats in the documentation: https://pandas.pydata.org/pandas-docs/stable/user_guide/indexing.html#returning-a-view-versus-a-copy\n",
      "  isetter(loc, value)\n"
     ]
    },
    {
     "name": "stdout",
     "output_type": "stream",
     "text": [
      "Text took: 15.888620853424072 Num S / Coref: 31 / 31\n",
      "Current Article252\n"
     ]
    },
    {
     "name": "stderr",
     "output_type": "stream",
     "text": [
      "/mnt/efs/fs1/CSS_Termpaper/EntityNetwork/entitynetwork/relation_extraction/relation_extraction.py:60: RuntimeWarning: Mean of empty slice\n",
      "  sentiment = np.nanmean(prod)\n",
      "/mnt/efs/fs1/CSS_Termpaper/EntityNetwork/entitynetwork/validation_tool/entity_validation.py:61: SettingWithCopyWarning: \n",
      "A value is trying to be set on a copy of a slice from a DataFrame\n",
      "\n",
      "See the caveats in the documentation: https://pandas.pydata.org/pandas-docs/stable/user_guide/indexing.html#returning-a-view-versus-a-copy\n",
      "  self.merged_data[\"synonyms\"][~self.merged_data[\"synonyms\"].str.contains(\"__\", na=False)] = np.NaN\n",
      "/mnt/efs/fs1/CSS_Termpaper/EntityNetwork/entitynetwork/validation_tool/relation_validation.py:36: SettingWithCopyWarning: \n",
      "A value is trying to be set on a copy of a slice from a DataFrame.\n",
      "Try using .loc[row_indexer,col_indexer] = value instead\n",
      "\n",
      "See the caveats in the documentation: https://pandas.pydata.org/pandas-docs/stable/user_guide/indexing.html#returning-a-view-versus-a-copy\n",
      "  article.relation_validation_data[\"valid\"] = 1\n",
      "/home/ubuntu/.local/lib/python3.6/site-packages/pandas/core/indexing.py:1765: SettingWithCopyWarning: \n",
      "A value is trying to be set on a copy of a slice from a DataFrame.\n",
      "Try using .loc[row_indexer,col_indexer] = value instead\n",
      "\n",
      "See the caveats in the documentation: https://pandas.pydata.org/pandas-docs/stable/user_guide/indexing.html#returning-a-view-versus-a-copy\n",
      "  isetter(loc, value)\n"
     ]
    },
    {
     "name": "stdout",
     "output_type": "stream",
     "text": [
      "Text took: 9.163949728012085 Num S / Coref: 15 / 15\n",
      "Current Article253\n"
     ]
    },
    {
     "name": "stderr",
     "output_type": "stream",
     "text": [
      "/mnt/efs/fs1/CSS_Termpaper/EntityNetwork/entitynetwork/relation_extraction/relation_extraction.py:60: RuntimeWarning: Mean of empty slice\n",
      "  sentiment = np.nanmean(prod)\n",
      "/mnt/efs/fs1/CSS_Termpaper/EntityNetwork/entitynetwork/validation_tool/entity_validation.py:61: SettingWithCopyWarning: \n",
      "A value is trying to be set on a copy of a slice from a DataFrame\n",
      "\n",
      "See the caveats in the documentation: https://pandas.pydata.org/pandas-docs/stable/user_guide/indexing.html#returning-a-view-versus-a-copy\n",
      "  self.merged_data[\"synonyms\"][~self.merged_data[\"synonyms\"].str.contains(\"__\", na=False)] = np.NaN\n",
      "/mnt/efs/fs1/CSS_Termpaper/EntityNetwork/entitynetwork/validation_tool/relation_validation.py:36: SettingWithCopyWarning: \n",
      "A value is trying to be set on a copy of a slice from a DataFrame.\n",
      "Try using .loc[row_indexer,col_indexer] = value instead\n",
      "\n",
      "See the caveats in the documentation: https://pandas.pydata.org/pandas-docs/stable/user_guide/indexing.html#returning-a-view-versus-a-copy\n",
      "  article.relation_validation_data[\"valid\"] = 1\n",
      "/home/ubuntu/.local/lib/python3.6/site-packages/pandas/core/indexing.py:1765: SettingWithCopyWarning: \n",
      "A value is trying to be set on a copy of a slice from a DataFrame.\n",
      "Try using .loc[row_indexer,col_indexer] = value instead\n",
      "\n",
      "See the caveats in the documentation: https://pandas.pydata.org/pandas-docs/stable/user_guide/indexing.html#returning-a-view-versus-a-copy\n",
      "  isetter(loc, value)\n"
     ]
    },
    {
     "name": "stdout",
     "output_type": "stream",
     "text": [
      "Text took: 4.041685342788696 Num S / Coref: 8 / 8\n",
      "Current Article254\n"
     ]
    },
    {
     "name": "stderr",
     "output_type": "stream",
     "text": [
      "/mnt/efs/fs1/CSS_Termpaper/EntityNetwork/entitynetwork/relation_extraction/relation_extraction.py:60: RuntimeWarning: Mean of empty slice\n",
      "  sentiment = np.nanmean(prod)\n",
      "/mnt/efs/fs1/CSS_Termpaper/EntityNetwork/entitynetwork/validation_tool/relation_validation.py:36: SettingWithCopyWarning: \n",
      "A value is trying to be set on a copy of a slice from a DataFrame.\n",
      "Try using .loc[row_indexer,col_indexer] = value instead\n",
      "\n",
      "See the caveats in the documentation: https://pandas.pydata.org/pandas-docs/stable/user_guide/indexing.html#returning-a-view-versus-a-copy\n",
      "  article.relation_validation_data[\"valid\"] = 1\n",
      "/home/ubuntu/.local/lib/python3.6/site-packages/pandas/core/indexing.py:1765: SettingWithCopyWarning: \n",
      "A value is trying to be set on a copy of a slice from a DataFrame.\n",
      "Try using .loc[row_indexer,col_indexer] = value instead\n",
      "\n",
      "See the caveats in the documentation: https://pandas.pydata.org/pandas-docs/stable/user_guide/indexing.html#returning-a-view-versus-a-copy\n",
      "  isetter(loc, value)\n"
     ]
    },
    {
     "name": "stdout",
     "output_type": "stream",
     "text": [
      "Text took: 20.83197569847107 Num S / Coref: 36 / 36\n",
      "Current Article255\n"
     ]
    },
    {
     "name": "stderr",
     "output_type": "stream",
     "text": [
      "/mnt/efs/fs1/CSS_Termpaper/EntityNetwork/entitynetwork/relation_extraction/relation_extraction.py:60: RuntimeWarning: Mean of empty slice\n",
      "  sentiment = np.nanmean(prod)\n",
      "/mnt/efs/fs1/CSS_Termpaper/EntityNetwork/entitynetwork/validation_tool/relation_validation.py:36: SettingWithCopyWarning: \n",
      "A value is trying to be set on a copy of a slice from a DataFrame.\n",
      "Try using .loc[row_indexer,col_indexer] = value instead\n",
      "\n",
      "See the caveats in the documentation: https://pandas.pydata.org/pandas-docs/stable/user_guide/indexing.html#returning-a-view-versus-a-copy\n",
      "  article.relation_validation_data[\"valid\"] = 1\n",
      "/home/ubuntu/.local/lib/python3.6/site-packages/pandas/core/indexing.py:1765: SettingWithCopyWarning: \n",
      "A value is trying to be set on a copy of a slice from a DataFrame.\n",
      "Try using .loc[row_indexer,col_indexer] = value instead\n",
      "\n",
      "See the caveats in the documentation: https://pandas.pydata.org/pandas-docs/stable/user_guide/indexing.html#returning-a-view-versus-a-copy\n",
      "  isetter(loc, value)\n"
     ]
    },
    {
     "name": "stdout",
     "output_type": "stream",
     "text": [
      "Text took: 12.974245071411133 Num S / Coref: 21 / 21\n",
      "Current Article256\n"
     ]
    },
    {
     "name": "stderr",
     "output_type": "stream",
     "text": [
      "/mnt/efs/fs1/CSS_Termpaper/EntityNetwork/entitynetwork/relation_extraction/relation_extraction.py:60: RuntimeWarning: Mean of empty slice\n",
      "  sentiment = np.nanmean(prod)\n",
      "/mnt/efs/fs1/CSS_Termpaper/EntityNetwork/entitynetwork/validation_tool/relation_validation.py:36: SettingWithCopyWarning: \n",
      "A value is trying to be set on a copy of a slice from a DataFrame.\n",
      "Try using .loc[row_indexer,col_indexer] = value instead\n",
      "\n",
      "See the caveats in the documentation: https://pandas.pydata.org/pandas-docs/stable/user_guide/indexing.html#returning-a-view-versus-a-copy\n",
      "  article.relation_validation_data[\"valid\"] = 1\n",
      "/home/ubuntu/.local/lib/python3.6/site-packages/pandas/core/indexing.py:1765: SettingWithCopyWarning: \n",
      "A value is trying to be set on a copy of a slice from a DataFrame.\n",
      "Try using .loc[row_indexer,col_indexer] = value instead\n",
      "\n",
      "See the caveats in the documentation: https://pandas.pydata.org/pandas-docs/stable/user_guide/indexing.html#returning-a-view-versus-a-copy\n",
      "  isetter(loc, value)\n"
     ]
    },
    {
     "name": "stdout",
     "output_type": "stream",
     "text": [
      "Text took: 13.38727355003357 Num S / Coref: 18 / 18\n",
      "Current Article257\n"
     ]
    },
    {
     "name": "stderr",
     "output_type": "stream",
     "text": [
      "/mnt/efs/fs1/CSS_Termpaper/EntityNetwork/entitynetwork/relation_extraction/relation_extraction.py:60: RuntimeWarning: Mean of empty slice\n",
      "  sentiment = np.nanmean(prod)\n",
      "/mnt/efs/fs1/CSS_Termpaper/EntityNetwork/entitynetwork/validation_tool/relation_validation.py:36: SettingWithCopyWarning: \n",
      "A value is trying to be set on a copy of a slice from a DataFrame.\n",
      "Try using .loc[row_indexer,col_indexer] = value instead\n",
      "\n",
      "See the caveats in the documentation: https://pandas.pydata.org/pandas-docs/stable/user_guide/indexing.html#returning-a-view-versus-a-copy\n",
      "  article.relation_validation_data[\"valid\"] = 1\n",
      "/home/ubuntu/.local/lib/python3.6/site-packages/pandas/core/indexing.py:1765: SettingWithCopyWarning: \n",
      "A value is trying to be set on a copy of a slice from a DataFrame.\n",
      "Try using .loc[row_indexer,col_indexer] = value instead\n",
      "\n",
      "See the caveats in the documentation: https://pandas.pydata.org/pandas-docs/stable/user_guide/indexing.html#returning-a-view-versus-a-copy\n",
      "  isetter(loc, value)\n"
     ]
    },
    {
     "name": "stdout",
     "output_type": "stream",
     "text": [
      "Text took: 4.849276065826416 Num S / Coref: 8 / 8\n",
      "Current Article258\n"
     ]
    },
    {
     "name": "stderr",
     "output_type": "stream",
     "text": [
      "/mnt/efs/fs1/CSS_Termpaper/EntityNetwork/entitynetwork/relation_extraction/relation_extraction.py:60: RuntimeWarning: Mean of empty slice\n",
      "  sentiment = np.nanmean(prod)\n",
      "/mnt/efs/fs1/CSS_Termpaper/EntityNetwork/entitynetwork/validation_tool/relation_validation.py:36: SettingWithCopyWarning: \n",
      "A value is trying to be set on a copy of a slice from a DataFrame.\n",
      "Try using .loc[row_indexer,col_indexer] = value instead\n",
      "\n",
      "See the caveats in the documentation: https://pandas.pydata.org/pandas-docs/stable/user_guide/indexing.html#returning-a-view-versus-a-copy\n",
      "  article.relation_validation_data[\"valid\"] = 1\n",
      "/home/ubuntu/.local/lib/python3.6/site-packages/pandas/core/indexing.py:1765: SettingWithCopyWarning: \n",
      "A value is trying to be set on a copy of a slice from a DataFrame.\n",
      "Try using .loc[row_indexer,col_indexer] = value instead\n",
      "\n",
      "See the caveats in the documentation: https://pandas.pydata.org/pandas-docs/stable/user_guide/indexing.html#returning-a-view-versus-a-copy\n",
      "  isetter(loc, value)\n"
     ]
    },
    {
     "name": "stdout",
     "output_type": "stream",
     "text": [
      "Text took: 11.861572265625 Num S / Coref: 18 / 18\n",
      "Current Article259\n"
     ]
    },
    {
     "name": "stderr",
     "output_type": "stream",
     "text": [
      "/mnt/efs/fs1/CSS_Termpaper/EntityNetwork/entitynetwork/relation_extraction/relation_extraction.py:60: RuntimeWarning: Mean of empty slice\n",
      "  sentiment = np.nanmean(prod)\n",
      "/mnt/efs/fs1/CSS_Termpaper/EntityNetwork/entitynetwork/validation_tool/relation_validation.py:36: SettingWithCopyWarning: \n",
      "A value is trying to be set on a copy of a slice from a DataFrame.\n",
      "Try using .loc[row_indexer,col_indexer] = value instead\n",
      "\n",
      "See the caveats in the documentation: https://pandas.pydata.org/pandas-docs/stable/user_guide/indexing.html#returning-a-view-versus-a-copy\n",
      "  article.relation_validation_data[\"valid\"] = 1\n",
      "/home/ubuntu/.local/lib/python3.6/site-packages/pandas/core/indexing.py:1765: SettingWithCopyWarning: \n",
      "A value is trying to be set on a copy of a slice from a DataFrame.\n",
      "Try using .loc[row_indexer,col_indexer] = value instead\n",
      "\n",
      "See the caveats in the documentation: https://pandas.pydata.org/pandas-docs/stable/user_guide/indexing.html#returning-a-view-versus-a-copy\n",
      "  isetter(loc, value)\n"
     ]
    },
    {
     "name": "stdout",
     "output_type": "stream",
     "text": [
      "Text took: 4.825955867767334 Num S / Coref: 11 / 11\n",
      "Current Article260\n"
     ]
    },
    {
     "name": "stderr",
     "output_type": "stream",
     "text": [
      "/mnt/efs/fs1/CSS_Termpaper/EntityNetwork/entitynetwork/relation_extraction/relation_extraction.py:60: RuntimeWarning: Mean of empty slice\n",
      "  sentiment = np.nanmean(prod)\n",
      "/mnt/efs/fs1/CSS_Termpaper/EntityNetwork/entitynetwork/validation_tool/relation_validation.py:36: SettingWithCopyWarning: \n",
      "A value is trying to be set on a copy of a slice from a DataFrame.\n",
      "Try using .loc[row_indexer,col_indexer] = value instead\n",
      "\n",
      "See the caveats in the documentation: https://pandas.pydata.org/pandas-docs/stable/user_guide/indexing.html#returning-a-view-versus-a-copy\n",
      "  article.relation_validation_data[\"valid\"] = 1\n",
      "/home/ubuntu/.local/lib/python3.6/site-packages/pandas/core/indexing.py:1765: SettingWithCopyWarning: \n",
      "A value is trying to be set on a copy of a slice from a DataFrame.\n",
      "Try using .loc[row_indexer,col_indexer] = value instead\n",
      "\n",
      "See the caveats in the documentation: https://pandas.pydata.org/pandas-docs/stable/user_guide/indexing.html#returning-a-view-versus-a-copy\n",
      "  isetter(loc, value)\n"
     ]
    },
    {
     "name": "stdout",
     "output_type": "stream",
     "text": [
      "Text took: 9.832214832305908 Num S / Coref: 20 / 20\n",
      "Current Article261\n"
     ]
    },
    {
     "name": "stderr",
     "output_type": "stream",
     "text": [
      "/mnt/efs/fs1/CSS_Termpaper/EntityNetwork/entitynetwork/relation_extraction/relation_extraction.py:60: RuntimeWarning: Mean of empty slice\n",
      "  sentiment = np.nanmean(prod)\n",
      "/mnt/efs/fs1/CSS_Termpaper/EntityNetwork/entitynetwork/validation_tool/relation_validation.py:36: SettingWithCopyWarning: \n",
      "A value is trying to be set on a copy of a slice from a DataFrame.\n",
      "Try using .loc[row_indexer,col_indexer] = value instead\n",
      "\n",
      "See the caveats in the documentation: https://pandas.pydata.org/pandas-docs/stable/user_guide/indexing.html#returning-a-view-versus-a-copy\n",
      "  article.relation_validation_data[\"valid\"] = 1\n",
      "/home/ubuntu/.local/lib/python3.6/site-packages/pandas/core/indexing.py:1765: SettingWithCopyWarning: \n",
      "A value is trying to be set on a copy of a slice from a DataFrame.\n",
      "Try using .loc[row_indexer,col_indexer] = value instead\n",
      "\n",
      "See the caveats in the documentation: https://pandas.pydata.org/pandas-docs/stable/user_guide/indexing.html#returning-a-view-versus-a-copy\n",
      "  isetter(loc, value)\n"
     ]
    },
    {
     "name": "stdout",
     "output_type": "stream",
     "text": [
      "Text took: 5.626345872879028 Num S / Coref: 14 / 14\n",
      "Current Article262\n"
     ]
    },
    {
     "name": "stderr",
     "output_type": "stream",
     "text": [
      "/mnt/efs/fs1/CSS_Termpaper/EntityNetwork/entitynetwork/relation_extraction/relation_extraction.py:60: RuntimeWarning: Mean of empty slice\n",
      "  sentiment = np.nanmean(prod)\n",
      "/mnt/efs/fs1/CSS_Termpaper/EntityNetwork/entitynetwork/validation_tool/entity_validation.py:61: SettingWithCopyWarning: \n",
      "A value is trying to be set on a copy of a slice from a DataFrame\n",
      "\n",
      "See the caveats in the documentation: https://pandas.pydata.org/pandas-docs/stable/user_guide/indexing.html#returning-a-view-versus-a-copy\n",
      "  self.merged_data[\"synonyms\"][~self.merged_data[\"synonyms\"].str.contains(\"__\", na=False)] = np.NaN\n",
      "/mnt/efs/fs1/CSS_Termpaper/EntityNetwork/entitynetwork/validation_tool/relation_validation.py:36: SettingWithCopyWarning: \n",
      "A value is trying to be set on a copy of a slice from a DataFrame.\n",
      "Try using .loc[row_indexer,col_indexer] = value instead\n",
      "\n",
      "See the caveats in the documentation: https://pandas.pydata.org/pandas-docs/stable/user_guide/indexing.html#returning-a-view-versus-a-copy\n",
      "  article.relation_validation_data[\"valid\"] = 1\n",
      "/home/ubuntu/.local/lib/python3.6/site-packages/pandas/core/indexing.py:1765: SettingWithCopyWarning: \n",
      "A value is trying to be set on a copy of a slice from a DataFrame.\n",
      "Try using .loc[row_indexer,col_indexer] = value instead\n",
      "\n",
      "See the caveats in the documentation: https://pandas.pydata.org/pandas-docs/stable/user_guide/indexing.html#returning-a-view-versus-a-copy\n",
      "  isetter(loc, value)\n"
     ]
    },
    {
     "name": "stdout",
     "output_type": "stream",
     "text": [
      "Text took: 5.497136354446411 Num S / Coref: 11 / 11\n",
      "Current Article263\n"
     ]
    },
    {
     "name": "stderr",
     "output_type": "stream",
     "text": [
      "/mnt/efs/fs1/CSS_Termpaper/EntityNetwork/entitynetwork/relation_extraction/relation_extraction.py:60: RuntimeWarning: Mean of empty slice\n",
      "  sentiment = np.nanmean(prod)\n",
      "/mnt/efs/fs1/CSS_Termpaper/EntityNetwork/entitynetwork/validation_tool/relation_validation.py:36: SettingWithCopyWarning: \n",
      "A value is trying to be set on a copy of a slice from a DataFrame.\n",
      "Try using .loc[row_indexer,col_indexer] = value instead\n",
      "\n",
      "See the caveats in the documentation: https://pandas.pydata.org/pandas-docs/stable/user_guide/indexing.html#returning-a-view-versus-a-copy\n",
      "  article.relation_validation_data[\"valid\"] = 1\n",
      "/home/ubuntu/.local/lib/python3.6/site-packages/pandas/core/indexing.py:1765: SettingWithCopyWarning: \n",
      "A value is trying to be set on a copy of a slice from a DataFrame.\n",
      "Try using .loc[row_indexer,col_indexer] = value instead\n",
      "\n",
      "See the caveats in the documentation: https://pandas.pydata.org/pandas-docs/stable/user_guide/indexing.html#returning-a-view-versus-a-copy\n",
      "  isetter(loc, value)\n"
     ]
    },
    {
     "name": "stdout",
     "output_type": "stream",
     "text": [
      "Text took: 11.763675212860107 Num S / Coref: 20 / 20\n",
      "Current Article264\n"
     ]
    },
    {
     "name": "stderr",
     "output_type": "stream",
     "text": [
      "/mnt/efs/fs1/CSS_Termpaper/EntityNetwork/entitynetwork/relation_extraction/relation_extraction.py:60: RuntimeWarning: Mean of empty slice\n",
      "  sentiment = np.nanmean(prod)\n",
      "/mnt/efs/fs1/CSS_Termpaper/EntityNetwork/entitynetwork/validation_tool/relation_validation.py:36: SettingWithCopyWarning: \n",
      "A value is trying to be set on a copy of a slice from a DataFrame.\n",
      "Try using .loc[row_indexer,col_indexer] = value instead\n",
      "\n",
      "See the caveats in the documentation: https://pandas.pydata.org/pandas-docs/stable/user_guide/indexing.html#returning-a-view-versus-a-copy\n",
      "  article.relation_validation_data[\"valid\"] = 1\n",
      "/home/ubuntu/.local/lib/python3.6/site-packages/pandas/core/indexing.py:1765: SettingWithCopyWarning: \n",
      "A value is trying to be set on a copy of a slice from a DataFrame.\n",
      "Try using .loc[row_indexer,col_indexer] = value instead\n",
      "\n",
      "See the caveats in the documentation: https://pandas.pydata.org/pandas-docs/stable/user_guide/indexing.html#returning-a-view-versus-a-copy\n",
      "  isetter(loc, value)\n"
     ]
    },
    {
     "name": "stdout",
     "output_type": "stream",
     "text": [
      "Text took: 13.762852191925049 Num S / Coref: 23 / 23\n",
      "Current Article265\n"
     ]
    },
    {
     "name": "stderr",
     "output_type": "stream",
     "text": [
      "/mnt/efs/fs1/CSS_Termpaper/EntityNetwork/entitynetwork/relation_extraction/relation_extraction.py:60: RuntimeWarning: Mean of empty slice\n",
      "  sentiment = np.nanmean(prod)\n",
      "/mnt/efs/fs1/CSS_Termpaper/EntityNetwork/entitynetwork/validation_tool/relation_validation.py:36: SettingWithCopyWarning: \n",
      "A value is trying to be set on a copy of a slice from a DataFrame.\n",
      "Try using .loc[row_indexer,col_indexer] = value instead\n",
      "\n",
      "See the caveats in the documentation: https://pandas.pydata.org/pandas-docs/stable/user_guide/indexing.html#returning-a-view-versus-a-copy\n",
      "  article.relation_validation_data[\"valid\"] = 1\n",
      "/home/ubuntu/.local/lib/python3.6/site-packages/pandas/core/indexing.py:1765: SettingWithCopyWarning: \n",
      "A value is trying to be set on a copy of a slice from a DataFrame.\n",
      "Try using .loc[row_indexer,col_indexer] = value instead\n",
      "\n",
      "See the caveats in the documentation: https://pandas.pydata.org/pandas-docs/stable/user_guide/indexing.html#returning-a-view-versus-a-copy\n",
      "  isetter(loc, value)\n"
     ]
    },
    {
     "name": "stdout",
     "output_type": "stream",
     "text": [
      "Text took: 4.601018905639648 Num S / Coref: 9 / 9\n",
      "Current Article266\n"
     ]
    },
    {
     "name": "stderr",
     "output_type": "stream",
     "text": [
      "/mnt/efs/fs1/CSS_Termpaper/EntityNetwork/entitynetwork/relation_extraction/relation_extraction.py:60: RuntimeWarning: Mean of empty slice\n",
      "  sentiment = np.nanmean(prod)\n",
      "/mnt/efs/fs1/CSS_Termpaper/EntityNetwork/entitynetwork/validation_tool/relation_validation.py:36: SettingWithCopyWarning: \n",
      "A value is trying to be set on a copy of a slice from a DataFrame.\n",
      "Try using .loc[row_indexer,col_indexer] = value instead\n",
      "\n",
      "See the caveats in the documentation: https://pandas.pydata.org/pandas-docs/stable/user_guide/indexing.html#returning-a-view-versus-a-copy\n",
      "  article.relation_validation_data[\"valid\"] = 1\n",
      "/home/ubuntu/.local/lib/python3.6/site-packages/pandas/core/indexing.py:1765: SettingWithCopyWarning: \n",
      "A value is trying to be set on a copy of a slice from a DataFrame.\n",
      "Try using .loc[row_indexer,col_indexer] = value instead\n",
      "\n",
      "See the caveats in the documentation: https://pandas.pydata.org/pandas-docs/stable/user_guide/indexing.html#returning-a-view-versus-a-copy\n",
      "  isetter(loc, value)\n"
     ]
    },
    {
     "name": "stdout",
     "output_type": "stream",
     "text": [
      "Text took: 12.864907264709473 Num S / Coref: 17 / 17\n",
      "Current Article267\n"
     ]
    },
    {
     "name": "stderr",
     "output_type": "stream",
     "text": [
      "/mnt/efs/fs1/CSS_Termpaper/EntityNetwork/entitynetwork/relation_extraction/relation_extraction.py:60: RuntimeWarning: Mean of empty slice\n",
      "  sentiment = np.nanmean(prod)\n",
      "/mnt/efs/fs1/CSS_Termpaper/EntityNetwork/entitynetwork/validation_tool/entity_validation.py:61: SettingWithCopyWarning: \n",
      "A value is trying to be set on a copy of a slice from a DataFrame\n",
      "\n",
      "See the caveats in the documentation: https://pandas.pydata.org/pandas-docs/stable/user_guide/indexing.html#returning-a-view-versus-a-copy\n",
      "  self.merged_data[\"synonyms\"][~self.merged_data[\"synonyms\"].str.contains(\"__\", na=False)] = np.NaN\n",
      "/mnt/efs/fs1/CSS_Termpaper/EntityNetwork/entitynetwork/validation_tool/relation_validation.py:36: SettingWithCopyWarning: \n",
      "A value is trying to be set on a copy of a slice from a DataFrame.\n",
      "Try using .loc[row_indexer,col_indexer] = value instead\n",
      "\n",
      "See the caveats in the documentation: https://pandas.pydata.org/pandas-docs/stable/user_guide/indexing.html#returning-a-view-versus-a-copy\n",
      "  article.relation_validation_data[\"valid\"] = 1\n",
      "/home/ubuntu/.local/lib/python3.6/site-packages/pandas/core/indexing.py:1765: SettingWithCopyWarning: \n",
      "A value is trying to be set on a copy of a slice from a DataFrame.\n",
      "Try using .loc[row_indexer,col_indexer] = value instead\n",
      "\n",
      "See the caveats in the documentation: https://pandas.pydata.org/pandas-docs/stable/user_guide/indexing.html#returning-a-view-versus-a-copy\n",
      "  isetter(loc, value)\n"
     ]
    },
    {
     "name": "stdout",
     "output_type": "stream",
     "text": [
      "Text took: 6.507418394088745 Num S / Coref: 19 / 19\n",
      "Current Article268\n"
     ]
    },
    {
     "name": "stderr",
     "output_type": "stream",
     "text": [
      "/mnt/efs/fs1/CSS_Termpaper/EntityNetwork/entitynetwork/relation_extraction/relation_extraction.py:60: RuntimeWarning: Mean of empty slice\n",
      "  sentiment = np.nanmean(prod)\n",
      "/mnt/efs/fs1/CSS_Termpaper/EntityNetwork/entitynetwork/validation_tool/relation_validation.py:36: SettingWithCopyWarning: \n",
      "A value is trying to be set on a copy of a slice from a DataFrame.\n",
      "Try using .loc[row_indexer,col_indexer] = value instead\n",
      "\n",
      "See the caveats in the documentation: https://pandas.pydata.org/pandas-docs/stable/user_guide/indexing.html#returning-a-view-versus-a-copy\n",
      "  article.relation_validation_data[\"valid\"] = 1\n",
      "/home/ubuntu/.local/lib/python3.6/site-packages/pandas/core/indexing.py:1765: SettingWithCopyWarning: \n",
      "A value is trying to be set on a copy of a slice from a DataFrame.\n",
      "Try using .loc[row_indexer,col_indexer] = value instead\n",
      "\n",
      "See the caveats in the documentation: https://pandas.pydata.org/pandas-docs/stable/user_guide/indexing.html#returning-a-view-versus-a-copy\n",
      "  isetter(loc, value)\n"
     ]
    },
    {
     "name": "stdout",
     "output_type": "stream",
     "text": [
      "Text took: 12.828373193740845 Num S / Coref: 21 / 21\n",
      "Current Article269\n"
     ]
    },
    {
     "name": "stderr",
     "output_type": "stream",
     "text": [
      "/mnt/efs/fs1/CSS_Termpaper/EntityNetwork/entitynetwork/relation_extraction/relation_extraction.py:60: RuntimeWarning: Mean of empty slice\n",
      "  sentiment = np.nanmean(prod)\n",
      "/mnt/efs/fs1/CSS_Termpaper/EntityNetwork/entitynetwork/validation_tool/relation_validation.py:36: SettingWithCopyWarning: \n",
      "A value is trying to be set on a copy of a slice from a DataFrame.\n",
      "Try using .loc[row_indexer,col_indexer] = value instead\n",
      "\n",
      "See the caveats in the documentation: https://pandas.pydata.org/pandas-docs/stable/user_guide/indexing.html#returning-a-view-versus-a-copy\n",
      "  article.relation_validation_data[\"valid\"] = 1\n",
      "/home/ubuntu/.local/lib/python3.6/site-packages/pandas/core/indexing.py:1765: SettingWithCopyWarning: \n",
      "A value is trying to be set on a copy of a slice from a DataFrame.\n",
      "Try using .loc[row_indexer,col_indexer] = value instead\n",
      "\n",
      "See the caveats in the documentation: https://pandas.pydata.org/pandas-docs/stable/user_guide/indexing.html#returning-a-view-versus-a-copy\n",
      "  isetter(loc, value)\n"
     ]
    },
    {
     "name": "stdout",
     "output_type": "stream",
     "text": [
      "Text took: 4.880834102630615 Num S / Coref: 13 / 13\n",
      "Current Article270\n"
     ]
    },
    {
     "name": "stderr",
     "output_type": "stream",
     "text": [
      "/mnt/efs/fs1/CSS_Termpaper/EntityNetwork/entitynetwork/relation_extraction/relation_extraction.py:60: RuntimeWarning: Mean of empty slice\n",
      "  sentiment = np.nanmean(prod)\n",
      "/mnt/efs/fs1/CSS_Termpaper/EntityNetwork/entitynetwork/validation_tool/relation_validation.py:36: SettingWithCopyWarning: \n",
      "A value is trying to be set on a copy of a slice from a DataFrame.\n",
      "Try using .loc[row_indexer,col_indexer] = value instead\n",
      "\n",
      "See the caveats in the documentation: https://pandas.pydata.org/pandas-docs/stable/user_guide/indexing.html#returning-a-view-versus-a-copy\n",
      "  article.relation_validation_data[\"valid\"] = 1\n",
      "/home/ubuntu/.local/lib/python3.6/site-packages/pandas/core/indexing.py:1765: SettingWithCopyWarning: \n",
      "A value is trying to be set on a copy of a slice from a DataFrame.\n",
      "Try using .loc[row_indexer,col_indexer] = value instead\n",
      "\n",
      "See the caveats in the documentation: https://pandas.pydata.org/pandas-docs/stable/user_guide/indexing.html#returning-a-view-versus-a-copy\n",
      "  isetter(loc, value)\n"
     ]
    },
    {
     "name": "stdout",
     "output_type": "stream",
     "text": [
      "Text took: 2.8789565563201904 Num S / Coref: 8 / 8\n",
      "Current Article271\n"
     ]
    },
    {
     "name": "stderr",
     "output_type": "stream",
     "text": [
      "/mnt/efs/fs1/CSS_Termpaper/EntityNetwork/entitynetwork/relation_extraction/relation_extraction.py:60: RuntimeWarning: Mean of empty slice\n",
      "  sentiment = np.nanmean(prod)\n",
      "/mnt/efs/fs1/CSS_Termpaper/EntityNetwork/entitynetwork/validation_tool/relation_validation.py:36: SettingWithCopyWarning: \n",
      "A value is trying to be set on a copy of a slice from a DataFrame.\n",
      "Try using .loc[row_indexer,col_indexer] = value instead\n",
      "\n",
      "See the caveats in the documentation: https://pandas.pydata.org/pandas-docs/stable/user_guide/indexing.html#returning-a-view-versus-a-copy\n",
      "  article.relation_validation_data[\"valid\"] = 1\n",
      "/home/ubuntu/.local/lib/python3.6/site-packages/pandas/core/indexing.py:1765: SettingWithCopyWarning: \n",
      "A value is trying to be set on a copy of a slice from a DataFrame.\n",
      "Try using .loc[row_indexer,col_indexer] = value instead\n",
      "\n",
      "See the caveats in the documentation: https://pandas.pydata.org/pandas-docs/stable/user_guide/indexing.html#returning-a-view-versus-a-copy\n",
      "  isetter(loc, value)\n"
     ]
    },
    {
     "name": "stdout",
     "output_type": "stream",
     "text": [
      "Text took: 6.312278747558594 Num S / Coref: 9 / 9\n",
      "Current Article272\n"
     ]
    },
    {
     "name": "stderr",
     "output_type": "stream",
     "text": [
      "/mnt/efs/fs1/CSS_Termpaper/EntityNetwork/entitynetwork/relation_extraction/relation_extraction.py:60: RuntimeWarning: Mean of empty slice\n",
      "  sentiment = np.nanmean(prod)\n",
      "/mnt/efs/fs1/CSS_Termpaper/EntityNetwork/entitynetwork/validation_tool/relation_validation.py:36: SettingWithCopyWarning: \n",
      "A value is trying to be set on a copy of a slice from a DataFrame.\n",
      "Try using .loc[row_indexer,col_indexer] = value instead\n",
      "\n",
      "See the caveats in the documentation: https://pandas.pydata.org/pandas-docs/stable/user_guide/indexing.html#returning-a-view-versus-a-copy\n",
      "  article.relation_validation_data[\"valid\"] = 1\n",
      "/home/ubuntu/.local/lib/python3.6/site-packages/pandas/core/indexing.py:1765: SettingWithCopyWarning: \n",
      "A value is trying to be set on a copy of a slice from a DataFrame.\n",
      "Try using .loc[row_indexer,col_indexer] = value instead\n",
      "\n",
      "See the caveats in the documentation: https://pandas.pydata.org/pandas-docs/stable/user_guide/indexing.html#returning-a-view-versus-a-copy\n",
      "  isetter(loc, value)\n"
     ]
    },
    {
     "name": "stdout",
     "output_type": "stream",
     "text": [
      "Text took: 4.779394626617432 Num S / Coref: 10 / 10\n",
      "Current Article273\n"
     ]
    },
    {
     "name": "stderr",
     "output_type": "stream",
     "text": [
      "/mnt/efs/fs1/CSS_Termpaper/EntityNetwork/entitynetwork/relation_extraction/relation_extraction.py:60: RuntimeWarning: Mean of empty slice\n",
      "  sentiment = np.nanmean(prod)\n",
      "/mnt/efs/fs1/CSS_Termpaper/EntityNetwork/entitynetwork/validation_tool/entity_validation.py:61: SettingWithCopyWarning: \n",
      "A value is trying to be set on a copy of a slice from a DataFrame\n",
      "\n",
      "See the caveats in the documentation: https://pandas.pydata.org/pandas-docs/stable/user_guide/indexing.html#returning-a-view-versus-a-copy\n",
      "  self.merged_data[\"synonyms\"][~self.merged_data[\"synonyms\"].str.contains(\"__\", na=False)] = np.NaN\n",
      "/mnt/efs/fs1/CSS_Termpaper/EntityNetwork/entitynetwork/validation_tool/relation_validation.py:36: SettingWithCopyWarning: \n",
      "A value is trying to be set on a copy of a slice from a DataFrame.\n",
      "Try using .loc[row_indexer,col_indexer] = value instead\n",
      "\n",
      "See the caveats in the documentation: https://pandas.pydata.org/pandas-docs/stable/user_guide/indexing.html#returning-a-view-versus-a-copy\n",
      "  article.relation_validation_data[\"valid\"] = 1\n",
      "/home/ubuntu/.local/lib/python3.6/site-packages/pandas/core/indexing.py:1765: SettingWithCopyWarning: \n",
      "A value is trying to be set on a copy of a slice from a DataFrame.\n",
      "Try using .loc[row_indexer,col_indexer] = value instead\n",
      "\n",
      "See the caveats in the documentation: https://pandas.pydata.org/pandas-docs/stable/user_guide/indexing.html#returning-a-view-versus-a-copy\n",
      "  isetter(loc, value)\n"
     ]
    },
    {
     "name": "stdout",
     "output_type": "stream",
     "text": [
      "Text took: 4.012668132781982 Num S / Coref: 8 / 8\n",
      "Current Article274\n"
     ]
    },
    {
     "name": "stderr",
     "output_type": "stream",
     "text": [
      "/mnt/efs/fs1/CSS_Termpaper/EntityNetwork/entitynetwork/relation_extraction/relation_extraction.py:60: RuntimeWarning: Mean of empty slice\n",
      "  sentiment = np.nanmean(prod)\n",
      "/mnt/efs/fs1/CSS_Termpaper/EntityNetwork/entitynetwork/validation_tool/relation_validation.py:36: SettingWithCopyWarning: \n",
      "A value is trying to be set on a copy of a slice from a DataFrame.\n",
      "Try using .loc[row_indexer,col_indexer] = value instead\n",
      "\n",
      "See the caveats in the documentation: https://pandas.pydata.org/pandas-docs/stable/user_guide/indexing.html#returning-a-view-versus-a-copy\n",
      "  article.relation_validation_data[\"valid\"] = 1\n",
      "/home/ubuntu/.local/lib/python3.6/site-packages/pandas/core/indexing.py:1765: SettingWithCopyWarning: \n",
      "A value is trying to be set on a copy of a slice from a DataFrame.\n",
      "Try using .loc[row_indexer,col_indexer] = value instead\n",
      "\n",
      "See the caveats in the documentation: https://pandas.pydata.org/pandas-docs/stable/user_guide/indexing.html#returning-a-view-versus-a-copy\n",
      "  isetter(loc, value)\n"
     ]
    },
    {
     "name": "stdout",
     "output_type": "stream",
     "text": [
      "Text took: 4.7711873054504395 Num S / Coref: 13 / 13\n",
      "Current Article275\n"
     ]
    },
    {
     "name": "stderr",
     "output_type": "stream",
     "text": [
      "/mnt/efs/fs1/CSS_Termpaper/EntityNetwork/entitynetwork/relation_extraction/relation_extraction.py:60: RuntimeWarning: Mean of empty slice\n",
      "  sentiment = np.nanmean(prod)\n",
      "/mnt/efs/fs1/CSS_Termpaper/EntityNetwork/entitynetwork/validation_tool/relation_validation.py:36: SettingWithCopyWarning: \n",
      "A value is trying to be set on a copy of a slice from a DataFrame.\n",
      "Try using .loc[row_indexer,col_indexer] = value instead\n",
      "\n",
      "See the caveats in the documentation: https://pandas.pydata.org/pandas-docs/stable/user_guide/indexing.html#returning-a-view-versus-a-copy\n",
      "  article.relation_validation_data[\"valid\"] = 1\n",
      "/home/ubuntu/.local/lib/python3.6/site-packages/pandas/core/indexing.py:1765: SettingWithCopyWarning: \n",
      "A value is trying to be set on a copy of a slice from a DataFrame.\n",
      "Try using .loc[row_indexer,col_indexer] = value instead\n",
      "\n",
      "See the caveats in the documentation: https://pandas.pydata.org/pandas-docs/stable/user_guide/indexing.html#returning-a-view-versus-a-copy\n",
      "  isetter(loc, value)\n"
     ]
    },
    {
     "name": "stdout",
     "output_type": "stream",
     "text": [
      "Text took: 6.6000401973724365 Num S / Coref: 14 / 14\n",
      "Current Article276\n"
     ]
    },
    {
     "name": "stderr",
     "output_type": "stream",
     "text": [
      "/mnt/efs/fs1/CSS_Termpaper/EntityNetwork/entitynetwork/relation_extraction/relation_extraction.py:60: RuntimeWarning: Mean of empty slice\n",
      "  sentiment = np.nanmean(prod)\n",
      "/mnt/efs/fs1/CSS_Termpaper/EntityNetwork/entitynetwork/validation_tool/relation_validation.py:36: SettingWithCopyWarning: \n",
      "A value is trying to be set on a copy of a slice from a DataFrame.\n",
      "Try using .loc[row_indexer,col_indexer] = value instead\n",
      "\n",
      "See the caveats in the documentation: https://pandas.pydata.org/pandas-docs/stable/user_guide/indexing.html#returning-a-view-versus-a-copy\n",
      "  article.relation_validation_data[\"valid\"] = 1\n",
      "/home/ubuntu/.local/lib/python3.6/site-packages/pandas/core/indexing.py:1765: SettingWithCopyWarning: \n",
      "A value is trying to be set on a copy of a slice from a DataFrame.\n",
      "Try using .loc[row_indexer,col_indexer] = value instead\n",
      "\n",
      "See the caveats in the documentation: https://pandas.pydata.org/pandas-docs/stable/user_guide/indexing.html#returning-a-view-versus-a-copy\n",
      "  isetter(loc, value)\n"
     ]
    },
    {
     "name": "stdout",
     "output_type": "stream",
     "text": [
      "Text took: 9.757137298583984 Num S / Coref: 13 / 13\n",
      "Current Article277\n"
     ]
    },
    {
     "name": "stderr",
     "output_type": "stream",
     "text": [
      "/mnt/efs/fs1/CSS_Termpaper/EntityNetwork/entitynetwork/relation_extraction/relation_extraction.py:60: RuntimeWarning: Mean of empty slice\n",
      "  sentiment = np.nanmean(prod)\n",
      "/mnt/efs/fs1/CSS_Termpaper/EntityNetwork/entitynetwork/validation_tool/relation_validation.py:36: SettingWithCopyWarning: \n",
      "A value is trying to be set on a copy of a slice from a DataFrame.\n",
      "Try using .loc[row_indexer,col_indexer] = value instead\n",
      "\n",
      "See the caveats in the documentation: https://pandas.pydata.org/pandas-docs/stable/user_guide/indexing.html#returning-a-view-versus-a-copy\n",
      "  article.relation_validation_data[\"valid\"] = 1\n",
      "/home/ubuntu/.local/lib/python3.6/site-packages/pandas/core/indexing.py:1765: SettingWithCopyWarning: \n",
      "A value is trying to be set on a copy of a slice from a DataFrame.\n",
      "Try using .loc[row_indexer,col_indexer] = value instead\n",
      "\n",
      "See the caveats in the documentation: https://pandas.pydata.org/pandas-docs/stable/user_guide/indexing.html#returning-a-view-versus-a-copy\n",
      "  isetter(loc, value)\n"
     ]
    },
    {
     "name": "stdout",
     "output_type": "stream",
     "text": [
      "Text took: 11.13909363746643 Num S / Coref: 20 / 20\n",
      "Current Article278\n"
     ]
    },
    {
     "name": "stderr",
     "output_type": "stream",
     "text": [
      "/mnt/efs/fs1/CSS_Termpaper/EntityNetwork/entitynetwork/relation_extraction/relation_extraction.py:60: RuntimeWarning: Mean of empty slice\n",
      "  sentiment = np.nanmean(prod)\n",
      "/mnt/efs/fs1/CSS_Termpaper/EntityNetwork/entitynetwork/validation_tool/relation_validation.py:36: SettingWithCopyWarning: \n",
      "A value is trying to be set on a copy of a slice from a DataFrame.\n",
      "Try using .loc[row_indexer,col_indexer] = value instead\n",
      "\n",
      "See the caveats in the documentation: https://pandas.pydata.org/pandas-docs/stable/user_guide/indexing.html#returning-a-view-versus-a-copy\n",
      "  article.relation_validation_data[\"valid\"] = 1\n",
      "/home/ubuntu/.local/lib/python3.6/site-packages/pandas/core/indexing.py:1765: SettingWithCopyWarning: \n",
      "A value is trying to be set on a copy of a slice from a DataFrame.\n",
      "Try using .loc[row_indexer,col_indexer] = value instead\n",
      "\n",
      "See the caveats in the documentation: https://pandas.pydata.org/pandas-docs/stable/user_guide/indexing.html#returning-a-view-versus-a-copy\n",
      "  isetter(loc, value)\n"
     ]
    },
    {
     "name": "stdout",
     "output_type": "stream",
     "text": [
      "Text took: 10.467902660369873 Num S / Coref: 25 / 25\n",
      "Current Article279\n"
     ]
    },
    {
     "name": "stderr",
     "output_type": "stream",
     "text": [
      "/mnt/efs/fs1/CSS_Termpaper/EntityNetwork/entitynetwork/relation_extraction/relation_extraction.py:60: RuntimeWarning: Mean of empty slice\n",
      "  sentiment = np.nanmean(prod)\n",
      "/mnt/efs/fs1/CSS_Termpaper/EntityNetwork/entitynetwork/validation_tool/relation_validation.py:36: SettingWithCopyWarning: \n",
      "A value is trying to be set on a copy of a slice from a DataFrame.\n",
      "Try using .loc[row_indexer,col_indexer] = value instead\n",
      "\n",
      "See the caveats in the documentation: https://pandas.pydata.org/pandas-docs/stable/user_guide/indexing.html#returning-a-view-versus-a-copy\n",
      "  article.relation_validation_data[\"valid\"] = 1\n",
      "/home/ubuntu/.local/lib/python3.6/site-packages/pandas/core/indexing.py:1765: SettingWithCopyWarning: \n",
      "A value is trying to be set on a copy of a slice from a DataFrame.\n",
      "Try using .loc[row_indexer,col_indexer] = value instead\n",
      "\n",
      "See the caveats in the documentation: https://pandas.pydata.org/pandas-docs/stable/user_guide/indexing.html#returning-a-view-versus-a-copy\n",
      "  isetter(loc, value)\n"
     ]
    },
    {
     "name": "stdout",
     "output_type": "stream",
     "text": [
      "Text took: 4.705151796340942 Num S / Coref: 6 / 6\n",
      "Current Article280\n"
     ]
    },
    {
     "name": "stderr",
     "output_type": "stream",
     "text": [
      "/mnt/efs/fs1/CSS_Termpaper/EntityNetwork/entitynetwork/relation_extraction/relation_extraction.py:60: RuntimeWarning: Mean of empty slice\n",
      "  sentiment = np.nanmean(prod)\n",
      "/mnt/efs/fs1/CSS_Termpaper/EntityNetwork/entitynetwork/validation_tool/relation_validation.py:36: SettingWithCopyWarning: \n",
      "A value is trying to be set on a copy of a slice from a DataFrame.\n",
      "Try using .loc[row_indexer,col_indexer] = value instead\n",
      "\n",
      "See the caveats in the documentation: https://pandas.pydata.org/pandas-docs/stable/user_guide/indexing.html#returning-a-view-versus-a-copy\n",
      "  article.relation_validation_data[\"valid\"] = 1\n",
      "/home/ubuntu/.local/lib/python3.6/site-packages/pandas/core/indexing.py:1765: SettingWithCopyWarning: \n",
      "A value is trying to be set on a copy of a slice from a DataFrame.\n",
      "Try using .loc[row_indexer,col_indexer] = value instead\n",
      "\n",
      "See the caveats in the documentation: https://pandas.pydata.org/pandas-docs/stable/user_guide/indexing.html#returning-a-view-versus-a-copy\n",
      "  isetter(loc, value)\n"
     ]
    },
    {
     "name": "stdout",
     "output_type": "stream",
     "text": [
      "Text took: 7.469132661819458 Num S / Coref: 17 / 17\n",
      "Current Article281\n"
     ]
    },
    {
     "name": "stderr",
     "output_type": "stream",
     "text": [
      "/mnt/efs/fs1/CSS_Termpaper/EntityNetwork/entitynetwork/relation_extraction/relation_extraction.py:60: RuntimeWarning: Mean of empty slice\n",
      "  sentiment = np.nanmean(prod)\n",
      "/mnt/efs/fs1/CSS_Termpaper/EntityNetwork/entitynetwork/validation_tool/relation_validation.py:36: SettingWithCopyWarning: \n",
      "A value is trying to be set on a copy of a slice from a DataFrame.\n",
      "Try using .loc[row_indexer,col_indexer] = value instead\n",
      "\n",
      "See the caveats in the documentation: https://pandas.pydata.org/pandas-docs/stable/user_guide/indexing.html#returning-a-view-versus-a-copy\n",
      "  article.relation_validation_data[\"valid\"] = 1\n",
      "/home/ubuntu/.local/lib/python3.6/site-packages/pandas/core/indexing.py:1765: SettingWithCopyWarning: \n",
      "A value is trying to be set on a copy of a slice from a DataFrame.\n",
      "Try using .loc[row_indexer,col_indexer] = value instead\n",
      "\n",
      "See the caveats in the documentation: https://pandas.pydata.org/pandas-docs/stable/user_guide/indexing.html#returning-a-view-versus-a-copy\n",
      "  isetter(loc, value)\n"
     ]
    },
    {
     "name": "stdout",
     "output_type": "stream",
     "text": [
      "Text took: 4.803492784500122 Num S / Coref: 12 / 12\n",
      "Current Article282\n"
     ]
    },
    {
     "name": "stderr",
     "output_type": "stream",
     "text": [
      "/mnt/efs/fs1/CSS_Termpaper/EntityNetwork/entitynetwork/relation_extraction/relation_extraction.py:60: RuntimeWarning: Mean of empty slice\n",
      "  sentiment = np.nanmean(prod)\n",
      "/mnt/efs/fs1/CSS_Termpaper/EntityNetwork/entitynetwork/validation_tool/entity_validation.py:61: SettingWithCopyWarning: \n",
      "A value is trying to be set on a copy of a slice from a DataFrame\n",
      "\n",
      "See the caveats in the documentation: https://pandas.pydata.org/pandas-docs/stable/user_guide/indexing.html#returning-a-view-versus-a-copy\n",
      "  self.merged_data[\"synonyms\"][~self.merged_data[\"synonyms\"].str.contains(\"__\", na=False)] = np.NaN\n",
      "/mnt/efs/fs1/CSS_Termpaper/EntityNetwork/entitynetwork/validation_tool/relation_validation.py:36: SettingWithCopyWarning: \n",
      "A value is trying to be set on a copy of a slice from a DataFrame.\n",
      "Try using .loc[row_indexer,col_indexer] = value instead\n",
      "\n",
      "See the caveats in the documentation: https://pandas.pydata.org/pandas-docs/stable/user_guide/indexing.html#returning-a-view-versus-a-copy\n",
      "  article.relation_validation_data[\"valid\"] = 1\n",
      "/home/ubuntu/.local/lib/python3.6/site-packages/pandas/core/indexing.py:1765: SettingWithCopyWarning: \n",
      "A value is trying to be set on a copy of a slice from a DataFrame.\n",
      "Try using .loc[row_indexer,col_indexer] = value instead\n",
      "\n",
      "See the caveats in the documentation: https://pandas.pydata.org/pandas-docs/stable/user_guide/indexing.html#returning-a-view-versus-a-copy\n",
      "  isetter(loc, value)\n"
     ]
    },
    {
     "name": "stdout",
     "output_type": "stream",
     "text": [
      "Text took: 4.629124641418457 Num S / Coref: 9 / 9\n",
      "Current Article283\n"
     ]
    },
    {
     "name": "stderr",
     "output_type": "stream",
     "text": [
      "/mnt/efs/fs1/CSS_Termpaper/EntityNetwork/entitynetwork/relation_extraction/relation_extraction.py:60: RuntimeWarning: Mean of empty slice\n",
      "  sentiment = np.nanmean(prod)\n",
      "/mnt/efs/fs1/CSS_Termpaper/EntityNetwork/entitynetwork/validation_tool/relation_validation.py:36: SettingWithCopyWarning: \n",
      "A value is trying to be set on a copy of a slice from a DataFrame.\n",
      "Try using .loc[row_indexer,col_indexer] = value instead\n",
      "\n",
      "See the caveats in the documentation: https://pandas.pydata.org/pandas-docs/stable/user_guide/indexing.html#returning-a-view-versus-a-copy\n",
      "  article.relation_validation_data[\"valid\"] = 1\n",
      "/home/ubuntu/.local/lib/python3.6/site-packages/pandas/core/indexing.py:1765: SettingWithCopyWarning: \n",
      "A value is trying to be set on a copy of a slice from a DataFrame.\n",
      "Try using .loc[row_indexer,col_indexer] = value instead\n",
      "\n",
      "See the caveats in the documentation: https://pandas.pydata.org/pandas-docs/stable/user_guide/indexing.html#returning-a-view-versus-a-copy\n",
      "  isetter(loc, value)\n"
     ]
    },
    {
     "name": "stdout",
     "output_type": "stream",
     "text": [
      "Text took: 13.703611373901367 Num S / Coref: 26 / 26\n",
      "Current Article284\n"
     ]
    },
    {
     "name": "stderr",
     "output_type": "stream",
     "text": [
      "/mnt/efs/fs1/CSS_Termpaper/EntityNetwork/entitynetwork/relation_extraction/relation_extraction.py:60: RuntimeWarning: Mean of empty slice\n",
      "  sentiment = np.nanmean(prod)\n",
      "/mnt/efs/fs1/CSS_Termpaper/EntityNetwork/entitynetwork/validation_tool/relation_validation.py:36: SettingWithCopyWarning: \n",
      "A value is trying to be set on a copy of a slice from a DataFrame.\n",
      "Try using .loc[row_indexer,col_indexer] = value instead\n",
      "\n",
      "See the caveats in the documentation: https://pandas.pydata.org/pandas-docs/stable/user_guide/indexing.html#returning-a-view-versus-a-copy\n",
      "  article.relation_validation_data[\"valid\"] = 1\n",
      "/home/ubuntu/.local/lib/python3.6/site-packages/pandas/core/indexing.py:1765: SettingWithCopyWarning: \n",
      "A value is trying to be set on a copy of a slice from a DataFrame.\n",
      "Try using .loc[row_indexer,col_indexer] = value instead\n",
      "\n",
      "See the caveats in the documentation: https://pandas.pydata.org/pandas-docs/stable/user_guide/indexing.html#returning-a-view-versus-a-copy\n",
      "  isetter(loc, value)\n"
     ]
    },
    {
     "name": "stdout",
     "output_type": "stream",
     "text": [
      "Text took: 12.40346646308899 Num S / Coref: 20 / 20\n",
      "Current Article285\n"
     ]
    },
    {
     "name": "stderr",
     "output_type": "stream",
     "text": [
      "/mnt/efs/fs1/CSS_Termpaper/EntityNetwork/entitynetwork/relation_extraction/relation_extraction.py:60: RuntimeWarning: Mean of empty slice\n",
      "  sentiment = np.nanmean(prod)\n",
      "/mnt/efs/fs1/CSS_Termpaper/EntityNetwork/entitynetwork/validation_tool/relation_validation.py:36: SettingWithCopyWarning: \n",
      "A value is trying to be set on a copy of a slice from a DataFrame.\n",
      "Try using .loc[row_indexer,col_indexer] = value instead\n",
      "\n",
      "See the caveats in the documentation: https://pandas.pydata.org/pandas-docs/stable/user_guide/indexing.html#returning-a-view-versus-a-copy\n",
      "  article.relation_validation_data[\"valid\"] = 1\n",
      "/home/ubuntu/.local/lib/python3.6/site-packages/pandas/core/indexing.py:1765: SettingWithCopyWarning: \n",
      "A value is trying to be set on a copy of a slice from a DataFrame.\n",
      "Try using .loc[row_indexer,col_indexer] = value instead\n",
      "\n",
      "See the caveats in the documentation: https://pandas.pydata.org/pandas-docs/stable/user_guide/indexing.html#returning-a-view-versus-a-copy\n",
      "  isetter(loc, value)\n"
     ]
    },
    {
     "name": "stdout",
     "output_type": "stream",
     "text": [
      "Text took: 11.472244024276733 Num S / Coref: 18 / 18\n",
      "Current Article286\n"
     ]
    },
    {
     "name": "stderr",
     "output_type": "stream",
     "text": [
      "/mnt/efs/fs1/CSS_Termpaper/EntityNetwork/entitynetwork/relation_extraction/relation_extraction.py:60: RuntimeWarning: Mean of empty slice\n",
      "  sentiment = np.nanmean(prod)\n",
      "/mnt/efs/fs1/CSS_Termpaper/EntityNetwork/entitynetwork/validation_tool/relation_validation.py:36: SettingWithCopyWarning: \n",
      "A value is trying to be set on a copy of a slice from a DataFrame.\n",
      "Try using .loc[row_indexer,col_indexer] = value instead\n",
      "\n",
      "See the caveats in the documentation: https://pandas.pydata.org/pandas-docs/stable/user_guide/indexing.html#returning-a-view-versus-a-copy\n",
      "  article.relation_validation_data[\"valid\"] = 1\n",
      "/home/ubuntu/.local/lib/python3.6/site-packages/pandas/core/indexing.py:1765: SettingWithCopyWarning: \n",
      "A value is trying to be set on a copy of a slice from a DataFrame.\n",
      "Try using .loc[row_indexer,col_indexer] = value instead\n",
      "\n",
      "See the caveats in the documentation: https://pandas.pydata.org/pandas-docs/stable/user_guide/indexing.html#returning-a-view-versus-a-copy\n",
      "  isetter(loc, value)\n"
     ]
    },
    {
     "name": "stdout",
     "output_type": "stream",
     "text": [
      "Text took: 2.5436720848083496 Num S / Coref: 4 / 4\n",
      "Current Article287\n"
     ]
    },
    {
     "name": "stderr",
     "output_type": "stream",
     "text": [
      "/mnt/efs/fs1/CSS_Termpaper/EntityNetwork/entitynetwork/relation_extraction/relation_extraction.py:60: RuntimeWarning: Mean of empty slice\n",
      "  sentiment = np.nanmean(prod)\n",
      "/mnt/efs/fs1/CSS_Termpaper/EntityNetwork/entitynetwork/validation_tool/entity_validation.py:61: SettingWithCopyWarning: \n",
      "A value is trying to be set on a copy of a slice from a DataFrame\n",
      "\n",
      "See the caveats in the documentation: https://pandas.pydata.org/pandas-docs/stable/user_guide/indexing.html#returning-a-view-versus-a-copy\n",
      "  self.merged_data[\"synonyms\"][~self.merged_data[\"synonyms\"].str.contains(\"__\", na=False)] = np.NaN\n",
      "/mnt/efs/fs1/CSS_Termpaper/EntityNetwork/entitynetwork/validation_tool/relation_validation.py:36: SettingWithCopyWarning: \n",
      "A value is trying to be set on a copy of a slice from a DataFrame.\n",
      "Try using .loc[row_indexer,col_indexer] = value instead\n",
      "\n",
      "See the caveats in the documentation: https://pandas.pydata.org/pandas-docs/stable/user_guide/indexing.html#returning-a-view-versus-a-copy\n",
      "  article.relation_validation_data[\"valid\"] = 1\n",
      "/home/ubuntu/.local/lib/python3.6/site-packages/pandas/core/indexing.py:1765: SettingWithCopyWarning: \n",
      "A value is trying to be set on a copy of a slice from a DataFrame.\n",
      "Try using .loc[row_indexer,col_indexer] = value instead\n",
      "\n",
      "See the caveats in the documentation: https://pandas.pydata.org/pandas-docs/stable/user_guide/indexing.html#returning-a-view-versus-a-copy\n",
      "  isetter(loc, value)\n"
     ]
    },
    {
     "name": "stdout",
     "output_type": "stream",
     "text": [
      "Text took: 2.4842231273651123 Num S / Coref: 4 / 4\n",
      "Current Article288\n"
     ]
    },
    {
     "name": "stderr",
     "output_type": "stream",
     "text": [
      "/mnt/efs/fs1/CSS_Termpaper/EntityNetwork/entitynetwork/relation_extraction/relation_extraction.py:60: RuntimeWarning: Mean of empty slice\n",
      "  sentiment = np.nanmean(prod)\n",
      "/mnt/efs/fs1/CSS_Termpaper/EntityNetwork/entitynetwork/validation_tool/relation_validation.py:36: SettingWithCopyWarning: \n",
      "A value is trying to be set on a copy of a slice from a DataFrame.\n",
      "Try using .loc[row_indexer,col_indexer] = value instead\n",
      "\n",
      "See the caveats in the documentation: https://pandas.pydata.org/pandas-docs/stable/user_guide/indexing.html#returning-a-view-versus-a-copy\n",
      "  article.relation_validation_data[\"valid\"] = 1\n",
      "/home/ubuntu/.local/lib/python3.6/site-packages/pandas/core/indexing.py:1765: SettingWithCopyWarning: \n",
      "A value is trying to be set on a copy of a slice from a DataFrame.\n",
      "Try using .loc[row_indexer,col_indexer] = value instead\n",
      "\n",
      "See the caveats in the documentation: https://pandas.pydata.org/pandas-docs/stable/user_guide/indexing.html#returning-a-view-versus-a-copy\n",
      "  isetter(loc, value)\n"
     ]
    },
    {
     "name": "stdout",
     "output_type": "stream",
     "text": [
      "Text took: 6.8959503173828125 Num S / Coref: 15 / 15\n",
      "Current Article289\n"
     ]
    },
    {
     "name": "stderr",
     "output_type": "stream",
     "text": [
      "/mnt/efs/fs1/CSS_Termpaper/EntityNetwork/entitynetwork/relation_extraction/relation_extraction.py:60: RuntimeWarning: Mean of empty slice\n",
      "  sentiment = np.nanmean(prod)\n",
      "/mnt/efs/fs1/CSS_Termpaper/EntityNetwork/entitynetwork/validation_tool/relation_validation.py:36: SettingWithCopyWarning: \n",
      "A value is trying to be set on a copy of a slice from a DataFrame.\n",
      "Try using .loc[row_indexer,col_indexer] = value instead\n",
      "\n",
      "See the caveats in the documentation: https://pandas.pydata.org/pandas-docs/stable/user_guide/indexing.html#returning-a-view-versus-a-copy\n",
      "  article.relation_validation_data[\"valid\"] = 1\n",
      "/home/ubuntu/.local/lib/python3.6/site-packages/pandas/core/indexing.py:1765: SettingWithCopyWarning: \n",
      "A value is trying to be set on a copy of a slice from a DataFrame.\n",
      "Try using .loc[row_indexer,col_indexer] = value instead\n",
      "\n",
      "See the caveats in the documentation: https://pandas.pydata.org/pandas-docs/stable/user_guide/indexing.html#returning-a-view-versus-a-copy\n",
      "  isetter(loc, value)\n"
     ]
    },
    {
     "name": "stdout",
     "output_type": "stream",
     "text": [
      "Text took: 10.923940896987915 Num S / Coref: 20 / 20\n",
      "Current Article290\n"
     ]
    },
    {
     "name": "stderr",
     "output_type": "stream",
     "text": [
      "/mnt/efs/fs1/CSS_Termpaper/EntityNetwork/entitynetwork/relation_extraction/relation_extraction.py:60: RuntimeWarning: Mean of empty slice\n",
      "  sentiment = np.nanmean(prod)\n",
      "/mnt/efs/fs1/CSS_Termpaper/EntityNetwork/entitynetwork/validation_tool/relation_validation.py:36: SettingWithCopyWarning: \n",
      "A value is trying to be set on a copy of a slice from a DataFrame.\n",
      "Try using .loc[row_indexer,col_indexer] = value instead\n",
      "\n",
      "See the caveats in the documentation: https://pandas.pydata.org/pandas-docs/stable/user_guide/indexing.html#returning-a-view-versus-a-copy\n",
      "  article.relation_validation_data[\"valid\"] = 1\n",
      "/home/ubuntu/.local/lib/python3.6/site-packages/pandas/core/indexing.py:1765: SettingWithCopyWarning: \n",
      "A value is trying to be set on a copy of a slice from a DataFrame.\n",
      "Try using .loc[row_indexer,col_indexer] = value instead\n",
      "\n",
      "See the caveats in the documentation: https://pandas.pydata.org/pandas-docs/stable/user_guide/indexing.html#returning-a-view-versus-a-copy\n",
      "  isetter(loc, value)\n"
     ]
    },
    {
     "name": "stdout",
     "output_type": "stream",
     "text": [
      "Text took: 3.434438467025757 Num S / Coref: 7 / 7\n",
      "Current Article291\n"
     ]
    },
    {
     "name": "stderr",
     "output_type": "stream",
     "text": [
      "/mnt/efs/fs1/CSS_Termpaper/EntityNetwork/entitynetwork/relation_extraction/relation_extraction.py:60: RuntimeWarning: Mean of empty slice\n",
      "  sentiment = np.nanmean(prod)\n",
      "/mnt/efs/fs1/CSS_Termpaper/EntityNetwork/entitynetwork/validation_tool/relation_validation.py:36: SettingWithCopyWarning: \n",
      "A value is trying to be set on a copy of a slice from a DataFrame.\n",
      "Try using .loc[row_indexer,col_indexer] = value instead\n",
      "\n",
      "See the caveats in the documentation: https://pandas.pydata.org/pandas-docs/stable/user_guide/indexing.html#returning-a-view-versus-a-copy\n",
      "  article.relation_validation_data[\"valid\"] = 1\n",
      "/home/ubuntu/.local/lib/python3.6/site-packages/pandas/core/indexing.py:1765: SettingWithCopyWarning: \n",
      "A value is trying to be set on a copy of a slice from a DataFrame.\n",
      "Try using .loc[row_indexer,col_indexer] = value instead\n",
      "\n",
      "See the caveats in the documentation: https://pandas.pydata.org/pandas-docs/stable/user_guide/indexing.html#returning-a-view-versus-a-copy\n",
      "  isetter(loc, value)\n"
     ]
    },
    {
     "name": "stdout",
     "output_type": "stream",
     "text": [
      "Text took: 2.474579095840454 Num S / Coref: 4 / 4\n",
      "Current Article292\n"
     ]
    },
    {
     "name": "stderr",
     "output_type": "stream",
     "text": [
      "/mnt/efs/fs1/CSS_Termpaper/EntityNetwork/entitynetwork/relation_extraction/relation_extraction.py:60: RuntimeWarning: Mean of empty slice\n",
      "  sentiment = np.nanmean(prod)\n",
      "/mnt/efs/fs1/CSS_Termpaper/EntityNetwork/entitynetwork/validation_tool/relation_validation.py:36: SettingWithCopyWarning: \n",
      "A value is trying to be set on a copy of a slice from a DataFrame.\n",
      "Try using .loc[row_indexer,col_indexer] = value instead\n",
      "\n",
      "See the caveats in the documentation: https://pandas.pydata.org/pandas-docs/stable/user_guide/indexing.html#returning-a-view-versus-a-copy\n",
      "  article.relation_validation_data[\"valid\"] = 1\n",
      "/home/ubuntu/.local/lib/python3.6/site-packages/pandas/core/indexing.py:1765: SettingWithCopyWarning: \n",
      "A value is trying to be set on a copy of a slice from a DataFrame.\n",
      "Try using .loc[row_indexer,col_indexer] = value instead\n",
      "\n",
      "See the caveats in the documentation: https://pandas.pydata.org/pandas-docs/stable/user_guide/indexing.html#returning-a-view-versus-a-copy\n",
      "  isetter(loc, value)\n"
     ]
    },
    {
     "name": "stdout",
     "output_type": "stream",
     "text": [
      "Text took: 5.395371913909912 Num S / Coref: 10 / 10\n",
      "Current Article293\n"
     ]
    },
    {
     "name": "stderr",
     "output_type": "stream",
     "text": [
      "/mnt/efs/fs1/CSS_Termpaper/EntityNetwork/entitynetwork/relation_extraction/relation_extraction.py:60: RuntimeWarning: Mean of empty slice\n",
      "  sentiment = np.nanmean(prod)\n",
      "/mnt/efs/fs1/CSS_Termpaper/EntityNetwork/entitynetwork/validation_tool/entity_validation.py:61: SettingWithCopyWarning: \n",
      "A value is trying to be set on a copy of a slice from a DataFrame\n",
      "\n",
      "See the caveats in the documentation: https://pandas.pydata.org/pandas-docs/stable/user_guide/indexing.html#returning-a-view-versus-a-copy\n",
      "  self.merged_data[\"synonyms\"][~self.merged_data[\"synonyms\"].str.contains(\"__\", na=False)] = np.NaN\n",
      "/mnt/efs/fs1/CSS_Termpaper/EntityNetwork/entitynetwork/validation_tool/relation_validation.py:36: SettingWithCopyWarning: \n",
      "A value is trying to be set on a copy of a slice from a DataFrame.\n",
      "Try using .loc[row_indexer,col_indexer] = value instead\n",
      "\n",
      "See the caveats in the documentation: https://pandas.pydata.org/pandas-docs/stable/user_guide/indexing.html#returning-a-view-versus-a-copy\n",
      "  article.relation_validation_data[\"valid\"] = 1\n",
      "/home/ubuntu/.local/lib/python3.6/site-packages/pandas/core/indexing.py:1765: SettingWithCopyWarning: \n",
      "A value is trying to be set on a copy of a slice from a DataFrame.\n",
      "Try using .loc[row_indexer,col_indexer] = value instead\n",
      "\n",
      "See the caveats in the documentation: https://pandas.pydata.org/pandas-docs/stable/user_guide/indexing.html#returning-a-view-versus-a-copy\n",
      "  isetter(loc, value)\n"
     ]
    },
    {
     "name": "stdout",
     "output_type": "stream",
     "text": [
      "Text took: 11.219618558883667 Num S / Coref: 25 / 25\n",
      "Current Article294\n"
     ]
    },
    {
     "name": "stderr",
     "output_type": "stream",
     "text": [
      "/mnt/efs/fs1/CSS_Termpaper/EntityNetwork/entitynetwork/relation_extraction/relation_extraction.py:60: RuntimeWarning: Mean of empty slice\n",
      "  sentiment = np.nanmean(prod)\n",
      "/mnt/efs/fs1/CSS_Termpaper/EntityNetwork/entitynetwork/validation_tool/relation_validation.py:36: SettingWithCopyWarning: \n",
      "A value is trying to be set on a copy of a slice from a DataFrame.\n",
      "Try using .loc[row_indexer,col_indexer] = value instead\n",
      "\n",
      "See the caveats in the documentation: https://pandas.pydata.org/pandas-docs/stable/user_guide/indexing.html#returning-a-view-versus-a-copy\n",
      "  article.relation_validation_data[\"valid\"] = 1\n",
      "/home/ubuntu/.local/lib/python3.6/site-packages/pandas/core/indexing.py:1765: SettingWithCopyWarning: \n",
      "A value is trying to be set on a copy of a slice from a DataFrame.\n",
      "Try using .loc[row_indexer,col_indexer] = value instead\n",
      "\n",
      "See the caveats in the documentation: https://pandas.pydata.org/pandas-docs/stable/user_guide/indexing.html#returning-a-view-versus-a-copy\n",
      "  isetter(loc, value)\n"
     ]
    },
    {
     "name": "stdout",
     "output_type": "stream",
     "text": [
      "Text took: 6.8160200119018555 Num S / Coref: 11 / 11\n",
      "Current Article295\n"
     ]
    },
    {
     "name": "stderr",
     "output_type": "stream",
     "text": [
      "/mnt/efs/fs1/CSS_Termpaper/EntityNetwork/entitynetwork/relation_extraction/relation_extraction.py:60: RuntimeWarning: Mean of empty slice\n",
      "  sentiment = np.nanmean(prod)\n",
      "/mnt/efs/fs1/CSS_Termpaper/EntityNetwork/entitynetwork/validation_tool/relation_validation.py:36: SettingWithCopyWarning: \n",
      "A value is trying to be set on a copy of a slice from a DataFrame.\n",
      "Try using .loc[row_indexer,col_indexer] = value instead\n",
      "\n",
      "See the caveats in the documentation: https://pandas.pydata.org/pandas-docs/stable/user_guide/indexing.html#returning-a-view-versus-a-copy\n",
      "  article.relation_validation_data[\"valid\"] = 1\n",
      "/home/ubuntu/.local/lib/python3.6/site-packages/pandas/core/indexing.py:1765: SettingWithCopyWarning: \n",
      "A value is trying to be set on a copy of a slice from a DataFrame.\n",
      "Try using .loc[row_indexer,col_indexer] = value instead\n",
      "\n",
      "See the caveats in the documentation: https://pandas.pydata.org/pandas-docs/stable/user_guide/indexing.html#returning-a-view-versus-a-copy\n",
      "  isetter(loc, value)\n"
     ]
    },
    {
     "name": "stdout",
     "output_type": "stream",
     "text": [
      "Text took: 6.9440531730651855 Num S / Coref: 15 / 15\n",
      "Current Article296\n"
     ]
    },
    {
     "name": "stderr",
     "output_type": "stream",
     "text": [
      "/mnt/efs/fs1/CSS_Termpaper/EntityNetwork/entitynetwork/relation_extraction/relation_extraction.py:60: RuntimeWarning: Mean of empty slice\n",
      "  sentiment = np.nanmean(prod)\n",
      "/mnt/efs/fs1/CSS_Termpaper/EntityNetwork/entitynetwork/validation_tool/relation_validation.py:36: SettingWithCopyWarning: \n",
      "A value is trying to be set on a copy of a slice from a DataFrame.\n",
      "Try using .loc[row_indexer,col_indexer] = value instead\n",
      "\n",
      "See the caveats in the documentation: https://pandas.pydata.org/pandas-docs/stable/user_guide/indexing.html#returning-a-view-versus-a-copy\n",
      "  article.relation_validation_data[\"valid\"] = 1\n",
      "/home/ubuntu/.local/lib/python3.6/site-packages/pandas/core/indexing.py:1765: SettingWithCopyWarning: \n",
      "A value is trying to be set on a copy of a slice from a DataFrame.\n",
      "Try using .loc[row_indexer,col_indexer] = value instead\n",
      "\n",
      "See the caveats in the documentation: https://pandas.pydata.org/pandas-docs/stable/user_guide/indexing.html#returning-a-view-versus-a-copy\n",
      "  isetter(loc, value)\n"
     ]
    },
    {
     "name": "stdout",
     "output_type": "stream",
     "text": [
      "Text took: 4.647881031036377 Num S / Coref: 11 / 11\n",
      "Current Article297\n"
     ]
    },
    {
     "name": "stderr",
     "output_type": "stream",
     "text": [
      "/mnt/efs/fs1/CSS_Termpaper/EntityNetwork/entitynetwork/relation_extraction/relation_extraction.py:60: RuntimeWarning: Mean of empty slice\n",
      "  sentiment = np.nanmean(prod)\n",
      "/mnt/efs/fs1/CSS_Termpaper/EntityNetwork/entitynetwork/validation_tool/entity_validation.py:61: SettingWithCopyWarning: \n",
      "A value is trying to be set on a copy of a slice from a DataFrame\n",
      "\n",
      "See the caveats in the documentation: https://pandas.pydata.org/pandas-docs/stable/user_guide/indexing.html#returning-a-view-versus-a-copy\n",
      "  self.merged_data[\"synonyms\"][~self.merged_data[\"synonyms\"].str.contains(\"__\", na=False)] = np.NaN\n",
      "/mnt/efs/fs1/CSS_Termpaper/EntityNetwork/entitynetwork/validation_tool/relation_validation.py:36: SettingWithCopyWarning: \n",
      "A value is trying to be set on a copy of a slice from a DataFrame.\n",
      "Try using .loc[row_indexer,col_indexer] = value instead\n",
      "\n",
      "See the caveats in the documentation: https://pandas.pydata.org/pandas-docs/stable/user_guide/indexing.html#returning-a-view-versus-a-copy\n",
      "  article.relation_validation_data[\"valid\"] = 1\n",
      "/home/ubuntu/.local/lib/python3.6/site-packages/pandas/core/indexing.py:1765: SettingWithCopyWarning: \n",
      "A value is trying to be set on a copy of a slice from a DataFrame.\n",
      "Try using .loc[row_indexer,col_indexer] = value instead\n",
      "\n",
      "See the caveats in the documentation: https://pandas.pydata.org/pandas-docs/stable/user_guide/indexing.html#returning-a-view-versus-a-copy\n",
      "  isetter(loc, value)\n"
     ]
    },
    {
     "name": "stdout",
     "output_type": "stream",
     "text": [
      "Text took: 2.886582374572754 Num S / Coref: 6 / 6\n"
     ]
    },
    {
     "data": {
      "text/plain": [
       "'\\n#\\n# Merged Entity Dataset\\nmerged_entities = pd.DataFrame(columns=[\\'name\\', \\'tag\\', \\'count_x\\', \\'weight\\', \\'synonyms\\', \\'entity\\', \\'lable\\',\\n                                        \\'count_y\\', \\'synonym\\', \\'text_id\\'])\\n\\n# Merged Relation Dataset\\nmerged_relations = pd.DataFrame(columns=[\\'entity_1_x\\', \\'entity_2_x\\', \\'count\\', \\'filter\\', \\'entity_1_y\\',\\n       \\'entity_2_y\\', \\'lable\\', \\'text_id\\', \\'shift\\'])\\n\\n# Entity Metrics\\nentity_metrics = pd.DataFrame(columns=[\"found_entities\", \"missed_entities\", \"false_positives\", \"accuracy\", \"recall\",\\n                                       \"precision\", \"f1\", \"relne_recall\", \"addne_recall\", \"concept_recall\", \"text\"])\\n\\n# Relation Metrics\\nrelation_metrics = pd.DataFrame(columns=[\"found_relations\", \"missed_relations\", \"false_positives\", \"accuracy\", \"recall\",\\n                                         \"precision\", \"f1\", \"recall_corrected\", \"f1_corrected\", \"agr_recall\",\\n                                         \"disagr_recall\", \"po_recall\", \"text\", \"shift\"])\\n\\n\\nfor i in range(len(data)):\\n    print(\"Current Article\" + str(i))\\n    ent_val = validation_data[validation_data[\"text_id\"]==data[\"id\"][i]]\\n    rel_val = relation_validation_data[relation_validation_data[\"text_id\"]==data[\"id\"][i]]\\n    article = Article(data[\"text\"][i], data[\"author_extracted\"][i], data[\"date\"][i], data[\"source\"][i], data[\"id\"][i],\\n               download_model=False, selected_tags=all_tag, n_shift=0,graph=g,\\n               validate=True, entity_validation_data= ent_val,\\n               relation_validation_data = rel_val)\\n    article.process_articles()\\n    if len(article.entity_validation.merged_data)>0:\\n        merged_entities = merged_entities.append(article.entity_validation.merged_data,ignore_index=True)\\n    if len(article.relation_validation.merged_data)>0:\\n        merged_relations = merged_relations.append(article.relation_validation.merged_data,ignore_index=True)\\n    if len(article.entity_validation.metrics_df)>0:\\n        entity_metrics = entity_metrics.append(article.entity_validation.metrics_df,ignore_index=True)\\n    if len(article.relation_validation.metrics_df)>0:\\n        relation_metrics = relation_metrics.append(article.relation_validation.metrics_df,ignore_index=True)\\n    if not article.relation_dataset.df.empty:\\n        if not article.relation_validation_data.empty:\\n            i = 1\\n            while i < article.num_sentences and i <= 5:\\n                article.n_shift = i\\n                network_matrix_sentences(article)\\n                article.relation_validation.validate_relations(article)\\n                if len(article.relation_validation.merged_data)>0:\\n                    merged_relations = merged_relations.append(article.relation_validation.merged_data,ignore_index=True)\\n                if len(article.relation_validation.metrics_df)>0:\\n                    relation_metrics = relation_metrics.append(article.relation_validation.metrics_df,ignore_index=True)\\n                i = i + 1\\n\\nmerged_entities.to_csv(r\"/home/ubuntu/ma_project/merged_entities_reltest.csv\",index=False)\\nmerged_relations.to_csv(r\"/home/ubuntu/ma_project/merged_relations_reltest.csv\",index=False)\\nentity_metrics.to_csv(r\"/home/ubuntu/ma_project/entity_metrics_reltest.csv\", index=False)\\nrelation_metrics.to_csv(r\"/home/ubuntu/ma_project/relations_metrics_reltest.csv\", index=False)\\n'"
      ]
     },
     "execution_count": 11,
     "metadata": {},
     "output_type": "execute_result"
    }
   ],
   "source": [
    "# Start the validation and store the data\n",
    "initial_entities_dict, initial_entities_df = create_synonym_dict(g, None)\n",
    "for i in range(len(data[\"id\"])):\n",
    "    print(\"Current Article\" + str(i))\n",
    "    ent_val = validation_data[validation_data[\"text_id\"]==data[\"id\"][i]]\n",
    "    rel_val = relation_validation_data[relation_validation_data[\"text_id\"]==data[\"id\"][i]]\n",
    "    article = Article(data[\"text\"][i], data[\"author_extracted\"][i], data[\"date\"][i], data[\"source\"][i], data[\"id\"][i],\n",
    "               download_ner_model=True, n_shift=1,graph=g,first_round=False ,commit=True,\n",
    "               initial_entities = initial_entities_df,initial_syn_dict = initial_entities_dict,\n",
    "                validate=True, entity_validation_data= ent_val,relation_validation_data = rel_val,\n",
    "                    filter_by_constituency=False,use_coref = True,\n",
    "                     path_constituency_parser=\"/mnt/efs/fs1/Validation/elmo-constituency-parser-2020.02.10.tar.gz\",\n",
    "                     path_coref_parser=\"/mnt/efs/fs1/Validation/coref-spanbert-large-2020.02.27.tar.gz\",\n",
    "                    constituency_predictor = constituency_predictor_1)\n",
    "    article.process_articles()\n",
    "#    print(article.relation_dataset.df)\n",
    "    if len(article.entity_validation.merged_data)>0:\n",
    "        merged_entities = merged_entities.append(article.entity_validation.merged_data,ignore_index=True)\n",
    "    if len(article.relation_validation.merged_data)>0:\n",
    "        merged_relations = merged_relations.append(article.relation_validation.merged_data,ignore_index=True)\n",
    "    if len(article.entity_validation.metrics_df)>0:\n",
    "        entity_metrics = entity_metrics.append(article.entity_validation.metrics_df,ignore_index=True)\n",
    "    if len(article.relation_validation.metrics_df)>0:\n",
    "        relation_metrics = relation_metrics.append(article.relation_validation.metrics_df,ignore_index=True)\n",
    "#    if not article.relation_dataset.df.empty:\n",
    "#        if not article.relation_validation_data.empty:\n",
    "#            i = 1\n",
    "#            while i < article.num_sentences and i <= 5:\n",
    "#                article.n_shift = i\n",
    "#                network_matrix_sentences(article)\n",
    "#                article.relation_validation.validate_relations(article)\n",
    "#                if len(article.relation_validation.merged_data)>0:\n",
    "#                    merged_relations = merged_relations.append(article.relation_validation.merged_data,ignore_index=True)\n",
    "#                if len(article.relation_validation.metrics_df)>0:\n",
    "#                    relation_metrics = relation_metrics.append(article.relation_validation.metrics_df,ignore_index=True)\n",
    "#                i = i + 1\n",
    "# Storage\n",
    "merged_entities.to_csv(r\"/mnt/efs/fs1/Validation/merged_entities_optimized.csv\",index=False)\n",
    "merged_relations.to_csv(r\"/mnt/efs/fs1/Validation/merged_relations_optimized.csv\",index=False)\n",
    "entity_metrics.to_csv(r\"/mnt/efs/fs1/Validation/entity_metrics_optimized.csv\", index=False)\n",
    "relation_metrics.to_csv(r\"/mnt/efs/fs1/Validation/relations_metrics_optimized.csv\", index=False)\n",
    "\n",
    "'''\n",
    "#\n",
    "# Merged Entity Dataset\n",
    "merged_entities = pd.DataFrame(columns=['name', 'tag', 'count_x', 'weight', 'synonyms', 'entity', 'lable',\n",
    "                                        'count_y', 'synonym', 'text_id'])\n",
    "\n",
    "# Merged Relation Dataset\n",
    "merged_relations = pd.DataFrame(columns=['entity_1_x', 'entity_2_x', 'count', 'filter', 'entity_1_y',\n",
    "       'entity_2_y', 'lable', 'text_id', 'shift'])\n",
    "\n",
    "# Entity Metrics\n",
    "entity_metrics = pd.DataFrame(columns=[\"found_entities\", \"missed_entities\", \"false_positives\", \"accuracy\", \"recall\",\n",
    "                                       \"precision\", \"f1\", \"relne_recall\", \"addne_recall\", \"concept_recall\", \"text\"])\n",
    "\n",
    "# Relation Metrics\n",
    "relation_metrics = pd.DataFrame(columns=[\"found_relations\", \"missed_relations\", \"false_positives\", \"accuracy\", \"recall\",\n",
    "                                         \"precision\", \"f1\", \"recall_corrected\", \"f1_corrected\", \"agr_recall\",\n",
    "                                         \"disagr_recall\", \"po_recall\", \"text\", \"shift\"])\n",
    "\n",
    "\n",
    "for i in range(len(data)):\n",
    "    print(\"Current Article\" + str(i))\n",
    "    ent_val = validation_data[validation_data[\"text_id\"]==data[\"id\"][i]]\n",
    "    rel_val = relation_validation_data[relation_validation_data[\"text_id\"]==data[\"id\"][i]]\n",
    "    article = Article(data[\"text\"][i], data[\"author_extracted\"][i], data[\"date\"][i], data[\"source\"][i], data[\"id\"][i],\n",
    "               download_model=False, selected_tags=all_tag, n_shift=0,graph=g,\n",
    "               validate=True, entity_validation_data= ent_val,\n",
    "               relation_validation_data = rel_val)\n",
    "    article.process_articles()\n",
    "    if len(article.entity_validation.merged_data)>0:\n",
    "        merged_entities = merged_entities.append(article.entity_validation.merged_data,ignore_index=True)\n",
    "    if len(article.relation_validation.merged_data)>0:\n",
    "        merged_relations = merged_relations.append(article.relation_validation.merged_data,ignore_index=True)\n",
    "    if len(article.entity_validation.metrics_df)>0:\n",
    "        entity_metrics = entity_metrics.append(article.entity_validation.metrics_df,ignore_index=True)\n",
    "    if len(article.relation_validation.metrics_df)>0:\n",
    "        relation_metrics = relation_metrics.append(article.relation_validation.metrics_df,ignore_index=True)\n",
    "    if not article.relation_dataset.df.empty:\n",
    "        if not article.relation_validation_data.empty:\n",
    "            i = 1\n",
    "            while i < article.num_sentences and i <= 5:\n",
    "                article.n_shift = i\n",
    "                network_matrix_sentences(article)\n",
    "                article.relation_validation.validate_relations(article)\n",
    "                if len(article.relation_validation.merged_data)>0:\n",
    "                    merged_relations = merged_relations.append(article.relation_validation.merged_data,ignore_index=True)\n",
    "                if len(article.relation_validation.metrics_df)>0:\n",
    "                    relation_metrics = relation_metrics.append(article.relation_validation.metrics_df,ignore_index=True)\n",
    "                i = i + 1\n",
    "\n",
    "merged_entities.to_csv(r\"/home/ubuntu/ma_project/merged_entities_reltest.csv\",index=False)\n",
    "merged_relations.to_csv(r\"/home/ubuntu/ma_project/merged_relations_reltest.csv\",index=False)\n",
    "entity_metrics.to_csv(r\"/home/ubuntu/ma_project/entity_metrics_reltest.csv\", index=False)\n",
    "relation_metrics.to_csv(r\"/home/ubuntu/ma_project/relations_metrics_reltest.csv\", index=False)\n",
    "'''"
   ]
  },
  {
   "cell_type": "code",
   "execution_count": 9,
   "metadata": {
    "pycharm": {
     "name": "#%%\n"
    }
   },
   "outputs": [
    {
     "data": {
      "text/html": [
       "<div>\n",
       "<style scoped>\n",
       "    .dataframe tbody tr th:only-of-type {\n",
       "        vertical-align: middle;\n",
       "    }\n",
       "\n",
       "    .dataframe tbody tr th {\n",
       "        vertical-align: top;\n",
       "    }\n",
       "\n",
       "    .dataframe thead th {\n",
       "        text-align: right;\n",
       "    }\n",
       "</style>\n",
       "<table border=\"1\" class=\"dataframe\">\n",
       "  <thead>\n",
       "    <tr style=\"text-align: right;\">\n",
       "      <th></th>\n",
       "      <th>db_id_1</th>\n",
       "      <th>db_id_2</th>\n",
       "      <th>count</th>\n",
       "      <th>weight</th>\n",
       "      <th>sentiment</th>\n",
       "      <th>filter</th>\n",
       "    </tr>\n",
       "  </thead>\n",
       "  <tbody>\n",
       "    <tr>\n",
       "      <th>0</th>\n",
       "      <td>599.0</td>\n",
       "      <td>600.0</td>\n",
       "      <td>3.0</td>\n",
       "      <td>0.375</td>\n",
       "      <td>-0.598533</td>\n",
       "      <td>0.0</td>\n",
       "    </tr>\n",
       "    <tr>\n",
       "      <th>1</th>\n",
       "      <td>599.0</td>\n",
       "      <td>601.0</td>\n",
       "      <td>1.0</td>\n",
       "      <td>0.125</td>\n",
       "      <td>-0.458800</td>\n",
       "      <td>0.0</td>\n",
       "    </tr>\n",
       "    <tr>\n",
       "      <th>2</th>\n",
       "      <td>599.0</td>\n",
       "      <td>624.0</td>\n",
       "      <td>1.0</td>\n",
       "      <td>0.125</td>\n",
       "      <td>-0.458800</td>\n",
       "      <td>0.0</td>\n",
       "    </tr>\n",
       "    <tr>\n",
       "      <th>3</th>\n",
       "      <td>599.0</td>\n",
       "      <td>695.0</td>\n",
       "      <td>1.0</td>\n",
       "      <td>0.250</td>\n",
       "      <td>-0.401900</td>\n",
       "      <td>0.0</td>\n",
       "    </tr>\n",
       "    <tr>\n",
       "      <th>4</th>\n",
       "      <td>599.0</td>\n",
       "      <td>933.0</td>\n",
       "      <td>1.0</td>\n",
       "      <td>0.250</td>\n",
       "      <td>-0.401900</td>\n",
       "      <td>0.0</td>\n",
       "    </tr>\n",
       "    <tr>\n",
       "      <th>5</th>\n",
       "      <td>600.0</td>\n",
       "      <td>601.0</td>\n",
       "      <td>2.0</td>\n",
       "      <td>0.125</td>\n",
       "      <td>-0.917600</td>\n",
       "      <td>0.0</td>\n",
       "    </tr>\n",
       "    <tr>\n",
       "      <th>6</th>\n",
       "      <td>600.0</td>\n",
       "      <td>620.0</td>\n",
       "      <td>2.0</td>\n",
       "      <td>0.750</td>\n",
       "      <td>0.000000</td>\n",
       "      <td>0.0</td>\n",
       "    </tr>\n",
       "    <tr>\n",
       "      <th>7</th>\n",
       "      <td>600.0</td>\n",
       "      <td>624.0</td>\n",
       "      <td>2.0</td>\n",
       "      <td>0.125</td>\n",
       "      <td>-0.917600</td>\n",
       "      <td>0.0</td>\n",
       "    </tr>\n",
       "    <tr>\n",
       "      <th>8</th>\n",
       "      <td>600.0</td>\n",
       "      <td>695.0</td>\n",
       "      <td>3.0</td>\n",
       "      <td>0.250</td>\n",
       "      <td>-1.205700</td>\n",
       "      <td>0.0</td>\n",
       "    </tr>\n",
       "    <tr>\n",
       "      <th>9</th>\n",
       "      <td>600.0</td>\n",
       "      <td>933.0</td>\n",
       "      <td>3.0</td>\n",
       "      <td>0.250</td>\n",
       "      <td>-1.205700</td>\n",
       "      <td>0.0</td>\n",
       "    </tr>\n",
       "    <tr>\n",
       "      <th>10</th>\n",
       "      <td>601.0</td>\n",
       "      <td>624.0</td>\n",
       "      <td>1.0</td>\n",
       "      <td>0.125</td>\n",
       "      <td>-0.458800</td>\n",
       "      <td>0.0</td>\n",
       "    </tr>\n",
       "    <tr>\n",
       "      <th>11</th>\n",
       "      <td>601.0</td>\n",
       "      <td>695.0</td>\n",
       "      <td>1.0</td>\n",
       "      <td>0.250</td>\n",
       "      <td>-0.401900</td>\n",
       "      <td>0.0</td>\n",
       "    </tr>\n",
       "    <tr>\n",
       "      <th>12</th>\n",
       "      <td>601.0</td>\n",
       "      <td>933.0</td>\n",
       "      <td>1.0</td>\n",
       "      <td>0.250</td>\n",
       "      <td>-0.401900</td>\n",
       "      <td>0.0</td>\n",
       "    </tr>\n",
       "    <tr>\n",
       "      <th>13</th>\n",
       "      <td>624.0</td>\n",
       "      <td>695.0</td>\n",
       "      <td>1.0</td>\n",
       "      <td>0.250</td>\n",
       "      <td>-0.401900</td>\n",
       "      <td>0.0</td>\n",
       "    </tr>\n",
       "    <tr>\n",
       "      <th>14</th>\n",
       "      <td>624.0</td>\n",
       "      <td>933.0</td>\n",
       "      <td>1.0</td>\n",
       "      <td>0.250</td>\n",
       "      <td>-0.401900</td>\n",
       "      <td>0.0</td>\n",
       "    </tr>\n",
       "    <tr>\n",
       "      <th>15</th>\n",
       "      <td>695.0</td>\n",
       "      <td>933.0</td>\n",
       "      <td>1.0</td>\n",
       "      <td>0.250</td>\n",
       "      <td>-0.401900</td>\n",
       "      <td>0.0</td>\n",
       "    </tr>\n",
       "  </tbody>\n",
       "</table>\n",
       "</div>"
      ],
      "text/plain": [
       "    db_id_1  db_id_2  count  weight  sentiment  filter\n",
       "0     599.0    600.0    3.0   0.375  -0.598533     0.0\n",
       "1     599.0    601.0    1.0   0.125  -0.458800     0.0\n",
       "2     599.0    624.0    1.0   0.125  -0.458800     0.0\n",
       "3     599.0    695.0    1.0   0.250  -0.401900     0.0\n",
       "4     599.0    933.0    1.0   0.250  -0.401900     0.0\n",
       "5     600.0    601.0    2.0   0.125  -0.917600     0.0\n",
       "6     600.0    620.0    2.0   0.750   0.000000     0.0\n",
       "7     600.0    624.0    2.0   0.125  -0.917600     0.0\n",
       "8     600.0    695.0    3.0   0.250  -1.205700     0.0\n",
       "9     600.0    933.0    3.0   0.250  -1.205700     0.0\n",
       "10    601.0    624.0    1.0   0.125  -0.458800     0.0\n",
       "11    601.0    695.0    1.0   0.250  -0.401900     0.0\n",
       "12    601.0    933.0    1.0   0.250  -0.401900     0.0\n",
       "13    624.0    695.0    1.0   0.250  -0.401900     0.0\n",
       "14    624.0    933.0    1.0   0.250  -0.401900     0.0\n",
       "15    695.0    933.0    1.0   0.250  -0.401900     0.0"
      ]
     },
     "execution_count": 9,
     "metadata": {},
     "output_type": "execute_result"
    }
   ],
   "source": [
    "article.relation_dataset.df"
   ]
  },
  {
   "cell_type": "code",
   "execution_count": 6,
   "metadata": {},
   "outputs": [],
   "source": [
    "def run_pipeline(i, lock):\n",
    "    print(i)\n",
    "    global_start = time.time()\n",
    "    article = Article(data[\"text\"][i], data[\"author_extracted\"][i], data[\"date\"][i], data[\"source\"][i], data[\"id\"][i],\n",
    "                   download_ner_model=True, n_shift=0,graph=g,first_round=True ,commit=True,\n",
    "                   #initial_entities = initial_entities_df,initial_syn_dict = initial_entities_dict,\n",
    "                    validate=False, filter_by_constituency=False, \n",
    "                      path_constituency_parser=\"/home/ubuntu/ma_project/elmo-constituency-parser-2020.02.10.tar.gz\",\n",
    "                     path_coref_parser=\"/home/ubuntu/ma_project/coref-spanbert-large-2020.02.27.tar.gz\", lock = lock)\n",
    "    article.process_articles()\n",
    "    global_stop = time.time()\n",
    "    print(\"Time_per_article: \", global_stop-global_start)"
   ]
  },
  {
   "cell_type": "code",
   "execution_count": 16,
   "metadata": {},
   "outputs": [
    {
     "data": {
      "text/plain": [
       "3    False\n",
       "3     True\n",
       "dtype: bool"
      ]
     },
     "execution_count": 16,
     "metadata": {},
     "output_type": "execute_result"
    }
   ],
   "source": []
  },
  {
   "cell_type": "code",
   "execution_count": 74,
   "metadata": {
    "scrolled": true
   },
   "outputs": [
    {
     "name": "stdout",
     "output_type": "stream",
     "text": [
      "[[  0   0   0   0   0   0   1   0   0 135]\n",
      " [  0   0   0   0   0   0   1   0   0 296]\n",
      " [  0   1   1   0   0   1   1   1   0 297]\n",
      " [  0   0   0   0   0   0   0   1   0 298]\n",
      " [  0   0   0   0   0   0   0   1   0 321]\n",
      " [  0   0   0   0   0   0   1   0   0 392]]\n",
      "                                        name     tag  \\\n",
      "0  scottish general practitioners' committee     ORG   \n",
      "1                    scottish national party    NORP   \n",
      "2               alcohol minimum pricing bill     LAW   \n",
      "3               british medical association      ORG   \n",
      "4                                   holyrood     ORG   \n",
      "5                              alan mcdevitt  PERSON   \n",
      "\n",
      "                                            synonyms  \n",
      "0        _scottish general practitioners' committee_  \n",
      "1  _snp'__nats__scottish national party's__nats'_...  \n",
      "2  _alcohol bill__alcohol pricing bill__alcohol (...  \n",
      "3  _bma scotland__bma__bma's__british medical ass...  \n",
      "4  _health and sport committee__holyrood's financ...  \n",
      "5                                    _alan mcdevitt_  \n",
      "135    alan mcdevitt\n",
      "Name: name, dtype: object\n",
      "293    holyrood\n",
      "Name: name, dtype: object\n",
      "294    british medical association \n",
      "Name: name, dtype: object\n",
      "295    alcohol minimum pricing bill\n",
      "Name: name, dtype: object\n",
      "318    scottish national party\n",
      "Name: name, dtype: object\n"
     ]
    },
    {
     "data": {
      "text/plain": [
       "['( p ) GP surgeries in Scotland treat more than 5,500 patients for alcoholrelated health problems every day, new research suggests.',\n",
       " '( p ) A snapshot survey by the British Medical Association Scotland found that, on a single day last month, alcohol was a factor in 5,633 consultations.',\n",
       " '5,633 consultations equates to about 1.4 million appointments a year, at a cost of more than £ 28 million to the British Medical Association Scotland.',\n",
       " '( p ) new research is based on a sample of 31 practices from across Scotland on April 21.',\n",
       " '31 practices reported 169 consultations with a GP or practice nurse had alcohol as a factor.',\n",
       " 'the British Medical Association Scotland said that a sample of 31 practices from across Scotland on April 21 covered not only alcoholics and binge drinkers but a significant proportion of the adult population who were risking health problems such as high blood pressure and breast cancer.',\n",
       " \"( p ) Dr Alan McDevitt, deputy chairman of the British Medical Association Scotland Scottish General Practitioners' Committee, added that the British Medical Association Scotland was calling on the candidates in the Holyrood election on Thursday to spend a day talking about how the candidates in the Holyrood election on Thursday would address the problem in the next parliamentary term.\",\n",
       " \"the British Medical Association Scotland has already given the British Medical Association Scotland backing to the Scottish National Party's proposals for minimum pricing of alcohol, which were defeated in the last Parliament.\"]"
      ]
     },
     "execution_count": 74,
     "metadata": {},
     "output_type": "execute_result"
    }
   ],
   "source": [
    "print(article.occurrence_matrix)\n",
    "print(article.entity_dataset.df)\n",
    "print(article.initial_entities_df[\"name\"][article.initial_entities_df[\"id\"] == 135])\n",
    "print(article.initial_entities_df[\"name\"][article.initial_entities_df[\"id\"] == 296])\n",
    "print(article.initial_entities_df[\"name\"][article.initial_entities_df[\"id\"] == 297])\n",
    "print(article.initial_entities_df[\"name\"][article.initial_entities_df[\"id\"] == 298])\n",
    "print(article.initial_entities_df[\"name\"][article.initial_entities_df[\"id\"] == 321])\n",
    "article.sentences\n",
    "\n"
   ]
  },
  {
   "cell_type": "code",
   "execution_count": null,
   "metadata": {},
   "outputs": [
    {
     "name": "stdout",
     "output_type": "stream",
     "text": [
      "15171618\n",
      "\n",
      "\n",
      "\n",
      "Create initial objects: 0.647097110748291\n",
      "Create initial objects: 1.2797865867614746\n",
      "Create initial objects: 1.9719607830047607\n",
      "Create initial objects: 2.6555094718933105\n"
     ]
    }
   ],
   "source": [
    "import multiprocessing\n",
    "from more_itertools import grouper\n",
    "from multiprocessing import Process, Lock\n",
    "\n",
    "def init(l):\n",
    "    global lock\n",
    "    lock = l\n",
    "\n",
    "    \n",
    "indices = list(range(15,23))\n",
    "\n",
    "l = Lock()\n",
    "\n",
    "\n",
    "\n",
    "pool = multiprocessing.Pool(initializer=init, initargs=(l,), processes=4)\n",
    "pool.map(run_pipeline, indices)\n",
    "pool.close()\n",
    "pool.join()"
   ]
  },
  {
   "cell_type": "code",
   "execution_count": null,
   "metadata": {},
   "outputs": [
    {
     "name": "stdout",
     "output_type": "stream",
     "text": [
      "8267 working\n"
     ]
    },
    {
     "name": "stderr",
     "output_type": "stream",
     "text": [
      "Some weights of BertModel were not initialized from the model checkpoint at SpanBERT/spanbert-large-cased and are newly initialized: ['bert.pooler.dense.weight', 'bert.pooler.dense.bias']\n",
      "You should probably TRAIN this model on a down-stream task to be able to use it for predictions and inference.\n",
      "Did not use initialization regex that was passed: _context_layer._module.weight_hh.*\n",
      "Did not use initialization regex that was passed: _context_layer._module.weight_ih.*\n",
      "[nltk_data] Downloading package punkt to /home/ubuntu/nltk_data...\n",
      "[nltk_data]   Package punkt is already up-to-date!\n",
      "[nltk_data] Downloading package stopwords to /home/ubuntu/nltk_data...\n",
      "[nltk_data]   Package stopwords is already up-to-date!\n",
      "[nltk_data] Downloading package perluniprops to\n",
      "[nltk_data]     /home/ubuntu/nltk_data...\n",
      "[nltk_data]   Package perluniprops is already up-to-date!\n",
      "[nltk_data] Downloading package nonbreaking_prefixes to\n",
      "[nltk_data]     /home/ubuntu/nltk_data...\n",
      "[nltk_data]   Package nonbreaking_prefixes is already up-to-date!\n"
     ]
    },
    {
     "name": "stdout",
     "output_type": "stream",
     "text": [
      "WARNING:tensorflow:From /home/ubuntu/.local/lib/python3.6/site-packages/bert_dp/tokenization.py:125: The name tf.gfile.GFile is deprecated. Please use tf.io.gfile.GFile instead.\n",
      "\n"
     ]
    },
    {
     "name": "stderr",
     "output_type": "stream",
     "text": [
      "WARNING:tensorflow:From /home/ubuntu/.local/lib/python3.6/site-packages/bert_dp/tokenization.py:125: The name tf.gfile.GFile is deprecated. Please use tf.io.gfile.GFile instead.\n",
      "\n",
      "2020-09-19 12:58:10.493 INFO in 'deeppavlov.core.data.simple_vocab'['simple_vocab'] at line 112: [loading vocabulary from /home/ubuntu/.deeppavlov/models/ner_ontonotes_bert_mult/tag.dict]\n",
      "INFO:deeppavlov.core.data.simple_vocab:[loading vocabulary from /home/ubuntu/.deeppavlov/models/ner_ontonotes_bert_mult/tag.dict]\n"
     ]
    },
    {
     "name": "stdout",
     "output_type": "stream",
     "text": [
      "WARNING:tensorflow:From /home/ubuntu/.local/lib/python3.6/site-packages/deeppavlov/core/models/tf_model.py:38: The name tf.Session is deprecated. Please use tf.compat.v1.Session instead.\n",
      "\n"
     ]
    },
    {
     "name": "stderr",
     "output_type": "stream",
     "text": [
      "WARNING:tensorflow:From /home/ubuntu/.local/lib/python3.6/site-packages/deeppavlov/core/models/tf_model.py:38: The name tf.Session is deprecated. Please use tf.compat.v1.Session instead.\n",
      "\n"
     ]
    },
    {
     "name": "stdout",
     "output_type": "stream",
     "text": [
      "WARNING:tensorflow:From /home/ubuntu/.local/lib/python3.6/site-packages/deeppavlov/core/models/tf_model.py:223: The name tf.placeholder is deprecated. Please use tf.compat.v1.placeholder instead.\n",
      "\n"
     ]
    },
    {
     "name": "stderr",
     "output_type": "stream",
     "text": [
      "WARNING:tensorflow:From /home/ubuntu/.local/lib/python3.6/site-packages/deeppavlov/core/models/tf_model.py:223: The name tf.placeholder is deprecated. Please use tf.compat.v1.placeholder instead.\n",
      "\n"
     ]
    },
    {
     "name": "stdout",
     "output_type": "stream",
     "text": [
      "WARNING:tensorflow:From /home/ubuntu/.local/lib/python3.6/site-packages/deeppavlov/core/models/tf_model.py:223: The name tf.train.Optimizer is deprecated. Please use tf.compat.v1.train.Optimizer instead.\n",
      "\n"
     ]
    },
    {
     "name": "stderr",
     "output_type": "stream",
     "text": [
      "WARNING:tensorflow:From /home/ubuntu/.local/lib/python3.6/site-packages/deeppavlov/core/models/tf_model.py:223: The name tf.train.Optimizer is deprecated. Please use tf.compat.v1.train.Optimizer instead.\n",
      "\n",
      "Using TensorFlow backend.\n"
     ]
    },
    {
     "name": "stdout",
     "output_type": "stream",
     "text": [
      "WARNING:tensorflow:From /home/ubuntu/.local/lib/python3.6/site-packages/deeppavlov/core/models/tf_model.py:194: The name tf.train.AdamOptimizer is deprecated. Please use tf.compat.v1.train.AdamOptimizer instead.\n",
      "\n"
     ]
    },
    {
     "name": "stderr",
     "output_type": "stream",
     "text": [
      "WARNING:tensorflow:From /home/ubuntu/.local/lib/python3.6/site-packages/deeppavlov/core/models/tf_model.py:194: The name tf.train.AdamOptimizer is deprecated. Please use tf.compat.v1.train.AdamOptimizer instead.\n",
      "\n"
     ]
    },
    {
     "name": "stdout",
     "output_type": "stream",
     "text": [
      "WARNING:tensorflow:From /home/ubuntu/.local/lib/python3.6/site-packages/deeppavlov/models/bert/bert_ner.py:126: The name tf.ConfigProto is deprecated. Please use tf.compat.v1.ConfigProto instead.\n",
      "\n"
     ]
    },
    {
     "name": "stderr",
     "output_type": "stream",
     "text": [
      "WARNING:tensorflow:From /home/ubuntu/.local/lib/python3.6/site-packages/deeppavlov/models/bert/bert_ner.py:126: The name tf.ConfigProto is deprecated. Please use tf.compat.v1.ConfigProto instead.\n",
      "\n"
     ]
    },
    {
     "name": "stdout",
     "output_type": "stream",
     "text": [
      "WARNING:tensorflow:From /home/ubuntu/.local/lib/python3.6/site-packages/deeppavlov/models/bert/bert_ner.py:227: The name tf.placeholder_with_default is deprecated. Please use tf.compat.v1.placeholder_with_default instead.\n",
      "\n"
     ]
    },
    {
     "name": "stderr",
     "output_type": "stream",
     "text": [
      "WARNING:tensorflow:From /home/ubuntu/.local/lib/python3.6/site-packages/deeppavlov/models/bert/bert_ner.py:227: The name tf.placeholder_with_default is deprecated. Please use tf.compat.v1.placeholder_with_default instead.\n",
      "\n"
     ]
    },
    {
     "name": "stdout",
     "output_type": "stream",
     "text": [
      "WARNING:tensorflow:From /home/ubuntu/.local/lib/python3.6/site-packages/bert_dp/modeling.py:178: The name tf.variable_scope is deprecated. Please use tf.compat.v1.variable_scope instead.\n",
      "\n"
     ]
    },
    {
     "name": "stderr",
     "output_type": "stream",
     "text": [
      "WARNING:tensorflow:From /home/ubuntu/.local/lib/python3.6/site-packages/bert_dp/modeling.py:178: The name tf.variable_scope is deprecated. Please use tf.compat.v1.variable_scope instead.\n",
      "\n"
     ]
    },
    {
     "name": "stdout",
     "output_type": "stream",
     "text": [
      "WARNING:tensorflow:\n",
      "The TensorFlow contrib module will not be included in TensorFlow 2.0.\n",
      "For more information, please see:\n",
      "  * https://github.com/tensorflow/community/blob/master/rfcs/20180907-contrib-sunset.md\n",
      "  * https://github.com/tensorflow/addons\n",
      "  * https://github.com/tensorflow/io (for I/O related ops)\n",
      "If you depend on functionality not listed there, please file an issue.\n",
      "\n"
     ]
    },
    {
     "name": "stderr",
     "output_type": "stream",
     "text": [
      "WARNING:tensorflow:\n",
      "The TensorFlow contrib module will not be included in TensorFlow 2.0.\n",
      "For more information, please see:\n",
      "  * https://github.com/tensorflow/community/blob/master/rfcs/20180907-contrib-sunset.md\n",
      "  * https://github.com/tensorflow/addons\n",
      "  * https://github.com/tensorflow/io (for I/O related ops)\n",
      "If you depend on functionality not listed there, please file an issue.\n",
      "\n"
     ]
    },
    {
     "name": "stdout",
     "output_type": "stream",
     "text": [
      "WARNING:tensorflow:From /home/ubuntu/.local/lib/python3.6/site-packages/bert_dp/modeling.py:366: calling dropout (from tensorflow.python.ops.nn_ops) with keep_prob is deprecated and will be removed in a future version.\n",
      "Instructions for updating:\n",
      "Please use `rate` instead of `keep_prob`. Rate should be set to `rate = 1 - keep_prob`.\n"
     ]
    },
    {
     "name": "stderr",
     "output_type": "stream",
     "text": [
      "WARNING:tensorflow:From /home/ubuntu/.local/lib/python3.6/site-packages/bert_dp/modeling.py:366: calling dropout (from tensorflow.python.ops.nn_ops) with keep_prob is deprecated and will be removed in a future version.\n",
      "Instructions for updating:\n",
      "Please use `rate` instead of `keep_prob`. Rate should be set to `rate = 1 - keep_prob`.\n"
     ]
    },
    {
     "name": "stdout",
     "output_type": "stream",
     "text": [
      "WARNING:tensorflow:From /home/ubuntu/.local/lib/python3.6/site-packages/bert_dp/modeling.py:680: dense (from tensorflow.python.layers.core) is deprecated and will be removed in a future version.\n",
      "Instructions for updating:\n",
      "Use keras.layers.dense instead.\n"
     ]
    },
    {
     "name": "stderr",
     "output_type": "stream",
     "text": [
      "WARNING:tensorflow:From /home/ubuntu/.local/lib/python3.6/site-packages/bert_dp/modeling.py:680: dense (from tensorflow.python.layers.core) is deprecated and will be removed in a future version.\n",
      "Instructions for updating:\n",
      "Use keras.layers.dense instead.\n"
     ]
    },
    {
     "name": "stdout",
     "output_type": "stream",
     "text": [
      "WARNING:tensorflow:Entity <bound method Dense.call of <tensorflow.python.layers.core.Dense object at 0x7fc4cc0ec668>> could not be transformed and will be executed as-is. Please report this to the AutgoGraph team. When filing the bug, set the verbosity to 10 (on Linux, `export AUTOGRAPH_VERBOSITY=10`) and attach the full output. Cause: converting <bound method Dense.call of <tensorflow.python.layers.core.Dense object at 0x7fc4cc0ec668>>: AssertionError: Bad argument number for Name: 3, expecting 4\n"
     ]
    },
    {
     "name": "stderr",
     "output_type": "stream",
     "text": [
      "WARNING:tensorflow:Entity <bound method Dense.call of <tensorflow.python.layers.core.Dense object at 0x7fc4cc0ec668>> could not be transformed and will be executed as-is. Please report this to the AutgoGraph team. When filing the bug, set the verbosity to 10 (on Linux, `export AUTOGRAPH_VERBOSITY=10`) and attach the full output. Cause: converting <bound method Dense.call of <tensorflow.python.layers.core.Dense object at 0x7fc4cc0ec668>>: AssertionError: Bad argument number for Name: 3, expecting 4\n"
     ]
    },
    {
     "name": "stdout",
     "output_type": "stream",
     "text": [
      "WARNING: Entity <bound method Dense.call of <tensorflow.python.layers.core.Dense object at 0x7fc4cc0ec668>> could not be transformed and will be executed as-is. Please report this to the AutgoGraph team. When filing the bug, set the verbosity to 10 (on Linux, `export AUTOGRAPH_VERBOSITY=10`) and attach the full output. Cause: converting <bound method Dense.call of <tensorflow.python.layers.core.Dense object at 0x7fc4cc0ec668>>: AssertionError: Bad argument number for Name: 3, expecting 4\n",
      "WARNING:tensorflow:Entity <bound method Dense.call of <tensorflow.python.layers.core.Dense object at 0x7fc4cc0ec668>> could not be transformed and will be executed as-is. Please report this to the AutgoGraph team. When filing the bug, set the verbosity to 10 (on Linux, `export AUTOGRAPH_VERBOSITY=10`) and attach the full output. Cause: converting <bound method Dense.call of <tensorflow.python.layers.core.Dense object at 0x7fc4cc0ec668>>: AssertionError: Bad argument number for Name: 3, expecting 4\n"
     ]
    },
    {
     "name": "stderr",
     "output_type": "stream",
     "text": [
      "WARNING:tensorflow:Entity <bound method Dense.call of <tensorflow.python.layers.core.Dense object at 0x7fc4cc0ec668>> could not be transformed and will be executed as-is. Please report this to the AutgoGraph team. When filing the bug, set the verbosity to 10 (on Linux, `export AUTOGRAPH_VERBOSITY=10`) and attach the full output. Cause: converting <bound method Dense.call of <tensorflow.python.layers.core.Dense object at 0x7fc4cc0ec668>>: AssertionError: Bad argument number for Name: 3, expecting 4\n"
     ]
    },
    {
     "name": "stdout",
     "output_type": "stream",
     "text": [
      "WARNING: Entity <bound method Dense.call of <tensorflow.python.layers.core.Dense object at 0x7fc4cc0ec668>> could not be transformed and will be executed as-is. Please report this to the AutgoGraph team. When filing the bug, set the verbosity to 10 (on Linux, `export AUTOGRAPH_VERBOSITY=10`) and attach the full output. Cause: converting <bound method Dense.call of <tensorflow.python.layers.core.Dense object at 0x7fc4cc0ec668>>: AssertionError: Bad argument number for Name: 3, expecting 4\n",
      "WARNING:tensorflow:Entity <bound method Dense.call of <tensorflow.python.layers.core.Dense object at 0x7fc4cc09ccc0>> could not be transformed and will be executed as-is. Please report this to the AutgoGraph team. When filing the bug, set the verbosity to 10 (on Linux, `export AUTOGRAPH_VERBOSITY=10`) and attach the full output. Cause: converting <bound method Dense.call of <tensorflow.python.layers.core.Dense object at 0x7fc4cc09ccc0>>: AssertionError: Bad argument number for Name: 3, expecting 4\n"
     ]
    },
    {
     "name": "stderr",
     "output_type": "stream",
     "text": [
      "WARNING:tensorflow:Entity <bound method Dense.call of <tensorflow.python.layers.core.Dense object at 0x7fc4cc09ccc0>> could not be transformed and will be executed as-is. Please report this to the AutgoGraph team. When filing the bug, set the verbosity to 10 (on Linux, `export AUTOGRAPH_VERBOSITY=10`) and attach the full output. Cause: converting <bound method Dense.call of <tensorflow.python.layers.core.Dense object at 0x7fc4cc09ccc0>>: AssertionError: Bad argument number for Name: 3, expecting 4\n"
     ]
    },
    {
     "name": "stdout",
     "output_type": "stream",
     "text": [
      "WARNING: Entity <bound method Dense.call of <tensorflow.python.layers.core.Dense object at 0x7fc4cc09ccc0>> could not be transformed and will be executed as-is. Please report this to the AutgoGraph team. When filing the bug, set the verbosity to 10 (on Linux, `export AUTOGRAPH_VERBOSITY=10`) and attach the full output. Cause: converting <bound method Dense.call of <tensorflow.python.layers.core.Dense object at 0x7fc4cc09ccc0>>: AssertionError: Bad argument number for Name: 3, expecting 4\n",
      "WARNING:tensorflow:Entity <bound method Dense.call of <tensorflow.python.layers.core.Dense object at 0x7fc4cc0ec400>> could not be transformed and will be executed as-is. Please report this to the AutgoGraph team. When filing the bug, set the verbosity to 10 (on Linux, `export AUTOGRAPH_VERBOSITY=10`) and attach the full output. Cause: converting <bound method Dense.call of <tensorflow.python.layers.core.Dense object at 0x7fc4cc0ec400>>: AssertionError: Bad argument number for Name: 3, expecting 4\n"
     ]
    },
    {
     "name": "stderr",
     "output_type": "stream",
     "text": [
      "WARNING:tensorflow:Entity <bound method Dense.call of <tensorflow.python.layers.core.Dense object at 0x7fc4cc0ec400>> could not be transformed and will be executed as-is. Please report this to the AutgoGraph team. When filing the bug, set the verbosity to 10 (on Linux, `export AUTOGRAPH_VERBOSITY=10`) and attach the full output. Cause: converting <bound method Dense.call of <tensorflow.python.layers.core.Dense object at 0x7fc4cc0ec400>>: AssertionError: Bad argument number for Name: 3, expecting 4\n"
     ]
    },
    {
     "name": "stdout",
     "output_type": "stream",
     "text": [
      "WARNING: Entity <bound method Dense.call of <tensorflow.python.layers.core.Dense object at 0x7fc4cc0ec400>> could not be transformed and will be executed as-is. Please report this to the AutgoGraph team. When filing the bug, set the verbosity to 10 (on Linux, `export AUTOGRAPH_VERBOSITY=10`) and attach the full output. Cause: converting <bound method Dense.call of <tensorflow.python.layers.core.Dense object at 0x7fc4cc0ec400>>: AssertionError: Bad argument number for Name: 3, expecting 4\n",
      "WARNING:tensorflow:Entity <bound method Dense.call of <tensorflow.python.layers.core.Dense object at 0x7fc4cc0c1b70>> could not be transformed and will be executed as-is. Please report this to the AutgoGraph team. When filing the bug, set the verbosity to 10 (on Linux, `export AUTOGRAPH_VERBOSITY=10`) and attach the full output. Cause: converting <bound method Dense.call of <tensorflow.python.layers.core.Dense object at 0x7fc4cc0c1b70>>: AssertionError: Bad argument number for Name: 3, expecting 4\n"
     ]
    },
    {
     "name": "stderr",
     "output_type": "stream",
     "text": [
      "WARNING:tensorflow:Entity <bound method Dense.call of <tensorflow.python.layers.core.Dense object at 0x7fc4cc0c1b70>> could not be transformed and will be executed as-is. Please report this to the AutgoGraph team. When filing the bug, set the verbosity to 10 (on Linux, `export AUTOGRAPH_VERBOSITY=10`) and attach the full output. Cause: converting <bound method Dense.call of <tensorflow.python.layers.core.Dense object at 0x7fc4cc0c1b70>>: AssertionError: Bad argument number for Name: 3, expecting 4\n"
     ]
    },
    {
     "name": "stdout",
     "output_type": "stream",
     "text": [
      "WARNING: Entity <bound method Dense.call of <tensorflow.python.layers.core.Dense object at 0x7fc4cc0c1b70>> could not be transformed and will be executed as-is. Please report this to the AutgoGraph team. When filing the bug, set the verbosity to 10 (on Linux, `export AUTOGRAPH_VERBOSITY=10`) and attach the full output. Cause: converting <bound method Dense.call of <tensorflow.python.layers.core.Dense object at 0x7fc4cc0c1b70>>: AssertionError: Bad argument number for Name: 3, expecting 4\n",
      "WARNING:tensorflow:Entity <bound method Dense.call of <tensorflow.python.layers.core.Dense object at 0x7fc4cc0c1fd0>> could not be transformed and will be executed as-is. Please report this to the AutgoGraph team. When filing the bug, set the verbosity to 10 (on Linux, `export AUTOGRAPH_VERBOSITY=10`) and attach the full output. Cause: converting <bound method Dense.call of <tensorflow.python.layers.core.Dense object at 0x7fc4cc0c1fd0>>: AssertionError: Bad argument number for Name: 3, expecting 4\n"
     ]
    },
    {
     "name": "stderr",
     "output_type": "stream",
     "text": [
      "WARNING:tensorflow:Entity <bound method Dense.call of <tensorflow.python.layers.core.Dense object at 0x7fc4cc0c1fd0>> could not be transformed and will be executed as-is. Please report this to the AutgoGraph team. When filing the bug, set the verbosity to 10 (on Linux, `export AUTOGRAPH_VERBOSITY=10`) and attach the full output. Cause: converting <bound method Dense.call of <tensorflow.python.layers.core.Dense object at 0x7fc4cc0c1fd0>>: AssertionError: Bad argument number for Name: 3, expecting 4\n"
     ]
    },
    {
     "name": "stdout",
     "output_type": "stream",
     "text": [
      "WARNING: Entity <bound method Dense.call of <tensorflow.python.layers.core.Dense object at 0x7fc4cc0c1fd0>> could not be transformed and will be executed as-is. Please report this to the AutgoGraph team. When filing the bug, set the verbosity to 10 (on Linux, `export AUTOGRAPH_VERBOSITY=10`) and attach the full output. Cause: converting <bound method Dense.call of <tensorflow.python.layers.core.Dense object at 0x7fc4cc0c1fd0>>: AssertionError: Bad argument number for Name: 3, expecting 4\n",
      "WARNING:tensorflow:Entity <bound method Dense.call of <tensorflow.python.layers.core.Dense object at 0x7fc467eb7400>> could not be transformed and will be executed as-is. Please report this to the AutgoGraph team. When filing the bug, set the verbosity to 10 (on Linux, `export AUTOGRAPH_VERBOSITY=10`) and attach the full output. Cause: converting <bound method Dense.call of <tensorflow.python.layers.core.Dense object at 0x7fc467eb7400>>: AssertionError: Bad argument number for Name: 3, expecting 4\n"
     ]
    },
    {
     "name": "stderr",
     "output_type": "stream",
     "text": [
      "WARNING:tensorflow:Entity <bound method Dense.call of <tensorflow.python.layers.core.Dense object at 0x7fc467eb7400>> could not be transformed and will be executed as-is. Please report this to the AutgoGraph team. When filing the bug, set the verbosity to 10 (on Linux, `export AUTOGRAPH_VERBOSITY=10`) and attach the full output. Cause: converting <bound method Dense.call of <tensorflow.python.layers.core.Dense object at 0x7fc467eb7400>>: AssertionError: Bad argument number for Name: 3, expecting 4\n"
     ]
    },
    {
     "name": "stdout",
     "output_type": "stream",
     "text": [
      "WARNING: Entity <bound method Dense.call of <tensorflow.python.layers.core.Dense object at 0x7fc467eb7400>> could not be transformed and will be executed as-is. Please report this to the AutgoGraph team. When filing the bug, set the verbosity to 10 (on Linux, `export AUTOGRAPH_VERBOSITY=10`) and attach the full output. Cause: converting <bound method Dense.call of <tensorflow.python.layers.core.Dense object at 0x7fc467eb7400>>: AssertionError: Bad argument number for Name: 3, expecting 4\n",
      "WARNING:tensorflow:Entity <bound method Dense.call of <tensorflow.python.layers.core.Dense object at 0x7fc467eb7400>> could not be transformed and will be executed as-is. Please report this to the AutgoGraph team. When filing the bug, set the verbosity to 10 (on Linux, `export AUTOGRAPH_VERBOSITY=10`) and attach the full output. Cause: converting <bound method Dense.call of <tensorflow.python.layers.core.Dense object at 0x7fc467eb7400>>: AssertionError: Bad argument number for Name: 3, expecting 4\n"
     ]
    },
    {
     "name": "stderr",
     "output_type": "stream",
     "text": [
      "WARNING:tensorflow:Entity <bound method Dense.call of <tensorflow.python.layers.core.Dense object at 0x7fc467eb7400>> could not be transformed and will be executed as-is. Please report this to the AutgoGraph team. When filing the bug, set the verbosity to 10 (on Linux, `export AUTOGRAPH_VERBOSITY=10`) and attach the full output. Cause: converting <bound method Dense.call of <tensorflow.python.layers.core.Dense object at 0x7fc467eb7400>>: AssertionError: Bad argument number for Name: 3, expecting 4\n"
     ]
    },
    {
     "name": "stdout",
     "output_type": "stream",
     "text": [
      "WARNING: Entity <bound method Dense.call of <tensorflow.python.layers.core.Dense object at 0x7fc467eb7400>> could not be transformed and will be executed as-is. Please report this to the AutgoGraph team. When filing the bug, set the verbosity to 10 (on Linux, `export AUTOGRAPH_VERBOSITY=10`) and attach the full output. Cause: converting <bound method Dense.call of <tensorflow.python.layers.core.Dense object at 0x7fc467eb7400>>: AssertionError: Bad argument number for Name: 3, expecting 4\n",
      "WARNING:tensorflow:Entity <bound method Dense.call of <tensorflow.python.layers.core.Dense object at 0x7fc467eb7400>> could not be transformed and will be executed as-is. Please report this to the AutgoGraph team. When filing the bug, set the verbosity to 10 (on Linux, `export AUTOGRAPH_VERBOSITY=10`) and attach the full output. Cause: converting <bound method Dense.call of <tensorflow.python.layers.core.Dense object at 0x7fc467eb7400>>: AssertionError: Bad argument number for Name: 3, expecting 4\n"
     ]
    },
    {
     "name": "stderr",
     "output_type": "stream",
     "text": [
      "WARNING:tensorflow:Entity <bound method Dense.call of <tensorflow.python.layers.core.Dense object at 0x7fc467eb7400>> could not be transformed and will be executed as-is. Please report this to the AutgoGraph team. When filing the bug, set the verbosity to 10 (on Linux, `export AUTOGRAPH_VERBOSITY=10`) and attach the full output. Cause: converting <bound method Dense.call of <tensorflow.python.layers.core.Dense object at 0x7fc467eb7400>>: AssertionError: Bad argument number for Name: 3, expecting 4\n"
     ]
    },
    {
     "name": "stdout",
     "output_type": "stream",
     "text": [
      "WARNING: Entity <bound method Dense.call of <tensorflow.python.layers.core.Dense object at 0x7fc467eb7400>> could not be transformed and will be executed as-is. Please report this to the AutgoGraph team. When filing the bug, set the verbosity to 10 (on Linux, `export AUTOGRAPH_VERBOSITY=10`) and attach the full output. Cause: converting <bound method Dense.call of <tensorflow.python.layers.core.Dense object at 0x7fc467eb7400>>: AssertionError: Bad argument number for Name: 3, expecting 4\n",
      "WARNING:tensorflow:Entity <bound method Dense.call of <tensorflow.python.layers.core.Dense object at 0x7fc4a403e710>> could not be transformed and will be executed as-is. Please report this to the AutgoGraph team. When filing the bug, set the verbosity to 10 (on Linux, `export AUTOGRAPH_VERBOSITY=10`) and attach the full output. Cause: converting <bound method Dense.call of <tensorflow.python.layers.core.Dense object at 0x7fc4a403e710>>: AssertionError: Bad argument number for Name: 3, expecting 4\n"
     ]
    },
    {
     "name": "stderr",
     "output_type": "stream",
     "text": [
      "WARNING:tensorflow:Entity <bound method Dense.call of <tensorflow.python.layers.core.Dense object at 0x7fc4a403e710>> could not be transformed and will be executed as-is. Please report this to the AutgoGraph team. When filing the bug, set the verbosity to 10 (on Linux, `export AUTOGRAPH_VERBOSITY=10`) and attach the full output. Cause: converting <bound method Dense.call of <tensorflow.python.layers.core.Dense object at 0x7fc4a403e710>>: AssertionError: Bad argument number for Name: 3, expecting 4\n"
     ]
    },
    {
     "name": "stdout",
     "output_type": "stream",
     "text": [
      "WARNING: Entity <bound method Dense.call of <tensorflow.python.layers.core.Dense object at 0x7fc4a403e710>> could not be transformed and will be executed as-is. Please report this to the AutgoGraph team. When filing the bug, set the verbosity to 10 (on Linux, `export AUTOGRAPH_VERBOSITY=10`) and attach the full output. Cause: converting <bound method Dense.call of <tensorflow.python.layers.core.Dense object at 0x7fc4a403e710>>: AssertionError: Bad argument number for Name: 3, expecting 4\n",
      "WARNING:tensorflow:Entity <bound method Dense.call of <tensorflow.python.layers.core.Dense object at 0x7fc4cc0c1f98>> could not be transformed and will be executed as-is. Please report this to the AutgoGraph team. When filing the bug, set the verbosity to 10 (on Linux, `export AUTOGRAPH_VERBOSITY=10`) and attach the full output. Cause: converting <bound method Dense.call of <tensorflow.python.layers.core.Dense object at 0x7fc4cc0c1f98>>: AssertionError: Bad argument number for Name: 3, expecting 4\n"
     ]
    },
    {
     "name": "stderr",
     "output_type": "stream",
     "text": [
      "WARNING:tensorflow:Entity <bound method Dense.call of <tensorflow.python.layers.core.Dense object at 0x7fc4cc0c1f98>> could not be transformed and will be executed as-is. Please report this to the AutgoGraph team. When filing the bug, set the verbosity to 10 (on Linux, `export AUTOGRAPH_VERBOSITY=10`) and attach the full output. Cause: converting <bound method Dense.call of <tensorflow.python.layers.core.Dense object at 0x7fc4cc0c1f98>>: AssertionError: Bad argument number for Name: 3, expecting 4\n"
     ]
    },
    {
     "name": "stdout",
     "output_type": "stream",
     "text": [
      "WARNING: Entity <bound method Dense.call of <tensorflow.python.layers.core.Dense object at 0x7fc4cc0c1f98>> could not be transformed and will be executed as-is. Please report this to the AutgoGraph team. When filing the bug, set the verbosity to 10 (on Linux, `export AUTOGRAPH_VERBOSITY=10`) and attach the full output. Cause: converting <bound method Dense.call of <tensorflow.python.layers.core.Dense object at 0x7fc4cc0c1f98>>: AssertionError: Bad argument number for Name: 3, expecting 4\n",
      "WARNING:tensorflow:Entity <bound method Dense.call of <tensorflow.python.layers.core.Dense object at 0x7fc467f79a90>> could not be transformed and will be executed as-is. Please report this to the AutgoGraph team. When filing the bug, set the verbosity to 10 (on Linux, `export AUTOGRAPH_VERBOSITY=10`) and attach the full output. Cause: converting <bound method Dense.call of <tensorflow.python.layers.core.Dense object at 0x7fc467f79a90>>: AssertionError: Bad argument number for Name: 3, expecting 4\n"
     ]
    },
    {
     "name": "stderr",
     "output_type": "stream",
     "text": [
      "WARNING:tensorflow:Entity <bound method Dense.call of <tensorflow.python.layers.core.Dense object at 0x7fc467f79a90>> could not be transformed and will be executed as-is. Please report this to the AutgoGraph team. When filing the bug, set the verbosity to 10 (on Linux, `export AUTOGRAPH_VERBOSITY=10`) and attach the full output. Cause: converting <bound method Dense.call of <tensorflow.python.layers.core.Dense object at 0x7fc467f79a90>>: AssertionError: Bad argument number for Name: 3, expecting 4\n"
     ]
    },
    {
     "name": "stdout",
     "output_type": "stream",
     "text": [
      "WARNING: Entity <bound method Dense.call of <tensorflow.python.layers.core.Dense object at 0x7fc467f79a90>> could not be transformed and will be executed as-is. Please report this to the AutgoGraph team. When filing the bug, set the verbosity to 10 (on Linux, `export AUTOGRAPH_VERBOSITY=10`) and attach the full output. Cause: converting <bound method Dense.call of <tensorflow.python.layers.core.Dense object at 0x7fc467f79a90>>: AssertionError: Bad argument number for Name: 3, expecting 4\n",
      "WARNING:tensorflow:Entity <bound method Dense.call of <tensorflow.python.layers.core.Dense object at 0x7fc467bc1b38>> could not be transformed and will be executed as-is. Please report this to the AutgoGraph team. When filing the bug, set the verbosity to 10 (on Linux, `export AUTOGRAPH_VERBOSITY=10`) and attach the full output. Cause: converting <bound method Dense.call of <tensorflow.python.layers.core.Dense object at 0x7fc467bc1b38>>: AssertionError: Bad argument number for Name: 3, expecting 4\n"
     ]
    },
    {
     "name": "stderr",
     "output_type": "stream",
     "text": [
      "WARNING:tensorflow:Entity <bound method Dense.call of <tensorflow.python.layers.core.Dense object at 0x7fc467bc1b38>> could not be transformed and will be executed as-is. Please report this to the AutgoGraph team. When filing the bug, set the verbosity to 10 (on Linux, `export AUTOGRAPH_VERBOSITY=10`) and attach the full output. Cause: converting <bound method Dense.call of <tensorflow.python.layers.core.Dense object at 0x7fc467bc1b38>>: AssertionError: Bad argument number for Name: 3, expecting 4\n"
     ]
    },
    {
     "name": "stdout",
     "output_type": "stream",
     "text": [
      "WARNING: Entity <bound method Dense.call of <tensorflow.python.layers.core.Dense object at 0x7fc467bc1b38>> could not be transformed and will be executed as-is. Please report this to the AutgoGraph team. When filing the bug, set the verbosity to 10 (on Linux, `export AUTOGRAPH_VERBOSITY=10`) and attach the full output. Cause: converting <bound method Dense.call of <tensorflow.python.layers.core.Dense object at 0x7fc467bc1b38>>: AssertionError: Bad argument number for Name: 3, expecting 4\n",
      "WARNING:tensorflow:Entity <bound method Dense.call of <tensorflow.python.layers.core.Dense object at 0x7fc467bc1b38>> could not be transformed and will be executed as-is. Please report this to the AutgoGraph team. When filing the bug, set the verbosity to 10 (on Linux, `export AUTOGRAPH_VERBOSITY=10`) and attach the full output. Cause: converting <bound method Dense.call of <tensorflow.python.layers.core.Dense object at 0x7fc467bc1b38>>: AssertionError: Bad argument number for Name: 3, expecting 4\n"
     ]
    },
    {
     "name": "stderr",
     "output_type": "stream",
     "text": [
      "WARNING:tensorflow:Entity <bound method Dense.call of <tensorflow.python.layers.core.Dense object at 0x7fc467bc1b38>> could not be transformed and will be executed as-is. Please report this to the AutgoGraph team. When filing the bug, set the verbosity to 10 (on Linux, `export AUTOGRAPH_VERBOSITY=10`) and attach the full output. Cause: converting <bound method Dense.call of <tensorflow.python.layers.core.Dense object at 0x7fc467bc1b38>>: AssertionError: Bad argument number for Name: 3, expecting 4\n"
     ]
    },
    {
     "name": "stdout",
     "output_type": "stream",
     "text": [
      "WARNING: Entity <bound method Dense.call of <tensorflow.python.layers.core.Dense object at 0x7fc467bc1b38>> could not be transformed and will be executed as-is. Please report this to the AutgoGraph team. When filing the bug, set the verbosity to 10 (on Linux, `export AUTOGRAPH_VERBOSITY=10`) and attach the full output. Cause: converting <bound method Dense.call of <tensorflow.python.layers.core.Dense object at 0x7fc467bc1b38>>: AssertionError: Bad argument number for Name: 3, expecting 4\n",
      "WARNING:tensorflow:Entity <bound method Dense.call of <tensorflow.python.layers.core.Dense object at 0x7fc467bc1b38>> could not be transformed and will be executed as-is. Please report this to the AutgoGraph team. When filing the bug, set the verbosity to 10 (on Linux, `export AUTOGRAPH_VERBOSITY=10`) and attach the full output. Cause: converting <bound method Dense.call of <tensorflow.python.layers.core.Dense object at 0x7fc467bc1b38>>: AssertionError: Bad argument number for Name: 3, expecting 4\n"
     ]
    },
    {
     "name": "stderr",
     "output_type": "stream",
     "text": [
      "WARNING:tensorflow:Entity <bound method Dense.call of <tensorflow.python.layers.core.Dense object at 0x7fc467bc1b38>> could not be transformed and will be executed as-is. Please report this to the AutgoGraph team. When filing the bug, set the verbosity to 10 (on Linux, `export AUTOGRAPH_VERBOSITY=10`) and attach the full output. Cause: converting <bound method Dense.call of <tensorflow.python.layers.core.Dense object at 0x7fc467bc1b38>>: AssertionError: Bad argument number for Name: 3, expecting 4\n"
     ]
    },
    {
     "name": "stdout",
     "output_type": "stream",
     "text": [
      "WARNING: Entity <bound method Dense.call of <tensorflow.python.layers.core.Dense object at 0x7fc467bc1b38>> could not be transformed and will be executed as-is. Please report this to the AutgoGraph team. When filing the bug, set the verbosity to 10 (on Linux, `export AUTOGRAPH_VERBOSITY=10`) and attach the full output. Cause: converting <bound method Dense.call of <tensorflow.python.layers.core.Dense object at 0x7fc467bc1b38>>: AssertionError: Bad argument number for Name: 3, expecting 4\n",
      "WARNING:tensorflow:Entity <bound method Dense.call of <tensorflow.python.layers.core.Dense object at 0x7fc4a404f5c0>> could not be transformed and will be executed as-is. Please report this to the AutgoGraph team. When filing the bug, set the verbosity to 10 (on Linux, `export AUTOGRAPH_VERBOSITY=10`) and attach the full output. Cause: converting <bound method Dense.call of <tensorflow.python.layers.core.Dense object at 0x7fc4a404f5c0>>: AssertionError: Bad argument number for Name: 3, expecting 4\n"
     ]
    },
    {
     "name": "stderr",
     "output_type": "stream",
     "text": [
      "WARNING:tensorflow:Entity <bound method Dense.call of <tensorflow.python.layers.core.Dense object at 0x7fc4a404f5c0>> could not be transformed and will be executed as-is. Please report this to the AutgoGraph team. When filing the bug, set the verbosity to 10 (on Linux, `export AUTOGRAPH_VERBOSITY=10`) and attach the full output. Cause: converting <bound method Dense.call of <tensorflow.python.layers.core.Dense object at 0x7fc4a404f5c0>>: AssertionError: Bad argument number for Name: 3, expecting 4\n"
     ]
    },
    {
     "name": "stdout",
     "output_type": "stream",
     "text": [
      "WARNING: Entity <bound method Dense.call of <tensorflow.python.layers.core.Dense object at 0x7fc4a404f5c0>> could not be transformed and will be executed as-is. Please report this to the AutgoGraph team. When filing the bug, set the verbosity to 10 (on Linux, `export AUTOGRAPH_VERBOSITY=10`) and attach the full output. Cause: converting <bound method Dense.call of <tensorflow.python.layers.core.Dense object at 0x7fc4a404f5c0>>: AssertionError: Bad argument number for Name: 3, expecting 4\n",
      "WARNING:tensorflow:Entity <bound method Dense.call of <tensorflow.python.layers.core.Dense object at 0x7fc4cc064438>> could not be transformed and will be executed as-is. Please report this to the AutgoGraph team. When filing the bug, set the verbosity to 10 (on Linux, `export AUTOGRAPH_VERBOSITY=10`) and attach the full output. Cause: converting <bound method Dense.call of <tensorflow.python.layers.core.Dense object at 0x7fc4cc064438>>: AssertionError: Bad argument number for Name: 3, expecting 4\n"
     ]
    },
    {
     "name": "stderr",
     "output_type": "stream",
     "text": [
      "WARNING:tensorflow:Entity <bound method Dense.call of <tensorflow.python.layers.core.Dense object at 0x7fc4cc064438>> could not be transformed and will be executed as-is. Please report this to the AutgoGraph team. When filing the bug, set the verbosity to 10 (on Linux, `export AUTOGRAPH_VERBOSITY=10`) and attach the full output. Cause: converting <bound method Dense.call of <tensorflow.python.layers.core.Dense object at 0x7fc4cc064438>>: AssertionError: Bad argument number for Name: 3, expecting 4\n"
     ]
    },
    {
     "name": "stdout",
     "output_type": "stream",
     "text": [
      "WARNING: Entity <bound method Dense.call of <tensorflow.python.layers.core.Dense object at 0x7fc4cc064438>> could not be transformed and will be executed as-is. Please report this to the AutgoGraph team. When filing the bug, set the verbosity to 10 (on Linux, `export AUTOGRAPH_VERBOSITY=10`) and attach the full output. Cause: converting <bound method Dense.call of <tensorflow.python.layers.core.Dense object at 0x7fc4cc064438>>: AssertionError: Bad argument number for Name: 3, expecting 4\n",
      "WARNING:tensorflow:Entity <bound method Dense.call of <tensorflow.python.layers.core.Dense object at 0x7fc4cc0c1ac8>> could not be transformed and will be executed as-is. Please report this to the AutgoGraph team. When filing the bug, set the verbosity to 10 (on Linux, `export AUTOGRAPH_VERBOSITY=10`) and attach the full output. Cause: converting <bound method Dense.call of <tensorflow.python.layers.core.Dense object at 0x7fc4cc0c1ac8>>: AssertionError: Bad argument number for Name: 3, expecting 4\n"
     ]
    },
    {
     "name": "stderr",
     "output_type": "stream",
     "text": [
      "WARNING:tensorflow:Entity <bound method Dense.call of <tensorflow.python.layers.core.Dense object at 0x7fc4cc0c1ac8>> could not be transformed and will be executed as-is. Please report this to the AutgoGraph team. When filing the bug, set the verbosity to 10 (on Linux, `export AUTOGRAPH_VERBOSITY=10`) and attach the full output. Cause: converting <bound method Dense.call of <tensorflow.python.layers.core.Dense object at 0x7fc4cc0c1ac8>>: AssertionError: Bad argument number for Name: 3, expecting 4\n"
     ]
    },
    {
     "name": "stdout",
     "output_type": "stream",
     "text": [
      "WARNING: Entity <bound method Dense.call of <tensorflow.python.layers.core.Dense object at 0x7fc4cc0c1ac8>> could not be transformed and will be executed as-is. Please report this to the AutgoGraph team. When filing the bug, set the verbosity to 10 (on Linux, `export AUTOGRAPH_VERBOSITY=10`) and attach the full output. Cause: converting <bound method Dense.call of <tensorflow.python.layers.core.Dense object at 0x7fc4cc0c1ac8>>: AssertionError: Bad argument number for Name: 3, expecting 4\n",
      "WARNING:tensorflow:Entity <bound method Dense.call of <tensorflow.python.layers.core.Dense object at 0x7fc4679487b8>> could not be transformed and will be executed as-is. Please report this to the AutgoGraph team. When filing the bug, set the verbosity to 10 (on Linux, `export AUTOGRAPH_VERBOSITY=10`) and attach the full output. Cause: converting <bound method Dense.call of <tensorflow.python.layers.core.Dense object at 0x7fc4679487b8>>: AssertionError: Bad argument number for Name: 3, expecting 4\n"
     ]
    },
    {
     "name": "stderr",
     "output_type": "stream",
     "text": [
      "WARNING:tensorflow:Entity <bound method Dense.call of <tensorflow.python.layers.core.Dense object at 0x7fc4679487b8>> could not be transformed and will be executed as-is. Please report this to the AutgoGraph team. When filing the bug, set the verbosity to 10 (on Linux, `export AUTOGRAPH_VERBOSITY=10`) and attach the full output. Cause: converting <bound method Dense.call of <tensorflow.python.layers.core.Dense object at 0x7fc4679487b8>>: AssertionError: Bad argument number for Name: 3, expecting 4\n"
     ]
    },
    {
     "name": "stdout",
     "output_type": "stream",
     "text": [
      "WARNING: Entity <bound method Dense.call of <tensorflow.python.layers.core.Dense object at 0x7fc4679487b8>> could not be transformed and will be executed as-is. Please report this to the AutgoGraph team. When filing the bug, set the verbosity to 10 (on Linux, `export AUTOGRAPH_VERBOSITY=10`) and attach the full output. Cause: converting <bound method Dense.call of <tensorflow.python.layers.core.Dense object at 0x7fc4679487b8>>: AssertionError: Bad argument number for Name: 3, expecting 4\n",
      "WARNING:tensorflow:Entity <bound method Dense.call of <tensorflow.python.layers.core.Dense object at 0x7fc4679b4668>> could not be transformed and will be executed as-is. Please report this to the AutgoGraph team. When filing the bug, set the verbosity to 10 (on Linux, `export AUTOGRAPH_VERBOSITY=10`) and attach the full output. Cause: converting <bound method Dense.call of <tensorflow.python.layers.core.Dense object at 0x7fc4679b4668>>: AssertionError: Bad argument number for Name: 3, expecting 4\n"
     ]
    },
    {
     "name": "stderr",
     "output_type": "stream",
     "text": [
      "WARNING:tensorflow:Entity <bound method Dense.call of <tensorflow.python.layers.core.Dense object at 0x7fc4679b4668>> could not be transformed and will be executed as-is. Please report this to the AutgoGraph team. When filing the bug, set the verbosity to 10 (on Linux, `export AUTOGRAPH_VERBOSITY=10`) and attach the full output. Cause: converting <bound method Dense.call of <tensorflow.python.layers.core.Dense object at 0x7fc4679b4668>>: AssertionError: Bad argument number for Name: 3, expecting 4\n"
     ]
    },
    {
     "name": "stdout",
     "output_type": "stream",
     "text": [
      "WARNING: Entity <bound method Dense.call of <tensorflow.python.layers.core.Dense object at 0x7fc4679b4668>> could not be transformed and will be executed as-is. Please report this to the AutgoGraph team. When filing the bug, set the verbosity to 10 (on Linux, `export AUTOGRAPH_VERBOSITY=10`) and attach the full output. Cause: converting <bound method Dense.call of <tensorflow.python.layers.core.Dense object at 0x7fc4679b4668>>: AssertionError: Bad argument number for Name: 3, expecting 4\n",
      "WARNING:tensorflow:Entity <bound method Dense.call of <tensorflow.python.layers.core.Dense object at 0x7fc4679b4668>> could not be transformed and will be executed as-is. Please report this to the AutgoGraph team. When filing the bug, set the verbosity to 10 (on Linux, `export AUTOGRAPH_VERBOSITY=10`) and attach the full output. Cause: converting <bound method Dense.call of <tensorflow.python.layers.core.Dense object at 0x7fc4679b4668>>: AssertionError: Bad argument number for Name: 3, expecting 4\n"
     ]
    },
    {
     "name": "stderr",
     "output_type": "stream",
     "text": [
      "WARNING:tensorflow:Entity <bound method Dense.call of <tensorflow.python.layers.core.Dense object at 0x7fc4679b4668>> could not be transformed and will be executed as-is. Please report this to the AutgoGraph team. When filing the bug, set the verbosity to 10 (on Linux, `export AUTOGRAPH_VERBOSITY=10`) and attach the full output. Cause: converting <bound method Dense.call of <tensorflow.python.layers.core.Dense object at 0x7fc4679b4668>>: AssertionError: Bad argument number for Name: 3, expecting 4\n"
     ]
    },
    {
     "name": "stdout",
     "output_type": "stream",
     "text": [
      "WARNING: Entity <bound method Dense.call of <tensorflow.python.layers.core.Dense object at 0x7fc4679b4668>> could not be transformed and will be executed as-is. Please report this to the AutgoGraph team. When filing the bug, set the verbosity to 10 (on Linux, `export AUTOGRAPH_VERBOSITY=10`) and attach the full output. Cause: converting <bound method Dense.call of <tensorflow.python.layers.core.Dense object at 0x7fc4679b4668>>: AssertionError: Bad argument number for Name: 3, expecting 4\n",
      "WARNING:tensorflow:Entity <bound method Dense.call of <tensorflow.python.layers.core.Dense object at 0x7fc4cc0ecfd0>> could not be transformed and will be executed as-is. Please report this to the AutgoGraph team. When filing the bug, set the verbosity to 10 (on Linux, `export AUTOGRAPH_VERBOSITY=10`) and attach the full output. Cause: converting <bound method Dense.call of <tensorflow.python.layers.core.Dense object at 0x7fc4cc0ecfd0>>: AssertionError: Bad argument number for Name: 3, expecting 4\n"
     ]
    },
    {
     "name": "stderr",
     "output_type": "stream",
     "text": [
      "WARNING:tensorflow:Entity <bound method Dense.call of <tensorflow.python.layers.core.Dense object at 0x7fc4cc0ecfd0>> could not be transformed and will be executed as-is. Please report this to the AutgoGraph team. When filing the bug, set the verbosity to 10 (on Linux, `export AUTOGRAPH_VERBOSITY=10`) and attach the full output. Cause: converting <bound method Dense.call of <tensorflow.python.layers.core.Dense object at 0x7fc4cc0ecfd0>>: AssertionError: Bad argument number for Name: 3, expecting 4\n"
     ]
    },
    {
     "name": "stdout",
     "output_type": "stream",
     "text": [
      "WARNING: Entity <bound method Dense.call of <tensorflow.python.layers.core.Dense object at 0x7fc4cc0ecfd0>> could not be transformed and will be executed as-is. Please report this to the AutgoGraph team. When filing the bug, set the verbosity to 10 (on Linux, `export AUTOGRAPH_VERBOSITY=10`) and attach the full output. Cause: converting <bound method Dense.call of <tensorflow.python.layers.core.Dense object at 0x7fc4cc0ecfd0>>: AssertionError: Bad argument number for Name: 3, expecting 4\n",
      "WARNING:tensorflow:Entity <bound method Dense.call of <tensorflow.python.layers.core.Dense object at 0x7fc467951be0>> could not be transformed and will be executed as-is. Please report this to the AutgoGraph team. When filing the bug, set the verbosity to 10 (on Linux, `export AUTOGRAPH_VERBOSITY=10`) and attach the full output. Cause: converting <bound method Dense.call of <tensorflow.python.layers.core.Dense object at 0x7fc467951be0>>: AssertionError: Bad argument number for Name: 3, expecting 4\n"
     ]
    },
    {
     "name": "stderr",
     "output_type": "stream",
     "text": [
      "WARNING:tensorflow:Entity <bound method Dense.call of <tensorflow.python.layers.core.Dense object at 0x7fc467951be0>> could not be transformed and will be executed as-is. Please report this to the AutgoGraph team. When filing the bug, set the verbosity to 10 (on Linux, `export AUTOGRAPH_VERBOSITY=10`) and attach the full output. Cause: converting <bound method Dense.call of <tensorflow.python.layers.core.Dense object at 0x7fc467951be0>>: AssertionError: Bad argument number for Name: 3, expecting 4\n"
     ]
    },
    {
     "name": "stdout",
     "output_type": "stream",
     "text": [
      "WARNING: Entity <bound method Dense.call of <tensorflow.python.layers.core.Dense object at 0x7fc467951be0>> could not be transformed and will be executed as-is. Please report this to the AutgoGraph team. When filing the bug, set the verbosity to 10 (on Linux, `export AUTOGRAPH_VERBOSITY=10`) and attach the full output. Cause: converting <bound method Dense.call of <tensorflow.python.layers.core.Dense object at 0x7fc467951be0>>: AssertionError: Bad argument number for Name: 3, expecting 4\n",
      "WARNING:tensorflow:Entity <bound method Dense.call of <tensorflow.python.layers.core.Dense object at 0x7fc4cc0c1b38>> could not be transformed and will be executed as-is. Please report this to the AutgoGraph team. When filing the bug, set the verbosity to 10 (on Linux, `export AUTOGRAPH_VERBOSITY=10`) and attach the full output. Cause: converting <bound method Dense.call of <tensorflow.python.layers.core.Dense object at 0x7fc4cc0c1b38>>: AssertionError: Bad argument number for Name: 3, expecting 4\n"
     ]
    },
    {
     "name": "stderr",
     "output_type": "stream",
     "text": [
      "WARNING:tensorflow:Entity <bound method Dense.call of <tensorflow.python.layers.core.Dense object at 0x7fc4cc0c1b38>> could not be transformed and will be executed as-is. Please report this to the AutgoGraph team. When filing the bug, set the verbosity to 10 (on Linux, `export AUTOGRAPH_VERBOSITY=10`) and attach the full output. Cause: converting <bound method Dense.call of <tensorflow.python.layers.core.Dense object at 0x7fc4cc0c1b38>>: AssertionError: Bad argument number for Name: 3, expecting 4\n"
     ]
    },
    {
     "name": "stdout",
     "output_type": "stream",
     "text": [
      "WARNING: Entity <bound method Dense.call of <tensorflow.python.layers.core.Dense object at 0x7fc4cc0c1b38>> could not be transformed and will be executed as-is. Please report this to the AutgoGraph team. When filing the bug, set the verbosity to 10 (on Linux, `export AUTOGRAPH_VERBOSITY=10`) and attach the full output. Cause: converting <bound method Dense.call of <tensorflow.python.layers.core.Dense object at 0x7fc4cc0c1b38>>: AssertionError: Bad argument number for Name: 3, expecting 4\n",
      "WARNING:tensorflow:Entity <bound method Dense.call of <tensorflow.python.layers.core.Dense object at 0x7fc467737898>> could not be transformed and will be executed as-is. Please report this to the AutgoGraph team. When filing the bug, set the verbosity to 10 (on Linux, `export AUTOGRAPH_VERBOSITY=10`) and attach the full output. Cause: converting <bound method Dense.call of <tensorflow.python.layers.core.Dense object at 0x7fc467737898>>: AssertionError: Bad argument number for Name: 3, expecting 4\n"
     ]
    },
    {
     "name": "stderr",
     "output_type": "stream",
     "text": [
      "WARNING:tensorflow:Entity <bound method Dense.call of <tensorflow.python.layers.core.Dense object at 0x7fc467737898>> could not be transformed and will be executed as-is. Please report this to the AutgoGraph team. When filing the bug, set the verbosity to 10 (on Linux, `export AUTOGRAPH_VERBOSITY=10`) and attach the full output. Cause: converting <bound method Dense.call of <tensorflow.python.layers.core.Dense object at 0x7fc467737898>>: AssertionError: Bad argument number for Name: 3, expecting 4\n"
     ]
    },
    {
     "name": "stdout",
     "output_type": "stream",
     "text": [
      "WARNING: Entity <bound method Dense.call of <tensorflow.python.layers.core.Dense object at 0x7fc467737898>> could not be transformed and will be executed as-is. Please report this to the AutgoGraph team. When filing the bug, set the verbosity to 10 (on Linux, `export AUTOGRAPH_VERBOSITY=10`) and attach the full output. Cause: converting <bound method Dense.call of <tensorflow.python.layers.core.Dense object at 0x7fc467737898>>: AssertionError: Bad argument number for Name: 3, expecting 4\n",
      "WARNING:tensorflow:Entity <bound method Dense.call of <tensorflow.python.layers.core.Dense object at 0x7fc46768bf28>> could not be transformed and will be executed as-is. Please report this to the AutgoGraph team. When filing the bug, set the verbosity to 10 (on Linux, `export AUTOGRAPH_VERBOSITY=10`) and attach the full output. Cause: converting <bound method Dense.call of <tensorflow.python.layers.core.Dense object at 0x7fc46768bf28>>: AssertionError: Bad argument number for Name: 3, expecting 4\n"
     ]
    },
    {
     "name": "stderr",
     "output_type": "stream",
     "text": [
      "WARNING:tensorflow:Entity <bound method Dense.call of <tensorflow.python.layers.core.Dense object at 0x7fc46768bf28>> could not be transformed and will be executed as-is. Please report this to the AutgoGraph team. When filing the bug, set the verbosity to 10 (on Linux, `export AUTOGRAPH_VERBOSITY=10`) and attach the full output. Cause: converting <bound method Dense.call of <tensorflow.python.layers.core.Dense object at 0x7fc46768bf28>>: AssertionError: Bad argument number for Name: 3, expecting 4\n"
     ]
    },
    {
     "name": "stdout",
     "output_type": "stream",
     "text": [
      "WARNING: Entity <bound method Dense.call of <tensorflow.python.layers.core.Dense object at 0x7fc46768bf28>> could not be transformed and will be executed as-is. Please report this to the AutgoGraph team. When filing the bug, set the verbosity to 10 (on Linux, `export AUTOGRAPH_VERBOSITY=10`) and attach the full output. Cause: converting <bound method Dense.call of <tensorflow.python.layers.core.Dense object at 0x7fc46768bf28>>: AssertionError: Bad argument number for Name: 3, expecting 4\n",
      "WARNING:tensorflow:Entity <bound method Dense.call of <tensorflow.python.layers.core.Dense object at 0x7fc46768bf28>> could not be transformed and will be executed as-is. Please report this to the AutgoGraph team. When filing the bug, set the verbosity to 10 (on Linux, `export AUTOGRAPH_VERBOSITY=10`) and attach the full output. Cause: converting <bound method Dense.call of <tensorflow.python.layers.core.Dense object at 0x7fc46768bf28>>: AssertionError: Bad argument number for Name: 3, expecting 4\n"
     ]
    },
    {
     "name": "stderr",
     "output_type": "stream",
     "text": [
      "WARNING:tensorflow:Entity <bound method Dense.call of <tensorflow.python.layers.core.Dense object at 0x7fc46768bf28>> could not be transformed and will be executed as-is. Please report this to the AutgoGraph team. When filing the bug, set the verbosity to 10 (on Linux, `export AUTOGRAPH_VERBOSITY=10`) and attach the full output. Cause: converting <bound method Dense.call of <tensorflow.python.layers.core.Dense object at 0x7fc46768bf28>>: AssertionError: Bad argument number for Name: 3, expecting 4\n"
     ]
    },
    {
     "name": "stdout",
     "output_type": "stream",
     "text": [
      "WARNING: Entity <bound method Dense.call of <tensorflow.python.layers.core.Dense object at 0x7fc46768bf28>> could not be transformed and will be executed as-is. Please report this to the AutgoGraph team. When filing the bug, set the verbosity to 10 (on Linux, `export AUTOGRAPH_VERBOSITY=10`) and attach the full output. Cause: converting <bound method Dense.call of <tensorflow.python.layers.core.Dense object at 0x7fc46768bf28>>: AssertionError: Bad argument number for Name: 3, expecting 4\n",
      "WARNING:tensorflow:Entity <bound method Dense.call of <tensorflow.python.layers.core.Dense object at 0x7fc46770b4e0>> could not be transformed and will be executed as-is. Please report this to the AutgoGraph team. When filing the bug, set the verbosity to 10 (on Linux, `export AUTOGRAPH_VERBOSITY=10`) and attach the full output. Cause: converting <bound method Dense.call of <tensorflow.python.layers.core.Dense object at 0x7fc46770b4e0>>: AssertionError: Bad argument number for Name: 3, expecting 4\n"
     ]
    },
    {
     "name": "stderr",
     "output_type": "stream",
     "text": [
      "WARNING:tensorflow:Entity <bound method Dense.call of <tensorflow.python.layers.core.Dense object at 0x7fc46770b4e0>> could not be transformed and will be executed as-is. Please report this to the AutgoGraph team. When filing the bug, set the verbosity to 10 (on Linux, `export AUTOGRAPH_VERBOSITY=10`) and attach the full output. Cause: converting <bound method Dense.call of <tensorflow.python.layers.core.Dense object at 0x7fc46770b4e0>>: AssertionError: Bad argument number for Name: 3, expecting 4\n"
     ]
    },
    {
     "name": "stdout",
     "output_type": "stream",
     "text": [
      "WARNING: Entity <bound method Dense.call of <tensorflow.python.layers.core.Dense object at 0x7fc46770b4e0>> could not be transformed and will be executed as-is. Please report this to the AutgoGraph team. When filing the bug, set the verbosity to 10 (on Linux, `export AUTOGRAPH_VERBOSITY=10`) and attach the full output. Cause: converting <bound method Dense.call of <tensorflow.python.layers.core.Dense object at 0x7fc46770b4e0>>: AssertionError: Bad argument number for Name: 3, expecting 4\n",
      "WARNING:tensorflow:Entity <bound method Dense.call of <tensorflow.python.layers.core.Dense object at 0x7fc4cc064438>> could not be transformed and will be executed as-is. Please report this to the AutgoGraph team. When filing the bug, set the verbosity to 10 (on Linux, `export AUTOGRAPH_VERBOSITY=10`) and attach the full output. Cause: converting <bound method Dense.call of <tensorflow.python.layers.core.Dense object at 0x7fc4cc064438>>: AssertionError: Bad argument number for Name: 3, expecting 4\n"
     ]
    },
    {
     "name": "stderr",
     "output_type": "stream",
     "text": [
      "WARNING:tensorflow:Entity <bound method Dense.call of <tensorflow.python.layers.core.Dense object at 0x7fc4cc064438>> could not be transformed and will be executed as-is. Please report this to the AutgoGraph team. When filing the bug, set the verbosity to 10 (on Linux, `export AUTOGRAPH_VERBOSITY=10`) and attach the full output. Cause: converting <bound method Dense.call of <tensorflow.python.layers.core.Dense object at 0x7fc4cc064438>>: AssertionError: Bad argument number for Name: 3, expecting 4\n"
     ]
    },
    {
     "name": "stdout",
     "output_type": "stream",
     "text": [
      "WARNING: Entity <bound method Dense.call of <tensorflow.python.layers.core.Dense object at 0x7fc4cc064438>> could not be transformed and will be executed as-is. Please report this to the AutgoGraph team. When filing the bug, set the verbosity to 10 (on Linux, `export AUTOGRAPH_VERBOSITY=10`) and attach the full output. Cause: converting <bound method Dense.call of <tensorflow.python.layers.core.Dense object at 0x7fc4cc064438>>: AssertionError: Bad argument number for Name: 3, expecting 4\n",
      "WARNING:tensorflow:Entity <bound method Dense.call of <tensorflow.python.layers.core.Dense object at 0x7fc467951be0>> could not be transformed and will be executed as-is. Please report this to the AutgoGraph team. When filing the bug, set the verbosity to 10 (on Linux, `export AUTOGRAPH_VERBOSITY=10`) and attach the full output. Cause: converting <bound method Dense.call of <tensorflow.python.layers.core.Dense object at 0x7fc467951be0>>: AssertionError: Bad argument number for Name: 3, expecting 4\n"
     ]
    },
    {
     "name": "stderr",
     "output_type": "stream",
     "text": [
      "WARNING:tensorflow:Entity <bound method Dense.call of <tensorflow.python.layers.core.Dense object at 0x7fc467951be0>> could not be transformed and will be executed as-is. Please report this to the AutgoGraph team. When filing the bug, set the verbosity to 10 (on Linux, `export AUTOGRAPH_VERBOSITY=10`) and attach the full output. Cause: converting <bound method Dense.call of <tensorflow.python.layers.core.Dense object at 0x7fc467951be0>>: AssertionError: Bad argument number for Name: 3, expecting 4\n"
     ]
    },
    {
     "name": "stdout",
     "output_type": "stream",
     "text": [
      "WARNING: Entity <bound method Dense.call of <tensorflow.python.layers.core.Dense object at 0x7fc467951be0>> could not be transformed and will be executed as-is. Please report this to the AutgoGraph team. When filing the bug, set the verbosity to 10 (on Linux, `export AUTOGRAPH_VERBOSITY=10`) and attach the full output. Cause: converting <bound method Dense.call of <tensorflow.python.layers.core.Dense object at 0x7fc467951be0>>: AssertionError: Bad argument number for Name: 3, expecting 4\n",
      "WARNING:tensorflow:Entity <bound method Dense.call of <tensorflow.python.layers.core.Dense object at 0x7fc467425400>> could not be transformed and will be executed as-is. Please report this to the AutgoGraph team. When filing the bug, set the verbosity to 10 (on Linux, `export AUTOGRAPH_VERBOSITY=10`) and attach the full output. Cause: converting <bound method Dense.call of <tensorflow.python.layers.core.Dense object at 0x7fc467425400>>: AssertionError: Bad argument number for Name: 3, expecting 4\n"
     ]
    },
    {
     "name": "stderr",
     "output_type": "stream",
     "text": [
      "WARNING:tensorflow:Entity <bound method Dense.call of <tensorflow.python.layers.core.Dense object at 0x7fc467425400>> could not be transformed and will be executed as-is. Please report this to the AutgoGraph team. When filing the bug, set the verbosity to 10 (on Linux, `export AUTOGRAPH_VERBOSITY=10`) and attach the full output. Cause: converting <bound method Dense.call of <tensorflow.python.layers.core.Dense object at 0x7fc467425400>>: AssertionError: Bad argument number for Name: 3, expecting 4\n"
     ]
    },
    {
     "name": "stdout",
     "output_type": "stream",
     "text": [
      "WARNING: Entity <bound method Dense.call of <tensorflow.python.layers.core.Dense object at 0x7fc467425400>> could not be transformed and will be executed as-is. Please report this to the AutgoGraph team. When filing the bug, set the verbosity to 10 (on Linux, `export AUTOGRAPH_VERBOSITY=10`) and attach the full output. Cause: converting <bound method Dense.call of <tensorflow.python.layers.core.Dense object at 0x7fc467425400>>: AssertionError: Bad argument number for Name: 3, expecting 4\n",
      "WARNING:tensorflow:Entity <bound method Dense.call of <tensorflow.python.layers.core.Dense object at 0x7fc467425400>> could not be transformed and will be executed as-is. Please report this to the AutgoGraph team. When filing the bug, set the verbosity to 10 (on Linux, `export AUTOGRAPH_VERBOSITY=10`) and attach the full output. Cause: converting <bound method Dense.call of <tensorflow.python.layers.core.Dense object at 0x7fc467425400>>: AssertionError: Bad argument number for Name: 3, expecting 4\n"
     ]
    },
    {
     "name": "stderr",
     "output_type": "stream",
     "text": [
      "WARNING:tensorflow:Entity <bound method Dense.call of <tensorflow.python.layers.core.Dense object at 0x7fc467425400>> could not be transformed and will be executed as-is. Please report this to the AutgoGraph team. When filing the bug, set the verbosity to 10 (on Linux, `export AUTOGRAPH_VERBOSITY=10`) and attach the full output. Cause: converting <bound method Dense.call of <tensorflow.python.layers.core.Dense object at 0x7fc467425400>>: AssertionError: Bad argument number for Name: 3, expecting 4\n"
     ]
    },
    {
     "name": "stdout",
     "output_type": "stream",
     "text": [
      "WARNING: Entity <bound method Dense.call of <tensorflow.python.layers.core.Dense object at 0x7fc467425400>> could not be transformed and will be executed as-is. Please report this to the AutgoGraph team. When filing the bug, set the verbosity to 10 (on Linux, `export AUTOGRAPH_VERBOSITY=10`) and attach the full output. Cause: converting <bound method Dense.call of <tensorflow.python.layers.core.Dense object at 0x7fc467425400>>: AssertionError: Bad argument number for Name: 3, expecting 4\n",
      "WARNING:tensorflow:Entity <bound method Dense.call of <tensorflow.python.layers.core.Dense object at 0x7fc467425400>> could not be transformed and will be executed as-is. Please report this to the AutgoGraph team. When filing the bug, set the verbosity to 10 (on Linux, `export AUTOGRAPH_VERBOSITY=10`) and attach the full output. Cause: converting <bound method Dense.call of <tensorflow.python.layers.core.Dense object at 0x7fc467425400>>: AssertionError: Bad argument number for Name: 3, expecting 4\n"
     ]
    },
    {
     "name": "stderr",
     "output_type": "stream",
     "text": [
      "WARNING:tensorflow:Entity <bound method Dense.call of <tensorflow.python.layers.core.Dense object at 0x7fc467425400>> could not be transformed and will be executed as-is. Please report this to the AutgoGraph team. When filing the bug, set the verbosity to 10 (on Linux, `export AUTOGRAPH_VERBOSITY=10`) and attach the full output. Cause: converting <bound method Dense.call of <tensorflow.python.layers.core.Dense object at 0x7fc467425400>>: AssertionError: Bad argument number for Name: 3, expecting 4\n"
     ]
    },
    {
     "name": "stdout",
     "output_type": "stream",
     "text": [
      "WARNING: Entity <bound method Dense.call of <tensorflow.python.layers.core.Dense object at 0x7fc467425400>> could not be transformed and will be executed as-is. Please report this to the AutgoGraph team. When filing the bug, set the verbosity to 10 (on Linux, `export AUTOGRAPH_VERBOSITY=10`) and attach the full output. Cause: converting <bound method Dense.call of <tensorflow.python.layers.core.Dense object at 0x7fc467425400>>: AssertionError: Bad argument number for Name: 3, expecting 4\n",
      "WARNING:tensorflow:Entity <bound method Dense.call of <tensorflow.python.layers.core.Dense object at 0x7fc467529cc0>> could not be transformed and will be executed as-is. Please report this to the AutgoGraph team. When filing the bug, set the verbosity to 10 (on Linux, `export AUTOGRAPH_VERBOSITY=10`) and attach the full output. Cause: converting <bound method Dense.call of <tensorflow.python.layers.core.Dense object at 0x7fc467529cc0>>: AssertionError: Bad argument number for Name: 3, expecting 4\n"
     ]
    },
    {
     "name": "stderr",
     "output_type": "stream",
     "text": [
      "WARNING:tensorflow:Entity <bound method Dense.call of <tensorflow.python.layers.core.Dense object at 0x7fc467529cc0>> could not be transformed and will be executed as-is. Please report this to the AutgoGraph team. When filing the bug, set the verbosity to 10 (on Linux, `export AUTOGRAPH_VERBOSITY=10`) and attach the full output. Cause: converting <bound method Dense.call of <tensorflow.python.layers.core.Dense object at 0x7fc467529cc0>>: AssertionError: Bad argument number for Name: 3, expecting 4\n"
     ]
    },
    {
     "name": "stdout",
     "output_type": "stream",
     "text": [
      "WARNING: Entity <bound method Dense.call of <tensorflow.python.layers.core.Dense object at 0x7fc467529cc0>> could not be transformed and will be executed as-is. Please report this to the AutgoGraph team. When filing the bug, set the verbosity to 10 (on Linux, `export AUTOGRAPH_VERBOSITY=10`) and attach the full output. Cause: converting <bound method Dense.call of <tensorflow.python.layers.core.Dense object at 0x7fc467529cc0>>: AssertionError: Bad argument number for Name: 3, expecting 4\n",
      "WARNING:tensorflow:Entity <bound method Dense.call of <tensorflow.python.layers.core.Dense object at 0x7fc467769c88>> could not be transformed and will be executed as-is. Please report this to the AutgoGraph team. When filing the bug, set the verbosity to 10 (on Linux, `export AUTOGRAPH_VERBOSITY=10`) and attach the full output. Cause: converting <bound method Dense.call of <tensorflow.python.layers.core.Dense object at 0x7fc467769c88>>: AssertionError: Bad argument number for Name: 3, expecting 4\n"
     ]
    },
    {
     "name": "stderr",
     "output_type": "stream",
     "text": [
      "WARNING:tensorflow:Entity <bound method Dense.call of <tensorflow.python.layers.core.Dense object at 0x7fc467769c88>> could not be transformed and will be executed as-is. Please report this to the AutgoGraph team. When filing the bug, set the verbosity to 10 (on Linux, `export AUTOGRAPH_VERBOSITY=10`) and attach the full output. Cause: converting <bound method Dense.call of <tensorflow.python.layers.core.Dense object at 0x7fc467769c88>>: AssertionError: Bad argument number for Name: 3, expecting 4\n"
     ]
    },
    {
     "name": "stdout",
     "output_type": "stream",
     "text": [
      "WARNING: Entity <bound method Dense.call of <tensorflow.python.layers.core.Dense object at 0x7fc467769c88>> could not be transformed and will be executed as-is. Please report this to the AutgoGraph team. When filing the bug, set the verbosity to 10 (on Linux, `export AUTOGRAPH_VERBOSITY=10`) and attach the full output. Cause: converting <bound method Dense.call of <tensorflow.python.layers.core.Dense object at 0x7fc467769c88>>: AssertionError: Bad argument number for Name: 3, expecting 4\n",
      "WARNING:tensorflow:Entity <bound method Dense.call of <tensorflow.python.layers.core.Dense object at 0x7fc4cc064438>> could not be transformed and will be executed as-is. Please report this to the AutgoGraph team. When filing the bug, set the verbosity to 10 (on Linux, `export AUTOGRAPH_VERBOSITY=10`) and attach the full output. Cause: converting <bound method Dense.call of <tensorflow.python.layers.core.Dense object at 0x7fc4cc064438>>: AssertionError: Bad argument number for Name: 3, expecting 4\n"
     ]
    },
    {
     "name": "stderr",
     "output_type": "stream",
     "text": [
      "WARNING:tensorflow:Entity <bound method Dense.call of <tensorflow.python.layers.core.Dense object at 0x7fc4cc064438>> could not be transformed and will be executed as-is. Please report this to the AutgoGraph team. When filing the bug, set the verbosity to 10 (on Linux, `export AUTOGRAPH_VERBOSITY=10`) and attach the full output. Cause: converting <bound method Dense.call of <tensorflow.python.layers.core.Dense object at 0x7fc4cc064438>>: AssertionError: Bad argument number for Name: 3, expecting 4\n"
     ]
    },
    {
     "name": "stdout",
     "output_type": "stream",
     "text": [
      "WARNING: Entity <bound method Dense.call of <tensorflow.python.layers.core.Dense object at 0x7fc4cc064438>> could not be transformed and will be executed as-is. Please report this to the AutgoGraph team. When filing the bug, set the verbosity to 10 (on Linux, `export AUTOGRAPH_VERBOSITY=10`) and attach the full output. Cause: converting <bound method Dense.call of <tensorflow.python.layers.core.Dense object at 0x7fc4cc064438>>: AssertionError: Bad argument number for Name: 3, expecting 4\n",
      "WARNING:tensorflow:Entity <bound method Dense.call of <tensorflow.python.layers.core.Dense object at 0x7fc4671bab38>> could not be transformed and will be executed as-is. Please report this to the AutgoGraph team. When filing the bug, set the verbosity to 10 (on Linux, `export AUTOGRAPH_VERBOSITY=10`) and attach the full output. Cause: converting <bound method Dense.call of <tensorflow.python.layers.core.Dense object at 0x7fc4671bab38>>: AssertionError: Bad argument number for Name: 3, expecting 4\n"
     ]
    },
    {
     "name": "stderr",
     "output_type": "stream",
     "text": [
      "WARNING:tensorflow:Entity <bound method Dense.call of <tensorflow.python.layers.core.Dense object at 0x7fc4671bab38>> could not be transformed and will be executed as-is. Please report this to the AutgoGraph team. When filing the bug, set the verbosity to 10 (on Linux, `export AUTOGRAPH_VERBOSITY=10`) and attach the full output. Cause: converting <bound method Dense.call of <tensorflow.python.layers.core.Dense object at 0x7fc4671bab38>>: AssertionError: Bad argument number for Name: 3, expecting 4\n"
     ]
    },
    {
     "name": "stdout",
     "output_type": "stream",
     "text": [
      "WARNING: Entity <bound method Dense.call of <tensorflow.python.layers.core.Dense object at 0x7fc4671bab38>> could not be transformed and will be executed as-is. Please report this to the AutgoGraph team. When filing the bug, set the verbosity to 10 (on Linux, `export AUTOGRAPH_VERBOSITY=10`) and attach the full output. Cause: converting <bound method Dense.call of <tensorflow.python.layers.core.Dense object at 0x7fc4671bab38>>: AssertionError: Bad argument number for Name: 3, expecting 4\n",
      "WARNING:tensorflow:Entity <bound method Dense.call of <tensorflow.python.layers.core.Dense object at 0x7fc467151f98>> could not be transformed and will be executed as-is. Please report this to the AutgoGraph team. When filing the bug, set the verbosity to 10 (on Linux, `export AUTOGRAPH_VERBOSITY=10`) and attach the full output. Cause: converting <bound method Dense.call of <tensorflow.python.layers.core.Dense object at 0x7fc467151f98>>: AssertionError: Bad argument number for Name: 3, expecting 4\n"
     ]
    },
    {
     "name": "stderr",
     "output_type": "stream",
     "text": [
      "WARNING:tensorflow:Entity <bound method Dense.call of <tensorflow.python.layers.core.Dense object at 0x7fc467151f98>> could not be transformed and will be executed as-is. Please report this to the AutgoGraph team. When filing the bug, set the verbosity to 10 (on Linux, `export AUTOGRAPH_VERBOSITY=10`) and attach the full output. Cause: converting <bound method Dense.call of <tensorflow.python.layers.core.Dense object at 0x7fc467151f98>>: AssertionError: Bad argument number for Name: 3, expecting 4\n"
     ]
    },
    {
     "name": "stdout",
     "output_type": "stream",
     "text": [
      "WARNING: Entity <bound method Dense.call of <tensorflow.python.layers.core.Dense object at 0x7fc467151f98>> could not be transformed and will be executed as-is. Please report this to the AutgoGraph team. When filing the bug, set the verbosity to 10 (on Linux, `export AUTOGRAPH_VERBOSITY=10`) and attach the full output. Cause: converting <bound method Dense.call of <tensorflow.python.layers.core.Dense object at 0x7fc467151f98>>: AssertionError: Bad argument number for Name: 3, expecting 4\n",
      "WARNING:tensorflow:Entity <bound method Dense.call of <tensorflow.python.layers.core.Dense object at 0x7fc467151f98>> could not be transformed and will be executed as-is. Please report this to the AutgoGraph team. When filing the bug, set the verbosity to 10 (on Linux, `export AUTOGRAPH_VERBOSITY=10`) and attach the full output. Cause: converting <bound method Dense.call of <tensorflow.python.layers.core.Dense object at 0x7fc467151f98>>: AssertionError: Bad argument number for Name: 3, expecting 4\n"
     ]
    },
    {
     "name": "stderr",
     "output_type": "stream",
     "text": [
      "WARNING:tensorflow:Entity <bound method Dense.call of <tensorflow.python.layers.core.Dense object at 0x7fc467151f98>> could not be transformed and will be executed as-is. Please report this to the AutgoGraph team. When filing the bug, set the verbosity to 10 (on Linux, `export AUTOGRAPH_VERBOSITY=10`) and attach the full output. Cause: converting <bound method Dense.call of <tensorflow.python.layers.core.Dense object at 0x7fc467151f98>>: AssertionError: Bad argument number for Name: 3, expecting 4\n"
     ]
    },
    {
     "name": "stdout",
     "output_type": "stream",
     "text": [
      "WARNING: Entity <bound method Dense.call of <tensorflow.python.layers.core.Dense object at 0x7fc467151f98>> could not be transformed and will be executed as-is. Please report this to the AutgoGraph team. When filing the bug, set the verbosity to 10 (on Linux, `export AUTOGRAPH_VERBOSITY=10`) and attach the full output. Cause: converting <bound method Dense.call of <tensorflow.python.layers.core.Dense object at 0x7fc467151f98>>: AssertionError: Bad argument number for Name: 3, expecting 4\n",
      "WARNING:tensorflow:Entity <bound method Dense.call of <tensorflow.python.layers.core.Dense object at 0x7fc467492940>> could not be transformed and will be executed as-is. Please report this to the AutgoGraph team. When filing the bug, set the verbosity to 10 (on Linux, `export AUTOGRAPH_VERBOSITY=10`) and attach the full output. Cause: converting <bound method Dense.call of <tensorflow.python.layers.core.Dense object at 0x7fc467492940>>: AssertionError: Bad argument number for Name: 3, expecting 4\n"
     ]
    },
    {
     "name": "stderr",
     "output_type": "stream",
     "text": [
      "WARNING:tensorflow:Entity <bound method Dense.call of <tensorflow.python.layers.core.Dense object at 0x7fc467492940>> could not be transformed and will be executed as-is. Please report this to the AutgoGraph team. When filing the bug, set the verbosity to 10 (on Linux, `export AUTOGRAPH_VERBOSITY=10`) and attach the full output. Cause: converting <bound method Dense.call of <tensorflow.python.layers.core.Dense object at 0x7fc467492940>>: AssertionError: Bad argument number for Name: 3, expecting 4\n"
     ]
    },
    {
     "name": "stdout",
     "output_type": "stream",
     "text": [
      "WARNING: Entity <bound method Dense.call of <tensorflow.python.layers.core.Dense object at 0x7fc467492940>> could not be transformed and will be executed as-is. Please report this to the AutgoGraph team. When filing the bug, set the verbosity to 10 (on Linux, `export AUTOGRAPH_VERBOSITY=10`) and attach the full output. Cause: converting <bound method Dense.call of <tensorflow.python.layers.core.Dense object at 0x7fc467492940>>: AssertionError: Bad argument number for Name: 3, expecting 4\n",
      "WARNING:tensorflow:Entity <bound method Dense.call of <tensorflow.python.layers.core.Dense object at 0x7fc46721ce10>> could not be transformed and will be executed as-is. Please report this to the AutgoGraph team. When filing the bug, set the verbosity to 10 (on Linux, `export AUTOGRAPH_VERBOSITY=10`) and attach the full output. Cause: converting <bound method Dense.call of <tensorflow.python.layers.core.Dense object at 0x7fc46721ce10>>: AssertionError: Bad argument number for Name: 3, expecting 4\n"
     ]
    },
    {
     "name": "stderr",
     "output_type": "stream",
     "text": [
      "WARNING:tensorflow:Entity <bound method Dense.call of <tensorflow.python.layers.core.Dense object at 0x7fc46721ce10>> could not be transformed and will be executed as-is. Please report this to the AutgoGraph team. When filing the bug, set the verbosity to 10 (on Linux, `export AUTOGRAPH_VERBOSITY=10`) and attach the full output. Cause: converting <bound method Dense.call of <tensorflow.python.layers.core.Dense object at 0x7fc46721ce10>>: AssertionError: Bad argument number for Name: 3, expecting 4\n"
     ]
    },
    {
     "name": "stdout",
     "output_type": "stream",
     "text": [
      "WARNING: Entity <bound method Dense.call of <tensorflow.python.layers.core.Dense object at 0x7fc46721ce10>> could not be transformed and will be executed as-is. Please report this to the AutgoGraph team. When filing the bug, set the verbosity to 10 (on Linux, `export AUTOGRAPH_VERBOSITY=10`) and attach the full output. Cause: converting <bound method Dense.call of <tensorflow.python.layers.core.Dense object at 0x7fc46721ce10>>: AssertionError: Bad argument number for Name: 3, expecting 4\n",
      "WARNING:tensorflow:Entity <bound method Dense.call of <tensorflow.python.layers.core.Dense object at 0x7fc467769c88>> could not be transformed and will be executed as-is. Please report this to the AutgoGraph team. When filing the bug, set the verbosity to 10 (on Linux, `export AUTOGRAPH_VERBOSITY=10`) and attach the full output. Cause: converting <bound method Dense.call of <tensorflow.python.layers.core.Dense object at 0x7fc467769c88>>: AssertionError: Bad argument number for Name: 3, expecting 4\n"
     ]
    },
    {
     "name": "stderr",
     "output_type": "stream",
     "text": [
      "WARNING:tensorflow:Entity <bound method Dense.call of <tensorflow.python.layers.core.Dense object at 0x7fc467769c88>> could not be transformed and will be executed as-is. Please report this to the AutgoGraph team. When filing the bug, set the verbosity to 10 (on Linux, `export AUTOGRAPH_VERBOSITY=10`) and attach the full output. Cause: converting <bound method Dense.call of <tensorflow.python.layers.core.Dense object at 0x7fc467769c88>>: AssertionError: Bad argument number for Name: 3, expecting 4\n"
     ]
    },
    {
     "name": "stdout",
     "output_type": "stream",
     "text": [
      "WARNING: Entity <bound method Dense.call of <tensorflow.python.layers.core.Dense object at 0x7fc467769c88>> could not be transformed and will be executed as-is. Please report this to the AutgoGraph team. When filing the bug, set the verbosity to 10 (on Linux, `export AUTOGRAPH_VERBOSITY=10`) and attach the full output. Cause: converting <bound method Dense.call of <tensorflow.python.layers.core.Dense object at 0x7fc467769c88>>: AssertionError: Bad argument number for Name: 3, expecting 4\n",
      "WARNING:tensorflow:Entity <bound method Dense.call of <tensorflow.python.layers.core.Dense object at 0x7fc466f6eb00>> could not be transformed and will be executed as-is. Please report this to the AutgoGraph team. When filing the bug, set the verbosity to 10 (on Linux, `export AUTOGRAPH_VERBOSITY=10`) and attach the full output. Cause: converting <bound method Dense.call of <tensorflow.python.layers.core.Dense object at 0x7fc466f6eb00>>: AssertionError: Bad argument number for Name: 3, expecting 4\n"
     ]
    },
    {
     "name": "stderr",
     "output_type": "stream",
     "text": [
      "WARNING:tensorflow:Entity <bound method Dense.call of <tensorflow.python.layers.core.Dense object at 0x7fc466f6eb00>> could not be transformed and will be executed as-is. Please report this to the AutgoGraph team. When filing the bug, set the verbosity to 10 (on Linux, `export AUTOGRAPH_VERBOSITY=10`) and attach the full output. Cause: converting <bound method Dense.call of <tensorflow.python.layers.core.Dense object at 0x7fc466f6eb00>>: AssertionError: Bad argument number for Name: 3, expecting 4\n"
     ]
    },
    {
     "name": "stdout",
     "output_type": "stream",
     "text": [
      "WARNING: Entity <bound method Dense.call of <tensorflow.python.layers.core.Dense object at 0x7fc466f6eb00>> could not be transformed and will be executed as-is. Please report this to the AutgoGraph team. When filing the bug, set the verbosity to 10 (on Linux, `export AUTOGRAPH_VERBOSITY=10`) and attach the full output. Cause: converting <bound method Dense.call of <tensorflow.python.layers.core.Dense object at 0x7fc466f6eb00>>: AssertionError: Bad argument number for Name: 3, expecting 4\n",
      "WARNING:tensorflow:Entity <bound method Dense.call of <tensorflow.python.layers.core.Dense object at 0x7fc466f4b3c8>> could not be transformed and will be executed as-is. Please report this to the AutgoGraph team. When filing the bug, set the verbosity to 10 (on Linux, `export AUTOGRAPH_VERBOSITY=10`) and attach the full output. Cause: converting <bound method Dense.call of <tensorflow.python.layers.core.Dense object at 0x7fc466f4b3c8>>: AssertionError: Bad argument number for Name: 3, expecting 4\n"
     ]
    },
    {
     "name": "stderr",
     "output_type": "stream",
     "text": [
      "WARNING:tensorflow:Entity <bound method Dense.call of <tensorflow.python.layers.core.Dense object at 0x7fc466f4b3c8>> could not be transformed and will be executed as-is. Please report this to the AutgoGraph team. When filing the bug, set the verbosity to 10 (on Linux, `export AUTOGRAPH_VERBOSITY=10`) and attach the full output. Cause: converting <bound method Dense.call of <tensorflow.python.layers.core.Dense object at 0x7fc466f4b3c8>>: AssertionError: Bad argument number for Name: 3, expecting 4\n"
     ]
    },
    {
     "name": "stdout",
     "output_type": "stream",
     "text": [
      "WARNING: Entity <bound method Dense.call of <tensorflow.python.layers.core.Dense object at 0x7fc466f4b3c8>> could not be transformed and will be executed as-is. Please report this to the AutgoGraph team. When filing the bug, set the verbosity to 10 (on Linux, `export AUTOGRAPH_VERBOSITY=10`) and attach the full output. Cause: converting <bound method Dense.call of <tensorflow.python.layers.core.Dense object at 0x7fc466f4b3c8>>: AssertionError: Bad argument number for Name: 3, expecting 4\n",
      "WARNING:tensorflow:Entity <bound method Dense.call of <tensorflow.python.layers.core.Dense object at 0x7fc466f6eb00>> could not be transformed and will be executed as-is. Please report this to the AutgoGraph team. When filing the bug, set the verbosity to 10 (on Linux, `export AUTOGRAPH_VERBOSITY=10`) and attach the full output. Cause: converting <bound method Dense.call of <tensorflow.python.layers.core.Dense object at 0x7fc466f6eb00>>: AssertionError: Bad argument number for Name: 3, expecting 4\n"
     ]
    },
    {
     "name": "stderr",
     "output_type": "stream",
     "text": [
      "WARNING:tensorflow:Entity <bound method Dense.call of <tensorflow.python.layers.core.Dense object at 0x7fc466f6eb00>> could not be transformed and will be executed as-is. Please report this to the AutgoGraph team. When filing the bug, set the verbosity to 10 (on Linux, `export AUTOGRAPH_VERBOSITY=10`) and attach the full output. Cause: converting <bound method Dense.call of <tensorflow.python.layers.core.Dense object at 0x7fc466f6eb00>>: AssertionError: Bad argument number for Name: 3, expecting 4\n"
     ]
    },
    {
     "name": "stdout",
     "output_type": "stream",
     "text": [
      "WARNING: Entity <bound method Dense.call of <tensorflow.python.layers.core.Dense object at 0x7fc466f6eb00>> could not be transformed and will be executed as-is. Please report this to the AutgoGraph team. When filing the bug, set the verbosity to 10 (on Linux, `export AUTOGRAPH_VERBOSITY=10`) and attach the full output. Cause: converting <bound method Dense.call of <tensorflow.python.layers.core.Dense object at 0x7fc466f6eb00>>: AssertionError: Bad argument number for Name: 3, expecting 4\n",
      "WARNING:tensorflow:Entity <bound method Dense.call of <tensorflow.python.layers.core.Dense object at 0x7fc4ec0e92b0>> could not be transformed and will be executed as-is. Please report this to the AutgoGraph team. When filing the bug, set the verbosity to 10 (on Linux, `export AUTOGRAPH_VERBOSITY=10`) and attach the full output. Cause: converting <bound method Dense.call of <tensorflow.python.layers.core.Dense object at 0x7fc4ec0e92b0>>: AssertionError: Bad argument number for Name: 3, expecting 4\n"
     ]
    },
    {
     "name": "stderr",
     "output_type": "stream",
     "text": [
      "WARNING:tensorflow:Entity <bound method Dense.call of <tensorflow.python.layers.core.Dense object at 0x7fc4ec0e92b0>> could not be transformed and will be executed as-is. Please report this to the AutgoGraph team. When filing the bug, set the verbosity to 10 (on Linux, `export AUTOGRAPH_VERBOSITY=10`) and attach the full output. Cause: converting <bound method Dense.call of <tensorflow.python.layers.core.Dense object at 0x7fc4ec0e92b0>>: AssertionError: Bad argument number for Name: 3, expecting 4\n"
     ]
    },
    {
     "name": "stdout",
     "output_type": "stream",
     "text": [
      "WARNING: Entity <bound method Dense.call of <tensorflow.python.layers.core.Dense object at 0x7fc4ec0e92b0>> could not be transformed and will be executed as-is. Please report this to the AutgoGraph team. When filing the bug, set the verbosity to 10 (on Linux, `export AUTOGRAPH_VERBOSITY=10`) and attach the full output. Cause: converting <bound method Dense.call of <tensorflow.python.layers.core.Dense object at 0x7fc4ec0e92b0>>: AssertionError: Bad argument number for Name: 3, expecting 4\n",
      "WARNING:tensorflow:Entity <bound method Dense.call of <tensorflow.python.layers.core.Dense object at 0x7fc46700b5c0>> could not be transformed and will be executed as-is. Please report this to the AutgoGraph team. When filing the bug, set the verbosity to 10 (on Linux, `export AUTOGRAPH_VERBOSITY=10`) and attach the full output. Cause: converting <bound method Dense.call of <tensorflow.python.layers.core.Dense object at 0x7fc46700b5c0>>: AssertionError: Bad argument number for Name: 3, expecting 4\n"
     ]
    },
    {
     "name": "stderr",
     "output_type": "stream",
     "text": [
      "WARNING:tensorflow:Entity <bound method Dense.call of <tensorflow.python.layers.core.Dense object at 0x7fc46700b5c0>> could not be transformed and will be executed as-is. Please report this to the AutgoGraph team. When filing the bug, set the verbosity to 10 (on Linux, `export AUTOGRAPH_VERBOSITY=10`) and attach the full output. Cause: converting <bound method Dense.call of <tensorflow.python.layers.core.Dense object at 0x7fc46700b5c0>>: AssertionError: Bad argument number for Name: 3, expecting 4\n"
     ]
    },
    {
     "name": "stdout",
     "output_type": "stream",
     "text": [
      "WARNING: Entity <bound method Dense.call of <tensorflow.python.layers.core.Dense object at 0x7fc46700b5c0>> could not be transformed and will be executed as-is. Please report this to the AutgoGraph team. When filing the bug, set the verbosity to 10 (on Linux, `export AUTOGRAPH_VERBOSITY=10`) and attach the full output. Cause: converting <bound method Dense.call of <tensorflow.python.layers.core.Dense object at 0x7fc46700b5c0>>: AssertionError: Bad argument number for Name: 3, expecting 4\n",
      "WARNING:tensorflow:Entity <bound method Dense.call of <tensorflow.python.layers.core.Dense object at 0x7fc46721ce10>> could not be transformed and will be executed as-is. Please report this to the AutgoGraph team. When filing the bug, set the verbosity to 10 (on Linux, `export AUTOGRAPH_VERBOSITY=10`) and attach the full output. Cause: converting <bound method Dense.call of <tensorflow.python.layers.core.Dense object at 0x7fc46721ce10>>: AssertionError: Bad argument number for Name: 3, expecting 4\n"
     ]
    },
    {
     "name": "stderr",
     "output_type": "stream",
     "text": [
      "WARNING:tensorflow:Entity <bound method Dense.call of <tensorflow.python.layers.core.Dense object at 0x7fc46721ce10>> could not be transformed and will be executed as-is. Please report this to the AutgoGraph team. When filing the bug, set the verbosity to 10 (on Linux, `export AUTOGRAPH_VERBOSITY=10`) and attach the full output. Cause: converting <bound method Dense.call of <tensorflow.python.layers.core.Dense object at 0x7fc46721ce10>>: AssertionError: Bad argument number for Name: 3, expecting 4\n"
     ]
    },
    {
     "name": "stdout",
     "output_type": "stream",
     "text": [
      "WARNING: Entity <bound method Dense.call of <tensorflow.python.layers.core.Dense object at 0x7fc46721ce10>> could not be transformed and will be executed as-is. Please report this to the AutgoGraph team. When filing the bug, set the verbosity to 10 (on Linux, `export AUTOGRAPH_VERBOSITY=10`) and attach the full output. Cause: converting <bound method Dense.call of <tensorflow.python.layers.core.Dense object at 0x7fc46721ce10>>: AssertionError: Bad argument number for Name: 3, expecting 4\n",
      "WARNING:tensorflow:Entity <bound method Dense.call of <tensorflow.python.layers.core.Dense object at 0x7fc466c9c390>> could not be transformed and will be executed as-is. Please report this to the AutgoGraph team. When filing the bug, set the verbosity to 10 (on Linux, `export AUTOGRAPH_VERBOSITY=10`) and attach the full output. Cause: converting <bound method Dense.call of <tensorflow.python.layers.core.Dense object at 0x7fc466c9c390>>: AssertionError: Bad argument number for Name: 3, expecting 4\n"
     ]
    },
    {
     "name": "stderr",
     "output_type": "stream",
     "text": [
      "WARNING:tensorflow:Entity <bound method Dense.call of <tensorflow.python.layers.core.Dense object at 0x7fc466c9c390>> could not be transformed and will be executed as-is. Please report this to the AutgoGraph team. When filing the bug, set the verbosity to 10 (on Linux, `export AUTOGRAPH_VERBOSITY=10`) and attach the full output. Cause: converting <bound method Dense.call of <tensorflow.python.layers.core.Dense object at 0x7fc466c9c390>>: AssertionError: Bad argument number for Name: 3, expecting 4\n"
     ]
    },
    {
     "name": "stdout",
     "output_type": "stream",
     "text": [
      "WARNING: Entity <bound method Dense.call of <tensorflow.python.layers.core.Dense object at 0x7fc466c9c390>> could not be transformed and will be executed as-is. Please report this to the AutgoGraph team. When filing the bug, set the verbosity to 10 (on Linux, `export AUTOGRAPH_VERBOSITY=10`) and attach the full output. Cause: converting <bound method Dense.call of <tensorflow.python.layers.core.Dense object at 0x7fc466c9c390>>: AssertionError: Bad argument number for Name: 3, expecting 4\n",
      "WARNING:tensorflow:Entity <bound method Dense.call of <tensorflow.python.layers.core.Dense object at 0x7fc466c8c160>> could not be transformed and will be executed as-is. Please report this to the AutgoGraph team. When filing the bug, set the verbosity to 10 (on Linux, `export AUTOGRAPH_VERBOSITY=10`) and attach the full output. Cause: converting <bound method Dense.call of <tensorflow.python.layers.core.Dense object at 0x7fc466c8c160>>: AssertionError: Bad argument number for Name: 3, expecting 4\n"
     ]
    },
    {
     "name": "stderr",
     "output_type": "stream",
     "text": [
      "WARNING:tensorflow:Entity <bound method Dense.call of <tensorflow.python.layers.core.Dense object at 0x7fc466c8c160>> could not be transformed and will be executed as-is. Please report this to the AutgoGraph team. When filing the bug, set the verbosity to 10 (on Linux, `export AUTOGRAPH_VERBOSITY=10`) and attach the full output. Cause: converting <bound method Dense.call of <tensorflow.python.layers.core.Dense object at 0x7fc466c8c160>>: AssertionError: Bad argument number for Name: 3, expecting 4\n"
     ]
    },
    {
     "name": "stdout",
     "output_type": "stream",
     "text": [
      "WARNING: Entity <bound method Dense.call of <tensorflow.python.layers.core.Dense object at 0x7fc466c8c160>> could not be transformed and will be executed as-is. Please report this to the AutgoGraph team. When filing the bug, set the verbosity to 10 (on Linux, `export AUTOGRAPH_VERBOSITY=10`) and attach the full output. Cause: converting <bound method Dense.call of <tensorflow.python.layers.core.Dense object at 0x7fc466c8c160>>: AssertionError: Bad argument number for Name: 3, expecting 4\n",
      "WARNING:tensorflow:Entity <bound method Dense.call of <tensorflow.python.layers.core.Dense object at 0x7fc466c8c160>> could not be transformed and will be executed as-is. Please report this to the AutgoGraph team. When filing the bug, set the verbosity to 10 (on Linux, `export AUTOGRAPH_VERBOSITY=10`) and attach the full output. Cause: converting <bound method Dense.call of <tensorflow.python.layers.core.Dense object at 0x7fc466c8c160>>: AssertionError: Bad argument number for Name: 3, expecting 4\n"
     ]
    },
    {
     "name": "stderr",
     "output_type": "stream",
     "text": [
      "WARNING:tensorflow:Entity <bound method Dense.call of <tensorflow.python.layers.core.Dense object at 0x7fc466c8c160>> could not be transformed and will be executed as-is. Please report this to the AutgoGraph team. When filing the bug, set the verbosity to 10 (on Linux, `export AUTOGRAPH_VERBOSITY=10`) and attach the full output. Cause: converting <bound method Dense.call of <tensorflow.python.layers.core.Dense object at 0x7fc466c8c160>>: AssertionError: Bad argument number for Name: 3, expecting 4\n"
     ]
    },
    {
     "name": "stdout",
     "output_type": "stream",
     "text": [
      "WARNING: Entity <bound method Dense.call of <tensorflow.python.layers.core.Dense object at 0x7fc466c8c160>> could not be transformed and will be executed as-is. Please report this to the AutgoGraph team. When filing the bug, set the verbosity to 10 (on Linux, `export AUTOGRAPH_VERBOSITY=10`) and attach the full output. Cause: converting <bound method Dense.call of <tensorflow.python.layers.core.Dense object at 0x7fc466c8c160>>: AssertionError: Bad argument number for Name: 3, expecting 4\n",
      "WARNING:tensorflow:Entity <bound method Dense.call of <tensorflow.python.layers.core.Dense object at 0x7fc466e70dd8>> could not be transformed and will be executed as-is. Please report this to the AutgoGraph team. When filing the bug, set the verbosity to 10 (on Linux, `export AUTOGRAPH_VERBOSITY=10`) and attach the full output. Cause: converting <bound method Dense.call of <tensorflow.python.layers.core.Dense object at 0x7fc466e70dd8>>: AssertionError: Bad argument number for Name: 3, expecting 4\n"
     ]
    },
    {
     "name": "stderr",
     "output_type": "stream",
     "text": [
      "WARNING:tensorflow:Entity <bound method Dense.call of <tensorflow.python.layers.core.Dense object at 0x7fc466e70dd8>> could not be transformed and will be executed as-is. Please report this to the AutgoGraph team. When filing the bug, set the verbosity to 10 (on Linux, `export AUTOGRAPH_VERBOSITY=10`) and attach the full output. Cause: converting <bound method Dense.call of <tensorflow.python.layers.core.Dense object at 0x7fc466e70dd8>>: AssertionError: Bad argument number for Name: 3, expecting 4\n"
     ]
    },
    {
     "name": "stdout",
     "output_type": "stream",
     "text": [
      "WARNING: Entity <bound method Dense.call of <tensorflow.python.layers.core.Dense object at 0x7fc466e70dd8>> could not be transformed and will be executed as-is. Please report this to the AutgoGraph team. When filing the bug, set the verbosity to 10 (on Linux, `export AUTOGRAPH_VERBOSITY=10`) and attach the full output. Cause: converting <bound method Dense.call of <tensorflow.python.layers.core.Dense object at 0x7fc466e70dd8>>: AssertionError: Bad argument number for Name: 3, expecting 4\n",
      "WARNING:tensorflow:Entity <bound method Dense.call of <tensorflow.python.layers.core.Dense object at 0x7fc466d39e80>> could not be transformed and will be executed as-is. Please report this to the AutgoGraph team. When filing the bug, set the verbosity to 10 (on Linux, `export AUTOGRAPH_VERBOSITY=10`) and attach the full output. Cause: converting <bound method Dense.call of <tensorflow.python.layers.core.Dense object at 0x7fc466d39e80>>: AssertionError: Bad argument number for Name: 3, expecting 4\n"
     ]
    },
    {
     "name": "stderr",
     "output_type": "stream",
     "text": [
      "WARNING:tensorflow:Entity <bound method Dense.call of <tensorflow.python.layers.core.Dense object at 0x7fc466d39e80>> could not be transformed and will be executed as-is. Please report this to the AutgoGraph team. When filing the bug, set the verbosity to 10 (on Linux, `export AUTOGRAPH_VERBOSITY=10`) and attach the full output. Cause: converting <bound method Dense.call of <tensorflow.python.layers.core.Dense object at 0x7fc466d39e80>>: AssertionError: Bad argument number for Name: 3, expecting 4\n"
     ]
    },
    {
     "name": "stdout",
     "output_type": "stream",
     "text": [
      "WARNING: Entity <bound method Dense.call of <tensorflow.python.layers.core.Dense object at 0x7fc466d39e80>> could not be transformed and will be executed as-is. Please report this to the AutgoGraph team. When filing the bug, set the verbosity to 10 (on Linux, `export AUTOGRAPH_VERBOSITY=10`) and attach the full output. Cause: converting <bound method Dense.call of <tensorflow.python.layers.core.Dense object at 0x7fc466d39e80>>: AssertionError: Bad argument number for Name: 3, expecting 4\n",
      "WARNING:tensorflow:Entity <bound method Dense.call of <tensorflow.python.layers.core.Dense object at 0x7fc46700b5c0>> could not be transformed and will be executed as-is. Please report this to the AutgoGraph team. When filing the bug, set the verbosity to 10 (on Linux, `export AUTOGRAPH_VERBOSITY=10`) and attach the full output. Cause: converting <bound method Dense.call of <tensorflow.python.layers.core.Dense object at 0x7fc46700b5c0>>: AssertionError: Bad argument number for Name: 3, expecting 4\n"
     ]
    },
    {
     "name": "stderr",
     "output_type": "stream",
     "text": [
      "WARNING:tensorflow:Entity <bound method Dense.call of <tensorflow.python.layers.core.Dense object at 0x7fc46700b5c0>> could not be transformed and will be executed as-is. Please report this to the AutgoGraph team. When filing the bug, set the verbosity to 10 (on Linux, `export AUTOGRAPH_VERBOSITY=10`) and attach the full output. Cause: converting <bound method Dense.call of <tensorflow.python.layers.core.Dense object at 0x7fc46700b5c0>>: AssertionError: Bad argument number for Name: 3, expecting 4\n"
     ]
    },
    {
     "name": "stdout",
     "output_type": "stream",
     "text": [
      "WARNING: Entity <bound method Dense.call of <tensorflow.python.layers.core.Dense object at 0x7fc46700b5c0>> could not be transformed and will be executed as-is. Please report this to the AutgoGraph team. When filing the bug, set the verbosity to 10 (on Linux, `export AUTOGRAPH_VERBOSITY=10`) and attach the full output. Cause: converting <bound method Dense.call of <tensorflow.python.layers.core.Dense object at 0x7fc46700b5c0>>: AssertionError: Bad argument number for Name: 3, expecting 4\n",
      "WARNING:tensorflow:Entity <bound method Dense.call of <tensorflow.python.layers.core.Dense object at 0x7fc466a3d7f0>> could not be transformed and will be executed as-is. Please report this to the AutgoGraph team. When filing the bug, set the verbosity to 10 (on Linux, `export AUTOGRAPH_VERBOSITY=10`) and attach the full output. Cause: converting <bound method Dense.call of <tensorflow.python.layers.core.Dense object at 0x7fc466a3d7f0>>: AssertionError: Bad argument number for Name: 3, expecting 4\n"
     ]
    },
    {
     "name": "stderr",
     "output_type": "stream",
     "text": [
      "WARNING:tensorflow:Entity <bound method Dense.call of <tensorflow.python.layers.core.Dense object at 0x7fc466a3d7f0>> could not be transformed and will be executed as-is. Please report this to the AutgoGraph team. When filing the bug, set the verbosity to 10 (on Linux, `export AUTOGRAPH_VERBOSITY=10`) and attach the full output. Cause: converting <bound method Dense.call of <tensorflow.python.layers.core.Dense object at 0x7fc466a3d7f0>>: AssertionError: Bad argument number for Name: 3, expecting 4\n"
     ]
    },
    {
     "name": "stdout",
     "output_type": "stream",
     "text": [
      "WARNING: Entity <bound method Dense.call of <tensorflow.python.layers.core.Dense object at 0x7fc466a3d7f0>> could not be transformed and will be executed as-is. Please report this to the AutgoGraph team. When filing the bug, set the verbosity to 10 (on Linux, `export AUTOGRAPH_VERBOSITY=10`) and attach the full output. Cause: converting <bound method Dense.call of <tensorflow.python.layers.core.Dense object at 0x7fc466a3d7f0>>: AssertionError: Bad argument number for Name: 3, expecting 4\n",
      "WARNING:tensorflow:Entity <bound method Dense.call of <tensorflow.python.layers.core.Dense object at 0x7fc466a48f28>> could not be transformed and will be executed as-is. Please report this to the AutgoGraph team. When filing the bug, set the verbosity to 10 (on Linux, `export AUTOGRAPH_VERBOSITY=10`) and attach the full output. Cause: converting <bound method Dense.call of <tensorflow.python.layers.core.Dense object at 0x7fc466a48f28>>: AssertionError: Bad argument number for Name: 3, expecting 4\n"
     ]
    },
    {
     "name": "stderr",
     "output_type": "stream",
     "text": [
      "WARNING:tensorflow:Entity <bound method Dense.call of <tensorflow.python.layers.core.Dense object at 0x7fc466a48f28>> could not be transformed and will be executed as-is. Please report this to the AutgoGraph team. When filing the bug, set the verbosity to 10 (on Linux, `export AUTOGRAPH_VERBOSITY=10`) and attach the full output. Cause: converting <bound method Dense.call of <tensorflow.python.layers.core.Dense object at 0x7fc466a48f28>>: AssertionError: Bad argument number for Name: 3, expecting 4\n"
     ]
    },
    {
     "name": "stdout",
     "output_type": "stream",
     "text": [
      "WARNING: Entity <bound method Dense.call of <tensorflow.python.layers.core.Dense object at 0x7fc466a48f28>> could not be transformed and will be executed as-is. Please report this to the AutgoGraph team. When filing the bug, set the verbosity to 10 (on Linux, `export AUTOGRAPH_VERBOSITY=10`) and attach the full output. Cause: converting <bound method Dense.call of <tensorflow.python.layers.core.Dense object at 0x7fc466a48f28>>: AssertionError: Bad argument number for Name: 3, expecting 4\n",
      "WARNING:tensorflow:Entity <bound method Dense.call of <tensorflow.python.layers.core.Dense object at 0x7fc466a3d7f0>> could not be transformed and will be executed as-is. Please report this to the AutgoGraph team. When filing the bug, set the verbosity to 10 (on Linux, `export AUTOGRAPH_VERBOSITY=10`) and attach the full output. Cause: converting <bound method Dense.call of <tensorflow.python.layers.core.Dense object at 0x7fc466a3d7f0>>: AssertionError: Bad argument number for Name: 3, expecting 4\n"
     ]
    },
    {
     "name": "stderr",
     "output_type": "stream",
     "text": [
      "WARNING:tensorflow:Entity <bound method Dense.call of <tensorflow.python.layers.core.Dense object at 0x7fc466a3d7f0>> could not be transformed and will be executed as-is. Please report this to the AutgoGraph team. When filing the bug, set the verbosity to 10 (on Linux, `export AUTOGRAPH_VERBOSITY=10`) and attach the full output. Cause: converting <bound method Dense.call of <tensorflow.python.layers.core.Dense object at 0x7fc466a3d7f0>>: AssertionError: Bad argument number for Name: 3, expecting 4\n"
     ]
    },
    {
     "name": "stdout",
     "output_type": "stream",
     "text": [
      "WARNING: Entity <bound method Dense.call of <tensorflow.python.layers.core.Dense object at 0x7fc466a3d7f0>> could not be transformed and will be executed as-is. Please report this to the AutgoGraph team. When filing the bug, set the verbosity to 10 (on Linux, `export AUTOGRAPH_VERBOSITY=10`) and attach the full output. Cause: converting <bound method Dense.call of <tensorflow.python.layers.core.Dense object at 0x7fc466a3d7f0>>: AssertionError: Bad argument number for Name: 3, expecting 4\n",
      "WARNING:tensorflow:Entity <bound method Dense.call of <tensorflow.python.layers.core.Dense object at 0x7fc466a14518>> could not be transformed and will be executed as-is. Please report this to the AutgoGraph team. When filing the bug, set the verbosity to 10 (on Linux, `export AUTOGRAPH_VERBOSITY=10`) and attach the full output. Cause: converting <bound method Dense.call of <tensorflow.python.layers.core.Dense object at 0x7fc466a14518>>: AssertionError: Bad argument number for Name: 3, expecting 4\n"
     ]
    },
    {
     "name": "stderr",
     "output_type": "stream",
     "text": [
      "WARNING:tensorflow:Entity <bound method Dense.call of <tensorflow.python.layers.core.Dense object at 0x7fc466a14518>> could not be transformed and will be executed as-is. Please report this to the AutgoGraph team. When filing the bug, set the verbosity to 10 (on Linux, `export AUTOGRAPH_VERBOSITY=10`) and attach the full output. Cause: converting <bound method Dense.call of <tensorflow.python.layers.core.Dense object at 0x7fc466a14518>>: AssertionError: Bad argument number for Name: 3, expecting 4\n"
     ]
    },
    {
     "name": "stdout",
     "output_type": "stream",
     "text": [
      "WARNING: Entity <bound method Dense.call of <tensorflow.python.layers.core.Dense object at 0x7fc466a14518>> could not be transformed and will be executed as-is. Please report this to the AutgoGraph team. When filing the bug, set the verbosity to 10 (on Linux, `export AUTOGRAPH_VERBOSITY=10`) and attach the full output. Cause: converting <bound method Dense.call of <tensorflow.python.layers.core.Dense object at 0x7fc466a14518>>: AssertionError: Bad argument number for Name: 3, expecting 4\n",
      "WARNING:tensorflow:Entity <bound method Dense.call of <tensorflow.python.layers.core.Dense object at 0x7fc46700b5c0>> could not be transformed and will be executed as-is. Please report this to the AutgoGraph team. When filing the bug, set the verbosity to 10 (on Linux, `export AUTOGRAPH_VERBOSITY=10`) and attach the full output. Cause: converting <bound method Dense.call of <tensorflow.python.layers.core.Dense object at 0x7fc46700b5c0>>: AssertionError: Bad argument number for Name: 3, expecting 4\n"
     ]
    },
    {
     "name": "stderr",
     "output_type": "stream",
     "text": [
      "WARNING:tensorflow:Entity <bound method Dense.call of <tensorflow.python.layers.core.Dense object at 0x7fc46700b5c0>> could not be transformed and will be executed as-is. Please report this to the AutgoGraph team. When filing the bug, set the verbosity to 10 (on Linux, `export AUTOGRAPH_VERBOSITY=10`) and attach the full output. Cause: converting <bound method Dense.call of <tensorflow.python.layers.core.Dense object at 0x7fc46700b5c0>>: AssertionError: Bad argument number for Name: 3, expecting 4\n"
     ]
    },
    {
     "name": "stdout",
     "output_type": "stream",
     "text": [
      "WARNING: Entity <bound method Dense.call of <tensorflow.python.layers.core.Dense object at 0x7fc46700b5c0>> could not be transformed and will be executed as-is. Please report this to the AutgoGraph team. When filing the bug, set the verbosity to 10 (on Linux, `export AUTOGRAPH_VERBOSITY=10`) and attach the full output. Cause: converting <bound method Dense.call of <tensorflow.python.layers.core.Dense object at 0x7fc46700b5c0>>: AssertionError: Bad argument number for Name: 3, expecting 4\n",
      "WARNING:tensorflow:Entity <bound method Dense.call of <tensorflow.python.layers.core.Dense object at 0x7fc466d39e80>> could not be transformed and will be executed as-is. Please report this to the AutgoGraph team. When filing the bug, set the verbosity to 10 (on Linux, `export AUTOGRAPH_VERBOSITY=10`) and attach the full output. Cause: converting <bound method Dense.call of <tensorflow.python.layers.core.Dense object at 0x7fc466d39e80>>: AssertionError: Bad argument number for Name: 3, expecting 4\n"
     ]
    },
    {
     "name": "stderr",
     "output_type": "stream",
     "text": [
      "WARNING:tensorflow:Entity <bound method Dense.call of <tensorflow.python.layers.core.Dense object at 0x7fc466d39e80>> could not be transformed and will be executed as-is. Please report this to the AutgoGraph team. When filing the bug, set the verbosity to 10 (on Linux, `export AUTOGRAPH_VERBOSITY=10`) and attach the full output. Cause: converting <bound method Dense.call of <tensorflow.python.layers.core.Dense object at 0x7fc466d39e80>>: AssertionError: Bad argument number for Name: 3, expecting 4\n"
     ]
    },
    {
     "name": "stdout",
     "output_type": "stream",
     "text": [
      "WARNING: Entity <bound method Dense.call of <tensorflow.python.layers.core.Dense object at 0x7fc466d39e80>> could not be transformed and will be executed as-is. Please report this to the AutgoGraph team. When filing the bug, set the verbosity to 10 (on Linux, `export AUTOGRAPH_VERBOSITY=10`) and attach the full output. Cause: converting <bound method Dense.call of <tensorflow.python.layers.core.Dense object at 0x7fc466d39e80>>: AssertionError: Bad argument number for Name: 3, expecting 4\n",
      "WARNING:tensorflow:Entity <bound method Dense.call of <tensorflow.python.layers.core.Dense object at 0x7fc466761e80>> could not be transformed and will be executed as-is. Please report this to the AutgoGraph team. When filing the bug, set the verbosity to 10 (on Linux, `export AUTOGRAPH_VERBOSITY=10`) and attach the full output. Cause: converting <bound method Dense.call of <tensorflow.python.layers.core.Dense object at 0x7fc466761e80>>: AssertionError: Bad argument number for Name: 3, expecting 4\n"
     ]
    },
    {
     "name": "stderr",
     "output_type": "stream",
     "text": [
      "WARNING:tensorflow:Entity <bound method Dense.call of <tensorflow.python.layers.core.Dense object at 0x7fc466761e80>> could not be transformed and will be executed as-is. Please report this to the AutgoGraph team. When filing the bug, set the verbosity to 10 (on Linux, `export AUTOGRAPH_VERBOSITY=10`) and attach the full output. Cause: converting <bound method Dense.call of <tensorflow.python.layers.core.Dense object at 0x7fc466761e80>>: AssertionError: Bad argument number for Name: 3, expecting 4\n"
     ]
    },
    {
     "name": "stdout",
     "output_type": "stream",
     "text": [
      "WARNING: Entity <bound method Dense.call of <tensorflow.python.layers.core.Dense object at 0x7fc466761e80>> could not be transformed and will be executed as-is. Please report this to the AutgoGraph team. When filing the bug, set the verbosity to 10 (on Linux, `export AUTOGRAPH_VERBOSITY=10`) and attach the full output. Cause: converting <bound method Dense.call of <tensorflow.python.layers.core.Dense object at 0x7fc466761e80>>: AssertionError: Bad argument number for Name: 3, expecting 4\n",
      "WARNING:tensorflow:Entity <bound method Dense.call of <tensorflow.python.layers.core.Dense object at 0x7fc4667e1f28>> could not be transformed and will be executed as-is. Please report this to the AutgoGraph team. When filing the bug, set the verbosity to 10 (on Linux, `export AUTOGRAPH_VERBOSITY=10`) and attach the full output. Cause: converting <bound method Dense.call of <tensorflow.python.layers.core.Dense object at 0x7fc4667e1f28>>: AssertionError: Bad argument number for Name: 3, expecting 4\n"
     ]
    },
    {
     "name": "stderr",
     "output_type": "stream",
     "text": [
      "WARNING:tensorflow:Entity <bound method Dense.call of <tensorflow.python.layers.core.Dense object at 0x7fc4667e1f28>> could not be transformed and will be executed as-is. Please report this to the AutgoGraph team. When filing the bug, set the verbosity to 10 (on Linux, `export AUTOGRAPH_VERBOSITY=10`) and attach the full output. Cause: converting <bound method Dense.call of <tensorflow.python.layers.core.Dense object at 0x7fc4667e1f28>>: AssertionError: Bad argument number for Name: 3, expecting 4\n"
     ]
    },
    {
     "name": "stdout",
     "output_type": "stream",
     "text": [
      "WARNING: Entity <bound method Dense.call of <tensorflow.python.layers.core.Dense object at 0x7fc4667e1f28>> could not be transformed and will be executed as-is. Please report this to the AutgoGraph team. When filing the bug, set the verbosity to 10 (on Linux, `export AUTOGRAPH_VERBOSITY=10`) and attach the full output. Cause: converting <bound method Dense.call of <tensorflow.python.layers.core.Dense object at 0x7fc4667e1f28>>: AssertionError: Bad argument number for Name: 3, expecting 4\n",
      "WARNING:tensorflow:Entity <bound method Dense.call of <tensorflow.python.layers.core.Dense object at 0x7fc4667e1f28>> could not be transformed and will be executed as-is. Please report this to the AutgoGraph team. When filing the bug, set the verbosity to 10 (on Linux, `export AUTOGRAPH_VERBOSITY=10`) and attach the full output. Cause: converting <bound method Dense.call of <tensorflow.python.layers.core.Dense object at 0x7fc4667e1f28>>: AssertionError: Bad argument number for Name: 3, expecting 4\n"
     ]
    },
    {
     "name": "stderr",
     "output_type": "stream",
     "text": [
      "WARNING:tensorflow:Entity <bound method Dense.call of <tensorflow.python.layers.core.Dense object at 0x7fc4667e1f28>> could not be transformed and will be executed as-is. Please report this to the AutgoGraph team. When filing the bug, set the verbosity to 10 (on Linux, `export AUTOGRAPH_VERBOSITY=10`) and attach the full output. Cause: converting <bound method Dense.call of <tensorflow.python.layers.core.Dense object at 0x7fc4667e1f28>>: AssertionError: Bad argument number for Name: 3, expecting 4\n"
     ]
    },
    {
     "name": "stdout",
     "output_type": "stream",
     "text": [
      "WARNING: Entity <bound method Dense.call of <tensorflow.python.layers.core.Dense object at 0x7fc4667e1f28>> could not be transformed and will be executed as-is. Please report this to the AutgoGraph team. When filing the bug, set the verbosity to 10 (on Linux, `export AUTOGRAPH_VERBOSITY=10`) and attach the full output. Cause: converting <bound method Dense.call of <tensorflow.python.layers.core.Dense object at 0x7fc4667e1f28>>: AssertionError: Bad argument number for Name: 3, expecting 4\n",
      "WARNING:tensorflow:Entity <bound method Dense.call of <tensorflow.python.layers.core.Dense object at 0x7fc4668d9080>> could not be transformed and will be executed as-is. Please report this to the AutgoGraph team. When filing the bug, set the verbosity to 10 (on Linux, `export AUTOGRAPH_VERBOSITY=10`) and attach the full output. Cause: converting <bound method Dense.call of <tensorflow.python.layers.core.Dense object at 0x7fc4668d9080>>: AssertionError: Bad argument number for Name: 3, expecting 4\n"
     ]
    },
    {
     "name": "stderr",
     "output_type": "stream",
     "text": [
      "WARNING:tensorflow:Entity <bound method Dense.call of <tensorflow.python.layers.core.Dense object at 0x7fc4668d9080>> could not be transformed and will be executed as-is. Please report this to the AutgoGraph team. When filing the bug, set the verbosity to 10 (on Linux, `export AUTOGRAPH_VERBOSITY=10`) and attach the full output. Cause: converting <bound method Dense.call of <tensorflow.python.layers.core.Dense object at 0x7fc4668d9080>>: AssertionError: Bad argument number for Name: 3, expecting 4\n"
     ]
    },
    {
     "name": "stdout",
     "output_type": "stream",
     "text": [
      "WARNING: Entity <bound method Dense.call of <tensorflow.python.layers.core.Dense object at 0x7fc4668d9080>> could not be transformed and will be executed as-is. Please report this to the AutgoGraph team. When filing the bug, set the verbosity to 10 (on Linux, `export AUTOGRAPH_VERBOSITY=10`) and attach the full output. Cause: converting <bound method Dense.call of <tensorflow.python.layers.core.Dense object at 0x7fc4668d9080>>: AssertionError: Bad argument number for Name: 3, expecting 4\n",
      "WARNING:tensorflow:Entity <bound method Dense.call of <tensorflow.python.layers.core.Dense object at 0x7fc4667859e8>> could not be transformed and will be executed as-is. Please report this to the AutgoGraph team. When filing the bug, set the verbosity to 10 (on Linux, `export AUTOGRAPH_VERBOSITY=10`) and attach the full output. Cause: converting <bound method Dense.call of <tensorflow.python.layers.core.Dense object at 0x7fc4667859e8>>: AssertionError: Bad argument number for Name: 3, expecting 4\n"
     ]
    },
    {
     "name": "stderr",
     "output_type": "stream",
     "text": [
      "WARNING:tensorflow:Entity <bound method Dense.call of <tensorflow.python.layers.core.Dense object at 0x7fc4667859e8>> could not be transformed and will be executed as-is. Please report this to the AutgoGraph team. When filing the bug, set the verbosity to 10 (on Linux, `export AUTOGRAPH_VERBOSITY=10`) and attach the full output. Cause: converting <bound method Dense.call of <tensorflow.python.layers.core.Dense object at 0x7fc4667859e8>>: AssertionError: Bad argument number for Name: 3, expecting 4\n"
     ]
    },
    {
     "name": "stdout",
     "output_type": "stream",
     "text": [
      "WARNING: Entity <bound method Dense.call of <tensorflow.python.layers.core.Dense object at 0x7fc4667859e8>> could not be transformed and will be executed as-is. Please report this to the AutgoGraph team. When filing the bug, set the verbosity to 10 (on Linux, `export AUTOGRAPH_VERBOSITY=10`) and attach the full output. Cause: converting <bound method Dense.call of <tensorflow.python.layers.core.Dense object at 0x7fc4667859e8>>: AssertionError: Bad argument number for Name: 3, expecting 4\n",
      "WARNING:tensorflow:Entity <bound method Dense.call of <tensorflow.python.layers.core.Dense object at 0x7fc466f04b70>> could not be transformed and will be executed as-is. Please report this to the AutgoGraph team. When filing the bug, set the verbosity to 10 (on Linux, `export AUTOGRAPH_VERBOSITY=10`) and attach the full output. Cause: converting <bound method Dense.call of <tensorflow.python.layers.core.Dense object at 0x7fc466f04b70>>: AssertionError: Bad argument number for Name: 3, expecting 4\n"
     ]
    },
    {
     "name": "stderr",
     "output_type": "stream",
     "text": [
      "WARNING:tensorflow:Entity <bound method Dense.call of <tensorflow.python.layers.core.Dense object at 0x7fc466f04b70>> could not be transformed and will be executed as-is. Please report this to the AutgoGraph team. When filing the bug, set the verbosity to 10 (on Linux, `export AUTOGRAPH_VERBOSITY=10`) and attach the full output. Cause: converting <bound method Dense.call of <tensorflow.python.layers.core.Dense object at 0x7fc466f04b70>>: AssertionError: Bad argument number for Name: 3, expecting 4\n"
     ]
    },
    {
     "name": "stdout",
     "output_type": "stream",
     "text": [
      "WARNING: Entity <bound method Dense.call of <tensorflow.python.layers.core.Dense object at 0x7fc466f04b70>> could not be transformed and will be executed as-is. Please report this to the AutgoGraph team. When filing the bug, set the verbosity to 10 (on Linux, `export AUTOGRAPH_VERBOSITY=10`) and attach the full output. Cause: converting <bound method Dense.call of <tensorflow.python.layers.core.Dense object at 0x7fc466f04b70>>: AssertionError: Bad argument number for Name: 3, expecting 4\n",
      "WARNING:tensorflow:Entity <bound method Dense.call of <tensorflow.python.layers.core.Dense object at 0x7fc4664e1d68>> could not be transformed and will be executed as-is. Please report this to the AutgoGraph team. When filing the bug, set the verbosity to 10 (on Linux, `export AUTOGRAPH_VERBOSITY=10`) and attach the full output. Cause: converting <bound method Dense.call of <tensorflow.python.layers.core.Dense object at 0x7fc4664e1d68>>: AssertionError: Bad argument number for Name: 3, expecting 4\n"
     ]
    },
    {
     "name": "stderr",
     "output_type": "stream",
     "text": [
      "WARNING:tensorflow:Entity <bound method Dense.call of <tensorflow.python.layers.core.Dense object at 0x7fc4664e1d68>> could not be transformed and will be executed as-is. Please report this to the AutgoGraph team. When filing the bug, set the verbosity to 10 (on Linux, `export AUTOGRAPH_VERBOSITY=10`) and attach the full output. Cause: converting <bound method Dense.call of <tensorflow.python.layers.core.Dense object at 0x7fc4664e1d68>>: AssertionError: Bad argument number for Name: 3, expecting 4\n"
     ]
    },
    {
     "name": "stdout",
     "output_type": "stream",
     "text": [
      "WARNING: Entity <bound method Dense.call of <tensorflow.python.layers.core.Dense object at 0x7fc4664e1d68>> could not be transformed and will be executed as-is. Please report this to the AutgoGraph team. When filing the bug, set the verbosity to 10 (on Linux, `export AUTOGRAPH_VERBOSITY=10`) and attach the full output. Cause: converting <bound method Dense.call of <tensorflow.python.layers.core.Dense object at 0x7fc4664e1d68>>: AssertionError: Bad argument number for Name: 3, expecting 4\n",
      "WARNING:tensorflow:Entity <bound method Dense.call of <tensorflow.python.layers.core.Dense object at 0x7fc4664e1d68>> could not be transformed and will be executed as-is. Please report this to the AutgoGraph team. When filing the bug, set the verbosity to 10 (on Linux, `export AUTOGRAPH_VERBOSITY=10`) and attach the full output. Cause: converting <bound method Dense.call of <tensorflow.python.layers.core.Dense object at 0x7fc4664e1d68>>: AssertionError: Bad argument number for Name: 3, expecting 4\n"
     ]
    },
    {
     "name": "stderr",
     "output_type": "stream",
     "text": [
      "WARNING:tensorflow:Entity <bound method Dense.call of <tensorflow.python.layers.core.Dense object at 0x7fc4664e1d68>> could not be transformed and will be executed as-is. Please report this to the AutgoGraph team. When filing the bug, set the verbosity to 10 (on Linux, `export AUTOGRAPH_VERBOSITY=10`) and attach the full output. Cause: converting <bound method Dense.call of <tensorflow.python.layers.core.Dense object at 0x7fc4664e1d68>>: AssertionError: Bad argument number for Name: 3, expecting 4\n"
     ]
    },
    {
     "name": "stdout",
     "output_type": "stream",
     "text": [
      "WARNING: Entity <bound method Dense.call of <tensorflow.python.layers.core.Dense object at 0x7fc4664e1d68>> could not be transformed and will be executed as-is. Please report this to the AutgoGraph team. When filing the bug, set the verbosity to 10 (on Linux, `export AUTOGRAPH_VERBOSITY=10`) and attach the full output. Cause: converting <bound method Dense.call of <tensorflow.python.layers.core.Dense object at 0x7fc4664e1d68>>: AssertionError: Bad argument number for Name: 3, expecting 4\n",
      "WARNING:tensorflow:Entity <bound method Dense.call of <tensorflow.python.layers.core.Dense object at 0x7fc4664e1d68>> could not be transformed and will be executed as-is. Please report this to the AutgoGraph team. When filing the bug, set the verbosity to 10 (on Linux, `export AUTOGRAPH_VERBOSITY=10`) and attach the full output. Cause: converting <bound method Dense.call of <tensorflow.python.layers.core.Dense object at 0x7fc4664e1d68>>: AssertionError: Bad argument number for Name: 3, expecting 4\n"
     ]
    },
    {
     "name": "stderr",
     "output_type": "stream",
     "text": [
      "WARNING:tensorflow:Entity <bound method Dense.call of <tensorflow.python.layers.core.Dense object at 0x7fc4664e1d68>> could not be transformed and will be executed as-is. Please report this to the AutgoGraph team. When filing the bug, set the verbosity to 10 (on Linux, `export AUTOGRAPH_VERBOSITY=10`) and attach the full output. Cause: converting <bound method Dense.call of <tensorflow.python.layers.core.Dense object at 0x7fc4664e1d68>>: AssertionError: Bad argument number for Name: 3, expecting 4\n"
     ]
    },
    {
     "name": "stdout",
     "output_type": "stream",
     "text": [
      "WARNING: Entity <bound method Dense.call of <tensorflow.python.layers.core.Dense object at 0x7fc4664e1d68>> could not be transformed and will be executed as-is. Please report this to the AutgoGraph team. When filing the bug, set the verbosity to 10 (on Linux, `export AUTOGRAPH_VERBOSITY=10`) and attach the full output. Cause: converting <bound method Dense.call of <tensorflow.python.layers.core.Dense object at 0x7fc4664e1d68>>: AssertionError: Bad argument number for Name: 3, expecting 4\n",
      "WARNING:tensorflow:Entity <bound method Dense.call of <tensorflow.python.layers.core.Dense object at 0x7fc466550f98>> could not be transformed and will be executed as-is. Please report this to the AutgoGraph team. When filing the bug, set the verbosity to 10 (on Linux, `export AUTOGRAPH_VERBOSITY=10`) and attach the full output. Cause: converting <bound method Dense.call of <tensorflow.python.layers.core.Dense object at 0x7fc466550f98>>: AssertionError: Bad argument number for Name: 3, expecting 4\n"
     ]
    },
    {
     "name": "stderr",
     "output_type": "stream",
     "text": [
      "WARNING:tensorflow:Entity <bound method Dense.call of <tensorflow.python.layers.core.Dense object at 0x7fc466550f98>> could not be transformed and will be executed as-is. Please report this to the AutgoGraph team. When filing the bug, set the verbosity to 10 (on Linux, `export AUTOGRAPH_VERBOSITY=10`) and attach the full output. Cause: converting <bound method Dense.call of <tensorflow.python.layers.core.Dense object at 0x7fc466550f98>>: AssertionError: Bad argument number for Name: 3, expecting 4\n"
     ]
    },
    {
     "name": "stdout",
     "output_type": "stream",
     "text": [
      "WARNING: Entity <bound method Dense.call of <tensorflow.python.layers.core.Dense object at 0x7fc466550f98>> could not be transformed and will be executed as-is. Please report this to the AutgoGraph team. When filing the bug, set the verbosity to 10 (on Linux, `export AUTOGRAPH_VERBOSITY=10`) and attach the full output. Cause: converting <bound method Dense.call of <tensorflow.python.layers.core.Dense object at 0x7fc466550f98>>: AssertionError: Bad argument number for Name: 3, expecting 4\n",
      "WARNING:tensorflow:Entity <bound method Dense.call of <tensorflow.python.layers.core.Dense object at 0x7fc4cc15b630>> could not be transformed and will be executed as-is. Please report this to the AutgoGraph team. When filing the bug, set the verbosity to 10 (on Linux, `export AUTOGRAPH_VERBOSITY=10`) and attach the full output. Cause: converting <bound method Dense.call of <tensorflow.python.layers.core.Dense object at 0x7fc4cc15b630>>: AssertionError: Bad argument number for Name: 3, expecting 4\n"
     ]
    },
    {
     "name": "stderr",
     "output_type": "stream",
     "text": [
      "WARNING:tensorflow:Entity <bound method Dense.call of <tensorflow.python.layers.core.Dense object at 0x7fc4cc15b630>> could not be transformed and will be executed as-is. Please report this to the AutgoGraph team. When filing the bug, set the verbosity to 10 (on Linux, `export AUTOGRAPH_VERBOSITY=10`) and attach the full output. Cause: converting <bound method Dense.call of <tensorflow.python.layers.core.Dense object at 0x7fc4cc15b630>>: AssertionError: Bad argument number for Name: 3, expecting 4\n"
     ]
    },
    {
     "name": "stdout",
     "output_type": "stream",
     "text": [
      "WARNING: Entity <bound method Dense.call of <tensorflow.python.layers.core.Dense object at 0x7fc4cc15b630>> could not be transformed and will be executed as-is. Please report this to the AutgoGraph team. When filing the bug, set the verbosity to 10 (on Linux, `export AUTOGRAPH_VERBOSITY=10`) and attach the full output. Cause: converting <bound method Dense.call of <tensorflow.python.layers.core.Dense object at 0x7fc4cc15b630>>: AssertionError: Bad argument number for Name: 3, expecting 4\n",
      "WARNING:tensorflow:Entity <bound method Dense.call of <tensorflow.python.layers.core.Dense object at 0x7fc4cc0c1e80>> could not be transformed and will be executed as-is. Please report this to the AutgoGraph team. When filing the bug, set the verbosity to 10 (on Linux, `export AUTOGRAPH_VERBOSITY=10`) and attach the full output. Cause: converting <bound method Dense.call of <tensorflow.python.layers.core.Dense object at 0x7fc4cc0c1e80>>: AssertionError: Bad argument number for Name: 3, expecting 4\n"
     ]
    },
    {
     "name": "stderr",
     "output_type": "stream",
     "text": [
      "WARNING:tensorflow:Entity <bound method Dense.call of <tensorflow.python.layers.core.Dense object at 0x7fc4cc0c1e80>> could not be transformed and will be executed as-is. Please report this to the AutgoGraph team. When filing the bug, set the verbosity to 10 (on Linux, `export AUTOGRAPH_VERBOSITY=10`) and attach the full output. Cause: converting <bound method Dense.call of <tensorflow.python.layers.core.Dense object at 0x7fc4cc0c1e80>>: AssertionError: Bad argument number for Name: 3, expecting 4\n"
     ]
    },
    {
     "name": "stdout",
     "output_type": "stream",
     "text": [
      "WARNING: Entity <bound method Dense.call of <tensorflow.python.layers.core.Dense object at 0x7fc4cc0c1e80>> could not be transformed and will be executed as-is. Please report this to the AutgoGraph team. When filing the bug, set the verbosity to 10 (on Linux, `export AUTOGRAPH_VERBOSITY=10`) and attach the full output. Cause: converting <bound method Dense.call of <tensorflow.python.layers.core.Dense object at 0x7fc4cc0c1e80>>: AssertionError: Bad argument number for Name: 3, expecting 4\n",
      "WARNING:tensorflow:Entity <bound method Dense.call of <tensorflow.python.layers.core.Dense object at 0x7fc466283f98>> could not be transformed and will be executed as-is. Please report this to the AutgoGraph team. When filing the bug, set the verbosity to 10 (on Linux, `export AUTOGRAPH_VERBOSITY=10`) and attach the full output. Cause: converting <bound method Dense.call of <tensorflow.python.layers.core.Dense object at 0x7fc466283f98>>: AssertionError: Bad argument number for Name: 3, expecting 4\n"
     ]
    },
    {
     "name": "stderr",
     "output_type": "stream",
     "text": [
      "WARNING:tensorflow:Entity <bound method Dense.call of <tensorflow.python.layers.core.Dense object at 0x7fc466283f98>> could not be transformed and will be executed as-is. Please report this to the AutgoGraph team. When filing the bug, set the verbosity to 10 (on Linux, `export AUTOGRAPH_VERBOSITY=10`) and attach the full output. Cause: converting <bound method Dense.call of <tensorflow.python.layers.core.Dense object at 0x7fc466283f98>>: AssertionError: Bad argument number for Name: 3, expecting 4\n"
     ]
    },
    {
     "name": "stdout",
     "output_type": "stream",
     "text": [
      "WARNING: Entity <bound method Dense.call of <tensorflow.python.layers.core.Dense object at 0x7fc466283f98>> could not be transformed and will be executed as-is. Please report this to the AutgoGraph team. When filing the bug, set the verbosity to 10 (on Linux, `export AUTOGRAPH_VERBOSITY=10`) and attach the full output. Cause: converting <bound method Dense.call of <tensorflow.python.layers.core.Dense object at 0x7fc466283f98>>: AssertionError: Bad argument number for Name: 3, expecting 4\n",
      "WARNING:tensorflow:From /home/ubuntu/.local/lib/python3.6/site-packages/tensorflow/python/ops/init_ops.py:1251: calling VarianceScaling.__init__ (from tensorflow.python.ops.init_ops) with dtype is deprecated and will be removed in a future version.\n",
      "Instructions for updating:\n",
      "Call initializer instance with the dtype argument instead of passing it to the constructor\n"
     ]
    },
    {
     "name": "stderr",
     "output_type": "stream",
     "text": [
      "WARNING:tensorflow:From /home/ubuntu/.local/lib/python3.6/site-packages/tensorflow/python/ops/init_ops.py:1251: calling VarianceScaling.__init__ (from tensorflow.python.ops.init_ops) with dtype is deprecated and will be removed in a future version.\n",
      "Instructions for updating:\n",
      "Call initializer instance with the dtype argument instead of passing it to the constructor\n"
     ]
    },
    {
     "name": "stdout",
     "output_type": "stream",
     "text": [
      "WARNING:tensorflow:Entity <bound method Dense.call of <tensorflow.python.layers.core.Dense object at 0x7fc542df3f28>> could not be transformed and will be executed as-is. Please report this to the AutgoGraph team. When filing the bug, set the verbosity to 10 (on Linux, `export AUTOGRAPH_VERBOSITY=10`) and attach the full output. Cause: converting <bound method Dense.call of <tensorflow.python.layers.core.Dense object at 0x7fc542df3f28>>: AssertionError: Bad argument number for Name: 3, expecting 4\n"
     ]
    },
    {
     "name": "stderr",
     "output_type": "stream",
     "text": [
      "WARNING:tensorflow:Entity <bound method Dense.call of <tensorflow.python.layers.core.Dense object at 0x7fc542df3f28>> could not be transformed and will be executed as-is. Please report this to the AutgoGraph team. When filing the bug, set the verbosity to 10 (on Linux, `export AUTOGRAPH_VERBOSITY=10`) and attach the full output. Cause: converting <bound method Dense.call of <tensorflow.python.layers.core.Dense object at 0x7fc542df3f28>>: AssertionError: Bad argument number for Name: 3, expecting 4\n"
     ]
    },
    {
     "name": "stdout",
     "output_type": "stream",
     "text": [
      "WARNING: Entity <bound method Dense.call of <tensorflow.python.layers.core.Dense object at 0x7fc542df3f28>> could not be transformed and will be executed as-is. Please report this to the AutgoGraph team. When filing the bug, set the verbosity to 10 (on Linux, `export AUTOGRAPH_VERBOSITY=10`) and attach the full output. Cause: converting <bound method Dense.call of <tensorflow.python.layers.core.Dense object at 0x7fc542df3f28>>: AssertionError: Bad argument number for Name: 3, expecting 4\n",
      "WARNING:tensorflow:From /home/ubuntu/.local/lib/python3.6/site-packages/deeppavlov/models/bert/bert_ner.py:350: add_dispatch_support.<locals>.wrapper (from tensorflow.python.ops.array_ops) is deprecated and will be removed in a future version.\n",
      "Instructions for updating:\n",
      "Use tf.where in 2.0, which has the same broadcast rule as np.where\n"
     ]
    },
    {
     "name": "stderr",
     "output_type": "stream",
     "text": [
      "WARNING:tensorflow:From /home/ubuntu/.local/lib/python3.6/site-packages/deeppavlov/models/bert/bert_ner.py:350: add_dispatch_support.<locals>.wrapper (from tensorflow.python.ops.array_ops) is deprecated and will be removed in a future version.\n",
      "Instructions for updating:\n",
      "Use tf.where in 2.0, which has the same broadcast rule as np.where\n"
     ]
    },
    {
     "name": "stdout",
     "output_type": "stream",
     "text": [
      "WARNING:tensorflow:From /home/ubuntu/.local/lib/python3.6/site-packages/tensorflow/contrib/crf/python/ops/crf.py:213: dynamic_rnn (from tensorflow.python.ops.rnn) is deprecated and will be removed in a future version.\n",
      "Instructions for updating:\n",
      "Please use `keras.layers.RNN(cell)`, which is equivalent to this API\n"
     ]
    },
    {
     "name": "stderr",
     "output_type": "stream",
     "text": [
      "WARNING:tensorflow:From /home/ubuntu/.local/lib/python3.6/site-packages/tensorflow/contrib/crf/python/ops/crf.py:213: dynamic_rnn (from tensorflow.python.ops.rnn) is deprecated and will be removed in a future version.\n",
      "Instructions for updating:\n",
      "Please use `keras.layers.RNN(cell)`, which is equivalent to this API\n"
     ]
    },
    {
     "name": "stdout",
     "output_type": "stream",
     "text": [
      "WARNING:tensorflow:From /home/ubuntu/.local/lib/python3.6/site-packages/deeppavlov/core/models/tf_model.py:235: The name tf.train.AdadeltaOptimizer is deprecated. Please use tf.compat.v1.train.AdadeltaOptimizer instead.\n",
      "\n"
     ]
    },
    {
     "name": "stderr",
     "output_type": "stream",
     "text": [
      "WARNING:tensorflow:From /home/ubuntu/.local/lib/python3.6/site-packages/deeppavlov/core/models/tf_model.py:235: The name tf.train.AdadeltaOptimizer is deprecated. Please use tf.compat.v1.train.AdadeltaOptimizer instead.\n",
      "\n"
     ]
    },
    {
     "name": "stdout",
     "output_type": "stream",
     "text": [
      "WARNING:tensorflow:From /home/ubuntu/.local/lib/python3.6/site-packages/tensorflow/python/training/moving_averages.py:433: Variable.initialized_value (from tensorflow.python.ops.variables) is deprecated and will be removed in a future version.\n",
      "Instructions for updating:\n",
      "Use Variable.read_value. Variables in 2.X are initialized automatically both in eager and graph (inside tf.defun) contexts.\n"
     ]
    },
    {
     "name": "stderr",
     "output_type": "stream",
     "text": [
      "WARNING:tensorflow:From /home/ubuntu/.local/lib/python3.6/site-packages/tensorflow/python/training/moving_averages.py:433: Variable.initialized_value (from tensorflow.python.ops.variables) is deprecated and will be removed in a future version.\n",
      "Instructions for updating:\n",
      "Use Variable.read_value. Variables in 2.X are initialized automatically both in eager and graph (inside tf.defun) contexts.\n"
     ]
    },
    {
     "name": "stdout",
     "output_type": "stream",
     "text": [
      "WARNING:tensorflow:From /home/ubuntu/.local/lib/python3.6/site-packages/deeppavlov/models/bert/bert_ner.py:139: checkpoint_exists (from tensorflow.python.training.checkpoint_management) is deprecated and will be removed in a future version.\n",
      "Instructions for updating:\n",
      "Use standard file APIs to check for files with this prefix.\n"
     ]
    },
    {
     "name": "stderr",
     "output_type": "stream",
     "text": [
      "WARNING:tensorflow:From /home/ubuntu/.local/lib/python3.6/site-packages/deeppavlov/models/bert/bert_ner.py:139: checkpoint_exists (from tensorflow.python.training.checkpoint_management) is deprecated and will be removed in a future version.\n",
      "Instructions for updating:\n",
      "Use standard file APIs to check for files with this prefix.\n",
      "2020-09-19 12:59:01.307 INFO in 'deeppavlov.core.models.tf_model'['tf_model'] at line 52: [loading model from /home/ubuntu/.deeppavlov/models/ner_ontonotes_bert_mult/model]\n",
      "INFO:deeppavlov.core.models.tf_model:[loading model from /home/ubuntu/.deeppavlov/models/ner_ontonotes_bert_mult/model]\n"
     ]
    },
    {
     "name": "stdout",
     "output_type": "stream",
     "text": [
      "WARNING:tensorflow:From /home/ubuntu/.local/lib/python3.6/site-packages/deeppavlov/core/models/tf_model.py:55: The name tf.train.Saver is deprecated. Please use tf.compat.v1.train.Saver instead.\n",
      "\n"
     ]
    },
    {
     "name": "stderr",
     "output_type": "stream",
     "text": [
      "WARNING:tensorflow:From /home/ubuntu/.local/lib/python3.6/site-packages/deeppavlov/core/models/tf_model.py:55: The name tf.train.Saver is deprecated. Please use tf.compat.v1.train.Saver instead.\n",
      "\n"
     ]
    },
    {
     "name": "stdout",
     "output_type": "stream",
     "text": [
      "INFO:tensorflow:Restoring parameters from /home/ubuntu/.deeppavlov/models/ner_ontonotes_bert_mult/model\n"
     ]
    },
    {
     "name": "stderr",
     "output_type": "stream",
     "text": [
      "INFO:tensorflow:Restoring parameters from /home/ubuntu/.deeppavlov/models/ner_ontonotes_bert_mult/model\n"
     ]
    },
    {
     "name": "stdout",
     "output_type": "stream",
     "text": [
      "8267 load models:  104.2526605129242\n"
     ]
    }
   ],
   "source": [
    "import multiprocessing\n",
    "import os\n",
    "import time\n",
    "from deeppavlov import configs, build_model\n",
    "import warnings\n",
    "\n",
    "m = multiprocessing.Manager()\n",
    "article_queue = m.Queue()\n",
    "\n",
    "def run_pipeline(queue):\n",
    "    print(os.getpid(),\"working\")\n",
    "    start = time.time()\n",
    "    coref_predictor = Predictor.from_path(\"/home/ubuntu/ma_project/coref-spanbert-large-2020.02.27.tar.gz\")\n",
    "    warnings.filterwarnings(\"ignore\")\n",
    "    ner_model = build_model(eval(\"configs.ner.ner_ontonotes_bert_mult\"), download=False)\n",
    "    stop = time.time()\n",
    "    print(os.getpid(), \"load models: \", stop-start)\n",
    "    while True:\n",
    "        row = queue.get(True)\n",
    "        print(os.getpid(), \"got\", row.id)\n",
    "        article = Article(row.text, row.author_extracted, row.date, row.source, row.id,\n",
    "                   download_ner_model=True, n_shift=0,graph=g,first_round=True ,commit=True,\n",
    "                   #initial_entities = initial_entities_df,initial_syn_dict = initial_entities_dict,\n",
    "                    validate=False, filter_by_constituency=False, \n",
    "                      path_constituency_parser=\"/home/ubuntu/ma_project/elmo-constituency-parser-2020.02.10.tar.gz\",\n",
    "                     path_coref_parser=\"/home/ubuntu/ma_project/coref-spanbert-large-2020.02.27.tar.gz\", lock = l,\n",
    "                         coref_predictor = coref_predictor, ner_model = ner_model)\n",
    "        article.process_articles()\n",
    "        print(os.getpid(), \"got\", article.id)\n",
    "\n",
    "        \n",
    "working_pool = multiprocessing.Pool(3)\n",
    "\n",
    "working_pool.apply(run_pipeline, args = (article_queue,))\n",
    "\n",
    "\n",
    "global l\n",
    "l = multiprocessing.Lock()\n",
    "global l_2\n",
    "l_2 = multiprocessing.Lock()\n",
    "\n",
    "for row in data[1:5].iterrows():\n",
    "    l_2.acquire()\n",
    "    article_queue.put(row[1])\n",
    "    l_2.release()\n",
    "    "
   ]
  },
  {
   "cell_type": "code",
   "execution_count": 10,
   "metadata": {},
   "outputs": [
    {
     "name": "stdout",
     "output_type": "stream",
     "text": [
      "2\n",
      "4\n",
      "5\n",
      "6\n"
     ]
    }
   ],
   "source": [
    "for row in data[1:5].iterrows():\n",
    "    print(row[1].id)"
   ]
  }
 ],
 "metadata": {
  "kernelspec": {
   "display_name": "Python 3",
   "language": "python",
   "name": "python3"
  },
  "language_info": {
   "codemirror_mode": {
    "name": "ipython",
    "version": 3
   },
   "file_extension": ".py",
   "mimetype": "text/x-python",
   "name": "python",
   "nbconvert_exporter": "python",
   "pygments_lexer": "ipython3",
   "version": "3.6.9"
  }
 },
 "nbformat": 4,
 "nbformat_minor": 1
}
